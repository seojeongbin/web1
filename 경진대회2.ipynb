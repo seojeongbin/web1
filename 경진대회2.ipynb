{
  "nbformat": 4,
  "nbformat_minor": 0,
  "metadata": {
    "colab": {
      "name": "경진대회2.ipynb",
      "provenance": [],
      "collapsed_sections": [],
      "authorship_tag": "ABX9TyMHK9qbVVGtww4+/uczPC77",
      "include_colab_link": true
    },
    "kernelspec": {
      "name": "python3",
      "display_name": "Python 3"
    }
  },
  "cells": [
    {
      "cell_type": "markdown",
      "metadata": {
        "id": "view-in-github",
        "colab_type": "text"
      },
      "source": [
        "<a href=\"https://colab.research.google.com/github/seojeongbin/web1/blob/master/%EA%B2%BD%EC%A7%84%EB%8C%80%ED%9A%8C2.ipynb\" target=\"_parent\"><img src=\"https://colab.research.google.com/assets/colab-badge.svg\" alt=\"Open In Colab\"/></a>"
      ]
    },
    {
      "cell_type": "markdown",
      "metadata": {
        "id": "IXgJBIUqEmfD"
      },
      "source": [
        "# EDA 재탐색 및 두번째 회의"
      ]
    },
    {
      "cell_type": "markdown",
      "metadata": {
        "id": "FAABn-UUSQ1v"
      },
      "source": [
        "### 가장 의문점\r\n",
        "* 데이터 타입 변경 관련 -> 일단 다 float으로? category?\r\n",
        "* 범주형 변수를 어떻게 컨트롤하는가? dummy화? 원핫인코딩? -> 칼럼 여러개 난리난다... "
      ]
    },
    {
      "cell_type": "markdown",
      "metadata": {
        "id": "8yyaP59pEpMs"
      },
      "source": [
        "## 0. 데이터 준비 (현부형 코드 차용)"
      ]
    },
    {
      "cell_type": "code",
      "metadata": {
        "id": "-6ofUW5aEsf3"
      },
      "source": [
        "import pandas as pd\r\n",
        "import numpy as np\r\n",
        "import matplotlib as mpl\r\n",
        "import matplotlib.pyplot as plt\r\n",
        "import seaborn as sns\r\n",
        "from scipy import stats"
      ],
      "execution_count": 1,
      "outputs": []
    },
    {
      "cell_type": "code",
      "metadata": {
        "colab": {
          "base_uri": "https://localhost:8080/"
        },
        "id": "yZQ7AnkyEtt-",
        "outputId": "23b3e739-0c71-4701-8937-245f3e518209"
      },
      "source": [
        "!sudo apt-get install -y fonts-nanum\r\n",
        "\r\n",
        "!sudo fc-cache -fv\r\n",
        "!rm ~/.cache/matplotlib -rf\r\n",
        "\r\n",
        "plt.rc('font', family='NanumBarunGothic') # 한번 실행시키고 런타임 다시실행 시키기 !!!! \"런타임 다시시작\"을 눌러야함. 다른거말고"
      ],
      "execution_count": 2,
      "outputs": [
        {
          "output_type": "stream",
          "text": [
            "Reading package lists... Done\n",
            "Building dependency tree       \n",
            "Reading state information... Done\n",
            "fonts-nanum is already the newest version (20170925-1).\n",
            "0 upgraded, 0 newly installed, 0 to remove and 13 not upgraded.\n",
            "/usr/share/fonts: caching, new cache contents: 0 fonts, 1 dirs\n",
            "/usr/share/fonts/truetype: caching, new cache contents: 0 fonts, 3 dirs\n",
            "/usr/share/fonts/truetype/humor-sans: caching, new cache contents: 1 fonts, 0 dirs\n",
            "/usr/share/fonts/truetype/liberation: caching, new cache contents: 16 fonts, 0 dirs\n",
            "/usr/share/fonts/truetype/nanum: caching, new cache contents: 10 fonts, 0 dirs\n",
            "/usr/local/share/fonts: caching, new cache contents: 0 fonts, 0 dirs\n",
            "/root/.local/share/fonts: skipping, no such directory\n",
            "/root/.fonts: skipping, no such directory\n",
            "/var/cache/fontconfig: cleaning cache directory\n",
            "/root/.cache/fontconfig: not cleaning non-existent cache directory\n",
            "/root/.fontconfig: not cleaning non-existent cache directory\n",
            "fc-cache: succeeded\n"
          ],
          "name": "stdout"
        }
      ]
    },
    {
      "cell_type": "code",
      "metadata": {
        "colab": {
          "base_uri": "https://localhost:8080/"
        },
        "id": "TtwcFIJoEvZs",
        "outputId": "433c872b-d424-4db3-abbf-98edcba75d55"
      },
      "source": [
        "data = pd.read_csv(\"대회데이터.csv\", encoding='cp949')"
      ],
      "execution_count": 114,
      "outputs": [
        {
          "output_type": "stream",
          "text": [
            "/usr/local/lib/python3.6/dist-packages/IPython/core/interactiveshell.py:2718: DtypeWarning: Columns (0,1,2,3,5,6,8,9) have mixed types.Specify dtype option on import or set low_memory=False.\n",
            "  interactivity=interactivity, compiler=compiler, result=result)\n"
          ],
          "name": "stderr"
        }
      ]
    },
    {
      "cell_type": "code",
      "metadata": {
        "colab": {
          "base_uri": "https://localhost:8080/",
          "height": 419
        },
        "id": "wf5RQXR1E43s",
        "outputId": "b8d5fbb3-b556-469f-f53c-6eda82aa92e1"
      },
      "source": [
        "data.columns = data.iloc[0,:]\r\n",
        "data = data.iloc[1:,:]\r\n",
        "data = data.reset_index(drop = True)\r\n",
        "data = data.reset_index(drop = False)\r\n",
        "\r\n",
        "data"
      ],
      "execution_count": 115,
      "outputs": [
        {
          "output_type": "execute_result",
          "data": {
            "text/html": [
              "<div>\n",
              "<style scoped>\n",
              "    .dataframe tbody tr th:only-of-type {\n",
              "        vertical-align: middle;\n",
              "    }\n",
              "\n",
              "    .dataframe tbody tr th {\n",
              "        vertical-align: top;\n",
              "    }\n",
              "\n",
              "    .dataframe thead th {\n",
              "        text-align: right;\n",
              "    }\n",
              "</style>\n",
              "<table border=\"1\" class=\"dataframe\">\n",
              "  <thead>\n",
              "    <tr style=\"text-align: right;\">\n",
              "      <th></th>\n",
              "      <th>index</th>\n",
              "      <th>작업번호</th>\n",
              "      <th>마킹길이</th>\n",
              "      <th>절단길이</th>\n",
              "      <th>철판두께</th>\n",
              "      <th>철판재질</th>\n",
              "      <th>절단갯수</th>\n",
              "      <th>작업장</th>\n",
              "      <th>절단장비</th>\n",
              "      <th>마킹시간</th>\n",
              "      <th>절단시간</th>\n",
              "    </tr>\n",
              "  </thead>\n",
              "  <tbody>\n",
              "    <tr>\n",
              "      <th>0</th>\n",
              "      <td>0</td>\n",
              "      <td>1</td>\n",
              "      <td>46</td>\n",
              "      <td>21.9</td>\n",
              "      <td>30</td>\n",
              "      <td>DZB</td>\n",
              "      <td>1</td>\n",
              "      <td>23</td>\n",
              "      <td>PL233</td>\n",
              "      <td>194</td>\n",
              "      <td>827</td>\n",
              "    </tr>\n",
              "    <tr>\n",
              "      <th>1</th>\n",
              "      <td>1</td>\n",
              "      <td>2</td>\n",
              "      <td>33.9</td>\n",
              "      <td>111.8</td>\n",
              "      <td>12</td>\n",
              "      <td>A</td>\n",
              "      <td>46</td>\n",
              "      <td>23</td>\n",
              "      <td>PL233</td>\n",
              "      <td>324</td>\n",
              "      <td>2906</td>\n",
              "    </tr>\n",
              "    <tr>\n",
              "      <th>2</th>\n",
              "      <td>2</td>\n",
              "      <td>3</td>\n",
              "      <td>49.5</td>\n",
              "      <td>33.5</td>\n",
              "      <td>13</td>\n",
              "      <td>A</td>\n",
              "      <td>2</td>\n",
              "      <td>23</td>\n",
              "      <td>PL234</td>\n",
              "      <td>241</td>\n",
              "      <td>1003</td>\n",
              "    </tr>\n",
              "    <tr>\n",
              "      <th>3</th>\n",
              "      <td>3</td>\n",
              "      <td>4</td>\n",
              "      <td>75.7</td>\n",
              "      <td>174.9</td>\n",
              "      <td>13</td>\n",
              "      <td>A</td>\n",
              "      <td>35</td>\n",
              "      <td>23</td>\n",
              "      <td>PL233</td>\n",
              "      <td>483</td>\n",
              "      <td>4412</td>\n",
              "    </tr>\n",
              "    <tr>\n",
              "      <th>4</th>\n",
              "      <td>4</td>\n",
              "      <td>5</td>\n",
              "      <td>66.5</td>\n",
              "      <td>66.6</td>\n",
              "      <td>13</td>\n",
              "      <td>A</td>\n",
              "      <td>7</td>\n",
              "      <td>23</td>\n",
              "      <td>PL233</td>\n",
              "      <td>331</td>\n",
              "      <td>1601</td>\n",
              "    </tr>\n",
              "    <tr>\n",
              "      <th>...</th>\n",
              "      <td>...</td>\n",
              "      <td>...</td>\n",
              "      <td>...</td>\n",
              "      <td>...</td>\n",
              "      <td>...</td>\n",
              "      <td>...</td>\n",
              "      <td>...</td>\n",
              "      <td>...</td>\n",
              "      <td>...</td>\n",
              "      <td>...</td>\n",
              "      <td>...</td>\n",
              "    </tr>\n",
              "    <tr>\n",
              "      <th>162320</th>\n",
              "      <td>162320</td>\n",
              "      <td>162337</td>\n",
              "      <td>139.8</td>\n",
              "      <td>162</td>\n",
              "      <td>19</td>\n",
              "      <td>AH32</td>\n",
              "      <td>31</td>\n",
              "      <td>23</td>\n",
              "      <td>PL231</td>\n",
              "      <td>827</td>\n",
              "      <td>2899</td>\n",
              "    </tr>\n",
              "    <tr>\n",
              "      <th>162321</th>\n",
              "      <td>162321</td>\n",
              "      <td>162338</td>\n",
              "      <td>18.5</td>\n",
              "      <td>28.9</td>\n",
              "      <td>16</td>\n",
              "      <td>A</td>\n",
              "      <td>56</td>\n",
              "      <td>25</td>\n",
              "      <td>PL252</td>\n",
              "      <td>165</td>\n",
              "      <td>930</td>\n",
              "    </tr>\n",
              "    <tr>\n",
              "      <th>162322</th>\n",
              "      <td>162322</td>\n",
              "      <td>162339</td>\n",
              "      <td>63.7</td>\n",
              "      <td>25.6</td>\n",
              "      <td>15</td>\n",
              "      <td>AH32</td>\n",
              "      <td>1</td>\n",
              "      <td>26</td>\n",
              "      <td>PL261</td>\n",
              "      <td>345</td>\n",
              "      <td>696</td>\n",
              "    </tr>\n",
              "    <tr>\n",
              "      <th>162323</th>\n",
              "      <td>162323</td>\n",
              "      <td>162340</td>\n",
              "      <td>94.7</td>\n",
              "      <td>61.4</td>\n",
              "      <td>19</td>\n",
              "      <td>AH32</td>\n",
              "      <td>2</td>\n",
              "      <td>26</td>\n",
              "      <td>PL261</td>\n",
              "      <td>0</td>\n",
              "      <td>2155</td>\n",
              "    </tr>\n",
              "    <tr>\n",
              "      <th>162324</th>\n",
              "      <td>162324</td>\n",
              "      <td>162341</td>\n",
              "      <td>11.4</td>\n",
              "      <td>20.7</td>\n",
              "      <td>18</td>\n",
              "      <td>DH32</td>\n",
              "      <td>8</td>\n",
              "      <td>26</td>\n",
              "      <td>PL262</td>\n",
              "      <td>63</td>\n",
              "      <td>678</td>\n",
              "    </tr>\n",
              "  </tbody>\n",
              "</table>\n",
              "<p>162325 rows × 11 columns</p>\n",
              "</div>"
            ],
            "text/plain": [
              "0        index    작업번호   마킹길이   절단길이 철판두께      철판재질 절단갯수 작업장   절단장비 마킹시간  절단시간\n",
              "0            0       1     46   21.9   30  DZB         1  23  PL233  194   827\n",
              "1            1       2   33.9  111.8   12  A          46  23  PL233  324  2906\n",
              "2            2       3   49.5   33.5   13  A           2  23  PL234  241  1003\n",
              "3            3       4   75.7  174.9   13  A          35  23  PL233  483  4412\n",
              "4            4       5   66.5   66.6   13  A           7  23  PL233  331  1601\n",
              "...        ...     ...    ...    ...  ...       ...  ...  ..    ...  ...   ...\n",
              "162320  162320  162337  139.8    162   19  AH32       31  23  PL231  827  2899\n",
              "162321  162321  162338   18.5   28.9   16  A          56  25  PL252  165   930\n",
              "162322  162322  162339   63.7   25.6   15  AH32        1  26  PL261  345   696\n",
              "162323  162323  162340   94.7   61.4   19  AH32        2  26  PL261    0  2155\n",
              "162324  162324  162341   11.4   20.7   18  DH32        8  26  PL262   63   678\n",
              "\n",
              "[162325 rows x 11 columns]"
            ]
          },
          "metadata": {
            "tags": []
          },
          "execution_count": 115
        }
      ]
    },
    {
      "cell_type": "markdown",
      "metadata": {
        "id": "-N7PxkamF_C3"
      },
      "source": [
        "## 1. 데이터 확인 "
      ]
    },
    {
      "cell_type": "code",
      "metadata": {
        "colab": {
          "base_uri": "https://localhost:8080/"
        },
        "id": "OaTnGaH4GAXg",
        "outputId": "51d385e8-fd4b-4445-84d2-3747ef13dc6b"
      },
      "source": [
        "data.info()"
      ],
      "execution_count": 116,
      "outputs": [
        {
          "output_type": "stream",
          "text": [
            "<class 'pandas.core.frame.DataFrame'>\n",
            "RangeIndex: 162325 entries, 0 to 162324\n",
            "Data columns (total 11 columns):\n",
            " #   Column  Non-Null Count   Dtype \n",
            "---  ------  --------------   ----- \n",
            " 0   index   162325 non-null  int64 \n",
            " 1   작업번호    162325 non-null  object\n",
            " 2   마킹길이    162325 non-null  object\n",
            " 3   절단길이    162325 non-null  object\n",
            " 4   철판두께    162325 non-null  object\n",
            " 5   철판재질    162325 non-null  object\n",
            " 6   절단갯수    162325 non-null  object\n",
            " 7   작업장     162325 non-null  object\n",
            " 8   절단장비    162325 non-null  object\n",
            " 9   마킹시간    162325 non-null  object\n",
            " 10  절단시간    162325 non-null  object\n",
            "dtypes: int64(1), object(10)\n",
            "memory usage: 13.6+ MB\n"
          ],
          "name": "stdout"
        }
      ]
    },
    {
      "cell_type": "code",
      "metadata": {
        "colab": {
          "base_uri": "https://localhost:8080/"
        },
        "id": "_xzWsCpFGCxe",
        "outputId": "fe8ebd72-9060-487f-faa2-3ab4a8baf5c3"
      },
      "source": [
        "del data['index']\r\n",
        "data.columns"
      ],
      "execution_count": 117,
      "outputs": [
        {
          "output_type": "execute_result",
          "data": {
            "text/plain": [
              "Index(['작업번호', '마킹길이', '절단길이', '철판두께', '철판재질', '절단갯수', '작업장', '절단장비', '마킹시간',\n",
              "       '절단시간'],\n",
              "      dtype='object', name=0)"
            ]
          },
          "metadata": {
            "tags": []
          },
          "execution_count": 117
        }
      ]
    },
    {
      "cell_type": "code",
      "metadata": {
        "id": "pkCauUzaHvU4"
      },
      "source": [
        "data.작업번호 = data.작업번호.astype(float)\r\n",
        "data.마킹길이 = data.마킹길이.astype(float)\r\n",
        "data.절단길이 = data.절단길이.astype(float)\r\n",
        "data.철판두께 = data.철판두께.astype(float)\r\n",
        "data.절단갯수 = data.절단갯수.astype(float)\r\n",
        "data.작업장 = data.작업장.astype(float)\r\n",
        "data.마킹시간 = data.마킹시간.astype(float)\r\n",
        "data.절단시간 = data.절단시간.astype(float)"
      ],
      "execution_count": 118,
      "outputs": []
    },
    {
      "cell_type": "markdown",
      "metadata": {
        "id": "_aNxM9XzNX0L"
      },
      "source": [
        "* 범주형 피쳐는 타입변경 하지 않았음\r\n",
        "* 범주형 피쳐에 대한 빈도 분석 실시"
      ]
    },
    {
      "cell_type": "code",
      "metadata": {
        "id": "KcsysYfnNKsN"
      },
      "source": [
        "def bar_plot(x): \r\n",
        "  var = data[x]\r\n",
        "  var_value = var.value_counts()\r\n",
        "  plt.figure(figsize=(50,10))\r\n",
        "  plt.bar(var_value.index, var_value)\r\n",
        "  plt.xticks(var_value.index, var_value.index.values)\r\n",
        "  plt.ylabel(\"빈도\")\r\n",
        "  plt.title(x)\r\n",
        "  plt.show()"
      ],
      "execution_count": 119,
      "outputs": []
    },
    {
      "cell_type": "code",
      "metadata": {
        "colab": {
          "base_uri": "https://localhost:8080/",
          "height": 944
        },
        "id": "bCltFax0NfBF",
        "outputId": "127842ed-df08-4e09-e5c6-5af3563410e7"
      },
      "source": [
        "category1 = [\"철판재질\", \"작업장\", \"절단장비\"] \r\n",
        "for c in category1:\r\n",
        "  bar_plot(c)"
      ],
      "execution_count": 120,
      "outputs": [
        {
          "output_type": "display_data",
          "data": {
            "image/png": "[encoded data removed]",
            "text/plain": [
              "<Figure size 3600x720 with 1 Axes>"
            ]
          },
          "metadata": {
            "tags": [],
            "needs_background": "light"
          }
        },
        {
          "output_type": "display_data",
          "data": {
            "image/png": "[encoded data removed]",
            "text/plain": [
              "<Figure size 3600x720 with 1 Axes>"
            ]
          },
          "metadata": {
            "tags": [],
            "needs_background": "light"
          }
        },
        {
          "output_type": "display_data",
          "data": {
            "image/png": "[encoded data removed]",
            "text/plain": [
              "<Figure size 3600x720 with 1 Axes>"
            ]
          },
          "metadata": {
            "tags": [],
            "needs_background": "light"
          }
        }
      ]
    },
    {
      "cell_type": "code",
      "metadata": {
        "colab": {
          "base_uri": "https://localhost:8080/"
        },
        "id": "9T0Q8vHeQBv4",
        "outputId": "b4f12517-aef8-4917-ef9c-7d6710215e59"
      },
      "source": [
        "print(data['철판재질'].unique())\r\n",
        "print(data['절단장비'].unique())"
      ],
      "execution_count": 121,
      "outputs": [
        {
          "output_type": "stream",
          "text": [
            "['DZB     ' 'A       ' 'B       ' 'AH32    ' 'AH36    ' 'DH32    '\n",
            " 'EH32-TM ' 'AH32-TM ' 'DZB-TM  ' 'AH32TL  ' 'RAH32   ' 'RA      '\n",
            " 'DZ      ' 'EH36-TM ' 'AH36-TM ' 'DH36    ' 'DH36-TM ' 'DH40-TM '\n",
            " 'EH40-TM ' 'AH40-TM ' 'DH32-TM ' 'BZB     ' 'EZ      ' 'E-TM    '\n",
            " 'EZB     ' 'ETL     ' 'D       ' 'EH32TL  ' 'EZB-TM  ' 'BA      '\n",
            " 'BAH32   ' 'E       ' 'VAH32   ' 'BAH36   ' 'VH32O55C' 'UAH32   '\n",
            " 'AA      ' 'RAH32-TM' 'GA      ' 'LAH32   ' 'LDH32-TM' 'LAH32-TM'\n",
            " 'LA      ' 'LDH32   ' 'NA      ' 'LEH32-TM' 'DH32TL  ' 'VA      '\n",
            " 'RAH36   ' 'KA      ' 'KAH32   ' 'KAH32-TM' 'EH32    ' 'NB      '\n",
            " 'NAH32   ' 'VAH36   ' '32M60C  ' 'NV32M60C' 'AAH32-TM' 'AAH32   '\n",
            " 'AH36TL  ' '460F32MS' 'NEH32   ' 'VAH32-TM' 'SS400   ' 'D-TM    '\n",
            " 'VDH32-TM' 'UA      ' 'UDH32   ' 'VB      ' 'NAH32-TM' 'AAH36   '\n",
            " 'AEH32-TM' 'BZ      ' 'AE      ' 'LAH36   ' 'EH36    ' '9NI     '\n",
            " 'DH36TL  ']\n",
            "['PL233' 'PL234' 'PL231' 'PL223' 'PL273' 'PL272' 'PL271' 'PL261' 'PL262'\n",
            " 'PL253' 'PL254' 'PL212' 'PS213' 'PL221' 'PL224' 'PL211' 'PS963' 'PL974'\n",
            " 'PL973' 'PL252' 'PL921' 'PL922' 'PL911' 'PL241' 'PS243' 'PL961' 'PL142'\n",
            " 'PL141' 'PL242']\n"
          ],
          "name": "stdout"
        }
      ]
    },
    {
      "cell_type": "markdown",
      "metadata": {
        "id": "SEnUP0EXP8ke"
      },
      "source": [
        "* 철판재질 : 'A'와 'AH32'재질에서 대부분의 작업이 이루어짐(82.3퍼센트 비율)\r\n",
        "  * 따라서 이 두가지의 재질이 아닌 다른재질에서 이루어지는 작업의 경우 어떤 차이점이 있는지 살펴볼 필요가 있지 않을까 생각이 듦\r\n",
        "* 작업장, 절단장비 : 비교적 고른 빈도\r\n",
        " "
      ]
    },
    {
      "cell_type": "markdown",
      "metadata": {
        "id": "AQv70ZN_TMZm"
      },
      "source": [
        "## 이상치 탐색 후 데이터 분석 \r\n",
        "* \"data2\" 라고 명명"
      ]
    },
    {
      "cell_type": "code",
      "metadata": {
        "id": "zpp2rl6HTEtn"
      },
      "source": [
        "from collections import Counter\r\n",
        "def detect_outliers(df,features):\r\n",
        "  outlier_indices = [] \r\n",
        "  for c in features:\r\n",
        "    Q1 = np.percentile(df[c],25)\r\n",
        "    Q3 = np.percentile(df[c],75)\r\n",
        "    IQR = Q3 - Q1\r\n",
        "    outlier_step = IQR * 1.5\r\n",
        "    outlier_list_col = df[(df[c] < Q1 - outlier_step) | (df[c] > Q3 + outlier_step)].index #filtre\r\n",
        "    outlier_indices.extend(outlier_list_col)\r\n",
        "  outlier_indices = Counter(outlier_indices)\r\n",
        "  multiple_outliers = list(i for i, v in outlier_indices.items() if v > 2) \r\n",
        "  return multiple_outliers"
      ],
      "execution_count": 122,
      "outputs": []
    },
    {
      "cell_type": "code",
      "metadata": {
        "colab": {
          "base_uri": "https://localhost:8080/",
          "height": 419
        },
        "id": "YqSHyeeLTWST",
        "outputId": "2b68413b-dcdf-40a0-cc53-bae279f07755"
      },
      "source": [
        "data.loc[detect_outliers(data,['작업번호', '마킹길이', '절단길이', '철판두께', '절단갯수', '마킹시간','절단시간'])]\r\n",
        "data2 = data.drop(detect_outliers(data,['작업번호', '마킹길이', '절단길이', '철판두께', '절단갯수', '마킹시간','절단시간']))\r\n",
        "data2"
      ],
      "execution_count": 123,
      "outputs": [
        {
          "output_type": "execute_result",
          "data": {
            "text/html": [
              "<div>\n",
              "<style scoped>\n",
              "    .dataframe tbody tr th:only-of-type {\n",
              "        vertical-align: middle;\n",
              "    }\n",
              "\n",
              "    .dataframe tbody tr th {\n",
              "        vertical-align: top;\n",
              "    }\n",
              "\n",
              "    .dataframe thead th {\n",
              "        text-align: right;\n",
              "    }\n",
              "</style>\n",
              "<table border=\"1\" class=\"dataframe\">\n",
              "  <thead>\n",
              "    <tr style=\"text-align: right;\">\n",
              "      <th></th>\n",
              "      <th>작업번호</th>\n",
              "      <th>마킹길이</th>\n",
              "      <th>절단길이</th>\n",
              "      <th>철판두께</th>\n",
              "      <th>철판재질</th>\n",
              "      <th>절단갯수</th>\n",
              "      <th>작업장</th>\n",
              "      <th>절단장비</th>\n",
              "      <th>마킹시간</th>\n",
              "      <th>절단시간</th>\n",
              "    </tr>\n",
              "  </thead>\n",
              "  <tbody>\n",
              "    <tr>\n",
              "      <th>0</th>\n",
              "      <td>1.0</td>\n",
              "      <td>46.0</td>\n",
              "      <td>21.9</td>\n",
              "      <td>30.0</td>\n",
              "      <td>DZB</td>\n",
              "      <td>1.0</td>\n",
              "      <td>23.0</td>\n",
              "      <td>PL233</td>\n",
              "      <td>194.0</td>\n",
              "      <td>827.0</td>\n",
              "    </tr>\n",
              "    <tr>\n",
              "      <th>1</th>\n",
              "      <td>2.0</td>\n",
              "      <td>33.9</td>\n",
              "      <td>111.8</td>\n",
              "      <td>12.0</td>\n",
              "      <td>A</td>\n",
              "      <td>46.0</td>\n",
              "      <td>23.0</td>\n",
              "      <td>PL233</td>\n",
              "      <td>324.0</td>\n",
              "      <td>2906.0</td>\n",
              "    </tr>\n",
              "    <tr>\n",
              "      <th>2</th>\n",
              "      <td>3.0</td>\n",
              "      <td>49.5</td>\n",
              "      <td>33.5</td>\n",
              "      <td>13.0</td>\n",
              "      <td>A</td>\n",
              "      <td>2.0</td>\n",
              "      <td>23.0</td>\n",
              "      <td>PL234</td>\n",
              "      <td>241.0</td>\n",
              "      <td>1003.0</td>\n",
              "    </tr>\n",
              "    <tr>\n",
              "      <th>3</th>\n",
              "      <td>4.0</td>\n",
              "      <td>75.7</td>\n",
              "      <td>174.9</td>\n",
              "      <td>13.0</td>\n",
              "      <td>A</td>\n",
              "      <td>35.0</td>\n",
              "      <td>23.0</td>\n",
              "      <td>PL233</td>\n",
              "      <td>483.0</td>\n",
              "      <td>4412.0</td>\n",
              "    </tr>\n",
              "    <tr>\n",
              "      <th>4</th>\n",
              "      <td>5.0</td>\n",
              "      <td>66.5</td>\n",
              "      <td>66.6</td>\n",
              "      <td>13.0</td>\n",
              "      <td>A</td>\n",
              "      <td>7.0</td>\n",
              "      <td>23.0</td>\n",
              "      <td>PL233</td>\n",
              "      <td>331.0</td>\n",
              "      <td>1601.0</td>\n",
              "    </tr>\n",
              "    <tr>\n",
              "      <th>...</th>\n",
              "      <td>...</td>\n",
              "      <td>...</td>\n",
              "      <td>...</td>\n",
              "      <td>...</td>\n",
              "      <td>...</td>\n",
              "      <td>...</td>\n",
              "      <td>...</td>\n",
              "      <td>...</td>\n",
              "      <td>...</td>\n",
              "      <td>...</td>\n",
              "    </tr>\n",
              "    <tr>\n",
              "      <th>162320</th>\n",
              "      <td>162337.0</td>\n",
              "      <td>139.8</td>\n",
              "      <td>162.0</td>\n",
              "      <td>19.0</td>\n",
              "      <td>AH32</td>\n",
              "      <td>31.0</td>\n",
              "      <td>23.0</td>\n",
              "      <td>PL231</td>\n",
              "      <td>827.0</td>\n",
              "      <td>2899.0</td>\n",
              "    </tr>\n",
              "    <tr>\n",
              "      <th>162321</th>\n",
              "      <td>162338.0</td>\n",
              "      <td>18.5</td>\n",
              "      <td>28.9</td>\n",
              "      <td>16.0</td>\n",
              "      <td>A</td>\n",
              "      <td>56.0</td>\n",
              "      <td>25.0</td>\n",
              "      <td>PL252</td>\n",
              "      <td>165.0</td>\n",
              "      <td>930.0</td>\n",
              "    </tr>\n",
              "    <tr>\n",
              "      <th>162322</th>\n",
              "      <td>162339.0</td>\n",
              "      <td>63.7</td>\n",
              "      <td>25.6</td>\n",
              "      <td>15.0</td>\n",
              "      <td>AH32</td>\n",
              "      <td>1.0</td>\n",
              "      <td>26.0</td>\n",
              "      <td>PL261</td>\n",
              "      <td>345.0</td>\n",
              "      <td>696.0</td>\n",
              "    </tr>\n",
              "    <tr>\n",
              "      <th>162323</th>\n",
              "      <td>162340.0</td>\n",
              "      <td>94.7</td>\n",
              "      <td>61.4</td>\n",
              "      <td>19.0</td>\n",
              "      <td>AH32</td>\n",
              "      <td>2.0</td>\n",
              "      <td>26.0</td>\n",
              "      <td>PL261</td>\n",
              "      <td>0.0</td>\n",
              "      <td>2155.0</td>\n",
              "    </tr>\n",
              "    <tr>\n",
              "      <th>162324</th>\n",
              "      <td>162341.0</td>\n",
              "      <td>11.4</td>\n",
              "      <td>20.7</td>\n",
              "      <td>18.0</td>\n",
              "      <td>DH32</td>\n",
              "      <td>8.0</td>\n",
              "      <td>26.0</td>\n",
              "      <td>PL262</td>\n",
              "      <td>63.0</td>\n",
              "      <td>678.0</td>\n",
              "    </tr>\n",
              "  </tbody>\n",
              "</table>\n",
              "<p>157129 rows × 10 columns</p>\n",
              "</div>"
            ],
            "text/plain": [
              "0           작업번호   마킹길이   절단길이  철판두께  ...   작업장   절단장비   마킹시간    절단시간\n",
              "0            1.0   46.0   21.9  30.0  ...  23.0  PL233  194.0   827.0\n",
              "1            2.0   33.9  111.8  12.0  ...  23.0  PL233  324.0  2906.0\n",
              "2            3.0   49.5   33.5  13.0  ...  23.0  PL234  241.0  1003.0\n",
              "3            4.0   75.7  174.9  13.0  ...  23.0  PL233  483.0  4412.0\n",
              "4            5.0   66.5   66.6  13.0  ...  23.0  PL233  331.0  1601.0\n",
              "...          ...    ...    ...   ...  ...   ...    ...    ...     ...\n",
              "162320  162337.0  139.8  162.0  19.0  ...  23.0  PL231  827.0  2899.0\n",
              "162321  162338.0   18.5   28.9  16.0  ...  25.0  PL252  165.0   930.0\n",
              "162322  162339.0   63.7   25.6  15.0  ...  26.0  PL261  345.0   696.0\n",
              "162323  162340.0   94.7   61.4  19.0  ...  26.0  PL261    0.0  2155.0\n",
              "162324  162341.0   11.4   20.7  18.0  ...  26.0  PL262   63.0   678.0\n",
              "\n",
              "[157129 rows x 10 columns]"
            ]
          },
          "metadata": {
            "tags": []
          },
          "execution_count": 123
        }
      ]
    },
    {
      "cell_type": "markdown",
      "metadata": {
        "id": "n2j21trkYQU6"
      },
      "source": [
        "* 아웃라이어 탐색 결과\r\n",
        "  * 162,325 -> 157,129 로 데이터 정제\r\n",
        "* **독립변수가 아니므로 이상치 제거를 하는것이 옳은 행동인지는 모르겠지만 일단 대략적인 상관성 파악의 목적으로 수행해보았습니다**"
      ]
    },
    {
      "cell_type": "markdown",
      "metadata": {
        "id": "tSKe0qI5YTgR"
      },
      "source": [
        "### 타겟값과 어느정도 연관성을 가질까 "
      ]
    },
    {
      "cell_type": "markdown",
      "metadata": {
        "id": "ts4_z1tYZuj4"
      },
      "source": [
        "#### 범주형 데이터 파악 : barplot 이용 "
      ]
    },
    {
      "cell_type": "code",
      "metadata": {
        "colab": {
          "base_uri": "https://localhost:8080/",
          "height": 515
        },
        "id": "LrjtjTJ1U4IB",
        "outputId": "23274548-fef5-4790-b41e-1a4937f3acdc"
      },
      "source": [
        "figure, ((ax1,ax2,ax3),(ax4,ax5,ax6)) = plt.subplots(nrows=2, ncols=3)\r\n",
        "figure.set_size_inches(18,8)\r\n",
        "\r\n",
        "sns.barplot(data=data2, x=\"철판재질\", y=\"마킹시간\", ax=ax1)\r\n",
        "sns.barplot(data=data2, x=\"작업장\", y=\"마킹시간\", ax=ax2)\r\n",
        "sns.barplot(data=data2, x=\"절단장비\", y=\"마킹시간\", ax=ax3)\r\n",
        "\r\n",
        "sns.barplot(data=data2, x=\"철판재질\", y=\"절단시간\", ax=ax4)\r\n",
        "sns.barplot(data=data2, x=\"작업장\", y=\"절단시간\", ax=ax5)\r\n",
        "sns.barplot(data=data2, x=\"절단장비\", y=\"절단시간\", ax=ax6)\r\n"
      ],
      "execution_count": 124,
      "outputs": [
        {
          "output_type": "execute_result",
          "data": {
            "text/plain": [
              "<matplotlib.axes._subplots.AxesSubplot at 0x7f416fc59978>"
            ]
          },
          "metadata": {
            "tags": []
          },
          "execution_count": 124
        },
        {
          "output_type": "display_data",
          "data": {
            "image/png": "[encoded data removed]",
            "text/plain": [
              "<Figure size 1296x576 with 6 Axes>"
            ]
          },
          "metadata": {
            "tags": [],
            "needs_background": "light"
          }
        }
      ]
    },
    {
      "cell_type": "markdown",
      "metadata": {
        "id": "VPUc3prjcGaQ"
      },
      "source": [
        "* 검정막대 의미 = 신뢰구간 (https://seaborn.pydata.org/generated/seaborn.barplot.html#seaborn.barplot)\r\n",
        "* **마킹시간**\r\n",
        "* 특정 철판재질, 절단장비 하나에 한해서 마킹시간이 많이소요되는 결과값이 있다\r\n",
        "* 작업장은 25번과 26번을 이용할경우 마킹시간이 많이소요 되었다\r\n",
        "* **절단시간**\r\n",
        "* 25번 26번 작업장이라고 절단시간도 많이 소요되지는 않았다\r\n",
        "* 절단장비는 마킹시간에 비해 절단시간에는 튀는 결과가 보이지는 않았다\r\n"
      ]
    },
    {
      "cell_type": "markdown",
      "metadata": {
        "id": "fKzZZ4YFa6p2"
      },
      "source": [
        "#### 연속형 데이터 파악 : lineplot 이용 "
      ]
    },
    {
      "cell_type": "code",
      "metadata": {
        "colab": {
          "base_uri": "https://localhost:8080/",
          "height": 525
        },
        "id": "CjzEpVQ3a-Qu",
        "outputId": "93aca542-894c-4232-fd1c-2b015c20e420"
      },
      "source": [
        "figure, ((ax1,ax2,ax3,ax4),(ax5,ax6,ax7,ax8)) = plt.subplots(nrows=2, ncols=4)\r\n",
        "figure.set_size_inches(18,8)\r\n",
        "\r\n",
        "\r\n",
        "sns.lineplot(data=data2, x=\"마킹길이\", y=\"마킹시간\", ax=ax1)\r\n",
        "sns.lineplot(data=data2, x=\"절단길이\", y=\"마킹시간\", ax=ax2)\r\n",
        "sns.lineplot(data=data2, x=\"철판두께\", y=\"마킹시간\", ax=ax3)\r\n",
        "sns.lineplot(data=data2, x=\"절단갯수\", y=\"마킹시간\", ax=ax4)\r\n",
        "\r\n",
        "sns.lineplot(data=data2, x=\"마킹길이\", y=\"절단시간\", ax=ax5)\r\n",
        "sns.lineplot(data=data2, x=\"절단길이\", y=\"절단시간\", ax=ax6)\r\n",
        "sns.lineplot(data=data2, x=\"철판두께\", y=\"절단시간\", ax=ax7)\r\n",
        "sns.lineplot(data=data2, x=\"절단갯수\", y=\"절단시간\", ax=ax8)\r\n"
      ],
      "execution_count": 125,
      "outputs": [
        {
          "output_type": "execute_result",
          "data": {
            "text/plain": [
              "<matplotlib.axes._subplots.AxesSubplot at 0x7f416efdccc0>"
            ]
          },
          "metadata": {
            "tags": []
          },
          "execution_count": 125
        },
        {
          "output_type": "display_data",
          "data": {
            "image/png": "[encoded data removed]",
            "text/plain": [
              "<Figure size 1296x576 with 8 Axes>"
            ]
          },
          "metadata": {
            "tags": [],
            "needs_background": "light"
          }
        }
      ]
    },
    {
      "cell_type": "markdown",
      "metadata": {
        "id": "64BQVzUVfb-p"
      },
      "source": [
        "* **마킹시간 관련**\r\n",
        "* (하늘색 음영구간은 신뢰구간을 의미합니다)\r\n",
        "* 마킹길이와, 절단길이가 짧을수록 마킹 소요시간이 적었음\r\n",
        "* 철판두께는 두꺼워질수록 마킹소요시간이 많이 걸린다거나 하지않았음\r\n",
        "  * 특정 두께부터 장비,작업장,철판재질등이 바뀐것은 아닐까 예상이 되었음\r\n",
        "* **절단시간 관련**\r\n",
        "* 절단길이가 300정도에서 어느정도 선대칭적인 양상을 보였음\r\n",
        "* 철판두께는 마킹시간에서와 달리 조금이나마 비례적인 양상을 보였음\r\n",
        "* 절단갯수의 경우 전체적으로 4차함수의 형태를 보였음 (극점3군데) \r\n"
      ]
    },
    {
      "cell_type": "code",
      "metadata": {
        "colab": {
          "base_uri": "https://localhost:8080/",
          "height": 328
        },
        "id": "CissxhRxWo49",
        "outputId": "25c20372-570e-4e9b-91eb-e66ffd0bd657"
      },
      "source": [
        "data2.corr()"
      ],
      "execution_count": 126,
      "outputs": [
        {
          "output_type": "execute_result",
          "data": {
            "text/html": [
              "<div>\n",
              "<style scoped>\n",
              "    .dataframe tbody tr th:only-of-type {\n",
              "        vertical-align: middle;\n",
              "    }\n",
              "\n",
              "    .dataframe tbody tr th {\n",
              "        vertical-align: top;\n",
              "    }\n",
              "\n",
              "    .dataframe thead th {\n",
              "        text-align: right;\n",
              "    }\n",
              "</style>\n",
              "<table border=\"1\" class=\"dataframe\">\n",
              "  <thead>\n",
              "    <tr style=\"text-align: right;\">\n",
              "      <th></th>\n",
              "      <th>작업번호</th>\n",
              "      <th>마킹길이</th>\n",
              "      <th>절단길이</th>\n",
              "      <th>철판두께</th>\n",
              "      <th>절단갯수</th>\n",
              "      <th>작업장</th>\n",
              "      <th>마킹시간</th>\n",
              "      <th>절단시간</th>\n",
              "    </tr>\n",
              "    <tr>\n",
              "      <th>0</th>\n",
              "      <th></th>\n",
              "      <th></th>\n",
              "      <th></th>\n",
              "      <th></th>\n",
              "      <th></th>\n",
              "      <th></th>\n",
              "      <th></th>\n",
              "      <th></th>\n",
              "    </tr>\n",
              "  </thead>\n",
              "  <tbody>\n",
              "    <tr>\n",
              "      <th>작업번호</th>\n",
              "      <td>1.000000</td>\n",
              "      <td>0.033425</td>\n",
              "      <td>0.012118</td>\n",
              "      <td>-0.026327</td>\n",
              "      <td>-0.003941</td>\n",
              "      <td>0.010438</td>\n",
              "      <td>-0.003129</td>\n",
              "      <td>-0.000253</td>\n",
              "    </tr>\n",
              "    <tr>\n",
              "      <th>마킹길이</th>\n",
              "      <td>0.033425</td>\n",
              "      <td>1.000000</td>\n",
              "      <td>0.070738</td>\n",
              "      <td>0.047666</td>\n",
              "      <td>-0.211744</td>\n",
              "      <td>0.045575</td>\n",
              "      <td>-0.007260</td>\n",
              "      <td>0.038554</td>\n",
              "    </tr>\n",
              "    <tr>\n",
              "      <th>절단길이</th>\n",
              "      <td>0.012118</td>\n",
              "      <td>0.070738</td>\n",
              "      <td>1.000000</td>\n",
              "      <td>-0.254873</td>\n",
              "      <td>0.536444</td>\n",
              "      <td>-0.006291</td>\n",
              "      <td>-0.009843</td>\n",
              "      <td>0.574958</td>\n",
              "    </tr>\n",
              "    <tr>\n",
              "      <th>철판두께</th>\n",
              "      <td>-0.026327</td>\n",
              "      <td>0.047666</td>\n",
              "      <td>-0.254873</td>\n",
              "      <td>1.000000</td>\n",
              "      <td>-0.298483</td>\n",
              "      <td>0.013232</td>\n",
              "      <td>-0.006430</td>\n",
              "      <td>0.002203</td>\n",
              "    </tr>\n",
              "    <tr>\n",
              "      <th>절단갯수</th>\n",
              "      <td>-0.003941</td>\n",
              "      <td>-0.211744</td>\n",
              "      <td>0.536444</td>\n",
              "      <td>-0.298483</td>\n",
              "      <td>1.000000</td>\n",
              "      <td>-0.050707</td>\n",
              "      <td>0.020262</td>\n",
              "      <td>0.306228</td>\n",
              "    </tr>\n",
              "    <tr>\n",
              "      <th>작업장</th>\n",
              "      <td>0.010438</td>\n",
              "      <td>0.045575</td>\n",
              "      <td>-0.006291</td>\n",
              "      <td>0.013232</td>\n",
              "      <td>-0.050707</td>\n",
              "      <td>1.000000</td>\n",
              "      <td>-0.005653</td>\n",
              "      <td>-0.011114</td>\n",
              "    </tr>\n",
              "    <tr>\n",
              "      <th>마킹시간</th>\n",
              "      <td>-0.003129</td>\n",
              "      <td>-0.007260</td>\n",
              "      <td>-0.009843</td>\n",
              "      <td>-0.006430</td>\n",
              "      <td>0.020262</td>\n",
              "      <td>-0.005653</td>\n",
              "      <td>1.000000</td>\n",
              "      <td>-0.004314</td>\n",
              "    </tr>\n",
              "    <tr>\n",
              "      <th>절단시간</th>\n",
              "      <td>-0.000253</td>\n",
              "      <td>0.038554</td>\n",
              "      <td>0.574958</td>\n",
              "      <td>0.002203</td>\n",
              "      <td>0.306228</td>\n",
              "      <td>-0.011114</td>\n",
              "      <td>-0.004314</td>\n",
              "      <td>1.000000</td>\n",
              "    </tr>\n",
              "  </tbody>\n",
              "</table>\n",
              "</div>"
            ],
            "text/plain": [
              "0         작업번호      마킹길이      절단길이  ...       작업장      마킹시간      절단시간\n",
              "0                                   ...                              \n",
              "작업번호  1.000000  0.033425  0.012118  ...  0.010438 -0.003129 -0.000253\n",
              "마킹길이  0.033425  1.000000  0.070738  ...  0.045575 -0.007260  0.038554\n",
              "절단길이  0.012118  0.070738  1.000000  ... -0.006291 -0.009843  0.574958\n",
              "철판두께 -0.026327  0.047666 -0.254873  ...  0.013232 -0.006430  0.002203\n",
              "절단갯수 -0.003941 -0.211744  0.536444  ... -0.050707  0.020262  0.306228\n",
              "작업장   0.010438  0.045575 -0.006291  ...  1.000000 -0.005653 -0.011114\n",
              "마킹시간 -0.003129 -0.007260 -0.009843  ... -0.005653  1.000000 -0.004314\n",
              "절단시간 -0.000253  0.038554  0.574958  ... -0.011114 -0.004314  1.000000\n",
              "\n",
              "[8 rows x 8 columns]"
            ]
          },
          "metadata": {
            "tags": []
          },
          "execution_count": 126
        }
      ]
    },
    {
      "cell_type": "code",
      "metadata": {
        "colab": {
          "base_uri": "https://localhost:8080/",
          "height": 786
        },
        "id": "zmWoSl2FWqv-",
        "outputId": "a6926345-1fcc-410b-fcdb-7f47120459c7"
      },
      "source": [
        "f, ax = plt.subplots(figsize=(12,12))\r\n",
        "mask = np.zeros_like(data2.corr())\r\n",
        "mask[np.triu_indices_from(mask)] = True\r\n",
        "sns.heatmap(data.corr(), annot=True, linewidths=0.4, linecolor='white', fmt='.1f', ax=ax, cmap='Blues', mask=mask)\r\n",
        "plt.show()"
      ],
      "execution_count": 127,
      "outputs": [
        {
          "output_type": "stream",
          "text": [
            "/usr/local/lib/python3.6/dist-packages/matplotlib/backends/backend_agg.py:214: RuntimeWarning: Glyph 8722 missing from current font.\n",
            "  font.set_text(s, 0.0, flags=flags)\n",
            "/usr/local/lib/python3.6/dist-packages/matplotlib/backends/backend_agg.py:183: RuntimeWarning: Glyph 8722 missing from current font.\n",
            "  font.set_text(s, 0, flags=flags)\n"
          ],
          "name": "stderr"
        },
        {
          "output_type": "display_data",
          "data": {
            "image/png": "[encoded data removed]",
            "text/plain": [
              "<Figure size 864x864 with 2 Axes>"
            ]
          },
          "metadata": {
            "tags": [],
            "needs_background": "light"
          }
        }
      ]
    },
    {
      "cell_type": "markdown",
      "metadata": {
        "id": "Mdwys5kdW9qL"
      },
      "source": [
        "* 역시나 작업번호는 다른 속성값과 거의 연관을 갖지못함. 해당 속성을 삭제해주기로 함\r\n",
        "  * 하지만 2번문제 진행시에, 작업번호 명명이 팀별 임의로 가능한지 여부에 따라 삭제하면 안될수도 있겠단 생각도 들었음 \r\n",
        "* 절단갯수, 절단시간이 절단길이와 연관성을 / 절단시간과 절단갯수가 어느정도 연광성을 가짐\r\n",
        "  * 해당 결과를 바로 받아들일것이 아니라 재질별, 작업장별 작업내용이 동일한것이 아니므로 편상관분석의 필요성을 느낌 "
      ]
    },
    {
      "cell_type": "markdown",
      "metadata": {
        "id": "xsromb4Oym8F"
      },
      "source": [
        "## 편상관분석\r\n",
        "* 상관계수 방법선택 : pearson, spearman 등 여러개 있음을 확인하였습니다\r\n",
        "* https://support.minitab.com/ko-kr/minitab/18/help-and-how-to/statistics/basic-statistics/how-to/correlation/perform-the-analysis/select-the-method/\r\n",
        "* 일단 가장 많이 쓰이는 대로 pearson으로 돌려보았습니다\r\n"
      ]
    },
    {
      "cell_type": "markdown",
      "metadata": {
        "id": "wZlIOG12UmWP"
      },
      "source": [
        "### pingouin 라이브러리 사용\r\n",
        "* 라이브러리 자체 지식은 부족한 편이며, 구글링을 통해 해당 라이브러리의 존재를 알게되었습니다\r\n",
        "* 영어로 열심히 구글링 하다 알게되었고, 국내에서도 정보가 없는 편인듯 합니다\r\n",
        "* 라이브러리 공홈 : https://pingouin-stats.org/generated/pingouin.partial_corr.html\r\n",
        "* **코드소개**\r\n",
        "parial_corr(data=자료, x='독립변수', y='종속변수',' covar = '통제변수')"
      ]
    },
    {
      "cell_type": "code",
      "metadata": {
        "colab": {
          "base_uri": "https://localhost:8080/"
        },
        "id": "5giFKpiWU2B2",
        "outputId": "9cf3bf04-67dd-4e01-a4ef-1e2018d31cfe"
      },
      "source": [
        "# 라이브러리 설치\r\n",
        "!pip install pingouin"
      ],
      "execution_count": 128,
      "outputs": [
        {
          "output_type": "stream",
          "text": [
            "Requirement already satisfied: pingouin in /usr/local/lib/python3.6/dist-packages (0.3.9)\n",
            "Requirement already satisfied: pandas>=0.24 in /usr/local/lib/python3.6/dist-packages (from pingouin) (1.1.5)\n",
            "Requirement already satisfied: scipy>=1.3 in /usr/local/lib/python3.6/dist-packages (from pingouin) (1.4.1)\n",
            "Requirement already satisfied: scikit-learn in /usr/local/lib/python3.6/dist-packages (from pingouin) (0.22.2.post1)\n",
            "Requirement already satisfied: seaborn>=0.9.0 in /usr/local/lib/python3.6/dist-packages (from pingouin) (0.11.1)\n",
            "Requirement already satisfied: pandas-flavor>=0.1.2 in /usr/local/lib/python3.6/dist-packages (from pingouin) (0.2.0)\n",
            "Requirement already satisfied: statsmodels>=0.10.0 in /usr/local/lib/python3.6/dist-packages (from pingouin) (0.10.2)\n",
            "Requirement already satisfied: matplotlib>=3.0.2 in /usr/local/lib/python3.6/dist-packages (from pingouin) (3.2.2)\n",
            "Requirement already satisfied: numpy>=1.15 in /usr/local/lib/python3.6/dist-packages (from pingouin) (1.19.5)\n",
            "Requirement already satisfied: tabulate in /usr/local/lib/python3.6/dist-packages (from pingouin) (0.8.7)\n",
            "Requirement already satisfied: outdated in /usr/local/lib/python3.6/dist-packages (from pingouin) (0.2.0)\n",
            "Requirement already satisfied: pytz>=2017.2 in /usr/local/lib/python3.6/dist-packages (from pandas>=0.24->pingouin) (2018.9)\n",
            "Requirement already satisfied: python-dateutil>=2.7.3 in /usr/local/lib/python3.6/dist-packages (from pandas>=0.24->pingouin) (2.8.1)\n",
            "Requirement already satisfied: joblib>=0.11 in /usr/local/lib/python3.6/dist-packages (from scikit-learn->pingouin) (1.0.0)\n",
            "Requirement already satisfied: xarray in /usr/local/lib/python3.6/dist-packages (from pandas-flavor>=0.1.2->pingouin) (0.15.1)\n",
            "Requirement already satisfied: patsy>=0.4.0 in /usr/local/lib/python3.6/dist-packages (from statsmodels>=0.10.0->pingouin) (0.5.1)\n",
            "Requirement already satisfied: pyparsing!=2.0.4,!=2.1.2,!=2.1.6,>=2.0.1 in /usr/local/lib/python3.6/dist-packages (from matplotlib>=3.0.2->pingouin) (2.4.7)\n",
            "Requirement already satisfied: cycler>=0.10 in /usr/local/lib/python3.6/dist-packages (from matplotlib>=3.0.2->pingouin) (0.10.0)\n",
            "Requirement already satisfied: kiwisolver>=1.0.1 in /usr/local/lib/python3.6/dist-packages (from matplotlib>=3.0.2->pingouin) (1.3.1)\n",
            "Requirement already satisfied: requests in /usr/local/lib/python3.6/dist-packages (from outdated->pingouin) (2.23.0)\n",
            "Requirement already satisfied: littleutils in /usr/local/lib/python3.6/dist-packages (from outdated->pingouin) (0.2.2)\n",
            "Requirement already satisfied: six>=1.5 in /usr/local/lib/python3.6/dist-packages (from python-dateutil>=2.7.3->pandas>=0.24->pingouin) (1.15.0)\n",
            "Requirement already satisfied: setuptools>=41.2 in /usr/local/lib/python3.6/dist-packages (from xarray->pandas-flavor>=0.1.2->pingouin) (51.3.3)\n",
            "Requirement already satisfied: idna<3,>=2.5 in /usr/local/lib/python3.6/dist-packages (from requests->outdated->pingouin) (2.10)\n",
            "Requirement already satisfied: urllib3!=1.25.0,!=1.25.1,<1.26,>=1.21.1 in /usr/local/lib/python3.6/dist-packages (from requests->outdated->pingouin) (1.24.3)\n",
            "Requirement already satisfied: certifi>=2017.4.17 in /usr/local/lib/python3.6/dist-packages (from requests->outdated->pingouin) (2020.12.5)\n",
            "Requirement already satisfied: chardet<4,>=3.0.2 in /usr/local/lib/python3.6/dist-packages (from requests->outdated->pingouin) (3.0.4)\n"
          ],
          "name": "stdout"
        }
      ]
    },
    {
      "cell_type": "markdown",
      "metadata": {
        "id": "y4ZtckUnyNTH"
      },
      "source": [
        "### 범주형 데이터처리 : dummy 처리 "
      ]
    },
    {
      "cell_type": "code",
      "metadata": {
        "colab": {
          "base_uri": "https://localhost:8080/",
          "height": 419
        },
        "id": "osO8zSNIWNvr",
        "outputId": "59e2e472-c8f6-4891-b40e-1b002e11f2c7"
      },
      "source": [
        "data"
      ],
      "execution_count": 129,
      "outputs": [
        {
          "output_type": "execute_result",
          "data": {
            "text/html": [
              "<div>\n",
              "<style scoped>\n",
              "    .dataframe tbody tr th:only-of-type {\n",
              "        vertical-align: middle;\n",
              "    }\n",
              "\n",
              "    .dataframe tbody tr th {\n",
              "        vertical-align: top;\n",
              "    }\n",
              "\n",
              "    .dataframe thead th {\n",
              "        text-align: right;\n",
              "    }\n",
              "</style>\n",
              "<table border=\"1\" class=\"dataframe\">\n",
              "  <thead>\n",
              "    <tr style=\"text-align: right;\">\n",
              "      <th></th>\n",
              "      <th>작업번호</th>\n",
              "      <th>마킹길이</th>\n",
              "      <th>절단길이</th>\n",
              "      <th>철판두께</th>\n",
              "      <th>철판재질</th>\n",
              "      <th>절단갯수</th>\n",
              "      <th>작업장</th>\n",
              "      <th>절단장비</th>\n",
              "      <th>마킹시간</th>\n",
              "      <th>절단시간</th>\n",
              "    </tr>\n",
              "  </thead>\n",
              "  <tbody>\n",
              "    <tr>\n",
              "      <th>0</th>\n",
              "      <td>1.0</td>\n",
              "      <td>46.0</td>\n",
              "      <td>21.9</td>\n",
              "      <td>30.0</td>\n",
              "      <td>DZB</td>\n",
              "      <td>1.0</td>\n",
              "      <td>23.0</td>\n",
              "      <td>PL233</td>\n",
              "      <td>194.0</td>\n",
              "      <td>827.0</td>\n",
              "    </tr>\n",
              "    <tr>\n",
              "      <th>1</th>\n",
              "      <td>2.0</td>\n",
              "      <td>33.9</td>\n",
              "      <td>111.8</td>\n",
              "      <td>12.0</td>\n",
              "      <td>A</td>\n",
              "      <td>46.0</td>\n",
              "      <td>23.0</td>\n",
              "      <td>PL233</td>\n",
              "      <td>324.0</td>\n",
              "      <td>2906.0</td>\n",
              "    </tr>\n",
              "    <tr>\n",
              "      <th>2</th>\n",
              "      <td>3.0</td>\n",
              "      <td>49.5</td>\n",
              "      <td>33.5</td>\n",
              "      <td>13.0</td>\n",
              "      <td>A</td>\n",
              "      <td>2.0</td>\n",
              "      <td>23.0</td>\n",
              "      <td>PL234</td>\n",
              "      <td>241.0</td>\n",
              "      <td>1003.0</td>\n",
              "    </tr>\n",
              "    <tr>\n",
              "      <th>3</th>\n",
              "      <td>4.0</td>\n",
              "      <td>75.7</td>\n",
              "      <td>174.9</td>\n",
              "      <td>13.0</td>\n",
              "      <td>A</td>\n",
              "      <td>35.0</td>\n",
              "      <td>23.0</td>\n",
              "      <td>PL233</td>\n",
              "      <td>483.0</td>\n",
              "      <td>4412.0</td>\n",
              "    </tr>\n",
              "    <tr>\n",
              "      <th>4</th>\n",
              "      <td>5.0</td>\n",
              "      <td>66.5</td>\n",
              "      <td>66.6</td>\n",
              "      <td>13.0</td>\n",
              "      <td>A</td>\n",
              "      <td>7.0</td>\n",
              "      <td>23.0</td>\n",
              "      <td>PL233</td>\n",
              "      <td>331.0</td>\n",
              "      <td>1601.0</td>\n",
              "    </tr>\n",
              "    <tr>\n",
              "      <th>...</th>\n",
              "      <td>...</td>\n",
              "      <td>...</td>\n",
              "      <td>...</td>\n",
              "      <td>...</td>\n",
              "      <td>...</td>\n",
              "      <td>...</td>\n",
              "      <td>...</td>\n",
              "      <td>...</td>\n",
              "      <td>...</td>\n",
              "      <td>...</td>\n",
              "    </tr>\n",
              "    <tr>\n",
              "      <th>162320</th>\n",
              "      <td>162337.0</td>\n",
              "      <td>139.8</td>\n",
              "      <td>162.0</td>\n",
              "      <td>19.0</td>\n",
              "      <td>AH32</td>\n",
              "      <td>31.0</td>\n",
              "      <td>23.0</td>\n",
              "      <td>PL231</td>\n",
              "      <td>827.0</td>\n",
              "      <td>2899.0</td>\n",
              "    </tr>\n",
              "    <tr>\n",
              "      <th>162321</th>\n",
              "      <td>162338.0</td>\n",
              "      <td>18.5</td>\n",
              "      <td>28.9</td>\n",
              "      <td>16.0</td>\n",
              "      <td>A</td>\n",
              "      <td>56.0</td>\n",
              "      <td>25.0</td>\n",
              "      <td>PL252</td>\n",
              "      <td>165.0</td>\n",
              "      <td>930.0</td>\n",
              "    </tr>\n",
              "    <tr>\n",
              "      <th>162322</th>\n",
              "      <td>162339.0</td>\n",
              "      <td>63.7</td>\n",
              "      <td>25.6</td>\n",
              "      <td>15.0</td>\n",
              "      <td>AH32</td>\n",
              "      <td>1.0</td>\n",
              "      <td>26.0</td>\n",
              "      <td>PL261</td>\n",
              "      <td>345.0</td>\n",
              "      <td>696.0</td>\n",
              "    </tr>\n",
              "    <tr>\n",
              "      <th>162323</th>\n",
              "      <td>162340.0</td>\n",
              "      <td>94.7</td>\n",
              "      <td>61.4</td>\n",
              "      <td>19.0</td>\n",
              "      <td>AH32</td>\n",
              "      <td>2.0</td>\n",
              "      <td>26.0</td>\n",
              "      <td>PL261</td>\n",
              "      <td>0.0</td>\n",
              "      <td>2155.0</td>\n",
              "    </tr>\n",
              "    <tr>\n",
              "      <th>162324</th>\n",
              "      <td>162341.0</td>\n",
              "      <td>11.4</td>\n",
              "      <td>20.7</td>\n",
              "      <td>18.0</td>\n",
              "      <td>DH32</td>\n",
              "      <td>8.0</td>\n",
              "      <td>26.0</td>\n",
              "      <td>PL262</td>\n",
              "      <td>63.0</td>\n",
              "      <td>678.0</td>\n",
              "    </tr>\n",
              "  </tbody>\n",
              "</table>\n",
              "<p>162325 rows × 10 columns</p>\n",
              "</div>"
            ],
            "text/plain": [
              "0           작업번호   마킹길이   절단길이  철판두께  ...   작업장   절단장비   마킹시간    절단시간\n",
              "0            1.0   46.0   21.9  30.0  ...  23.0  PL233  194.0   827.0\n",
              "1            2.0   33.9  111.8  12.0  ...  23.0  PL233  324.0  2906.0\n",
              "2            3.0   49.5   33.5  13.0  ...  23.0  PL234  241.0  1003.0\n",
              "3            4.0   75.7  174.9  13.0  ...  23.0  PL233  483.0  4412.0\n",
              "4            5.0   66.5   66.6  13.0  ...  23.0  PL233  331.0  1601.0\n",
              "...          ...    ...    ...   ...  ...   ...    ...    ...     ...\n",
              "162320  162337.0  139.8  162.0  19.0  ...  23.0  PL231  827.0  2899.0\n",
              "162321  162338.0   18.5   28.9  16.0  ...  25.0  PL252  165.0   930.0\n",
              "162322  162339.0   63.7   25.6  15.0  ...  26.0  PL261  345.0   696.0\n",
              "162323  162340.0   94.7   61.4  19.0  ...  26.0  PL261    0.0  2155.0\n",
              "162324  162341.0   11.4   20.7  18.0  ...  26.0  PL262   63.0   678.0\n",
              "\n",
              "[162325 rows x 10 columns]"
            ]
          },
          "metadata": {
            "tags": []
          },
          "execution_count": 129
        }
      ]
    },
    {
      "cell_type": "markdown",
      "metadata": {
        "id": "Pp7DVixMydOe"
      },
      "source": [
        "* 다시 원데이터 16만여개로 복귀, 및 해당 데이터 사용"
      ]
    },
    {
      "cell_type": "code",
      "metadata": {
        "colab": {
          "base_uri": "https://localhost:8080/",
          "height": 321
        },
        "id": "hZiCglLWxvSm",
        "outputId": "81c4dfd8-de01-40b5-8c70-33c11c234755"
      },
      "source": [
        "onehot = pd.get_dummies(data, columns = ['철판재질','작업장','절단장비'])\r\n",
        "data3 = pd.concat([data, onehot], axis=1)\r\n",
        "data3.head()"
      ],
      "execution_count": 130,
      "outputs": [
        {
          "output_type": "execute_result",
          "data": {
            "text/html": [
              "<div>\n",
              "<style scoped>\n",
              "    .dataframe tbody tr th:only-of-type {\n",
              "        vertical-align: middle;\n",
              "    }\n",
              "\n",
              "    .dataframe tbody tr th {\n",
              "        vertical-align: top;\n",
              "    }\n",
              "\n",
              "    .dataframe thead th {\n",
              "        text-align: right;\n",
              "    }\n",
              "</style>\n",
              "<table border=\"1\" class=\"dataframe\">\n",
              "  <thead>\n",
              "    <tr style=\"text-align: right;\">\n",
              "      <th></th>\n",
              "      <th>작업번호</th>\n",
              "      <th>마킹길이</th>\n",
              "      <th>절단길이</th>\n",
              "      <th>철판두께</th>\n",
              "      <th>철판재질</th>\n",
              "      <th>절단갯수</th>\n",
              "      <th>작업장</th>\n",
              "      <th>절단장비</th>\n",
              "      <th>마킹시간</th>\n",
              "      <th>절단시간</th>\n",
              "      <th>작업번호</th>\n",
              "      <th>마킹길이</th>\n",
              "      <th>절단길이</th>\n",
              "      <th>철판두께</th>\n",
              "      <th>절단갯수</th>\n",
              "      <th>마킹시간</th>\n",
              "      <th>절단시간</th>\n",
              "      <th>철판재질_32M60C</th>\n",
              "      <th>철판재질_460F32MS</th>\n",
              "      <th>철판재질_9NI</th>\n",
              "      <th>철판재질_A</th>\n",
              "      <th>철판재질_AA</th>\n",
              "      <th>철판재질_AAH32</th>\n",
              "      <th>철판재질_AAH32-TM</th>\n",
              "      <th>철판재질_AAH36</th>\n",
              "      <th>철판재질_AE</th>\n",
              "      <th>철판재질_AEH32-TM</th>\n",
              "      <th>철판재질_AH32</th>\n",
              "      <th>철판재질_AH32-TM</th>\n",
              "      <th>철판재질_AH32TL</th>\n",
              "      <th>철판재질_AH36</th>\n",
              "      <th>철판재질_AH36-TM</th>\n",
              "      <th>철판재질_AH36TL</th>\n",
              "      <th>철판재질_AH40-TM</th>\n",
              "      <th>철판재질_B</th>\n",
              "      <th>철판재질_BA</th>\n",
              "      <th>철판재질_BAH32</th>\n",
              "      <th>철판재질_BAH36</th>\n",
              "      <th>철판재질_BZ</th>\n",
              "      <th>철판재질_BZB</th>\n",
              "      <th>...</th>\n",
              "      <th>작업장_21.0</th>\n",
              "      <th>작업장_22.0</th>\n",
              "      <th>작업장_23.0</th>\n",
              "      <th>작업장_24.0</th>\n",
              "      <th>작업장_25.0</th>\n",
              "      <th>작업장_26.0</th>\n",
              "      <th>작업장_27.0</th>\n",
              "      <th>작업장_91.0</th>\n",
              "      <th>작업장_92.0</th>\n",
              "      <th>작업장_96.0</th>\n",
              "      <th>작업장_97.0</th>\n",
              "      <th>절단장비_PL141</th>\n",
              "      <th>절단장비_PL142</th>\n",
              "      <th>절단장비_PL211</th>\n",
              "      <th>절단장비_PL212</th>\n",
              "      <th>절단장비_PL221</th>\n",
              "      <th>절단장비_PL223</th>\n",
              "      <th>절단장비_PL224</th>\n",
              "      <th>절단장비_PL231</th>\n",
              "      <th>절단장비_PL233</th>\n",
              "      <th>절단장비_PL234</th>\n",
              "      <th>절단장비_PL241</th>\n",
              "      <th>절단장비_PL242</th>\n",
              "      <th>절단장비_PL252</th>\n",
              "      <th>절단장비_PL253</th>\n",
              "      <th>절단장비_PL254</th>\n",
              "      <th>절단장비_PL261</th>\n",
              "      <th>절단장비_PL262</th>\n",
              "      <th>절단장비_PL271</th>\n",
              "      <th>절단장비_PL272</th>\n",
              "      <th>절단장비_PL273</th>\n",
              "      <th>절단장비_PL911</th>\n",
              "      <th>절단장비_PL921</th>\n",
              "      <th>절단장비_PL922</th>\n",
              "      <th>절단장비_PL961</th>\n",
              "      <th>절단장비_PL973</th>\n",
              "      <th>절단장비_PL974</th>\n",
              "      <th>절단장비_PS213</th>\n",
              "      <th>절단장비_PS243</th>\n",
              "      <th>절단장비_PS963</th>\n",
              "    </tr>\n",
              "  </thead>\n",
              "  <tbody>\n",
              "    <tr>\n",
              "      <th>0</th>\n",
              "      <td>1.0</td>\n",
              "      <td>46.0</td>\n",
              "      <td>21.9</td>\n",
              "      <td>30.0</td>\n",
              "      <td>DZB</td>\n",
              "      <td>1.0</td>\n",
              "      <td>23.0</td>\n",
              "      <td>PL233</td>\n",
              "      <td>194.0</td>\n",
              "      <td>827.0</td>\n",
              "      <td>1.0</td>\n",
              "      <td>46.0</td>\n",
              "      <td>21.9</td>\n",
              "      <td>30.0</td>\n",
              "      <td>1.0</td>\n",
              "      <td>194.0</td>\n",
              "      <td>827.0</td>\n",
              "      <td>0</td>\n",
              "      <td>0</td>\n",
              "      <td>0</td>\n",
              "      <td>0</td>\n",
              "      <td>0</td>\n",
              "      <td>0</td>\n",
              "      <td>0</td>\n",
              "      <td>0</td>\n",
              "      <td>0</td>\n",
              "      <td>0</td>\n",
              "      <td>0</td>\n",
              "      <td>0</td>\n",
              "      <td>0</td>\n",
              "      <td>0</td>\n",
              "      <td>0</td>\n",
              "      <td>0</td>\n",
              "      <td>0</td>\n",
              "      <td>0</td>\n",
              "      <td>0</td>\n",
              "      <td>0</td>\n",
              "      <td>0</td>\n",
              "      <td>0</td>\n",
              "      <td>0</td>\n",
              "      <td>...</td>\n",
              "      <td>0</td>\n",
              "      <td>0</td>\n",
              "      <td>1</td>\n",
              "      <td>0</td>\n",
              "      <td>0</td>\n",
              "      <td>0</td>\n",
              "      <td>0</td>\n",
              "      <td>0</td>\n",
              "      <td>0</td>\n",
              "      <td>0</td>\n",
              "      <td>0</td>\n",
              "      <td>0</td>\n",
              "      <td>0</td>\n",
              "      <td>0</td>\n",
              "      <td>0</td>\n",
              "      <td>0</td>\n",
              "      <td>0</td>\n",
              "      <td>0</td>\n",
              "      <td>0</td>\n",
              "      <td>1</td>\n",
              "      <td>0</td>\n",
              "      <td>0</td>\n",
              "      <td>0</td>\n",
              "      <td>0</td>\n",
              "      <td>0</td>\n",
              "      <td>0</td>\n",
              "      <td>0</td>\n",
              "      <td>0</td>\n",
              "      <td>0</td>\n",
              "      <td>0</td>\n",
              "      <td>0</td>\n",
              "      <td>0</td>\n",
              "      <td>0</td>\n",
              "      <td>0</td>\n",
              "      <td>0</td>\n",
              "      <td>0</td>\n",
              "      <td>0</td>\n",
              "      <td>0</td>\n",
              "      <td>0</td>\n",
              "      <td>0</td>\n",
              "    </tr>\n",
              "    <tr>\n",
              "      <th>1</th>\n",
              "      <td>2.0</td>\n",
              "      <td>33.9</td>\n",
              "      <td>111.8</td>\n",
              "      <td>12.0</td>\n",
              "      <td>A</td>\n",
              "      <td>46.0</td>\n",
              "      <td>23.0</td>\n",
              "      <td>PL233</td>\n",
              "      <td>324.0</td>\n",
              "      <td>2906.0</td>\n",
              "      <td>2.0</td>\n",
              "      <td>33.9</td>\n",
              "      <td>111.8</td>\n",
              "      <td>12.0</td>\n",
              "      <td>46.0</td>\n",
              "      <td>324.0</td>\n",
              "      <td>2906.0</td>\n",
              "      <td>0</td>\n",
              "      <td>0</td>\n",
              "      <td>0</td>\n",
              "      <td>1</td>\n",
              "      <td>0</td>\n",
              "      <td>0</td>\n",
              "      <td>0</td>\n",
              "      <td>0</td>\n",
              "      <td>0</td>\n",
              "      <td>0</td>\n",
              "      <td>0</td>\n",
              "      <td>0</td>\n",
              "      <td>0</td>\n",
              "      <td>0</td>\n",
              "      <td>0</td>\n",
              "      <td>0</td>\n",
              "      <td>0</td>\n",
              "      <td>0</td>\n",
              "      <td>0</td>\n",
              "      <td>0</td>\n",
              "      <td>0</td>\n",
              "      <td>0</td>\n",
              "      <td>0</td>\n",
              "      <td>...</td>\n",
              "      <td>0</td>\n",
              "      <td>0</td>\n",
              "      <td>1</td>\n",
              "      <td>0</td>\n",
              "      <td>0</td>\n",
              "      <td>0</td>\n",
              "      <td>0</td>\n",
              "      <td>0</td>\n",
              "      <td>0</td>\n",
              "      <td>0</td>\n",
              "      <td>0</td>\n",
              "      <td>0</td>\n",
              "      <td>0</td>\n",
              "      <td>0</td>\n",
              "      <td>0</td>\n",
              "      <td>0</td>\n",
              "      <td>0</td>\n",
              "      <td>0</td>\n",
              "      <td>0</td>\n",
              "      <td>1</td>\n",
              "      <td>0</td>\n",
              "      <td>0</td>\n",
              "      <td>0</td>\n",
              "      <td>0</td>\n",
              "      <td>0</td>\n",
              "      <td>0</td>\n",
              "      <td>0</td>\n",
              "      <td>0</td>\n",
              "      <td>0</td>\n",
              "      <td>0</td>\n",
              "      <td>0</td>\n",
              "      <td>0</td>\n",
              "      <td>0</td>\n",
              "      <td>0</td>\n",
              "      <td>0</td>\n",
              "      <td>0</td>\n",
              "      <td>0</td>\n",
              "      <td>0</td>\n",
              "      <td>0</td>\n",
              "      <td>0</td>\n",
              "    </tr>\n",
              "    <tr>\n",
              "      <th>2</th>\n",
              "      <td>3.0</td>\n",
              "      <td>49.5</td>\n",
              "      <td>33.5</td>\n",
              "      <td>13.0</td>\n",
              "      <td>A</td>\n",
              "      <td>2.0</td>\n",
              "      <td>23.0</td>\n",
              "      <td>PL234</td>\n",
              "      <td>241.0</td>\n",
              "      <td>1003.0</td>\n",
              "      <td>3.0</td>\n",
              "      <td>49.5</td>\n",
              "      <td>33.5</td>\n",
              "      <td>13.0</td>\n",
              "      <td>2.0</td>\n",
              "      <td>241.0</td>\n",
              "      <td>1003.0</td>\n",
              "      <td>0</td>\n",
              "      <td>0</td>\n",
              "      <td>0</td>\n",
              "      <td>1</td>\n",
              "      <td>0</td>\n",
              "      <td>0</td>\n",
              "      <td>0</td>\n",
              "      <td>0</td>\n",
              "      <td>0</td>\n",
              "      <td>0</td>\n",
              "      <td>0</td>\n",
              "      <td>0</td>\n",
              "      <td>0</td>\n",
              "      <td>0</td>\n",
              "      <td>0</td>\n",
              "      <td>0</td>\n",
              "      <td>0</td>\n",
              "      <td>0</td>\n",
              "      <td>0</td>\n",
              "      <td>0</td>\n",
              "      <td>0</td>\n",
              "      <td>0</td>\n",
              "      <td>0</td>\n",
              "      <td>...</td>\n",
              "      <td>0</td>\n",
              "      <td>0</td>\n",
              "      <td>1</td>\n",
              "      <td>0</td>\n",
              "      <td>0</td>\n",
              "      <td>0</td>\n",
              "      <td>0</td>\n",
              "      <td>0</td>\n",
              "      <td>0</td>\n",
              "      <td>0</td>\n",
              "      <td>0</td>\n",
              "      <td>0</td>\n",
              "      <td>0</td>\n",
              "      <td>0</td>\n",
              "      <td>0</td>\n",
              "      <td>0</td>\n",
              "      <td>0</td>\n",
              "      <td>0</td>\n",
              "      <td>0</td>\n",
              "      <td>0</td>\n",
              "      <td>1</td>\n",
              "      <td>0</td>\n",
              "      <td>0</td>\n",
              "      <td>0</td>\n",
              "      <td>0</td>\n",
              "      <td>0</td>\n",
              "      <td>0</td>\n",
              "      <td>0</td>\n",
              "      <td>0</td>\n",
              "      <td>0</td>\n",
              "      <td>0</td>\n",
              "      <td>0</td>\n",
              "      <td>0</td>\n",
              "      <td>0</td>\n",
              "      <td>0</td>\n",
              "      <td>0</td>\n",
              "      <td>0</td>\n",
              "      <td>0</td>\n",
              "      <td>0</td>\n",
              "      <td>0</td>\n",
              "    </tr>\n",
              "    <tr>\n",
              "      <th>3</th>\n",
              "      <td>4.0</td>\n",
              "      <td>75.7</td>\n",
              "      <td>174.9</td>\n",
              "      <td>13.0</td>\n",
              "      <td>A</td>\n",
              "      <td>35.0</td>\n",
              "      <td>23.0</td>\n",
              "      <td>PL233</td>\n",
              "      <td>483.0</td>\n",
              "      <td>4412.0</td>\n",
              "      <td>4.0</td>\n",
              "      <td>75.7</td>\n",
              "      <td>174.9</td>\n",
              "      <td>13.0</td>\n",
              "      <td>35.0</td>\n",
              "      <td>483.0</td>\n",
              "      <td>4412.0</td>\n",
              "      <td>0</td>\n",
              "      <td>0</td>\n",
              "      <td>0</td>\n",
              "      <td>1</td>\n",
              "      <td>0</td>\n",
              "      <td>0</td>\n",
              "      <td>0</td>\n",
              "      <td>0</td>\n",
              "      <td>0</td>\n",
              "      <td>0</td>\n",
              "      <td>0</td>\n",
              "      <td>0</td>\n",
              "      <td>0</td>\n",
              "      <td>0</td>\n",
              "      <td>0</td>\n",
              "      <td>0</td>\n",
              "      <td>0</td>\n",
              "      <td>0</td>\n",
              "      <td>0</td>\n",
              "      <td>0</td>\n",
              "      <td>0</td>\n",
              "      <td>0</td>\n",
              "      <td>0</td>\n",
              "      <td>...</td>\n",
              "      <td>0</td>\n",
              "      <td>0</td>\n",
              "      <td>1</td>\n",
              "      <td>0</td>\n",
              "      <td>0</td>\n",
              "      <td>0</td>\n",
              "      <td>0</td>\n",
              "      <td>0</td>\n",
              "      <td>0</td>\n",
              "      <td>0</td>\n",
              "      <td>0</td>\n",
              "      <td>0</td>\n",
              "      <td>0</td>\n",
              "      <td>0</td>\n",
              "      <td>0</td>\n",
              "      <td>0</td>\n",
              "      <td>0</td>\n",
              "      <td>0</td>\n",
              "      <td>0</td>\n",
              "      <td>1</td>\n",
              "      <td>0</td>\n",
              "      <td>0</td>\n",
              "      <td>0</td>\n",
              "      <td>0</td>\n",
              "      <td>0</td>\n",
              "      <td>0</td>\n",
              "      <td>0</td>\n",
              "      <td>0</td>\n",
              "      <td>0</td>\n",
              "      <td>0</td>\n",
              "      <td>0</td>\n",
              "      <td>0</td>\n",
              "      <td>0</td>\n",
              "      <td>0</td>\n",
              "      <td>0</td>\n",
              "      <td>0</td>\n",
              "      <td>0</td>\n",
              "      <td>0</td>\n",
              "      <td>0</td>\n",
              "      <td>0</td>\n",
              "    </tr>\n",
              "    <tr>\n",
              "      <th>4</th>\n",
              "      <td>5.0</td>\n",
              "      <td>66.5</td>\n",
              "      <td>66.6</td>\n",
              "      <td>13.0</td>\n",
              "      <td>A</td>\n",
              "      <td>7.0</td>\n",
              "      <td>23.0</td>\n",
              "      <td>PL233</td>\n",
              "      <td>331.0</td>\n",
              "      <td>1601.0</td>\n",
              "      <td>5.0</td>\n",
              "      <td>66.5</td>\n",
              "      <td>66.6</td>\n",
              "      <td>13.0</td>\n",
              "      <td>7.0</td>\n",
              "      <td>331.0</td>\n",
              "      <td>1601.0</td>\n",
              "      <td>0</td>\n",
              "      <td>0</td>\n",
              "      <td>0</td>\n",
              "      <td>1</td>\n",
              "      <td>0</td>\n",
              "      <td>0</td>\n",
              "      <td>0</td>\n",
              "      <td>0</td>\n",
              "      <td>0</td>\n",
              "      <td>0</td>\n",
              "      <td>0</td>\n",
              "      <td>0</td>\n",
              "      <td>0</td>\n",
              "      <td>0</td>\n",
              "      <td>0</td>\n",
              "      <td>0</td>\n",
              "      <td>0</td>\n",
              "      <td>0</td>\n",
              "      <td>0</td>\n",
              "      <td>0</td>\n",
              "      <td>0</td>\n",
              "      <td>0</td>\n",
              "      <td>0</td>\n",
              "      <td>...</td>\n",
              "      <td>0</td>\n",
              "      <td>0</td>\n",
              "      <td>1</td>\n",
              "      <td>0</td>\n",
              "      <td>0</td>\n",
              "      <td>0</td>\n",
              "      <td>0</td>\n",
              "      <td>0</td>\n",
              "      <td>0</td>\n",
              "      <td>0</td>\n",
              "      <td>0</td>\n",
              "      <td>0</td>\n",
              "      <td>0</td>\n",
              "      <td>0</td>\n",
              "      <td>0</td>\n",
              "      <td>0</td>\n",
              "      <td>0</td>\n",
              "      <td>0</td>\n",
              "      <td>0</td>\n",
              "      <td>1</td>\n",
              "      <td>0</td>\n",
              "      <td>0</td>\n",
              "      <td>0</td>\n",
              "      <td>0</td>\n",
              "      <td>0</td>\n",
              "      <td>0</td>\n",
              "      <td>0</td>\n",
              "      <td>0</td>\n",
              "      <td>0</td>\n",
              "      <td>0</td>\n",
              "      <td>0</td>\n",
              "      <td>0</td>\n",
              "      <td>0</td>\n",
              "      <td>0</td>\n",
              "      <td>0</td>\n",
              "      <td>0</td>\n",
              "      <td>0</td>\n",
              "      <td>0</td>\n",
              "      <td>0</td>\n",
              "      <td>0</td>\n",
              "    </tr>\n",
              "  </tbody>\n",
              "</table>\n",
              "<p>5 rows × 137 columns</p>\n",
              "</div>"
            ],
            "text/plain": [
              "   작업번호  마킹길이   절단길이  철판두께  ... 절단장비_PL974  절단장비_PS213  절단장비_PS243 절단장비_PS963\n",
              "0   1.0  46.0   21.9  30.0  ...          0           0           0          0\n",
              "1   2.0  33.9  111.8  12.0  ...          0           0           0          0\n",
              "2   3.0  49.5   33.5  13.0  ...          0           0           0          0\n",
              "3   4.0  75.7  174.9  13.0  ...          0           0           0          0\n",
              "4   5.0  66.5   66.6  13.0  ...          0           0           0          0\n",
              "\n",
              "[5 rows x 137 columns]"
            ]
          },
          "metadata": {
            "tags": []
          },
          "execution_count": 130
        }
      ]
    },
    {
      "cell_type": "code",
      "metadata": {
        "colab": {
          "base_uri": "https://localhost:8080/"
        },
        "id": "CHYOrX8c6tCl",
        "outputId": "2de4074e-de52-45e9-d54b-2fc45929cd17"
      },
      "source": [
        "a = data3.columns\r\n",
        "a.to_list()\r\n",
        "\r\n",
        "aa = []\r\n",
        "for i in a :\r\n",
        "  if i[0:4] != '철판재질' or '마킹시간':\r\n",
        "    continue\r\n",
        "  aa.append(i) \r\n",
        "print(aa)\r\n",
        "# 도대체 왜 안되지?"
      ],
      "execution_count": 131,
      "outputs": [
        {
          "output_type": "stream",
          "text": [
            "[]\n"
          ],
          "name": "stdout"
        }
      ]
    },
    {
      "cell_type": "code",
      "metadata": {
        "colab": {
          "base_uri": "https://localhost:8080/"
        },
        "id": "4R-GFgLdBG5y",
        "outputId": "04b10f18-7504-413c-f355-a0b658236704"
      },
      "source": [
        "data.info()"
      ],
      "execution_count": 132,
      "outputs": [
        {
          "output_type": "stream",
          "text": [
            "<class 'pandas.core.frame.DataFrame'>\n",
            "RangeIndex: 162325 entries, 0 to 162324\n",
            "Data columns (total 10 columns):\n",
            " #   Column  Non-Null Count   Dtype  \n",
            "---  ------  --------------   -----  \n",
            " 0   작업번호    162325 non-null  float64\n",
            " 1   마킹길이    162325 non-null  float64\n",
            " 2   절단길이    162325 non-null  float64\n",
            " 3   철판두께    162325 non-null  float64\n",
            " 4   철판재질    162325 non-null  object \n",
            " 5   절단갯수    162325 non-null  float64\n",
            " 6   작업장     162325 non-null  float64\n",
            " 7   절단장비    162325 non-null  object \n",
            " 8   마킹시간    162325 non-null  float64\n",
            " 9   절단시간    162325 non-null  float64\n",
            "dtypes: float64(8), object(2)\n",
            "memory usage: 12.4+ MB\n"
          ],
          "name": "stdout"
        }
      ]
    },
    {
      "cell_type": "code",
      "metadata": {
        "colab": {
          "base_uri": "https://localhost:8080/",
          "height": 80
        },
        "id": "Sqm5OS39y_Dk",
        "outputId": "ff6343d5-26de-4ce2-ff1d-877936d827a3"
      },
      "source": [
        "# 이런식으로 알려주는 라이브러리 이긴 합니다 ㅜㅜ\r\n",
        "\r\n",
        "from pingouin import partial_corr\r\n",
        "partial_corr(data=data, x='마킹길이', y='마킹시간', covar=['절단길이', '작업번호'], method='pearson')\r\n"
      ],
      "execution_count": 133,
      "outputs": [
        {
          "output_type": "execute_result",
          "data": {
            "text/html": [
              "<div>\n",
              "<style scoped>\n",
              "    .dataframe tbody tr th:only-of-type {\n",
              "        vertical-align: middle;\n",
              "    }\n",
              "\n",
              "    .dataframe tbody tr th {\n",
              "        vertical-align: top;\n",
              "    }\n",
              "\n",
              "    .dataframe thead th {\n",
              "        text-align: right;\n",
              "    }\n",
              "</style>\n",
              "<table border=\"1\" class=\"dataframe\">\n",
              "  <thead>\n",
              "    <tr style=\"text-align: right;\">\n",
              "      <th></th>\n",
              "      <th>n</th>\n",
              "      <th>r</th>\n",
              "      <th>CI95%</th>\n",
              "      <th>r2</th>\n",
              "      <th>adj_r2</th>\n",
              "      <th>p-val</th>\n",
              "      <th>BF10</th>\n",
              "      <th>power</th>\n",
              "    </tr>\n",
              "  </thead>\n",
              "  <tbody>\n",
              "    <tr>\n",
              "      <th>pearson</th>\n",
              "      <td>162325</td>\n",
              "      <td>-0.006351</td>\n",
              "      <td>[-0.01, -0.0]</td>\n",
              "      <td>0.00004</td>\n",
              "      <td>0.000028</td>\n",
              "      <td>0.010506</td>\n",
              "      <td>0.082</td>\n",
              "      <td>0.725335</td>\n",
              "    </tr>\n",
              "  </tbody>\n",
              "</table>\n",
              "</div>"
            ],
            "text/plain": [
              "              n         r          CI95%  ...     p-val   BF10     power\n",
              "pearson  162325 -0.006351  [-0.01, -0.0]  ...  0.010506  0.082  0.725335\n",
              "\n",
              "[1 rows x 8 columns]"
            ]
          },
          "metadata": {
            "tags": []
          },
          "execution_count": 133
        }
      ]
    },
    {
      "cell_type": "markdown",
      "metadata": {
        "id": "ZTYI5ZGSDFNh"
      },
      "source": [
        "* pingouin 라이브러리는 연속형 데이터만 가능한듯 하다\r\n",
        "* 범주형 데이터는 검색결과 카이제곱으로 접근해야 한다는 결과가 있었습니다.. "
      ]
    },
    {
      "cell_type": "code",
      "metadata": {
        "colab": {
          "base_uri": "https://localhost:8080/",
          "height": 340
        },
        "id": "8dbB7ytiEuCz",
        "outputId": "00e4ca98-c199-4cd6-937d-b04ffdac6c7b"
      },
      "source": [
        "from pingouin import partial_corr\r\n",
        "partial_corr(data=data3, x='철판재질', y='마킹시간', covar=['절단길이', '작업번호'], method='pearson')"
      ],
      "execution_count": 134,
      "outputs": [
        {
          "output_type": "error",
          "ename": "AttributeError",
          "evalue": "ignored",
          "traceback": [
            "\u001b[0;31m---------------------------------------------------------------------------\u001b[0m",
            "\u001b[0;31mAttributeError\u001b[0m                            Traceback (most recent call last)",
            "\u001b[0;32m<ipython-input-134-c269ddabe7e7>\u001b[0m in \u001b[0;36m<module>\u001b[0;34m()\u001b[0m\n\u001b[1;32m      1\u001b[0m \u001b[0;32mfrom\u001b[0m \u001b[0mpingouin\u001b[0m \u001b[0;32mimport\u001b[0m \u001b[0mpartial_corr\u001b[0m\u001b[0;34m\u001b[0m\u001b[0;34m\u001b[0m\u001b[0m\n\u001b[0;32m----> 2\u001b[0;31m \u001b[0mpartial_corr\u001b[0m\u001b[0;34m(\u001b[0m\u001b[0mdata\u001b[0m\u001b[0;34m=\u001b[0m\u001b[0mdata3\u001b[0m\u001b[0;34m,\u001b[0m \u001b[0mx\u001b[0m\u001b[0;34m=\u001b[0m\u001b[0;34m'철판재질'\u001b[0m\u001b[0;34m,\u001b[0m \u001b[0my\u001b[0m\u001b[0;34m=\u001b[0m\u001b[0;34m'마킹시간'\u001b[0m\u001b[0;34m,\u001b[0m \u001b[0mcovar\u001b[0m\u001b[0;34m=\u001b[0m\u001b[0;34m[\u001b[0m\u001b[0;34m'절단길이'\u001b[0m\u001b[0;34m,\u001b[0m \u001b[0;34m'작업번호'\u001b[0m\u001b[0;34m]\u001b[0m\u001b[0;34m,\u001b[0m \u001b[0mmethod\u001b[0m\u001b[0;34m=\u001b[0m\u001b[0;34m'pearson'\u001b[0m\u001b[0;34m)\u001b[0m\u001b[0;34m\u001b[0m\u001b[0;34m\u001b[0m\u001b[0m\n\u001b[0m",
            "\u001b[0;32m/usr/local/lib/python3.6/dist-packages/pingouin/correlation.py\u001b[0m in \u001b[0;36mpartial_corr\u001b[0;34m(data, x, y, covar, x_covar, y_covar, tail, method)\u001b[0m\n\u001b[1;32m    729\u001b[0m     \u001b[0;32massert\u001b[0m \u001b[0mall\u001b[0m\u001b[0;34m(\u001b[0m\u001b[0;34m[\u001b[0m\u001b[0mc\u001b[0m \u001b[0;32min\u001b[0m \u001b[0mdata\u001b[0m \u001b[0;32mfor\u001b[0m \u001b[0mc\u001b[0m \u001b[0;32min\u001b[0m \u001b[0mcol\u001b[0m\u001b[0;34m]\u001b[0m\u001b[0;34m)\u001b[0m\u001b[0;34m,\u001b[0m \u001b[0;34m'columns are not in dataframe.'\u001b[0m\u001b[0;34m\u001b[0m\u001b[0;34m\u001b[0m\u001b[0m\n\u001b[1;32m    730\u001b[0m     \u001b[0;31m# Check that columns are numeric\u001b[0m\u001b[0;34m\u001b[0m\u001b[0;34m\u001b[0m\u001b[0;34m\u001b[0m\u001b[0m\n\u001b[0;32m--> 731\u001b[0;31m     \u001b[0;32massert\u001b[0m \u001b[0mall\u001b[0m\u001b[0;34m(\u001b[0m\u001b[0;34m[\u001b[0m\u001b[0mdata\u001b[0m\u001b[0;34m[\u001b[0m\u001b[0mc\u001b[0m\u001b[0;34m]\u001b[0m\u001b[0;34m.\u001b[0m\u001b[0mdtype\u001b[0m\u001b[0;34m.\u001b[0m\u001b[0mkind\u001b[0m \u001b[0;32min\u001b[0m \u001b[0;34m'bfiu'\u001b[0m \u001b[0;32mfor\u001b[0m \u001b[0mc\u001b[0m \u001b[0;32min\u001b[0m \u001b[0mcol\u001b[0m\u001b[0;34m]\u001b[0m\u001b[0;34m)\u001b[0m\u001b[0;34m\u001b[0m\u001b[0;34m\u001b[0m\u001b[0m\n\u001b[0m\u001b[1;32m    732\u001b[0m \u001b[0;34m\u001b[0m\u001b[0m\n\u001b[1;32m    733\u001b[0m     \u001b[0;31m# Drop rows with NaN\u001b[0m\u001b[0;34m\u001b[0m\u001b[0;34m\u001b[0m\u001b[0;34m\u001b[0m\u001b[0m\n",
            "\u001b[0;32m/usr/local/lib/python3.6/dist-packages/pingouin/correlation.py\u001b[0m in \u001b[0;36m<listcomp>\u001b[0;34m(.0)\u001b[0m\n\u001b[1;32m    729\u001b[0m     \u001b[0;32massert\u001b[0m \u001b[0mall\u001b[0m\u001b[0;34m(\u001b[0m\u001b[0;34m[\u001b[0m\u001b[0mc\u001b[0m \u001b[0;32min\u001b[0m \u001b[0mdata\u001b[0m \u001b[0;32mfor\u001b[0m \u001b[0mc\u001b[0m \u001b[0;32min\u001b[0m \u001b[0mcol\u001b[0m\u001b[0;34m]\u001b[0m\u001b[0;34m)\u001b[0m\u001b[0;34m,\u001b[0m \u001b[0;34m'columns are not in dataframe.'\u001b[0m\u001b[0;34m\u001b[0m\u001b[0;34m\u001b[0m\u001b[0m\n\u001b[1;32m    730\u001b[0m     \u001b[0;31m# Check that columns are numeric\u001b[0m\u001b[0;34m\u001b[0m\u001b[0;34m\u001b[0m\u001b[0;34m\u001b[0m\u001b[0m\n\u001b[0;32m--> 731\u001b[0;31m     \u001b[0;32massert\u001b[0m \u001b[0mall\u001b[0m\u001b[0;34m(\u001b[0m\u001b[0;34m[\u001b[0m\u001b[0mdata\u001b[0m\u001b[0;34m[\u001b[0m\u001b[0mc\u001b[0m\u001b[0;34m]\u001b[0m\u001b[0;34m.\u001b[0m\u001b[0mdtype\u001b[0m\u001b[0;34m.\u001b[0m\u001b[0mkind\u001b[0m \u001b[0;32min\u001b[0m \u001b[0;34m'bfiu'\u001b[0m \u001b[0;32mfor\u001b[0m \u001b[0mc\u001b[0m \u001b[0;32min\u001b[0m \u001b[0mcol\u001b[0m\u001b[0;34m]\u001b[0m\u001b[0;34m)\u001b[0m\u001b[0;34m\u001b[0m\u001b[0;34m\u001b[0m\u001b[0m\n\u001b[0m\u001b[1;32m    732\u001b[0m \u001b[0;34m\u001b[0m\u001b[0m\n\u001b[1;32m    733\u001b[0m     \u001b[0;31m# Drop rows with NaN\u001b[0m\u001b[0;34m\u001b[0m\u001b[0;34m\u001b[0m\u001b[0;34m\u001b[0m\u001b[0m\n",
            "\u001b[0;32m/usr/local/lib/python3.6/dist-packages/pandas/core/generic.py\u001b[0m in \u001b[0;36m__getattr__\u001b[0;34m(self, name)\u001b[0m\n\u001b[1;32m   5139\u001b[0m             \u001b[0;32mif\u001b[0m \u001b[0mself\u001b[0m\u001b[0;34m.\u001b[0m\u001b[0m_info_axis\u001b[0m\u001b[0;34m.\u001b[0m\u001b[0m_can_hold_identifiers_and_holds_name\u001b[0m\u001b[0;34m(\u001b[0m\u001b[0mname\u001b[0m\u001b[0;34m)\u001b[0m\u001b[0;34m:\u001b[0m\u001b[0;34m\u001b[0m\u001b[0;34m\u001b[0m\u001b[0m\n\u001b[1;32m   5140\u001b[0m                 \u001b[0;32mreturn\u001b[0m \u001b[0mself\u001b[0m\u001b[0;34m[\u001b[0m\u001b[0mname\u001b[0m\u001b[0;34m]\u001b[0m\u001b[0;34m\u001b[0m\u001b[0;34m\u001b[0m\u001b[0m\n\u001b[0;32m-> 5141\u001b[0;31m             \u001b[0;32mreturn\u001b[0m \u001b[0mobject\u001b[0m\u001b[0;34m.\u001b[0m\u001b[0m__getattribute__\u001b[0m\u001b[0;34m(\u001b[0m\u001b[0mself\u001b[0m\u001b[0;34m,\u001b[0m \u001b[0mname\u001b[0m\u001b[0;34m)\u001b[0m\u001b[0;34m\u001b[0m\u001b[0;34m\u001b[0m\u001b[0m\n\u001b[0m\u001b[1;32m   5142\u001b[0m \u001b[0;34m\u001b[0m\u001b[0m\n\u001b[1;32m   5143\u001b[0m     \u001b[0;32mdef\u001b[0m \u001b[0m__setattr__\u001b[0m\u001b[0;34m(\u001b[0m\u001b[0mself\u001b[0m\u001b[0;34m,\u001b[0m \u001b[0mname\u001b[0m\u001b[0;34m:\u001b[0m \u001b[0mstr\u001b[0m\u001b[0;34m,\u001b[0m \u001b[0mvalue\u001b[0m\u001b[0;34m)\u001b[0m \u001b[0;34m->\u001b[0m \u001b[0;32mNone\u001b[0m\u001b[0;34m:\u001b[0m\u001b[0;34m\u001b[0m\u001b[0;34m\u001b[0m\u001b[0m\n",
            "\u001b[0;31mAttributeError\u001b[0m: 'DataFrame' object has no attribute 'dtype'"
          ]
        }
      ]
    },
    {
      "cell_type": "markdown",
      "metadata": {
        "id": "HN9g2q5kE22k"
      },
      "source": [
        "* 이렇게 범주형 데이터가 들어가면 어떻게 컨트롤하는지\r\n",
        "* 원핫인코딩 쓰면 요소들이 엄청 많아지는데 어떻게 써야할지 모르겠습니다 "
      ]
    },
    {
      "cell_type": "markdown",
      "metadata": {
        "id": "yAISstPtH8IX"
      },
      "source": [
        "## 작업스케줄링에 대한 생각\r\n",
        "* 작업장-절단장비 매칭\r\n",
        "* 모든 작업장/절단장비의 작업이 동시에 끝나는, 하루 작업량을 최적화 하는 알고리즘\r\n",
        "  * 문제소개 pdf를 보면 업무종료가 꼭 똑같을 필요는 없는 듯?\r\n"
      ]
    },
    {
      "cell_type": "markdown",
      "metadata": {
        "id": "Ah6M83UwJBfA"
      },
      "source": [
        "* 참고강의 : https://www.youtube.com/watch?v=k6bvE_a5kKw\r\n",
        "* 위영상은 파이썬말고 C를 사용한 것 같습니다 "
      ]
    },
    {
      "cell_type": "markdown",
      "metadata": {
        "id": "aip9yBtlJYhA"
      },
      "source": [
        "### 작업장 별 절단장비를 파악해보자\r\n",
        "* **특정 철판두께별 작업환경(사용재질, 장비, 작업장)이 달라질까?**"
      ]
    },
    {
      "cell_type": "code",
      "metadata": {
        "colab": {
          "base_uri": "https://localhost:8080/",
          "height": 516
        },
        "id": "tcpAtbOoJar0",
        "outputId": "4eb6dd9d-b3fb-4f42-efaf-93a6d9eee411"
      },
      "source": [
        "figure, (ax1,ax2,ax3) = plt.subplots(nrows=1, ncols=3)\r\n",
        "figure.set_size_inches(18,8)\r\n",
        "\r\n",
        "sns.barplot(data=data, x=\"작업장\", y=\"절단장비\", ax=ax1)\r\n",
        "sns.barplot(data=data, x=\"작업장\", y=\"철판재질\", ax=ax2)\r\n",
        "sns.barplot(data=data, x=\"작업장\", y=\"철판두께\", ax=ax3)"
      ],
      "execution_count": 136,
      "outputs": [
        {
          "output_type": "execute_result",
          "data": {
            "text/plain": [
              "<matplotlib.axes._subplots.AxesSubplot at 0x7f416ed02f98>"
            ]
          },
          "metadata": {
            "tags": []
          },
          "execution_count": 136
        },
        {
          "output_type": "display_data",
          "data": {
            "image/png": "[encoded data removed]",
            "text/plain": [
              "<Figure size 1296x576 with 3 Axes>"
            ]
          },
          "metadata": {
            "tags": [],
            "needs_background": "light"
          }
        }
      ]
    },
    {
      "cell_type": "markdown",
      "metadata": {
        "id": "B79EWVDPMHOu"
      },
      "source": [
        "* **검정막대는 신뢰구간을 의미합니다**\r\n",
        "* 작업장도 범주형변수라서 첫번째, 두번째 그림같은 표현이 이상적인 표현은 아니지만 시각화를 위해서 float으로 타입변경 후 표현했습니다\r\n",
        "* 1번) 963, 974, 973, 921, 922, 911, 961 장비만 90번대 작업장을 이용함을 알게되었습니다\r\n",
        "  * 절단장비는 총 29종류이며, 작업장은 12개중 90번대 작업장은 4종류 입니다\r\n",
        "* 2번) 마찬가지로 철판재질도 특정 작업장을 사용하는경우가 있음을 알게되었습니다\r\n",
        "* 3번) 하지만 작업장별 사용 철판두께를 달리하지는 않는 것 같습니다"
      ]
    },
    {
      "cell_type": "markdown",
      "metadata": {
        "id": "04SGvdDdOUDm"
      },
      "source": [
        "### 작업 알고리즘 소개 \r\n",
        "* 구글링을 통한 내용인데 혹시 도움이 될까싶어 적어둡니다\r\n",
        "* https://twinparadox.tistory.com/162\r\n",
        "* 기계 할당에 관련된 내용인데 저희상황에선, 기계 -> 작업으로 생각해볼수있지 않을까... 하는 생각이 드는데 말그대로 혹시나,,,혹시나,, 참고가 될까싶어 올립니다..!\r\n",
        "![캡처.PNG](data:image/png;base64,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)"
      ]
    },
    {
      "cell_type": "markdown",
      "metadata": {
        "id": "_OSFJA7_NkFv"
      },
      "source": [
        "# 이상 발표 마칩니다.\r\n",
        "* 기본이 많이 부족해서 짐이 안되고자 나름 정말 많이 공부도 해보고 자료도 찾아보고 했는데\r\n",
        "* 밑천이 보이는 자료인것같습니다 ㅜㅜ"
      ]
    }
  ]
}