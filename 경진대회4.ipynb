{
  "nbformat": 4,
  "nbformat_minor": 0,
  "metadata": {
    "colab": {
      "name": "경진대회4.ipynb",
      "provenance": [],
      "collapsed_sections": [],
      "toc_visible": true,
      "authorship_tag": "ABX9TyMxUKKyMUWcBye3q3FCWpJi",
      "include_colab_link": true
    },
    "kernelspec": {
      "name": "python3",
      "display_name": "Python 3"
    }
  },
  "cells": [
    {
      "cell_type": "markdown",
      "metadata": {
        "id": "view-in-github",
        "colab_type": "text"
      },
      "source": [
        "<a href=\"https://colab.research.google.com/github/seojeongbin/web1/blob/master/%EA%B2%BD%EC%A7%84%EB%8C%80%ED%9A%8C4.ipynb\" target=\"_parent\"><img src=\"https://colab.research.google.com/assets/colab-badge.svg\" alt=\"Open In Colab\"/></a>"
      ]
    },
    {
      "cell_type": "markdown",
      "metadata": {
        "id": "zf1kKeO6n4XZ"
      },
      "source": [
        "# 1. 모델링\r\n"
      ]
    },
    {
      "cell_type": "markdown",
      "metadata": {
        "id": "VqojTbbUov4C"
      },
      "source": [
        "## 알고리즘 적용을 위한 데이터 준비 "
      ]
    },
    {
      "cell_type": "markdown",
      "metadata": {
        "id": "HcBfxBor028m"
      },
      "source": [
        "### 데이터 호출 "
      ]
    },
    {
      "cell_type": "code",
      "metadata": {
        "id": "J0rPCwTH0ePh"
      },
      "source": [
        "import pandas as pd\r\n",
        "import numpy as np\r\n",
        "import matplotlib as mpl\r\n",
        "import matplotlib.pyplot as plt\r\n",
        "import seaborn as sns\r\n",
        "from scipy import stats"
      ],
      "execution_count": null,
      "outputs": []
    },
    {
      "cell_type": "code",
      "metadata": {
        "colab": {
          "base_uri": "https://localhost:8080/"
        },
        "id": "XUuvVu-D0ieF",
        "outputId": "dd6884c8-1ce6-4307-fd39-db0011f7f41a"
      },
      "source": [
        "data = pd.read_csv(\"대회데이터.csv\", encoding='cp949')"
      ],
      "execution_count": null,
      "outputs": [
        {
          "output_type": "stream",
          "text": [
            "/usr/local/lib/python3.6/dist-packages/IPython/core/interactiveshell.py:2718: DtypeWarning: Columns (0,1,2,3,5,6,8,9) have mixed types.Specify dtype option on import or set low_memory=False.\n",
            "  interactivity=interactivity, compiler=compiler, result=result)\n"
          ],
          "name": "stderr"
        }
      ]
    },
    {
      "cell_type": "code",
      "metadata": {
        "colab": {
          "base_uri": "https://localhost:8080/",
          "height": 399
        },
        "id": "vKBImIV10jti",
        "outputId": "9597f3ff-b6e5-4086-83f4-76bc2ebaaf54"
      },
      "source": [
        "data.columns = data.iloc[0,:]\r\n",
        "data = data.iloc[1:,:]\r\n",
        "data = data.reset_index(drop = True)\r\n",
        "data = data.reset_index(drop = False)\r\n",
        "\r\n",
        "data"
      ],
      "execution_count": null,
      "outputs": [
        {
          "output_type": "execute_result",
          "data": {
            "text/html": [
              "<div>\n",
              "<style scoped>\n",
              "    .dataframe tbody tr th:only-of-type {\n",
              "        vertical-align: middle;\n",
              "    }\n",
              "\n",
              "    .dataframe tbody tr th {\n",
              "        vertical-align: top;\n",
              "    }\n",
              "\n",
              "    .dataframe thead th {\n",
              "        text-align: right;\n",
              "    }\n",
              "</style>\n",
              "<table border=\"1\" class=\"dataframe\">\n",
              "  <thead>\n",
              "    <tr style=\"text-align: right;\">\n",
              "      <th></th>\n",
              "      <th>index</th>\n",
              "      <th>작업번호</th>\n",
              "      <th>마킹길이</th>\n",
              "      <th>절단길이</th>\n",
              "      <th>철판두께</th>\n",
              "      <th>철판재질</th>\n",
              "      <th>절단갯수</th>\n",
              "      <th>작업장</th>\n",
              "      <th>절단장비</th>\n",
              "      <th>마킹시간</th>\n",
              "      <th>절단시간</th>\n",
              "    </tr>\n",
              "  </thead>\n",
              "  <tbody>\n",
              "    <tr>\n",
              "      <th>0</th>\n",
              "      <td>0</td>\n",
              "      <td>1</td>\n",
              "      <td>46</td>\n",
              "      <td>21.9</td>\n",
              "      <td>30</td>\n",
              "      <td>DZB</td>\n",
              "      <td>1</td>\n",
              "      <td>23</td>\n",
              "      <td>PL233</td>\n",
              "      <td>194</td>\n",
              "      <td>827</td>\n",
              "    </tr>\n",
              "    <tr>\n",
              "      <th>1</th>\n",
              "      <td>1</td>\n",
              "      <td>2</td>\n",
              "      <td>33.9</td>\n",
              "      <td>111.8</td>\n",
              "      <td>12</td>\n",
              "      <td>A</td>\n",
              "      <td>46</td>\n",
              "      <td>23</td>\n",
              "      <td>PL233</td>\n",
              "      <td>324</td>\n",
              "      <td>2906</td>\n",
              "    </tr>\n",
              "    <tr>\n",
              "      <th>2</th>\n",
              "      <td>2</td>\n",
              "      <td>3</td>\n",
              "      <td>49.5</td>\n",
              "      <td>33.5</td>\n",
              "      <td>13</td>\n",
              "      <td>A</td>\n",
              "      <td>2</td>\n",
              "      <td>23</td>\n",
              "      <td>PL234</td>\n",
              "      <td>241</td>\n",
              "      <td>1003</td>\n",
              "    </tr>\n",
              "    <tr>\n",
              "      <th>3</th>\n",
              "      <td>3</td>\n",
              "      <td>4</td>\n",
              "      <td>75.7</td>\n",
              "      <td>174.9</td>\n",
              "      <td>13</td>\n",
              "      <td>A</td>\n",
              "      <td>35</td>\n",
              "      <td>23</td>\n",
              "      <td>PL233</td>\n",
              "      <td>483</td>\n",
              "      <td>4412</td>\n",
              "    </tr>\n",
              "    <tr>\n",
              "      <th>4</th>\n",
              "      <td>4</td>\n",
              "      <td>5</td>\n",
              "      <td>66.5</td>\n",
              "      <td>66.6</td>\n",
              "      <td>13</td>\n",
              "      <td>A</td>\n",
              "      <td>7</td>\n",
              "      <td>23</td>\n",
              "      <td>PL233</td>\n",
              "      <td>331</td>\n",
              "      <td>1601</td>\n",
              "    </tr>\n",
              "    <tr>\n",
              "      <th>...</th>\n",
              "      <td>...</td>\n",
              "      <td>...</td>\n",
              "      <td>...</td>\n",
              "      <td>...</td>\n",
              "      <td>...</td>\n",
              "      <td>...</td>\n",
              "      <td>...</td>\n",
              "      <td>...</td>\n",
              "      <td>...</td>\n",
              "      <td>...</td>\n",
              "      <td>...</td>\n",
              "    </tr>\n",
              "    <tr>\n",
              "      <th>162320</th>\n",
              "      <td>162320</td>\n",
              "      <td>162337</td>\n",
              "      <td>139.8</td>\n",
              "      <td>162</td>\n",
              "      <td>19</td>\n",
              "      <td>AH32</td>\n",
              "      <td>31</td>\n",
              "      <td>23</td>\n",
              "      <td>PL231</td>\n",
              "      <td>827</td>\n",
              "      <td>2899</td>\n",
              "    </tr>\n",
              "    <tr>\n",
              "      <th>162321</th>\n",
              "      <td>162321</td>\n",
              "      <td>162338</td>\n",
              "      <td>18.5</td>\n",
              "      <td>28.9</td>\n",
              "      <td>16</td>\n",
              "      <td>A</td>\n",
              "      <td>56</td>\n",
              "      <td>25</td>\n",
              "      <td>PL252</td>\n",
              "      <td>165</td>\n",
              "      <td>930</td>\n",
              "    </tr>\n",
              "    <tr>\n",
              "      <th>162322</th>\n",
              "      <td>162322</td>\n",
              "      <td>162339</td>\n",
              "      <td>63.7</td>\n",
              "      <td>25.6</td>\n",
              "      <td>15</td>\n",
              "      <td>AH32</td>\n",
              "      <td>1</td>\n",
              "      <td>26</td>\n",
              "      <td>PL261</td>\n",
              "      <td>345</td>\n",
              "      <td>696</td>\n",
              "    </tr>\n",
              "    <tr>\n",
              "      <th>162323</th>\n",
              "      <td>162323</td>\n",
              "      <td>162340</td>\n",
              "      <td>94.7</td>\n",
              "      <td>61.4</td>\n",
              "      <td>19</td>\n",
              "      <td>AH32</td>\n",
              "      <td>2</td>\n",
              "      <td>26</td>\n",
              "      <td>PL261</td>\n",
              "      <td>0</td>\n",
              "      <td>2155</td>\n",
              "    </tr>\n",
              "    <tr>\n",
              "      <th>162324</th>\n",
              "      <td>162324</td>\n",
              "      <td>162341</td>\n",
              "      <td>11.4</td>\n",
              "      <td>20.7</td>\n",
              "      <td>18</td>\n",
              "      <td>DH32</td>\n",
              "      <td>8</td>\n",
              "      <td>26</td>\n",
              "      <td>PL262</td>\n",
              "      <td>63</td>\n",
              "      <td>678</td>\n",
              "    </tr>\n",
              "  </tbody>\n",
              "</table>\n",
              "<p>162325 rows × 11 columns</p>\n",
              "</div>"
            ],
            "text/plain": [
              "0        index    작업번호   마킹길이   절단길이 철판두께      철판재질 절단갯수 작업장   절단장비 마킹시간  절단시간\n",
              "0            0       1     46   21.9   30  DZB         1  23  PL233  194   827\n",
              "1            1       2   33.9  111.8   12  A          46  23  PL233  324  2906\n",
              "2            2       3   49.5   33.5   13  A           2  23  PL234  241  1003\n",
              "3            3       4   75.7  174.9   13  A          35  23  PL233  483  4412\n",
              "4            4       5   66.5   66.6   13  A           7  23  PL233  331  1601\n",
              "...        ...     ...    ...    ...  ...       ...  ...  ..    ...  ...   ...\n",
              "162320  162320  162337  139.8    162   19  AH32       31  23  PL231  827  2899\n",
              "162321  162321  162338   18.5   28.9   16  A          56  25  PL252  165   930\n",
              "162322  162322  162339   63.7   25.6   15  AH32        1  26  PL261  345   696\n",
              "162323  162323  162340   94.7   61.4   19  AH32        2  26  PL261    0  2155\n",
              "162324  162324  162341   11.4   20.7   18  DH32        8  26  PL262   63   678\n",
              "\n",
              "[162325 rows x 11 columns]"
            ]
          },
          "metadata": {
            "tags": []
          },
          "execution_count": 28
        }
      ]
    },
    {
      "cell_type": "code",
      "metadata": {
        "colab": {
          "base_uri": "https://localhost:8080/"
        },
        "id": "cXqzFkLM0puK",
        "outputId": "d66185d7-a2fe-49ca-c4a0-a0bc768c80e9"
      },
      "source": [
        "data.info()"
      ],
      "execution_count": null,
      "outputs": [
        {
          "output_type": "stream",
          "text": [
            "<class 'pandas.core.frame.DataFrame'>\n",
            "RangeIndex: 162325 entries, 0 to 162324\n",
            "Data columns (total 11 columns):\n",
            " #   Column  Non-Null Count   Dtype \n",
            "---  ------  --------------   ----- \n",
            " 0   index   162325 non-null  int64 \n",
            " 1   작업번호    162325 non-null  object\n",
            " 2   마킹길이    162325 non-null  object\n",
            " 3   절단길이    162325 non-null  object\n",
            " 4   철판두께    162325 non-null  object\n",
            " 5   철판재질    162325 non-null  object\n",
            " 6   절단갯수    162325 non-null  object\n",
            " 7   작업장     162325 non-null  object\n",
            " 8   절단장비    162325 non-null  object\n",
            " 9   마킹시간    162325 non-null  object\n",
            " 10  절단시간    162325 non-null  object\n",
            "dtypes: int64(1), object(10)\n",
            "memory usage: 13.6+ MB\n"
          ],
          "name": "stdout"
        }
      ]
    },
    {
      "cell_type": "code",
      "metadata": {
        "id": "1RL0WI-b0q7t"
      },
      "source": [
        "del data['index']"
      ],
      "execution_count": null,
      "outputs": []
    },
    {
      "cell_type": "code",
      "metadata": {
        "id": "Yt7ONNnI0tf5"
      },
      "source": [
        "data.작업번호 = data.작업번호.astype(float)\r\n",
        "data.마킹길이 = data.마킹길이.astype(float)\r\n",
        "data.절단길이 = data.절단길이.astype(float)\r\n",
        "data.절단갯수 = data.절단갯수.astype(float)\r\n",
        "data.마킹시간 = data.마킹시간.astype(float)\r\n",
        "data.절단시간 = data.절단시간.astype(float)\r\n",
        "data.철판두께 = data.철판두께.astype(float)"
      ],
      "execution_count": null,
      "outputs": []
    },
    {
      "cell_type": "markdown",
      "metadata": {
        "id": "pLfAeiRAoyvO"
      },
      "source": [
        "### 데이터 전처리 "
      ]
    },
    {
      "cell_type": "markdown",
      "metadata": {
        "id": "15B3q_Zx1bQk"
      },
      "source": [
        "#### 아웃라이어 제거"
      ]
    },
    {
      "cell_type": "code",
      "metadata": {
        "id": "GK9G_3AS3nPt",
        "colab": {
          "base_uri": "https://localhost:8080/",
          "height": 70
        },
        "outputId": "ed49d19d-d3a5-4637-f3ee-18626c89c0aa"
      },
      "source": [
        "'''\r\n",
        "from collections import Counter\r\n",
        "def detect_outliers(df,features):\r\n",
        "  outlier_indices = [] \r\n",
        "  for c in features:\r\n",
        "    Q1 = np.percentile(df[c],25)\r\n",
        "    Q3 = np.percentile(df[c],75)\r\n",
        "    IQR = Q3 - Q1\r\n",
        "    outlier_step = IQR * 1.5\r\n",
        "    outlier_list_col = df[(df[c] < Q1 - outlier_step) | (df[c] > Q3 + outlier_step)].index #filtre\r\n",
        "    outlier_indices.extend(outlier_list_col)\r\n",
        "  outlier_indices = Counter(outlier_indices)\r\n",
        "  multiple_outliers = list(i for i, v in outlier_indices.items() if v > 2) \r\n",
        "  return multiple_outliers\r\n",
        "  '''"
      ],
      "execution_count": null,
      "outputs": [
        {
          "output_type": "execute_result",
          "data": {
            "application/vnd.google.colaboratory.intrinsic+json": {
              "type": "string"
            },
            "text/plain": [
              "'\\nfrom collections import Counter\\ndef detect_outliers(df,features):\\n  outlier_indices = [] \\n  for c in features:\\n    Q1 = np.percentile(df[c],25)\\n    Q3 = np.percentile(df[c],75)\\n    IQR = Q3 - Q1\\n    outlier_step = IQR * 1.5\\n    outlier_list_col = df[(df[c] < Q1 - outlier_step) | (df[c] > Q3 + outlier_step)].index #filtre\\n    outlier_indices.extend(outlier_list_col)\\n  outlier_indices = Counter(outlier_indices)\\n  multiple_outliers = list(i for i, v in outlier_indices.items() if v > 2) \\n  return multiple_outliers\\n  '"
            ]
          },
          "metadata": {
            "tags": []
          },
          "execution_count": 32
        }
      ]
    },
    {
      "cell_type": "markdown",
      "metadata": {
        "id": "h206kHGnsvIS"
      },
      "source": [
        "> 위 코드로는 탐색이 지난번때부터 안됐어서 주석화 후, 유튜브에서 찾아서 다른걸로 해보았습니다. "
      ]
    },
    {
      "cell_type": "code",
      "metadata": {
        "colab": {
          "base_uri": "https://localhost:8080/"
        },
        "id": "A0sXHzYXtQ2F",
        "outputId": "47c0230e-6277-4c8b-c037-70c03ddb36be"
      },
      "source": [
        "datawithoutoutliers = data[np.abs(data[\"절단시간\"] - data[\"절단시간\"].mean()) <= (3*data[\"절단시간\"].std())]\r\n",
        "datawithoutoutliers = datawithoutoutliers[np.abs(datawithoutoutliers[\"마킹시간\"] - datawithoutoutliers[\"마킹시간\"].mean()) <= (3*datawithoutoutliers[\"마킹시간\"].std())]\r\n",
        "\r\n",
        "print(data.shape)\r\n",
        "print(datawithoutoutliers.shape)"
      ],
      "execution_count": null,
      "outputs": [
        {
          "output_type": "stream",
          "text": [
            "(162325, 10)\n",
            "(160694, 10)\n"
          ],
          "name": "stdout"
        }
      ]
    },
    {
      "cell_type": "code",
      "metadata": {
        "colab": {
          "base_uri": "https://localhost:8080/",
          "height": 399
        },
        "id": "2KS5jfmNuTZn",
        "outputId": "5691ccd9-6e0f-4f1e-ec1c-8cf405ffa422"
      },
      "source": [
        "data = datawithoutoutliers\r\n",
        "data"
      ],
      "execution_count": null,
      "outputs": [
        {
          "output_type": "execute_result",
          "data": {
            "text/html": [
              "<div>\n",
              "<style scoped>\n",
              "    .dataframe tbody tr th:only-of-type {\n",
              "        vertical-align: middle;\n",
              "    }\n",
              "\n",
              "    .dataframe tbody tr th {\n",
              "        vertical-align: top;\n",
              "    }\n",
              "\n",
              "    .dataframe thead th {\n",
              "        text-align: right;\n",
              "    }\n",
              "</style>\n",
              "<table border=\"1\" class=\"dataframe\">\n",
              "  <thead>\n",
              "    <tr style=\"text-align: right;\">\n",
              "      <th></th>\n",
              "      <th>작업번호</th>\n",
              "      <th>마킹길이</th>\n",
              "      <th>절단길이</th>\n",
              "      <th>철판두께</th>\n",
              "      <th>철판재질</th>\n",
              "      <th>절단갯수</th>\n",
              "      <th>작업장</th>\n",
              "      <th>절단장비</th>\n",
              "      <th>마킹시간</th>\n",
              "      <th>절단시간</th>\n",
              "    </tr>\n",
              "  </thead>\n",
              "  <tbody>\n",
              "    <tr>\n",
              "      <th>0</th>\n",
              "      <td>1.0</td>\n",
              "      <td>46.0</td>\n",
              "      <td>21.9</td>\n",
              "      <td>30.0</td>\n",
              "      <td>DZB</td>\n",
              "      <td>1.0</td>\n",
              "      <td>23</td>\n",
              "      <td>PL233</td>\n",
              "      <td>194.0</td>\n",
              "      <td>827.0</td>\n",
              "    </tr>\n",
              "    <tr>\n",
              "      <th>1</th>\n",
              "      <td>2.0</td>\n",
              "      <td>33.9</td>\n",
              "      <td>111.8</td>\n",
              "      <td>12.0</td>\n",
              "      <td>A</td>\n",
              "      <td>46.0</td>\n",
              "      <td>23</td>\n",
              "      <td>PL233</td>\n",
              "      <td>324.0</td>\n",
              "      <td>2906.0</td>\n",
              "    </tr>\n",
              "    <tr>\n",
              "      <th>2</th>\n",
              "      <td>3.0</td>\n",
              "      <td>49.5</td>\n",
              "      <td>33.5</td>\n",
              "      <td>13.0</td>\n",
              "      <td>A</td>\n",
              "      <td>2.0</td>\n",
              "      <td>23</td>\n",
              "      <td>PL234</td>\n",
              "      <td>241.0</td>\n",
              "      <td>1003.0</td>\n",
              "    </tr>\n",
              "    <tr>\n",
              "      <th>3</th>\n",
              "      <td>4.0</td>\n",
              "      <td>75.7</td>\n",
              "      <td>174.9</td>\n",
              "      <td>13.0</td>\n",
              "      <td>A</td>\n",
              "      <td>35.0</td>\n",
              "      <td>23</td>\n",
              "      <td>PL233</td>\n",
              "      <td>483.0</td>\n",
              "      <td>4412.0</td>\n",
              "    </tr>\n",
              "    <tr>\n",
              "      <th>4</th>\n",
              "      <td>5.0</td>\n",
              "      <td>66.5</td>\n",
              "      <td>66.6</td>\n",
              "      <td>13.0</td>\n",
              "      <td>A</td>\n",
              "      <td>7.0</td>\n",
              "      <td>23</td>\n",
              "      <td>PL233</td>\n",
              "      <td>331.0</td>\n",
              "      <td>1601.0</td>\n",
              "    </tr>\n",
              "    <tr>\n",
              "      <th>...</th>\n",
              "      <td>...</td>\n",
              "      <td>...</td>\n",
              "      <td>...</td>\n",
              "      <td>...</td>\n",
              "      <td>...</td>\n",
              "      <td>...</td>\n",
              "      <td>...</td>\n",
              "      <td>...</td>\n",
              "      <td>...</td>\n",
              "      <td>...</td>\n",
              "    </tr>\n",
              "    <tr>\n",
              "      <th>162320</th>\n",
              "      <td>162337.0</td>\n",
              "      <td>139.8</td>\n",
              "      <td>162.0</td>\n",
              "      <td>19.0</td>\n",
              "      <td>AH32</td>\n",
              "      <td>31.0</td>\n",
              "      <td>23</td>\n",
              "      <td>PL231</td>\n",
              "      <td>827.0</td>\n",
              "      <td>2899.0</td>\n",
              "    </tr>\n",
              "    <tr>\n",
              "      <th>162321</th>\n",
              "      <td>162338.0</td>\n",
              "      <td>18.5</td>\n",
              "      <td>28.9</td>\n",
              "      <td>16.0</td>\n",
              "      <td>A</td>\n",
              "      <td>56.0</td>\n",
              "      <td>25</td>\n",
              "      <td>PL252</td>\n",
              "      <td>165.0</td>\n",
              "      <td>930.0</td>\n",
              "    </tr>\n",
              "    <tr>\n",
              "      <th>162322</th>\n",
              "      <td>162339.0</td>\n",
              "      <td>63.7</td>\n",
              "      <td>25.6</td>\n",
              "      <td>15.0</td>\n",
              "      <td>AH32</td>\n",
              "      <td>1.0</td>\n",
              "      <td>26</td>\n",
              "      <td>PL261</td>\n",
              "      <td>345.0</td>\n",
              "      <td>696.0</td>\n",
              "    </tr>\n",
              "    <tr>\n",
              "      <th>162323</th>\n",
              "      <td>162340.0</td>\n",
              "      <td>94.7</td>\n",
              "      <td>61.4</td>\n",
              "      <td>19.0</td>\n",
              "      <td>AH32</td>\n",
              "      <td>2.0</td>\n",
              "      <td>26</td>\n",
              "      <td>PL261</td>\n",
              "      <td>0.0</td>\n",
              "      <td>2155.0</td>\n",
              "    </tr>\n",
              "    <tr>\n",
              "      <th>162324</th>\n",
              "      <td>162341.0</td>\n",
              "      <td>11.4</td>\n",
              "      <td>20.7</td>\n",
              "      <td>18.0</td>\n",
              "      <td>DH32</td>\n",
              "      <td>8.0</td>\n",
              "      <td>26</td>\n",
              "      <td>PL262</td>\n",
              "      <td>63.0</td>\n",
              "      <td>678.0</td>\n",
              "    </tr>\n",
              "  </tbody>\n",
              "</table>\n",
              "<p>160694 rows × 10 columns</p>\n",
              "</div>"
            ],
            "text/plain": [
              "0           작업번호   마킹길이   절단길이  철판두께      철판재질  절단갯수 작업장   절단장비   마킹시간    절단시간\n",
              "0            1.0   46.0   21.9  30.0  DZB        1.0  23  PL233  194.0   827.0\n",
              "1            2.0   33.9  111.8  12.0  A         46.0  23  PL233  324.0  2906.0\n",
              "2            3.0   49.5   33.5  13.0  A          2.0  23  PL234  241.0  1003.0\n",
              "3            4.0   75.7  174.9  13.0  A         35.0  23  PL233  483.0  4412.0\n",
              "4            5.0   66.5   66.6  13.0  A          7.0  23  PL233  331.0  1601.0\n",
              "...          ...    ...    ...   ...       ...   ...  ..    ...    ...     ...\n",
              "162320  162337.0  139.8  162.0  19.0  AH32      31.0  23  PL231  827.0  2899.0\n",
              "162321  162338.0   18.5   28.9  16.0  A         56.0  25  PL252  165.0   930.0\n",
              "162322  162339.0   63.7   25.6  15.0  AH32       1.0  26  PL261  345.0   696.0\n",
              "162323  162340.0   94.7   61.4  19.0  AH32       2.0  26  PL261    0.0  2155.0\n",
              "162324  162341.0   11.4   20.7  18.0  DH32       8.0  26  PL262   63.0   678.0\n",
              "\n",
              "[160694 rows x 10 columns]"
            ]
          },
          "metadata": {
            "tags": []
          },
          "execution_count": 34
        }
      ]
    },
    {
      "cell_type": "code",
      "metadata": {
        "colab": {
          "base_uri": "https://localhost:8080/"
        },
        "id": "vNKvJhWTeKvI",
        "outputId": "e5c8651c-acba-40f3-c5bd-ab5edddb0d70"
      },
      "source": [
        "data['작업장'].unique()"
      ],
      "execution_count": null,
      "outputs": [
        {
          "output_type": "execute_result",
          "data": {
            "text/plain": [
              "array(['23', '22', '27', '26', '25', '21', '96', '97', '92', '91', '24',\n",
              "       '14', 27, 91, 26, 25, 92, 24, 97, 96, 22, 23, 21, 14], dtype=object)"
            ]
          },
          "metadata": {
            "tags": []
          },
          "execution_count": 35
        }
      ]
    },
    {
      "cell_type": "markdown",
      "metadata": {
        "id": "0g4zd3_veY8l"
      },
      "source": [
        "#### 마킹시간, 절단시간 -> 0 값 제거\r\n",
        "* 산하형 말씀대로 해당값들이 0인 경우를 제거해보았습니다.\r\n",
        "* 다른값으로 대체를 하든 아예 전부 삭제를 하든 0인 값들을 살려주지 않고 조치해주는 것이 좋은 생각이였던 것 같습니다. "
      ]
    },
    {
      "cell_type": "code",
      "metadata": {
        "id": "5Qsmzb4CeY8s"
      },
      "source": [
        "markingtime = (data['마킹시간'] != 0)\r\n",
        "cuttingtime = (data['절단시간'] != 0)\r\n",
        "\r\n",
        "data = data.loc[markingtime & cuttingtime, :]"
      ],
      "execution_count": null,
      "outputs": []
    },
    {
      "cell_type": "markdown",
      "metadata": {
        "id": "4QCeKAx8eY8t"
      },
      "source": [
        "> 현부형 알려주신 방법 활용해보았습니다. 정말 좋은 것 같습니다 ~"
      ]
    },
    {
      "cell_type": "code",
      "metadata": {
        "colab": {
          "base_uri": "https://localhost:8080/",
          "height": 399
        },
        "id": "mH-gGDe0eY8u",
        "outputId": "64c154ef-a3fd-45b7-c81b-64be4e94deef"
      },
      "source": [
        "data"
      ],
      "execution_count": null,
      "outputs": [
        {
          "output_type": "execute_result",
          "data": {
            "text/html": [
              "<div>\n",
              "<style scoped>\n",
              "    .dataframe tbody tr th:only-of-type {\n",
              "        vertical-align: middle;\n",
              "    }\n",
              "\n",
              "    .dataframe tbody tr th {\n",
              "        vertical-align: top;\n",
              "    }\n",
              "\n",
              "    .dataframe thead th {\n",
              "        text-align: right;\n",
              "    }\n",
              "</style>\n",
              "<table border=\"1\" class=\"dataframe\">\n",
              "  <thead>\n",
              "    <tr style=\"text-align: right;\">\n",
              "      <th></th>\n",
              "      <th>작업번호</th>\n",
              "      <th>마킹길이</th>\n",
              "      <th>절단길이</th>\n",
              "      <th>철판두께</th>\n",
              "      <th>철판재질</th>\n",
              "      <th>절단갯수</th>\n",
              "      <th>작업장</th>\n",
              "      <th>절단장비</th>\n",
              "      <th>마킹시간</th>\n",
              "      <th>절단시간</th>\n",
              "    </tr>\n",
              "  </thead>\n",
              "  <tbody>\n",
              "    <tr>\n",
              "      <th>0</th>\n",
              "      <td>1.0</td>\n",
              "      <td>46.0</td>\n",
              "      <td>21.9</td>\n",
              "      <td>30.0</td>\n",
              "      <td>DZB</td>\n",
              "      <td>1.0</td>\n",
              "      <td>23</td>\n",
              "      <td>PL233</td>\n",
              "      <td>194.0</td>\n",
              "      <td>827.0</td>\n",
              "    </tr>\n",
              "    <tr>\n",
              "      <th>1</th>\n",
              "      <td>2.0</td>\n",
              "      <td>33.9</td>\n",
              "      <td>111.8</td>\n",
              "      <td>12.0</td>\n",
              "      <td>A</td>\n",
              "      <td>46.0</td>\n",
              "      <td>23</td>\n",
              "      <td>PL233</td>\n",
              "      <td>324.0</td>\n",
              "      <td>2906.0</td>\n",
              "    </tr>\n",
              "    <tr>\n",
              "      <th>2</th>\n",
              "      <td>3.0</td>\n",
              "      <td>49.5</td>\n",
              "      <td>33.5</td>\n",
              "      <td>13.0</td>\n",
              "      <td>A</td>\n",
              "      <td>2.0</td>\n",
              "      <td>23</td>\n",
              "      <td>PL234</td>\n",
              "      <td>241.0</td>\n",
              "      <td>1003.0</td>\n",
              "    </tr>\n",
              "    <tr>\n",
              "      <th>3</th>\n",
              "      <td>4.0</td>\n",
              "      <td>75.7</td>\n",
              "      <td>174.9</td>\n",
              "      <td>13.0</td>\n",
              "      <td>A</td>\n",
              "      <td>35.0</td>\n",
              "      <td>23</td>\n",
              "      <td>PL233</td>\n",
              "      <td>483.0</td>\n",
              "      <td>4412.0</td>\n",
              "    </tr>\n",
              "    <tr>\n",
              "      <th>4</th>\n",
              "      <td>5.0</td>\n",
              "      <td>66.5</td>\n",
              "      <td>66.6</td>\n",
              "      <td>13.0</td>\n",
              "      <td>A</td>\n",
              "      <td>7.0</td>\n",
              "      <td>23</td>\n",
              "      <td>PL233</td>\n",
              "      <td>331.0</td>\n",
              "      <td>1601.0</td>\n",
              "    </tr>\n",
              "    <tr>\n",
              "      <th>...</th>\n",
              "      <td>...</td>\n",
              "      <td>...</td>\n",
              "      <td>...</td>\n",
              "      <td>...</td>\n",
              "      <td>...</td>\n",
              "      <td>...</td>\n",
              "      <td>...</td>\n",
              "      <td>...</td>\n",
              "      <td>...</td>\n",
              "      <td>...</td>\n",
              "    </tr>\n",
              "    <tr>\n",
              "      <th>162319</th>\n",
              "      <td>162336.0</td>\n",
              "      <td>75.2</td>\n",
              "      <td>124.0</td>\n",
              "      <td>16.0</td>\n",
              "      <td>AH32</td>\n",
              "      <td>33.0</td>\n",
              "      <td>23</td>\n",
              "      <td>PL234</td>\n",
              "      <td>464.0</td>\n",
              "      <td>3077.0</td>\n",
              "    </tr>\n",
              "    <tr>\n",
              "      <th>162320</th>\n",
              "      <td>162337.0</td>\n",
              "      <td>139.8</td>\n",
              "      <td>162.0</td>\n",
              "      <td>19.0</td>\n",
              "      <td>AH32</td>\n",
              "      <td>31.0</td>\n",
              "      <td>23</td>\n",
              "      <td>PL231</td>\n",
              "      <td>827.0</td>\n",
              "      <td>2899.0</td>\n",
              "    </tr>\n",
              "    <tr>\n",
              "      <th>162321</th>\n",
              "      <td>162338.0</td>\n",
              "      <td>18.5</td>\n",
              "      <td>28.9</td>\n",
              "      <td>16.0</td>\n",
              "      <td>A</td>\n",
              "      <td>56.0</td>\n",
              "      <td>25</td>\n",
              "      <td>PL252</td>\n",
              "      <td>165.0</td>\n",
              "      <td>930.0</td>\n",
              "    </tr>\n",
              "    <tr>\n",
              "      <th>162322</th>\n",
              "      <td>162339.0</td>\n",
              "      <td>63.7</td>\n",
              "      <td>25.6</td>\n",
              "      <td>15.0</td>\n",
              "      <td>AH32</td>\n",
              "      <td>1.0</td>\n",
              "      <td>26</td>\n",
              "      <td>PL261</td>\n",
              "      <td>345.0</td>\n",
              "      <td>696.0</td>\n",
              "    </tr>\n",
              "    <tr>\n",
              "      <th>162324</th>\n",
              "      <td>162341.0</td>\n",
              "      <td>11.4</td>\n",
              "      <td>20.7</td>\n",
              "      <td>18.0</td>\n",
              "      <td>DH32</td>\n",
              "      <td>8.0</td>\n",
              "      <td>26</td>\n",
              "      <td>PL262</td>\n",
              "      <td>63.0</td>\n",
              "      <td>678.0</td>\n",
              "    </tr>\n",
              "  </tbody>\n",
              "</table>\n",
              "<p>155617 rows × 10 columns</p>\n",
              "</div>"
            ],
            "text/plain": [
              "0           작업번호   마킹길이   절단길이  철판두께      철판재질  절단갯수 작업장   절단장비   마킹시간    절단시간\n",
              "0            1.0   46.0   21.9  30.0  DZB        1.0  23  PL233  194.0   827.0\n",
              "1            2.0   33.9  111.8  12.0  A         46.0  23  PL233  324.0  2906.0\n",
              "2            3.0   49.5   33.5  13.0  A          2.0  23  PL234  241.0  1003.0\n",
              "3            4.0   75.7  174.9  13.0  A         35.0  23  PL233  483.0  4412.0\n",
              "4            5.0   66.5   66.6  13.0  A          7.0  23  PL233  331.0  1601.0\n",
              "...          ...    ...    ...   ...       ...   ...  ..    ...    ...     ...\n",
              "162319  162336.0   75.2  124.0  16.0  AH32      33.0  23  PL234  464.0  3077.0\n",
              "162320  162337.0  139.8  162.0  19.0  AH32      31.0  23  PL231  827.0  2899.0\n",
              "162321  162338.0   18.5   28.9  16.0  A         56.0  25  PL252  165.0   930.0\n",
              "162322  162339.0   63.7   25.6  15.0  AH32       1.0  26  PL261  345.0   696.0\n",
              "162324  162341.0   11.4   20.7  18.0  DH32       8.0  26  PL262   63.0   678.0\n",
              "\n",
              "[155617 rows x 10 columns]"
            ]
          },
          "metadata": {
            "tags": []
          },
          "execution_count": 37
        }
      ]
    },
    {
      "cell_type": "markdown",
      "metadata": {
        "id": "Bu3rmfaYpGyB"
      },
      "source": [
        "#### 전처리를 마친 전체 df의 상관정도 "
      ]
    },
    {
      "cell_type": "code",
      "metadata": {
        "colab": {
          "base_uri": "https://localhost:8080/",
          "height": 282
        },
        "id": "hwK8EPZMe6Uy",
        "outputId": "400939f5-55f6-4d45-ed18-c522c610e208"
      },
      "source": [
        "data.corr(method = 'pearson')"
      ],
      "execution_count": null,
      "outputs": [
        {
          "output_type": "execute_result",
          "data": {
            "text/html": [
              "<div>\n",
              "<style scoped>\n",
              "    .dataframe tbody tr th:only-of-type {\n",
              "        vertical-align: middle;\n",
              "    }\n",
              "\n",
              "    .dataframe tbody tr th {\n",
              "        vertical-align: top;\n",
              "    }\n",
              "\n",
              "    .dataframe thead th {\n",
              "        text-align: right;\n",
              "    }\n",
              "</style>\n",
              "<table border=\"1\" class=\"dataframe\">\n",
              "  <thead>\n",
              "    <tr style=\"text-align: right;\">\n",
              "      <th></th>\n",
              "      <th>작업번호</th>\n",
              "      <th>마킹길이</th>\n",
              "      <th>절단길이</th>\n",
              "      <th>철판두께</th>\n",
              "      <th>절단갯수</th>\n",
              "      <th>마킹시간</th>\n",
              "      <th>절단시간</th>\n",
              "    </tr>\n",
              "    <tr>\n",
              "      <th>0</th>\n",
              "      <th></th>\n",
              "      <th></th>\n",
              "      <th></th>\n",
              "      <th></th>\n",
              "      <th></th>\n",
              "      <th></th>\n",
              "      <th></th>\n",
              "    </tr>\n",
              "  </thead>\n",
              "  <tbody>\n",
              "    <tr>\n",
              "      <th>작업번호</th>\n",
              "      <td>1.000000</td>\n",
              "      <td>0.036450</td>\n",
              "      <td>0.011071</td>\n",
              "      <td>-0.026132</td>\n",
              "      <td>-0.002107</td>\n",
              "      <td>0.017514</td>\n",
              "      <td>0.003625</td>\n",
              "    </tr>\n",
              "    <tr>\n",
              "      <th>마킹길이</th>\n",
              "      <td>0.036450</td>\n",
              "      <td>1.000000</td>\n",
              "      <td>0.073936</td>\n",
              "      <td>0.042371</td>\n",
              "      <td>-0.170775</td>\n",
              "      <td>0.389027</td>\n",
              "      <td>0.065831</td>\n",
              "    </tr>\n",
              "    <tr>\n",
              "      <th>절단길이</th>\n",
              "      <td>0.011071</td>\n",
              "      <td>0.073936</td>\n",
              "      <td>1.000000</td>\n",
              "      <td>-0.261160</td>\n",
              "      <td>0.653767</td>\n",
              "      <td>0.200778</td>\n",
              "      <td>0.890866</td>\n",
              "    </tr>\n",
              "    <tr>\n",
              "      <th>철판두께</th>\n",
              "      <td>-0.026132</td>\n",
              "      <td>0.042371</td>\n",
              "      <td>-0.261160</td>\n",
              "      <td>1.000000</td>\n",
              "      <td>-0.300523</td>\n",
              "      <td>-0.050706</td>\n",
              "      <td>-0.034957</td>\n",
              "    </tr>\n",
              "    <tr>\n",
              "      <th>절단갯수</th>\n",
              "      <td>-0.002107</td>\n",
              "      <td>-0.170775</td>\n",
              "      <td>0.653767</td>\n",
              "      <td>-0.300523</td>\n",
              "      <td>1.000000</td>\n",
              "      <td>0.045467</td>\n",
              "      <td>0.586400</td>\n",
              "    </tr>\n",
              "    <tr>\n",
              "      <th>마킹시간</th>\n",
              "      <td>0.017514</td>\n",
              "      <td>0.389027</td>\n",
              "      <td>0.200778</td>\n",
              "      <td>-0.050706</td>\n",
              "      <td>0.045467</td>\n",
              "      <td>1.000000</td>\n",
              "      <td>0.252896</td>\n",
              "    </tr>\n",
              "    <tr>\n",
              "      <th>절단시간</th>\n",
              "      <td>0.003625</td>\n",
              "      <td>0.065831</td>\n",
              "      <td>0.890866</td>\n",
              "      <td>-0.034957</td>\n",
              "      <td>0.586400</td>\n",
              "      <td>0.252896</td>\n",
              "      <td>1.000000</td>\n",
              "    </tr>\n",
              "  </tbody>\n",
              "</table>\n",
              "</div>"
            ],
            "text/plain": [
              "0         작업번호      마킹길이      절단길이      철판두께      절단갯수      마킹시간      절단시간\n",
              "0                                                                         \n",
              "작업번호  1.000000  0.036450  0.011071 -0.026132 -0.002107  0.017514  0.003625\n",
              "마킹길이  0.036450  1.000000  0.073936  0.042371 -0.170775  0.389027  0.065831\n",
              "절단길이  0.011071  0.073936  1.000000 -0.261160  0.653767  0.200778  0.890866\n",
              "철판두께 -0.026132  0.042371 -0.261160  1.000000 -0.300523 -0.050706 -0.034957\n",
              "절단갯수 -0.002107 -0.170775  0.653767 -0.300523  1.000000  0.045467  0.586400\n",
              "마킹시간  0.017514  0.389027  0.200778 -0.050706  0.045467  1.000000  0.252896\n",
              "절단시간  0.003625  0.065831  0.890866 -0.034957  0.586400  0.252896  1.000000"
            ]
          },
          "metadata": {
            "tags": []
          },
          "execution_count": 38
        }
      ]
    },
    {
      "cell_type": "code",
      "metadata": {
        "colab": {
          "base_uri": "https://localhost:8080/"
        },
        "id": "zjd8GWiEUV-K",
        "outputId": "9c5a727e-d748-411f-d051-4a84787952b5"
      },
      "source": [
        "!sudo apt-get install -y fonts-nanum\r\n",
        "\r\n",
        "!sudo fc-cache -fv\r\n",
        "!rm ~/.cache/matplotlib -rf\r\n",
        "\r\n",
        "plt.rc('font', family='NanumBarunGothic')"
      ],
      "execution_count": null,
      "outputs": [
        {
          "output_type": "stream",
          "text": [
            "Reading package lists... Done\n",
            "Building dependency tree       \n",
            "Reading state information... Done\n",
            "fonts-nanum is already the newest version (20170925-1).\n",
            "0 upgraded, 0 newly installed, 0 to remove and 15 not upgraded.\n",
            "/usr/share/fonts: caching, new cache contents: 0 fonts, 1 dirs\n",
            "/usr/share/fonts/truetype: caching, new cache contents: 0 fonts, 3 dirs\n",
            "/usr/share/fonts/truetype/humor-sans: caching, new cache contents: 1 fonts, 0 dirs\n",
            "/usr/share/fonts/truetype/liberation: caching, new cache contents: 16 fonts, 0 dirs\n",
            "/usr/share/fonts/truetype/nanum: caching, new cache contents: 10 fonts, 0 dirs\n",
            "/usr/local/share/fonts: caching, new cache contents: 0 fonts, 0 dirs\n",
            "/root/.local/share/fonts: skipping, no such directory\n",
            "/root/.fonts: skipping, no such directory\n",
            "/var/cache/fontconfig: cleaning cache directory\n",
            "/root/.cache/fontconfig: not cleaning non-existent cache directory\n",
            "/root/.fontconfig: not cleaning non-existent cache directory\n",
            "fc-cache: succeeded\n"
          ],
          "name": "stdout"
        }
      ]
    },
    {
      "cell_type": "code",
      "metadata": {
        "colab": {
          "base_uri": "https://localhost:8080/",
          "height": 785
        },
        "id": "ojnJ7w_wT6z5",
        "outputId": "9bb507a4-4f68-49ff-a9dd-555fa850d130"
      },
      "source": [
        "f, ax = plt.subplots(figsize=(12,12))\r\n",
        "mask = np.zeros_like(data.corr())\r\n",
        "mask[np.triu_indices_from(mask)] = True\r\n",
        "sns.heatmap(data.corr(), annot=True, linewidths=0.4, linecolor='white', fmt='.1f', ax=ax, cmap='Blues', mask=mask)\r\n",
        "plt.show()"
      ],
      "execution_count": null,
      "outputs": [
        {
          "output_type": "stream",
          "text": [
            "/usr/local/lib/python3.6/dist-packages/matplotlib/backends/backend_agg.py:214: RuntimeWarning: Glyph 8722 missing from current font.\n",
            "  font.set_text(s, 0.0, flags=flags)\n",
            "/usr/local/lib/python3.6/dist-packages/matplotlib/backends/backend_agg.py:183: RuntimeWarning: Glyph 8722 missing from current font.\n",
            "  font.set_text(s, 0, flags=flags)\n"
          ],
          "name": "stderr"
        },
        {
          "output_type": "display_data",
          "data": {
            "image/png": "[encoded data removed]",
            "text/plain": [
              "<Figure size 864x864 with 2 Axes>"
            ]
          },
          "metadata": {
            "tags": [],
            "needs_background": "light"
          }
        }
      ]
    },
    {
      "cell_type": "markdown",
      "metadata": {
        "id": "oCGwxBbv33mK"
      },
      "source": [
        "#### 범주형 데이터 인코딩 "
      ]
    },
    {
      "cell_type": "code",
      "metadata": {
        "colab": {
          "base_uri": "https://localhost:8080/",
          "height": 311
        },
        "id": "1IPMiXwR35xs",
        "outputId": "f617cc3c-3573-4e0f-e030-633f06f48849"
      },
      "source": [
        "onehot = pd.get_dummies(data, columns = ['철판재질','작업장','절단장비'])\r\n",
        "data_strange = pd.concat([data, onehot], axis=1)\r\n",
        "data_strange.head() #"
      ],
      "execution_count": null,
      "outputs": [
        {
          "output_type": "execute_result",
          "data": {
            "text/html": [
              "<div>\n",
              "<style scoped>\n",
              "    .dataframe tbody tr th:only-of-type {\n",
              "        vertical-align: middle;\n",
              "    }\n",
              "\n",
              "    .dataframe tbody tr th {\n",
              "        vertical-align: top;\n",
              "    }\n",
              "\n",
              "    .dataframe thead th {\n",
              "        text-align: right;\n",
              "    }\n",
              "</style>\n",
              "<table border=\"1\" class=\"dataframe\">\n",
              "  <thead>\n",
              "    <tr style=\"text-align: right;\">\n",
              "      <th></th>\n",
              "      <th>작업번호</th>\n",
              "      <th>마킹길이</th>\n",
              "      <th>절단길이</th>\n",
              "      <th>철판두께</th>\n",
              "      <th>철판재질</th>\n",
              "      <th>절단갯수</th>\n",
              "      <th>작업장</th>\n",
              "      <th>절단장비</th>\n",
              "      <th>마킹시간</th>\n",
              "      <th>절단시간</th>\n",
              "      <th>작업번호</th>\n",
              "      <th>마킹길이</th>\n",
              "      <th>절단길이</th>\n",
              "      <th>철판두께</th>\n",
              "      <th>절단갯수</th>\n",
              "      <th>마킹시간</th>\n",
              "      <th>절단시간</th>\n",
              "      <th>철판재질_32M60C</th>\n",
              "      <th>철판재질_9NI</th>\n",
              "      <th>철판재질_A</th>\n",
              "      <th>철판재질_AA</th>\n",
              "      <th>철판재질_AAH32</th>\n",
              "      <th>철판재질_AAH32-TM</th>\n",
              "      <th>철판재질_AAH36</th>\n",
              "      <th>철판재질_AE</th>\n",
              "      <th>철판재질_AEH32-TM</th>\n",
              "      <th>철판재질_AH32</th>\n",
              "      <th>철판재질_AH32-TM</th>\n",
              "      <th>철판재질_AH32TL</th>\n",
              "      <th>철판재질_AH36</th>\n",
              "      <th>철판재질_AH36-TM</th>\n",
              "      <th>철판재질_AH36TL</th>\n",
              "      <th>철판재질_AH40-TM</th>\n",
              "      <th>철판재질_B</th>\n",
              "      <th>철판재질_BA</th>\n",
              "      <th>철판재질_BAH32</th>\n",
              "      <th>철판재질_BAH36</th>\n",
              "      <th>철판재질_BZ</th>\n",
              "      <th>철판재질_BZB</th>\n",
              "      <th>철판재질_D</th>\n",
              "      <th>...</th>\n",
              "      <th>작업장_21</th>\n",
              "      <th>작업장_22</th>\n",
              "      <th>작업장_23</th>\n",
              "      <th>작업장_24</th>\n",
              "      <th>작업장_25</th>\n",
              "      <th>작업장_26</th>\n",
              "      <th>작업장_27</th>\n",
              "      <th>작업장_91</th>\n",
              "      <th>작업장_92</th>\n",
              "      <th>작업장_96</th>\n",
              "      <th>작업장_97</th>\n",
              "      <th>절단장비_PL141</th>\n",
              "      <th>절단장비_PL142</th>\n",
              "      <th>절단장비_PL211</th>\n",
              "      <th>절단장비_PL212</th>\n",
              "      <th>절단장비_PL221</th>\n",
              "      <th>절단장비_PL223</th>\n",
              "      <th>절단장비_PL224</th>\n",
              "      <th>절단장비_PL231</th>\n",
              "      <th>절단장비_PL233</th>\n",
              "      <th>절단장비_PL234</th>\n",
              "      <th>절단장비_PL241</th>\n",
              "      <th>절단장비_PL242</th>\n",
              "      <th>절단장비_PL252</th>\n",
              "      <th>절단장비_PL253</th>\n",
              "      <th>절단장비_PL254</th>\n",
              "      <th>절단장비_PL261</th>\n",
              "      <th>절단장비_PL262</th>\n",
              "      <th>절단장비_PL271</th>\n",
              "      <th>절단장비_PL272</th>\n",
              "      <th>절단장비_PL273</th>\n",
              "      <th>절단장비_PL911</th>\n",
              "      <th>절단장비_PL921</th>\n",
              "      <th>절단장비_PL922</th>\n",
              "      <th>절단장비_PL961</th>\n",
              "      <th>절단장비_PL973</th>\n",
              "      <th>절단장비_PL974</th>\n",
              "      <th>절단장비_PS213</th>\n",
              "      <th>절단장비_PS243</th>\n",
              "      <th>절단장비_PS963</th>\n",
              "    </tr>\n",
              "  </thead>\n",
              "  <tbody>\n",
              "    <tr>\n",
              "      <th>0</th>\n",
              "      <td>1.0</td>\n",
              "      <td>46.0</td>\n",
              "      <td>21.9</td>\n",
              "      <td>30.0</td>\n",
              "      <td>DZB</td>\n",
              "      <td>1.0</td>\n",
              "      <td>23</td>\n",
              "      <td>PL233</td>\n",
              "      <td>194.0</td>\n",
              "      <td>827.0</td>\n",
              "      <td>1.0</td>\n",
              "      <td>46.0</td>\n",
              "      <td>21.9</td>\n",
              "      <td>30.0</td>\n",
              "      <td>1.0</td>\n",
              "      <td>194.0</td>\n",
              "      <td>827.0</td>\n",
              "      <td>0</td>\n",
              "      <td>0</td>\n",
              "      <td>0</td>\n",
              "      <td>0</td>\n",
              "      <td>0</td>\n",
              "      <td>0</td>\n",
              "      <td>0</td>\n",
              "      <td>0</td>\n",
              "      <td>0</td>\n",
              "      <td>0</td>\n",
              "      <td>0</td>\n",
              "      <td>0</td>\n",
              "      <td>0</td>\n",
              "      <td>0</td>\n",
              "      <td>0</td>\n",
              "      <td>0</td>\n",
              "      <td>0</td>\n",
              "      <td>0</td>\n",
              "      <td>0</td>\n",
              "      <td>0</td>\n",
              "      <td>0</td>\n",
              "      <td>0</td>\n",
              "      <td>0</td>\n",
              "      <td>...</td>\n",
              "      <td>0</td>\n",
              "      <td>0</td>\n",
              "      <td>1</td>\n",
              "      <td>0</td>\n",
              "      <td>0</td>\n",
              "      <td>0</td>\n",
              "      <td>0</td>\n",
              "      <td>0</td>\n",
              "      <td>0</td>\n",
              "      <td>0</td>\n",
              "      <td>0</td>\n",
              "      <td>0</td>\n",
              "      <td>0</td>\n",
              "      <td>0</td>\n",
              "      <td>0</td>\n",
              "      <td>0</td>\n",
              "      <td>0</td>\n",
              "      <td>0</td>\n",
              "      <td>0</td>\n",
              "      <td>1</td>\n",
              "      <td>0</td>\n",
              "      <td>0</td>\n",
              "      <td>0</td>\n",
              "      <td>0</td>\n",
              "      <td>0</td>\n",
              "      <td>0</td>\n",
              "      <td>0</td>\n",
              "      <td>0</td>\n",
              "      <td>0</td>\n",
              "      <td>0</td>\n",
              "      <td>0</td>\n",
              "      <td>0</td>\n",
              "      <td>0</td>\n",
              "      <td>0</td>\n",
              "      <td>0</td>\n",
              "      <td>0</td>\n",
              "      <td>0</td>\n",
              "      <td>0</td>\n",
              "      <td>0</td>\n",
              "      <td>0</td>\n",
              "    </tr>\n",
              "    <tr>\n",
              "      <th>1</th>\n",
              "      <td>2.0</td>\n",
              "      <td>33.9</td>\n",
              "      <td>111.8</td>\n",
              "      <td>12.0</td>\n",
              "      <td>A</td>\n",
              "      <td>46.0</td>\n",
              "      <td>23</td>\n",
              "      <td>PL233</td>\n",
              "      <td>324.0</td>\n",
              "      <td>2906.0</td>\n",
              "      <td>2.0</td>\n",
              "      <td>33.9</td>\n",
              "      <td>111.8</td>\n",
              "      <td>12.0</td>\n",
              "      <td>46.0</td>\n",
              "      <td>324.0</td>\n",
              "      <td>2906.0</td>\n",
              "      <td>0</td>\n",
              "      <td>0</td>\n",
              "      <td>1</td>\n",
              "      <td>0</td>\n",
              "      <td>0</td>\n",
              "      <td>0</td>\n",
              "      <td>0</td>\n",
              "      <td>0</td>\n",
              "      <td>0</td>\n",
              "      <td>0</td>\n",
              "      <td>0</td>\n",
              "      <td>0</td>\n",
              "      <td>0</td>\n",
              "      <td>0</td>\n",
              "      <td>0</td>\n",
              "      <td>0</td>\n",
              "      <td>0</td>\n",
              "      <td>0</td>\n",
              "      <td>0</td>\n",
              "      <td>0</td>\n",
              "      <td>0</td>\n",
              "      <td>0</td>\n",
              "      <td>0</td>\n",
              "      <td>...</td>\n",
              "      <td>0</td>\n",
              "      <td>0</td>\n",
              "      <td>1</td>\n",
              "      <td>0</td>\n",
              "      <td>0</td>\n",
              "      <td>0</td>\n",
              "      <td>0</td>\n",
              "      <td>0</td>\n",
              "      <td>0</td>\n",
              "      <td>0</td>\n",
              "      <td>0</td>\n",
              "      <td>0</td>\n",
              "      <td>0</td>\n",
              "      <td>0</td>\n",
              "      <td>0</td>\n",
              "      <td>0</td>\n",
              "      <td>0</td>\n",
              "      <td>0</td>\n",
              "      <td>0</td>\n",
              "      <td>1</td>\n",
              "      <td>0</td>\n",
              "      <td>0</td>\n",
              "      <td>0</td>\n",
              "      <td>0</td>\n",
              "      <td>0</td>\n",
              "      <td>0</td>\n",
              "      <td>0</td>\n",
              "      <td>0</td>\n",
              "      <td>0</td>\n",
              "      <td>0</td>\n",
              "      <td>0</td>\n",
              "      <td>0</td>\n",
              "      <td>0</td>\n",
              "      <td>0</td>\n",
              "      <td>0</td>\n",
              "      <td>0</td>\n",
              "      <td>0</td>\n",
              "      <td>0</td>\n",
              "      <td>0</td>\n",
              "      <td>0</td>\n",
              "    </tr>\n",
              "    <tr>\n",
              "      <th>2</th>\n",
              "      <td>3.0</td>\n",
              "      <td>49.5</td>\n",
              "      <td>33.5</td>\n",
              "      <td>13.0</td>\n",
              "      <td>A</td>\n",
              "      <td>2.0</td>\n",
              "      <td>23</td>\n",
              "      <td>PL234</td>\n",
              "      <td>241.0</td>\n",
              "      <td>1003.0</td>\n",
              "      <td>3.0</td>\n",
              "      <td>49.5</td>\n",
              "      <td>33.5</td>\n",
              "      <td>13.0</td>\n",
              "      <td>2.0</td>\n",
              "      <td>241.0</td>\n",
              "      <td>1003.0</td>\n",
              "      <td>0</td>\n",
              "      <td>0</td>\n",
              "      <td>1</td>\n",
              "      <td>0</td>\n",
              "      <td>0</td>\n",
              "      <td>0</td>\n",
              "      <td>0</td>\n",
              "      <td>0</td>\n",
              "      <td>0</td>\n",
              "      <td>0</td>\n",
              "      <td>0</td>\n",
              "      <td>0</td>\n",
              "      <td>0</td>\n",
              "      <td>0</td>\n",
              "      <td>0</td>\n",
              "      <td>0</td>\n",
              "      <td>0</td>\n",
              "      <td>0</td>\n",
              "      <td>0</td>\n",
              "      <td>0</td>\n",
              "      <td>0</td>\n",
              "      <td>0</td>\n",
              "      <td>0</td>\n",
              "      <td>...</td>\n",
              "      <td>0</td>\n",
              "      <td>0</td>\n",
              "      <td>1</td>\n",
              "      <td>0</td>\n",
              "      <td>0</td>\n",
              "      <td>0</td>\n",
              "      <td>0</td>\n",
              "      <td>0</td>\n",
              "      <td>0</td>\n",
              "      <td>0</td>\n",
              "      <td>0</td>\n",
              "      <td>0</td>\n",
              "      <td>0</td>\n",
              "      <td>0</td>\n",
              "      <td>0</td>\n",
              "      <td>0</td>\n",
              "      <td>0</td>\n",
              "      <td>0</td>\n",
              "      <td>0</td>\n",
              "      <td>0</td>\n",
              "      <td>1</td>\n",
              "      <td>0</td>\n",
              "      <td>0</td>\n",
              "      <td>0</td>\n",
              "      <td>0</td>\n",
              "      <td>0</td>\n",
              "      <td>0</td>\n",
              "      <td>0</td>\n",
              "      <td>0</td>\n",
              "      <td>0</td>\n",
              "      <td>0</td>\n",
              "      <td>0</td>\n",
              "      <td>0</td>\n",
              "      <td>0</td>\n",
              "      <td>0</td>\n",
              "      <td>0</td>\n",
              "      <td>0</td>\n",
              "      <td>0</td>\n",
              "      <td>0</td>\n",
              "      <td>0</td>\n",
              "    </tr>\n",
              "    <tr>\n",
              "      <th>3</th>\n",
              "      <td>4.0</td>\n",
              "      <td>75.7</td>\n",
              "      <td>174.9</td>\n",
              "      <td>13.0</td>\n",
              "      <td>A</td>\n",
              "      <td>35.0</td>\n",
              "      <td>23</td>\n",
              "      <td>PL233</td>\n",
              "      <td>483.0</td>\n",
              "      <td>4412.0</td>\n",
              "      <td>4.0</td>\n",
              "      <td>75.7</td>\n",
              "      <td>174.9</td>\n",
              "      <td>13.0</td>\n",
              "      <td>35.0</td>\n",
              "      <td>483.0</td>\n",
              "      <td>4412.0</td>\n",
              "      <td>0</td>\n",
              "      <td>0</td>\n",
              "      <td>1</td>\n",
              "      <td>0</td>\n",
              "      <td>0</td>\n",
              "      <td>0</td>\n",
              "      <td>0</td>\n",
              "      <td>0</td>\n",
              "      <td>0</td>\n",
              "      <td>0</td>\n",
              "      <td>0</td>\n",
              "      <td>0</td>\n",
              "      <td>0</td>\n",
              "      <td>0</td>\n",
              "      <td>0</td>\n",
              "      <td>0</td>\n",
              "      <td>0</td>\n",
              "      <td>0</td>\n",
              "      <td>0</td>\n",
              "      <td>0</td>\n",
              "      <td>0</td>\n",
              "      <td>0</td>\n",
              "      <td>0</td>\n",
              "      <td>...</td>\n",
              "      <td>0</td>\n",
              "      <td>0</td>\n",
              "      <td>1</td>\n",
              "      <td>0</td>\n",
              "      <td>0</td>\n",
              "      <td>0</td>\n",
              "      <td>0</td>\n",
              "      <td>0</td>\n",
              "      <td>0</td>\n",
              "      <td>0</td>\n",
              "      <td>0</td>\n",
              "      <td>0</td>\n",
              "      <td>0</td>\n",
              "      <td>0</td>\n",
              "      <td>0</td>\n",
              "      <td>0</td>\n",
              "      <td>0</td>\n",
              "      <td>0</td>\n",
              "      <td>0</td>\n",
              "      <td>1</td>\n",
              "      <td>0</td>\n",
              "      <td>0</td>\n",
              "      <td>0</td>\n",
              "      <td>0</td>\n",
              "      <td>0</td>\n",
              "      <td>0</td>\n",
              "      <td>0</td>\n",
              "      <td>0</td>\n",
              "      <td>0</td>\n",
              "      <td>0</td>\n",
              "      <td>0</td>\n",
              "      <td>0</td>\n",
              "      <td>0</td>\n",
              "      <td>0</td>\n",
              "      <td>0</td>\n",
              "      <td>0</td>\n",
              "      <td>0</td>\n",
              "      <td>0</td>\n",
              "      <td>0</td>\n",
              "      <td>0</td>\n",
              "    </tr>\n",
              "    <tr>\n",
              "      <th>4</th>\n",
              "      <td>5.0</td>\n",
              "      <td>66.5</td>\n",
              "      <td>66.6</td>\n",
              "      <td>13.0</td>\n",
              "      <td>A</td>\n",
              "      <td>7.0</td>\n",
              "      <td>23</td>\n",
              "      <td>PL233</td>\n",
              "      <td>331.0</td>\n",
              "      <td>1601.0</td>\n",
              "      <td>5.0</td>\n",
              "      <td>66.5</td>\n",
              "      <td>66.6</td>\n",
              "      <td>13.0</td>\n",
              "      <td>7.0</td>\n",
              "      <td>331.0</td>\n",
              "      <td>1601.0</td>\n",
              "      <td>0</td>\n",
              "      <td>0</td>\n",
              "      <td>1</td>\n",
              "      <td>0</td>\n",
              "      <td>0</td>\n",
              "      <td>0</td>\n",
              "      <td>0</td>\n",
              "      <td>0</td>\n",
              "      <td>0</td>\n",
              "      <td>0</td>\n",
              "      <td>0</td>\n",
              "      <td>0</td>\n",
              "      <td>0</td>\n",
              "      <td>0</td>\n",
              "      <td>0</td>\n",
              "      <td>0</td>\n",
              "      <td>0</td>\n",
              "      <td>0</td>\n",
              "      <td>0</td>\n",
              "      <td>0</td>\n",
              "      <td>0</td>\n",
              "      <td>0</td>\n",
              "      <td>0</td>\n",
              "      <td>...</td>\n",
              "      <td>0</td>\n",
              "      <td>0</td>\n",
              "      <td>1</td>\n",
              "      <td>0</td>\n",
              "      <td>0</td>\n",
              "      <td>0</td>\n",
              "      <td>0</td>\n",
              "      <td>0</td>\n",
              "      <td>0</td>\n",
              "      <td>0</td>\n",
              "      <td>0</td>\n",
              "      <td>0</td>\n",
              "      <td>0</td>\n",
              "      <td>0</td>\n",
              "      <td>0</td>\n",
              "      <td>0</td>\n",
              "      <td>0</td>\n",
              "      <td>0</td>\n",
              "      <td>0</td>\n",
              "      <td>1</td>\n",
              "      <td>0</td>\n",
              "      <td>0</td>\n",
              "      <td>0</td>\n",
              "      <td>0</td>\n",
              "      <td>0</td>\n",
              "      <td>0</td>\n",
              "      <td>0</td>\n",
              "      <td>0</td>\n",
              "      <td>0</td>\n",
              "      <td>0</td>\n",
              "      <td>0</td>\n",
              "      <td>0</td>\n",
              "      <td>0</td>\n",
              "      <td>0</td>\n",
              "      <td>0</td>\n",
              "      <td>0</td>\n",
              "      <td>0</td>\n",
              "      <td>0</td>\n",
              "      <td>0</td>\n",
              "      <td>0</td>\n",
              "    </tr>\n",
              "  </tbody>\n",
              "</table>\n",
              "<p>5 rows × 147 columns</p>\n",
              "</div>"
            ],
            "text/plain": [
              "   작업번호  마킹길이   절단길이  철판두께  ... 절단장비_PL974  절단장비_PS213 절단장비_PS243 절단장비_PS963\n",
              "0   1.0  46.0   21.9  30.0  ...          0           0          0          0\n",
              "1   2.0  33.9  111.8  12.0  ...          0           0          0          0\n",
              "2   3.0  49.5   33.5  13.0  ...          0           0          0          0\n",
              "3   4.0  75.7  174.9  13.0  ...          0           0          0          0\n",
              "4   5.0  66.5   66.6  13.0  ...          0           0          0          0\n",
              "\n",
              "[5 rows x 147 columns]"
            ]
          },
          "metadata": {
            "tags": []
          },
          "execution_count": 41
        }
      ]
    },
    {
      "cell_type": "markdown",
      "metadata": {
        "id": "aSJEiA4cxOxP"
      },
      "source": [
        "> 작업번호, 마킹길이, 절단길이, 두께, 재질, 절단수 ,절단시간, 마킹시간 -> 왜 전부 두번씩?? \r\n",
        "* 현부형 코드를 이용했습니다.."
      ]
    },
    {
      "cell_type": "code",
      "metadata": {
        "id": "F7aCv8KxxUNs"
      },
      "source": [
        "data_place = data.loc[:,'작업장'].str.get_dummies(sep=',')"
      ],
      "execution_count": null,
      "outputs": []
    },
    {
      "cell_type": "code",
      "metadata": {
        "id": "kII95wWExdQJ"
      },
      "source": [
        "col = ['마킹길이', '절단길이', '철판두께', '절단갯수']\r\n",
        "col_y = ['절단시간', '마킹시간']\r\n",
        "\r\n",
        "onehot = pd.get_dummies(data, columns = ['철판재질','절단장비'])\r\n",
        "onehot = onehot.iloc[:,9:]"
      ],
      "execution_count": null,
      "outputs": []
    },
    {
      "cell_type": "code",
      "metadata": {
        "colab": {
          "base_uri": "https://localhost:8080/",
          "height": 504
        },
        "id": "TycN6NWuxgCP",
        "outputId": "14291164-8840-4dcc-eb4a-7469a8621dfd"
      },
      "source": [
        "Data = pd.concat([data.loc[:, col], onehot, data_place, data.loc[:, col_y]], axis=1)\r\n",
        "Data"
      ],
      "execution_count": null,
      "outputs": [
        {
          "output_type": "execute_result",
          "data": {
            "text/html": [
              "<div>\n",
              "<style scoped>\n",
              "    .dataframe tbody tr th:only-of-type {\n",
              "        vertical-align: middle;\n",
              "    }\n",
              "\n",
              "    .dataframe tbody tr th {\n",
              "        vertical-align: top;\n",
              "    }\n",
              "\n",
              "    .dataframe thead th {\n",
              "        text-align: right;\n",
              "    }\n",
              "</style>\n",
              "<table border=\"1\" class=\"dataframe\">\n",
              "  <thead>\n",
              "    <tr style=\"text-align: right;\">\n",
              "      <th></th>\n",
              "      <th>마킹길이</th>\n",
              "      <th>절단길이</th>\n",
              "      <th>철판두께</th>\n",
              "      <th>절단갯수</th>\n",
              "      <th>철판재질_9NI</th>\n",
              "      <th>철판재질_A</th>\n",
              "      <th>철판재질_AA</th>\n",
              "      <th>철판재질_AAH32</th>\n",
              "      <th>철판재질_AAH32-TM</th>\n",
              "      <th>철판재질_AAH36</th>\n",
              "      <th>철판재질_AE</th>\n",
              "      <th>철판재질_AEH32-TM</th>\n",
              "      <th>철판재질_AH32</th>\n",
              "      <th>철판재질_AH32-TM</th>\n",
              "      <th>철판재질_AH32TL</th>\n",
              "      <th>철판재질_AH36</th>\n",
              "      <th>철판재질_AH36-TM</th>\n",
              "      <th>철판재질_AH36TL</th>\n",
              "      <th>철판재질_AH40-TM</th>\n",
              "      <th>철판재질_B</th>\n",
              "      <th>철판재질_BA</th>\n",
              "      <th>철판재질_BAH32</th>\n",
              "      <th>철판재질_BAH36</th>\n",
              "      <th>철판재질_BZ</th>\n",
              "      <th>철판재질_BZB</th>\n",
              "      <th>철판재질_D</th>\n",
              "      <th>철판재질_D-TM</th>\n",
              "      <th>철판재질_DH32</th>\n",
              "      <th>철판재질_DH32-TM</th>\n",
              "      <th>철판재질_DH32TL</th>\n",
              "      <th>철판재질_DH36</th>\n",
              "      <th>철판재질_DH36-TM</th>\n",
              "      <th>철판재질_DH36TL</th>\n",
              "      <th>철판재질_DH40-TM</th>\n",
              "      <th>철판재질_DZB</th>\n",
              "      <th>철판재질_DZB-TM</th>\n",
              "      <th>철판재질_E</th>\n",
              "      <th>철판재질_E-TM</th>\n",
              "      <th>철판재질_EH32</th>\n",
              "      <th>철판재질_EH32-TM</th>\n",
              "      <th>...</th>\n",
              "      <th>절단장비_PL212</th>\n",
              "      <th>절단장비_PL221</th>\n",
              "      <th>절단장비_PL223</th>\n",
              "      <th>절단장비_PL224</th>\n",
              "      <th>절단장비_PL231</th>\n",
              "      <th>절단장비_PL233</th>\n",
              "      <th>절단장비_PL234</th>\n",
              "      <th>절단장비_PL241</th>\n",
              "      <th>절단장비_PL242</th>\n",
              "      <th>절단장비_PL252</th>\n",
              "      <th>절단장비_PL253</th>\n",
              "      <th>절단장비_PL254</th>\n",
              "      <th>절단장비_PL261</th>\n",
              "      <th>절단장비_PL262</th>\n",
              "      <th>절단장비_PL271</th>\n",
              "      <th>절단장비_PL272</th>\n",
              "      <th>절단장비_PL273</th>\n",
              "      <th>절단장비_PL911</th>\n",
              "      <th>절단장비_PL921</th>\n",
              "      <th>절단장비_PL922</th>\n",
              "      <th>절단장비_PL961</th>\n",
              "      <th>절단장비_PL973</th>\n",
              "      <th>절단장비_PL974</th>\n",
              "      <th>절단장비_PS213</th>\n",
              "      <th>절단장비_PS243</th>\n",
              "      <th>절단장비_PS963</th>\n",
              "      <th>14</th>\n",
              "      <th>21</th>\n",
              "      <th>22</th>\n",
              "      <th>23</th>\n",
              "      <th>24</th>\n",
              "      <th>25</th>\n",
              "      <th>26</th>\n",
              "      <th>27</th>\n",
              "      <th>91</th>\n",
              "      <th>92</th>\n",
              "      <th>96</th>\n",
              "      <th>97</th>\n",
              "      <th>절단시간</th>\n",
              "      <th>마킹시간</th>\n",
              "    </tr>\n",
              "  </thead>\n",
              "  <tbody>\n",
              "    <tr>\n",
              "      <th>0</th>\n",
              "      <td>46.0</td>\n",
              "      <td>21.9</td>\n",
              "      <td>30.0</td>\n",
              "      <td>1.0</td>\n",
              "      <td>0</td>\n",
              "      <td>0</td>\n",
              "      <td>0</td>\n",
              "      <td>0</td>\n",
              "      <td>0</td>\n",
              "      <td>0</td>\n",
              "      <td>0</td>\n",
              "      <td>0</td>\n",
              "      <td>0</td>\n",
              "      <td>0</td>\n",
              "      <td>0</td>\n",
              "      <td>0</td>\n",
              "      <td>0</td>\n",
              "      <td>0</td>\n",
              "      <td>0</td>\n",
              "      <td>0</td>\n",
              "      <td>0</td>\n",
              "      <td>0</td>\n",
              "      <td>0</td>\n",
              "      <td>0</td>\n",
              "      <td>0</td>\n",
              "      <td>0</td>\n",
              "      <td>0</td>\n",
              "      <td>0</td>\n",
              "      <td>0</td>\n",
              "      <td>0</td>\n",
              "      <td>0</td>\n",
              "      <td>0</td>\n",
              "      <td>0</td>\n",
              "      <td>0</td>\n",
              "      <td>1</td>\n",
              "      <td>0</td>\n",
              "      <td>0</td>\n",
              "      <td>0</td>\n",
              "      <td>0</td>\n",
              "      <td>0</td>\n",
              "      <td>...</td>\n",
              "      <td>0</td>\n",
              "      <td>0</td>\n",
              "      <td>0</td>\n",
              "      <td>0</td>\n",
              "      <td>0</td>\n",
              "      <td>1</td>\n",
              "      <td>0</td>\n",
              "      <td>0</td>\n",
              "      <td>0</td>\n",
              "      <td>0</td>\n",
              "      <td>0</td>\n",
              "      <td>0</td>\n",
              "      <td>0</td>\n",
              "      <td>0</td>\n",
              "      <td>0</td>\n",
              "      <td>0</td>\n",
              "      <td>0</td>\n",
              "      <td>0</td>\n",
              "      <td>0</td>\n",
              "      <td>0</td>\n",
              "      <td>0</td>\n",
              "      <td>0</td>\n",
              "      <td>0</td>\n",
              "      <td>0</td>\n",
              "      <td>0</td>\n",
              "      <td>0</td>\n",
              "      <td>0</td>\n",
              "      <td>0</td>\n",
              "      <td>0</td>\n",
              "      <td>1</td>\n",
              "      <td>0</td>\n",
              "      <td>0</td>\n",
              "      <td>0</td>\n",
              "      <td>0</td>\n",
              "      <td>0</td>\n",
              "      <td>0</td>\n",
              "      <td>0</td>\n",
              "      <td>0</td>\n",
              "      <td>827.0</td>\n",
              "      <td>194.0</td>\n",
              "    </tr>\n",
              "    <tr>\n",
              "      <th>1</th>\n",
              "      <td>33.9</td>\n",
              "      <td>111.8</td>\n",
              "      <td>12.0</td>\n",
              "      <td>46.0</td>\n",
              "      <td>0</td>\n",
              "      <td>1</td>\n",
              "      <td>0</td>\n",
              "      <td>0</td>\n",
              "      <td>0</td>\n",
              "      <td>0</td>\n",
              "      <td>0</td>\n",
              "      <td>0</td>\n",
              "      <td>0</td>\n",
              "      <td>0</td>\n",
              "      <td>0</td>\n",
              "      <td>0</td>\n",
              "      <td>0</td>\n",
              "      <td>0</td>\n",
              "      <td>0</td>\n",
              "      <td>0</td>\n",
              "      <td>0</td>\n",
              "      <td>0</td>\n",
              "      <td>0</td>\n",
              "      <td>0</td>\n",
              "      <td>0</td>\n",
              "      <td>0</td>\n",
              "      <td>0</td>\n",
              "      <td>0</td>\n",
              "      <td>0</td>\n",
              "      <td>0</td>\n",
              "      <td>0</td>\n",
              "      <td>0</td>\n",
              "      <td>0</td>\n",
              "      <td>0</td>\n",
              "      <td>0</td>\n",
              "      <td>0</td>\n",
              "      <td>0</td>\n",
              "      <td>0</td>\n",
              "      <td>0</td>\n",
              "      <td>0</td>\n",
              "      <td>...</td>\n",
              "      <td>0</td>\n",
              "      <td>0</td>\n",
              "      <td>0</td>\n",
              "      <td>0</td>\n",
              "      <td>0</td>\n",
              "      <td>1</td>\n",
              "      <td>0</td>\n",
              "      <td>0</td>\n",
              "      <td>0</td>\n",
              "      <td>0</td>\n",
              "      <td>0</td>\n",
              "      <td>0</td>\n",
              "      <td>0</td>\n",
              "      <td>0</td>\n",
              "      <td>0</td>\n",
              "      <td>0</td>\n",
              "      <td>0</td>\n",
              "      <td>0</td>\n",
              "      <td>0</td>\n",
              "      <td>0</td>\n",
              "      <td>0</td>\n",
              "      <td>0</td>\n",
              "      <td>0</td>\n",
              "      <td>0</td>\n",
              "      <td>0</td>\n",
              "      <td>0</td>\n",
              "      <td>0</td>\n",
              "      <td>0</td>\n",
              "      <td>0</td>\n",
              "      <td>1</td>\n",
              "      <td>0</td>\n",
              "      <td>0</td>\n",
              "      <td>0</td>\n",
              "      <td>0</td>\n",
              "      <td>0</td>\n",
              "      <td>0</td>\n",
              "      <td>0</td>\n",
              "      <td>0</td>\n",
              "      <td>2906.0</td>\n",
              "      <td>324.0</td>\n",
              "    </tr>\n",
              "    <tr>\n",
              "      <th>2</th>\n",
              "      <td>49.5</td>\n",
              "      <td>33.5</td>\n",
              "      <td>13.0</td>\n",
              "      <td>2.0</td>\n",
              "      <td>0</td>\n",
              "      <td>1</td>\n",
              "      <td>0</td>\n",
              "      <td>0</td>\n",
              "      <td>0</td>\n",
              "      <td>0</td>\n",
              "      <td>0</td>\n",
              "      <td>0</td>\n",
              "      <td>0</td>\n",
              "      <td>0</td>\n",
              "      <td>0</td>\n",
              "      <td>0</td>\n",
              "      <td>0</td>\n",
              "      <td>0</td>\n",
              "      <td>0</td>\n",
              "      <td>0</td>\n",
              "      <td>0</td>\n",
              "      <td>0</td>\n",
              "      <td>0</td>\n",
              "      <td>0</td>\n",
              "      <td>0</td>\n",
              "      <td>0</td>\n",
              "      <td>0</td>\n",
              "      <td>0</td>\n",
              "      <td>0</td>\n",
              "      <td>0</td>\n",
              "      <td>0</td>\n",
              "      <td>0</td>\n",
              "      <td>0</td>\n",
              "      <td>0</td>\n",
              "      <td>0</td>\n",
              "      <td>0</td>\n",
              "      <td>0</td>\n",
              "      <td>0</td>\n",
              "      <td>0</td>\n",
              "      <td>0</td>\n",
              "      <td>...</td>\n",
              "      <td>0</td>\n",
              "      <td>0</td>\n",
              "      <td>0</td>\n",
              "      <td>0</td>\n",
              "      <td>0</td>\n",
              "      <td>0</td>\n",
              "      <td>1</td>\n",
              "      <td>0</td>\n",
              "      <td>0</td>\n",
              "      <td>0</td>\n",
              "      <td>0</td>\n",
              "      <td>0</td>\n",
              "      <td>0</td>\n",
              "      <td>0</td>\n",
              "      <td>0</td>\n",
              "      <td>0</td>\n",
              "      <td>0</td>\n",
              "      <td>0</td>\n",
              "      <td>0</td>\n",
              "      <td>0</td>\n",
              "      <td>0</td>\n",
              "      <td>0</td>\n",
              "      <td>0</td>\n",
              "      <td>0</td>\n",
              "      <td>0</td>\n",
              "      <td>0</td>\n",
              "      <td>0</td>\n",
              "      <td>0</td>\n",
              "      <td>0</td>\n",
              "      <td>1</td>\n",
              "      <td>0</td>\n",
              "      <td>0</td>\n",
              "      <td>0</td>\n",
              "      <td>0</td>\n",
              "      <td>0</td>\n",
              "      <td>0</td>\n",
              "      <td>0</td>\n",
              "      <td>0</td>\n",
              "      <td>1003.0</td>\n",
              "      <td>241.0</td>\n",
              "    </tr>\n",
              "    <tr>\n",
              "      <th>3</th>\n",
              "      <td>75.7</td>\n",
              "      <td>174.9</td>\n",
              "      <td>13.0</td>\n",
              "      <td>35.0</td>\n",
              "      <td>0</td>\n",
              "      <td>1</td>\n",
              "      <td>0</td>\n",
              "      <td>0</td>\n",
              "      <td>0</td>\n",
              "      <td>0</td>\n",
              "      <td>0</td>\n",
              "      <td>0</td>\n",
              "      <td>0</td>\n",
              "      <td>0</td>\n",
              "      <td>0</td>\n",
              "      <td>0</td>\n",
              "      <td>0</td>\n",
              "      <td>0</td>\n",
              "      <td>0</td>\n",
              "      <td>0</td>\n",
              "      <td>0</td>\n",
              "      <td>0</td>\n",
              "      <td>0</td>\n",
              "      <td>0</td>\n",
              "      <td>0</td>\n",
              "      <td>0</td>\n",
              "      <td>0</td>\n",
              "      <td>0</td>\n",
              "      <td>0</td>\n",
              "      <td>0</td>\n",
              "      <td>0</td>\n",
              "      <td>0</td>\n",
              "      <td>0</td>\n",
              "      <td>0</td>\n",
              "      <td>0</td>\n",
              "      <td>0</td>\n",
              "      <td>0</td>\n",
              "      <td>0</td>\n",
              "      <td>0</td>\n",
              "      <td>0</td>\n",
              "      <td>...</td>\n",
              "      <td>0</td>\n",
              "      <td>0</td>\n",
              "      <td>0</td>\n",
              "      <td>0</td>\n",
              "      <td>0</td>\n",
              "      <td>1</td>\n",
              "      <td>0</td>\n",
              "      <td>0</td>\n",
              "      <td>0</td>\n",
              "      <td>0</td>\n",
              "      <td>0</td>\n",
              "      <td>0</td>\n",
              "      <td>0</td>\n",
              "      <td>0</td>\n",
              "      <td>0</td>\n",
              "      <td>0</td>\n",
              "      <td>0</td>\n",
              "      <td>0</td>\n",
              "      <td>0</td>\n",
              "      <td>0</td>\n",
              "      <td>0</td>\n",
              "      <td>0</td>\n",
              "      <td>0</td>\n",
              "      <td>0</td>\n",
              "      <td>0</td>\n",
              "      <td>0</td>\n",
              "      <td>0</td>\n",
              "      <td>0</td>\n",
              "      <td>0</td>\n",
              "      <td>1</td>\n",
              "      <td>0</td>\n",
              "      <td>0</td>\n",
              "      <td>0</td>\n",
              "      <td>0</td>\n",
              "      <td>0</td>\n",
              "      <td>0</td>\n",
              "      <td>0</td>\n",
              "      <td>0</td>\n",
              "      <td>4412.0</td>\n",
              "      <td>483.0</td>\n",
              "    </tr>\n",
              "    <tr>\n",
              "      <th>4</th>\n",
              "      <td>66.5</td>\n",
              "      <td>66.6</td>\n",
              "      <td>13.0</td>\n",
              "      <td>7.0</td>\n",
              "      <td>0</td>\n",
              "      <td>1</td>\n",
              "      <td>0</td>\n",
              "      <td>0</td>\n",
              "      <td>0</td>\n",
              "      <td>0</td>\n",
              "      <td>0</td>\n",
              "      <td>0</td>\n",
              "      <td>0</td>\n",
              "      <td>0</td>\n",
              "      <td>0</td>\n",
              "      <td>0</td>\n",
              "      <td>0</td>\n",
              "      <td>0</td>\n",
              "      <td>0</td>\n",
              "      <td>0</td>\n",
              "      <td>0</td>\n",
              "      <td>0</td>\n",
              "      <td>0</td>\n",
              "      <td>0</td>\n",
              "      <td>0</td>\n",
              "      <td>0</td>\n",
              "      <td>0</td>\n",
              "      <td>0</td>\n",
              "      <td>0</td>\n",
              "      <td>0</td>\n",
              "      <td>0</td>\n",
              "      <td>0</td>\n",
              "      <td>0</td>\n",
              "      <td>0</td>\n",
              "      <td>0</td>\n",
              "      <td>0</td>\n",
              "      <td>0</td>\n",
              "      <td>0</td>\n",
              "      <td>0</td>\n",
              "      <td>0</td>\n",
              "      <td>...</td>\n",
              "      <td>0</td>\n",
              "      <td>0</td>\n",
              "      <td>0</td>\n",
              "      <td>0</td>\n",
              "      <td>0</td>\n",
              "      <td>1</td>\n",
              "      <td>0</td>\n",
              "      <td>0</td>\n",
              "      <td>0</td>\n",
              "      <td>0</td>\n",
              "      <td>0</td>\n",
              "      <td>0</td>\n",
              "      <td>0</td>\n",
              "      <td>0</td>\n",
              "      <td>0</td>\n",
              "      <td>0</td>\n",
              "      <td>0</td>\n",
              "      <td>0</td>\n",
              "      <td>0</td>\n",
              "      <td>0</td>\n",
              "      <td>0</td>\n",
              "      <td>0</td>\n",
              "      <td>0</td>\n",
              "      <td>0</td>\n",
              "      <td>0</td>\n",
              "      <td>0</td>\n",
              "      <td>0</td>\n",
              "      <td>0</td>\n",
              "      <td>0</td>\n",
              "      <td>1</td>\n",
              "      <td>0</td>\n",
              "      <td>0</td>\n",
              "      <td>0</td>\n",
              "      <td>0</td>\n",
              "      <td>0</td>\n",
              "      <td>0</td>\n",
              "      <td>0</td>\n",
              "      <td>0</td>\n",
              "      <td>1601.0</td>\n",
              "      <td>331.0</td>\n",
              "    </tr>\n",
              "    <tr>\n",
              "      <th>...</th>\n",
              "      <td>...</td>\n",
              "      <td>...</td>\n",
              "      <td>...</td>\n",
              "      <td>...</td>\n",
              "      <td>...</td>\n",
              "      <td>...</td>\n",
              "      <td>...</td>\n",
              "      <td>...</td>\n",
              "      <td>...</td>\n",
              "      <td>...</td>\n",
              "      <td>...</td>\n",
              "      <td>...</td>\n",
              "      <td>...</td>\n",
              "      <td>...</td>\n",
              "      <td>...</td>\n",
              "      <td>...</td>\n",
              "      <td>...</td>\n",
              "      <td>...</td>\n",
              "      <td>...</td>\n",
              "      <td>...</td>\n",
              "      <td>...</td>\n",
              "      <td>...</td>\n",
              "      <td>...</td>\n",
              "      <td>...</td>\n",
              "      <td>...</td>\n",
              "      <td>...</td>\n",
              "      <td>...</td>\n",
              "      <td>...</td>\n",
              "      <td>...</td>\n",
              "      <td>...</td>\n",
              "      <td>...</td>\n",
              "      <td>...</td>\n",
              "      <td>...</td>\n",
              "      <td>...</td>\n",
              "      <td>...</td>\n",
              "      <td>...</td>\n",
              "      <td>...</td>\n",
              "      <td>...</td>\n",
              "      <td>...</td>\n",
              "      <td>...</td>\n",
              "      <td>...</td>\n",
              "      <td>...</td>\n",
              "      <td>...</td>\n",
              "      <td>...</td>\n",
              "      <td>...</td>\n",
              "      <td>...</td>\n",
              "      <td>...</td>\n",
              "      <td>...</td>\n",
              "      <td>...</td>\n",
              "      <td>...</td>\n",
              "      <td>...</td>\n",
              "      <td>...</td>\n",
              "      <td>...</td>\n",
              "      <td>...</td>\n",
              "      <td>...</td>\n",
              "      <td>...</td>\n",
              "      <td>...</td>\n",
              "      <td>...</td>\n",
              "      <td>...</td>\n",
              "      <td>...</td>\n",
              "      <td>...</td>\n",
              "      <td>...</td>\n",
              "      <td>...</td>\n",
              "      <td>...</td>\n",
              "      <td>...</td>\n",
              "      <td>...</td>\n",
              "      <td>...</td>\n",
              "      <td>...</td>\n",
              "      <td>...</td>\n",
              "      <td>...</td>\n",
              "      <td>...</td>\n",
              "      <td>...</td>\n",
              "      <td>...</td>\n",
              "      <td>...</td>\n",
              "      <td>...</td>\n",
              "      <td>...</td>\n",
              "      <td>...</td>\n",
              "      <td>...</td>\n",
              "      <td>...</td>\n",
              "      <td>...</td>\n",
              "      <td>...</td>\n",
              "    </tr>\n",
              "    <tr>\n",
              "      <th>162319</th>\n",
              "      <td>75.2</td>\n",
              "      <td>124.0</td>\n",
              "      <td>16.0</td>\n",
              "      <td>33.0</td>\n",
              "      <td>0</td>\n",
              "      <td>0</td>\n",
              "      <td>0</td>\n",
              "      <td>0</td>\n",
              "      <td>0</td>\n",
              "      <td>0</td>\n",
              "      <td>0</td>\n",
              "      <td>0</td>\n",
              "      <td>1</td>\n",
              "      <td>0</td>\n",
              "      <td>0</td>\n",
              "      <td>0</td>\n",
              "      <td>0</td>\n",
              "      <td>0</td>\n",
              "      <td>0</td>\n",
              "      <td>0</td>\n",
              "      <td>0</td>\n",
              "      <td>0</td>\n",
              "      <td>0</td>\n",
              "      <td>0</td>\n",
              "      <td>0</td>\n",
              "      <td>0</td>\n",
              "      <td>0</td>\n",
              "      <td>0</td>\n",
              "      <td>0</td>\n",
              "      <td>0</td>\n",
              "      <td>0</td>\n",
              "      <td>0</td>\n",
              "      <td>0</td>\n",
              "      <td>0</td>\n",
              "      <td>0</td>\n",
              "      <td>0</td>\n",
              "      <td>0</td>\n",
              "      <td>0</td>\n",
              "      <td>0</td>\n",
              "      <td>0</td>\n",
              "      <td>...</td>\n",
              "      <td>0</td>\n",
              "      <td>0</td>\n",
              "      <td>0</td>\n",
              "      <td>0</td>\n",
              "      <td>0</td>\n",
              "      <td>0</td>\n",
              "      <td>1</td>\n",
              "      <td>0</td>\n",
              "      <td>0</td>\n",
              "      <td>0</td>\n",
              "      <td>0</td>\n",
              "      <td>0</td>\n",
              "      <td>0</td>\n",
              "      <td>0</td>\n",
              "      <td>0</td>\n",
              "      <td>0</td>\n",
              "      <td>0</td>\n",
              "      <td>0</td>\n",
              "      <td>0</td>\n",
              "      <td>0</td>\n",
              "      <td>0</td>\n",
              "      <td>0</td>\n",
              "      <td>0</td>\n",
              "      <td>0</td>\n",
              "      <td>0</td>\n",
              "      <td>0</td>\n",
              "      <td>0</td>\n",
              "      <td>0</td>\n",
              "      <td>0</td>\n",
              "      <td>1</td>\n",
              "      <td>0</td>\n",
              "      <td>0</td>\n",
              "      <td>0</td>\n",
              "      <td>0</td>\n",
              "      <td>0</td>\n",
              "      <td>0</td>\n",
              "      <td>0</td>\n",
              "      <td>0</td>\n",
              "      <td>3077.0</td>\n",
              "      <td>464.0</td>\n",
              "    </tr>\n",
              "    <tr>\n",
              "      <th>162320</th>\n",
              "      <td>139.8</td>\n",
              "      <td>162.0</td>\n",
              "      <td>19.0</td>\n",
              "      <td>31.0</td>\n",
              "      <td>0</td>\n",
              "      <td>0</td>\n",
              "      <td>0</td>\n",
              "      <td>0</td>\n",
              "      <td>0</td>\n",
              "      <td>0</td>\n",
              "      <td>0</td>\n",
              "      <td>0</td>\n",
              "      <td>1</td>\n",
              "      <td>0</td>\n",
              "      <td>0</td>\n",
              "      <td>0</td>\n",
              "      <td>0</td>\n",
              "      <td>0</td>\n",
              "      <td>0</td>\n",
              "      <td>0</td>\n",
              "      <td>0</td>\n",
              "      <td>0</td>\n",
              "      <td>0</td>\n",
              "      <td>0</td>\n",
              "      <td>0</td>\n",
              "      <td>0</td>\n",
              "      <td>0</td>\n",
              "      <td>0</td>\n",
              "      <td>0</td>\n",
              "      <td>0</td>\n",
              "      <td>0</td>\n",
              "      <td>0</td>\n",
              "      <td>0</td>\n",
              "      <td>0</td>\n",
              "      <td>0</td>\n",
              "      <td>0</td>\n",
              "      <td>0</td>\n",
              "      <td>0</td>\n",
              "      <td>0</td>\n",
              "      <td>0</td>\n",
              "      <td>...</td>\n",
              "      <td>0</td>\n",
              "      <td>0</td>\n",
              "      <td>0</td>\n",
              "      <td>0</td>\n",
              "      <td>1</td>\n",
              "      <td>0</td>\n",
              "      <td>0</td>\n",
              "      <td>0</td>\n",
              "      <td>0</td>\n",
              "      <td>0</td>\n",
              "      <td>0</td>\n",
              "      <td>0</td>\n",
              "      <td>0</td>\n",
              "      <td>0</td>\n",
              "      <td>0</td>\n",
              "      <td>0</td>\n",
              "      <td>0</td>\n",
              "      <td>0</td>\n",
              "      <td>0</td>\n",
              "      <td>0</td>\n",
              "      <td>0</td>\n",
              "      <td>0</td>\n",
              "      <td>0</td>\n",
              "      <td>0</td>\n",
              "      <td>0</td>\n",
              "      <td>0</td>\n",
              "      <td>0</td>\n",
              "      <td>0</td>\n",
              "      <td>0</td>\n",
              "      <td>1</td>\n",
              "      <td>0</td>\n",
              "      <td>0</td>\n",
              "      <td>0</td>\n",
              "      <td>0</td>\n",
              "      <td>0</td>\n",
              "      <td>0</td>\n",
              "      <td>0</td>\n",
              "      <td>0</td>\n",
              "      <td>2899.0</td>\n",
              "      <td>827.0</td>\n",
              "    </tr>\n",
              "    <tr>\n",
              "      <th>162321</th>\n",
              "      <td>18.5</td>\n",
              "      <td>28.9</td>\n",
              "      <td>16.0</td>\n",
              "      <td>56.0</td>\n",
              "      <td>0</td>\n",
              "      <td>1</td>\n",
              "      <td>0</td>\n",
              "      <td>0</td>\n",
              "      <td>0</td>\n",
              "      <td>0</td>\n",
              "      <td>0</td>\n",
              "      <td>0</td>\n",
              "      <td>0</td>\n",
              "      <td>0</td>\n",
              "      <td>0</td>\n",
              "      <td>0</td>\n",
              "      <td>0</td>\n",
              "      <td>0</td>\n",
              "      <td>0</td>\n",
              "      <td>0</td>\n",
              "      <td>0</td>\n",
              "      <td>0</td>\n",
              "      <td>0</td>\n",
              "      <td>0</td>\n",
              "      <td>0</td>\n",
              "      <td>0</td>\n",
              "      <td>0</td>\n",
              "      <td>0</td>\n",
              "      <td>0</td>\n",
              "      <td>0</td>\n",
              "      <td>0</td>\n",
              "      <td>0</td>\n",
              "      <td>0</td>\n",
              "      <td>0</td>\n",
              "      <td>0</td>\n",
              "      <td>0</td>\n",
              "      <td>0</td>\n",
              "      <td>0</td>\n",
              "      <td>0</td>\n",
              "      <td>0</td>\n",
              "      <td>...</td>\n",
              "      <td>0</td>\n",
              "      <td>0</td>\n",
              "      <td>0</td>\n",
              "      <td>0</td>\n",
              "      <td>0</td>\n",
              "      <td>0</td>\n",
              "      <td>0</td>\n",
              "      <td>0</td>\n",
              "      <td>0</td>\n",
              "      <td>1</td>\n",
              "      <td>0</td>\n",
              "      <td>0</td>\n",
              "      <td>0</td>\n",
              "      <td>0</td>\n",
              "      <td>0</td>\n",
              "      <td>0</td>\n",
              "      <td>0</td>\n",
              "      <td>0</td>\n",
              "      <td>0</td>\n",
              "      <td>0</td>\n",
              "      <td>0</td>\n",
              "      <td>0</td>\n",
              "      <td>0</td>\n",
              "      <td>0</td>\n",
              "      <td>0</td>\n",
              "      <td>0</td>\n",
              "      <td>0</td>\n",
              "      <td>0</td>\n",
              "      <td>0</td>\n",
              "      <td>0</td>\n",
              "      <td>0</td>\n",
              "      <td>1</td>\n",
              "      <td>0</td>\n",
              "      <td>0</td>\n",
              "      <td>0</td>\n",
              "      <td>0</td>\n",
              "      <td>0</td>\n",
              "      <td>0</td>\n",
              "      <td>930.0</td>\n",
              "      <td>165.0</td>\n",
              "    </tr>\n",
              "    <tr>\n",
              "      <th>162322</th>\n",
              "      <td>63.7</td>\n",
              "      <td>25.6</td>\n",
              "      <td>15.0</td>\n",
              "      <td>1.0</td>\n",
              "      <td>0</td>\n",
              "      <td>0</td>\n",
              "      <td>0</td>\n",
              "      <td>0</td>\n",
              "      <td>0</td>\n",
              "      <td>0</td>\n",
              "      <td>0</td>\n",
              "      <td>0</td>\n",
              "      <td>1</td>\n",
              "      <td>0</td>\n",
              "      <td>0</td>\n",
              "      <td>0</td>\n",
              "      <td>0</td>\n",
              "      <td>0</td>\n",
              "      <td>0</td>\n",
              "      <td>0</td>\n",
              "      <td>0</td>\n",
              "      <td>0</td>\n",
              "      <td>0</td>\n",
              "      <td>0</td>\n",
              "      <td>0</td>\n",
              "      <td>0</td>\n",
              "      <td>0</td>\n",
              "      <td>0</td>\n",
              "      <td>0</td>\n",
              "      <td>0</td>\n",
              "      <td>0</td>\n",
              "      <td>0</td>\n",
              "      <td>0</td>\n",
              "      <td>0</td>\n",
              "      <td>0</td>\n",
              "      <td>0</td>\n",
              "      <td>0</td>\n",
              "      <td>0</td>\n",
              "      <td>0</td>\n",
              "      <td>0</td>\n",
              "      <td>...</td>\n",
              "      <td>0</td>\n",
              "      <td>0</td>\n",
              "      <td>0</td>\n",
              "      <td>0</td>\n",
              "      <td>0</td>\n",
              "      <td>0</td>\n",
              "      <td>0</td>\n",
              "      <td>0</td>\n",
              "      <td>0</td>\n",
              "      <td>0</td>\n",
              "      <td>0</td>\n",
              "      <td>0</td>\n",
              "      <td>1</td>\n",
              "      <td>0</td>\n",
              "      <td>0</td>\n",
              "      <td>0</td>\n",
              "      <td>0</td>\n",
              "      <td>0</td>\n",
              "      <td>0</td>\n",
              "      <td>0</td>\n",
              "      <td>0</td>\n",
              "      <td>0</td>\n",
              "      <td>0</td>\n",
              "      <td>0</td>\n",
              "      <td>0</td>\n",
              "      <td>0</td>\n",
              "      <td>0</td>\n",
              "      <td>0</td>\n",
              "      <td>0</td>\n",
              "      <td>0</td>\n",
              "      <td>0</td>\n",
              "      <td>0</td>\n",
              "      <td>1</td>\n",
              "      <td>0</td>\n",
              "      <td>0</td>\n",
              "      <td>0</td>\n",
              "      <td>0</td>\n",
              "      <td>0</td>\n",
              "      <td>696.0</td>\n",
              "      <td>345.0</td>\n",
              "    </tr>\n",
              "    <tr>\n",
              "      <th>162324</th>\n",
              "      <td>11.4</td>\n",
              "      <td>20.7</td>\n",
              "      <td>18.0</td>\n",
              "      <td>8.0</td>\n",
              "      <td>0</td>\n",
              "      <td>0</td>\n",
              "      <td>0</td>\n",
              "      <td>0</td>\n",
              "      <td>0</td>\n",
              "      <td>0</td>\n",
              "      <td>0</td>\n",
              "      <td>0</td>\n",
              "      <td>0</td>\n",
              "      <td>0</td>\n",
              "      <td>0</td>\n",
              "      <td>0</td>\n",
              "      <td>0</td>\n",
              "      <td>0</td>\n",
              "      <td>0</td>\n",
              "      <td>0</td>\n",
              "      <td>0</td>\n",
              "      <td>0</td>\n",
              "      <td>0</td>\n",
              "      <td>0</td>\n",
              "      <td>0</td>\n",
              "      <td>0</td>\n",
              "      <td>0</td>\n",
              "      <td>1</td>\n",
              "      <td>0</td>\n",
              "      <td>0</td>\n",
              "      <td>0</td>\n",
              "      <td>0</td>\n",
              "      <td>0</td>\n",
              "      <td>0</td>\n",
              "      <td>0</td>\n",
              "      <td>0</td>\n",
              "      <td>0</td>\n",
              "      <td>0</td>\n",
              "      <td>0</td>\n",
              "      <td>0</td>\n",
              "      <td>...</td>\n",
              "      <td>0</td>\n",
              "      <td>0</td>\n",
              "      <td>0</td>\n",
              "      <td>0</td>\n",
              "      <td>0</td>\n",
              "      <td>0</td>\n",
              "      <td>0</td>\n",
              "      <td>0</td>\n",
              "      <td>0</td>\n",
              "      <td>0</td>\n",
              "      <td>0</td>\n",
              "      <td>0</td>\n",
              "      <td>0</td>\n",
              "      <td>1</td>\n",
              "      <td>0</td>\n",
              "      <td>0</td>\n",
              "      <td>0</td>\n",
              "      <td>0</td>\n",
              "      <td>0</td>\n",
              "      <td>0</td>\n",
              "      <td>0</td>\n",
              "      <td>0</td>\n",
              "      <td>0</td>\n",
              "      <td>0</td>\n",
              "      <td>0</td>\n",
              "      <td>0</td>\n",
              "      <td>0</td>\n",
              "      <td>0</td>\n",
              "      <td>0</td>\n",
              "      <td>0</td>\n",
              "      <td>0</td>\n",
              "      <td>0</td>\n",
              "      <td>1</td>\n",
              "      <td>0</td>\n",
              "      <td>0</td>\n",
              "      <td>0</td>\n",
              "      <td>0</td>\n",
              "      <td>0</td>\n",
              "      <td>678.0</td>\n",
              "      <td>63.0</td>\n",
              "    </tr>\n",
              "  </tbody>\n",
              "</table>\n",
              "<p>155617 rows × 123 columns</p>\n",
              "</div>"
            ],
            "text/plain": [
              "         마킹길이   절단길이  철판두께  절단갯수  철판재질_9NI       ...  92  96  97    절단시간   마킹시간\n",
              "0        46.0   21.9  30.0   1.0              0  ...   0   0   0   827.0  194.0\n",
              "1        33.9  111.8  12.0  46.0              0  ...   0   0   0  2906.0  324.0\n",
              "2        49.5   33.5  13.0   2.0              0  ...   0   0   0  1003.0  241.0\n",
              "3        75.7  174.9  13.0  35.0              0  ...   0   0   0  4412.0  483.0\n",
              "4        66.5   66.6  13.0   7.0              0  ...   0   0   0  1601.0  331.0\n",
              "...       ...    ...   ...   ...            ...  ...  ..  ..  ..     ...    ...\n",
              "162319   75.2  124.0  16.0  33.0              0  ...   0   0   0  3077.0  464.0\n",
              "162320  139.8  162.0  19.0  31.0              0  ...   0   0   0  2899.0  827.0\n",
              "162321   18.5   28.9  16.0  56.0              0  ...   0   0   0   930.0  165.0\n",
              "162322   63.7   25.6  15.0   1.0              0  ...   0   0   0   696.0  345.0\n",
              "162324   11.4   20.7  18.0   8.0              0  ...   0   0   0   678.0   63.0\n",
              "\n",
              "[155617 rows x 123 columns]"
            ]
          },
          "metadata": {
            "tags": []
          },
          "execution_count": 44
        }
      ]
    },
    {
      "cell_type": "markdown",
      "metadata": {
        "id": "Fik-xR1Z0lOk"
      },
      "source": [
        "### 모델링을 위한 변수할당 "
      ]
    },
    {
      "cell_type": "code",
      "metadata": {
        "id": "JjJyCtNe0lOq"
      },
      "source": [
        "# 마킹시간 예측\r\n",
        "y1 = Data['마킹시간'].values\r\n",
        "x1 = Data.drop(['절단시간','마킹시간'], axis=1) # 원하는 항목 지워서 x 넣기\r\n",
        "# 절단시간 예측\r\n",
        "y2 = Data['절단시간'].values\r\n",
        "x2 = Data.drop(['절단시간','마킹시간'], axis=1)"
      ],
      "execution_count": null,
      "outputs": []
    },
    {
      "cell_type": "code",
      "metadata": {
        "id": "guVTqbGM0lOr"
      },
      "source": [
        "from sklearn.model_selection import train_test_split\r\n",
        "X_train1, X_test1, y_train1, y_test1 = train_test_split(x1,y1)\r\n",
        "from sklearn.model_selection import train_test_split\r\n",
        "X_train2, X_test2, y_train2, y_test2 = train_test_split(x2,y2)"
      ],
      "execution_count": null,
      "outputs": []
    },
    {
      "cell_type": "code",
      "metadata": {
        "colab": {
          "base_uri": "https://localhost:8080/"
        },
        "id": "BLAsc7gg0lOr",
        "outputId": "2bab91f7-9bc7-49d3-e7ab-dba5c714f524"
      },
      "source": [
        "print(X_train1.shape)\r\n",
        "print(X_test1.shape)\r\n",
        "print(y_train1.shape)"
      ],
      "execution_count": null,
      "outputs": [
        {
          "output_type": "stream",
          "text": [
            "(116712, 121)\n",
            "(38905, 121)\n",
            "(116712,)\n"
          ],
          "name": "stdout"
        }
      ]
    },
    {
      "cell_type": "markdown",
      "metadata": {
        "id": "HTcD2grbWITY"
      },
      "source": [
        "# 2. 스케줄링 "
      ]
    },
    {
      "cell_type": "markdown",
      "metadata": {
        "id": "NdmbP8IQgIf3"
      },
      "source": [
        "## 교수님 답변 "
      ]
    },
    {
      "cell_type": "markdown",
      "metadata": {
        "id": "66G56tujWKcO"
      },
      "source": [
        "![한상곤 교수님.PNG](data:image/png;base64,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)"
      ]
    },
    {
      "cell_type": "markdown",
      "metadata": {
        "id": "QytKuB2pWa6s"
      },
      "source": [
        "![배혜림.PNG](data:image/png;base64,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)"
      ]
    },
    {
      "cell_type": "markdown",
      "metadata": {
        "id": "j7HJS7UjWdOm"
      },
      "source": [
        "> * 혹시나 예의없어 보이진 않을까 정말 많이 고심해서 메일을 나름 잘 적어봤는데 두분 교수님 모두 정말정말 긍정적이게 답변을 주셨습니다.\r\n",
        "* 한상곤 교수님께서는, 제한요소를 고려한 스케줄링 이란점에서 **'유전 알고리즘'**을 소개해주셨습니다.\r\n",
        "* 배혜림 교수님께서는, 정말 감사하게도 직접 연구실에 찾아오게 해주셨습니다. 가서 2번문제뿐 아니라 **1번문제에 대해서도** 보여드리면서 검토를 받게된다면 정말 좋을 것 같습니다."
      ]
    },
    {
      "cell_type": "markdown",
      "metadata": {
        "id": "RNPVKK6sXAig"
      },
      "source": [
        "## 작업장과 절단장비가 어느정도 주어진 건 아닐까?"
      ]
    },
    {
      "cell_type": "code",
      "metadata": {
        "colab": {
          "base_uri": "https://localhost:8080/"
        },
        "id": "_nc8lR14YBI2",
        "outputId": "dec9b7bc-16d0-49af-9094-e4afe8d923c4"
      },
      "source": [
        "data.작업장 = data.작업장.astype(float)\r\n",
        "print(data['작업장'].unique())"
      ],
      "execution_count": null,
      "outputs": [
        {
          "output_type": "stream",
          "text": [
            "[23. 22. 27. 26. 25. 21. 96. 97. 92. 91. 24. 14.]\n"
          ],
          "name": "stdout"
        },
        {
          "output_type": "stream",
          "text": [
            "/usr/local/lib/python3.6/dist-packages/pandas/core/generic.py:5170: SettingWithCopyWarning: \n",
            "A value is trying to be set on a copy of a slice from a DataFrame.\n",
            "Try using .loc[row_indexer,col_indexer] = value instead\n",
            "\n",
            "See the caveats in the documentation: https://pandas.pydata.org/pandas-docs/stable/user_guide/indexing.html#returning-a-view-versus-a-copy\n",
            "  self[name] = value\n"
          ],
          "name": "stderr"
        }
      ]
    },
    {
      "cell_type": "markdown",
      "metadata": {
        "id": "x00XZm9Pl6nZ"
      },
      "source": [
        "### 작업장과 절단장비의 빈도분석 "
      ]
    },
    {
      "cell_type": "code",
      "metadata": {
        "id": "SaGvlSOBc6ht"
      },
      "source": [
        "def bar_plot(x): \r\n",
        "  var = data[x]\r\n",
        "  var_value = var.value_counts()\r\n",
        "  plt.figure(figsize=(50,10))\r\n",
        "  plt.bar(var_value.index, var_value)\r\n",
        "  plt.xticks(var_value.index, var_value.index.values)\r\n",
        "  plt.ylabel(\"빈도\")\r\n",
        "  plt.title(x)\r\n",
        "  plt.show()"
      ],
      "execution_count": null,
      "outputs": []
    },
    {
      "cell_type": "code",
      "metadata": {
        "colab": {
          "base_uri": "https://localhost:8080/",
          "height": 547
        },
        "id": "WaaQIzOtfPwc",
        "outputId": "3cc1a68e-14bb-4a22-bb2e-957db11b7dc0"
      },
      "source": [
        "category = [\"작업장\", \"절단장비\"] \r\n",
        "for c in category:\r\n",
        "  bar_plot(c) # 그림 클릭하면 확대가 된다."
      ],
      "execution_count": null,
      "outputs": [
        {
          "output_type": "display_data",
          "data": {
            "image/png": "[encoded data removed]",
            "text/plain": [
              "<Figure size 3600x720 with 1 Axes>"
            ]
          },
          "metadata": {
            "tags": [],
            "needs_background": "light"
          }
        },
        {
          "output_type": "display_data",
          "data": {
            "image/png": "[encoded data removed]",
            "text/plain": [
              "<Figure size 3600x720 with 1 Axes>"
            ]
          },
          "metadata": {
            "tags": [],
            "needs_background": "light"
          }
        }
      ]
    },
    {
      "cell_type": "markdown",
      "metadata": {
        "id": "b3X6s3o7l-x6"
      },
      "source": [
        "### 연관관계 파악 "
      ]
    },
    {
      "cell_type": "code",
      "metadata": {
        "colab": {
          "base_uri": "https://localhost:8080/"
        },
        "id": "m_pR4ng2XJkN",
        "outputId": "1722434e-dc37-4f8a-e407-2eeee129be8d"
      },
      "source": [
        "pd.set_option('display.max_rows', 100)\r\n",
        "\r\n",
        "workplace = (data['작업장'] == 14)\r\n",
        "data14 = data.loc[workplace, '절단장비']\r\n",
        "print(data14)"
      ],
      "execution_count": null,
      "outputs": [
        {
          "output_type": "stream",
          "text": [
            "286       PL142\n",
            "287       PL141\n",
            "516       PL141\n",
            "517       PL141\n",
            "518       PL142\n",
            "          ...  \n",
            "162274    PL142\n",
            "162275    PL142\n",
            "162276    PL142\n",
            "162300    PL142\n",
            "162301    PL142\n",
            "Name: 절단장비, Length: 14500, dtype: object\n"
          ],
          "name": "stdout"
        }
      ]
    },
    {
      "cell_type": "code",
      "metadata": {
        "colab": {
          "base_uri": "https://localhost:8080/"
        },
        "id": "kGlA1n1lccei",
        "outputId": "711d3ea5-3846-41eb-8fd5-b3e53c252913"
      },
      "source": [
        "workplace = (data['작업장'] == 21)\r\n",
        "data21 = data.loc[workplace, '절단장비']\r\n",
        "print(data21)"
      ],
      "execution_count": null,
      "outputs": [
        {
          "output_type": "stream",
          "text": [
            "59        PL212\n",
            "60        PS213\n",
            "61        PL212\n",
            "62        PS213\n",
            "63        PL212\n",
            "          ...  \n",
            "162149    PS213\n",
            "162150    PS213\n",
            "162151    PS213\n",
            "162251    PL212\n",
            "162302    PS213\n",
            "Name: 절단장비, Length: 12131, dtype: object\n"
          ],
          "name": "stdout"
        }
      ]
    },
    {
      "cell_type": "code",
      "metadata": {
        "colab": {
          "base_uri": "https://localhost:8080/"
        },
        "id": "HSjCl2LgfWxR",
        "outputId": "18fc9f20-7929-45e8-eac4-95b2786a8dc6"
      },
      "source": [
        "workplace = (data['작업장'] == 96)\r\n",
        "data96 = data.loc[workplace, '절단장비']\r\n",
        "print(data96)"
      ],
      "execution_count": null,
      "outputs": [
        {
          "output_type": "stream",
          "text": [
            "98        PS963\n",
            "99        PS963\n",
            "100       PS963\n",
            "102       PS963\n",
            "105       PS963\n",
            "          ...  \n",
            "162214    PL961\n",
            "162217    PL961\n",
            "162252    PL961\n",
            "162254    PL961\n",
            "162305    PL961\n",
            "Name: 절단장비, Length: 7022, dtype: object\n"
          ],
          "name": "stdout"
        }
      ]
    },
    {
      "cell_type": "code",
      "metadata": {
        "colab": {
          "base_uri": "https://localhost:8080/"
        },
        "id": "WB1xK6Y3fcxR",
        "outputId": "b3045140-a1f3-493e-9dff-0b73a60d7782"
      },
      "source": [
        "workplace = (data['작업장'] == 97)\r\n",
        "data97 = data.loc[workplace, '절단장비']\r\n",
        "print(data97)"
      ],
      "execution_count": null,
      "outputs": [
        {
          "output_type": "stream",
          "text": [
            "101       PL974\n",
            "103       PL973\n",
            "104       PL973\n",
            "106       PL973\n",
            "107       PL973\n",
            "          ...  \n",
            "162257    PL973\n",
            "162306    PL973\n",
            "162307    PL973\n",
            "162308    PL974\n",
            "162309    PL974\n",
            "Name: 절단장비, Length: 9364, dtype: object\n"
          ],
          "name": "stdout"
        }
      ]
    },
    {
      "cell_type": "code",
      "metadata": {
        "colab": {
          "base_uri": "https://localhost:8080/"
        },
        "id": "T3ppwHlKkdzL",
        "outputId": "6f826366-52e5-4a7a-be2e-a1ee2a6da8d0"
      },
      "source": [
        "\r\n",
        "\r\n",
        "cutter_dict = {'14작업장 :' : '141, 142',\r\n",
        "'21작업장 :' : '211, 212, 213(ps)',\r\n",
        "'22작업장 :' : '221, 223, 224',\r\n",
        "'23작업장 :' : '231, 233, 234',\r\n",
        "'24작업장 :' : '241, 242, 243(ps)',\r\n",
        "'25작업장 :' : '252, 253, 254',\r\n",
        "'26작업장 :' : '261, 262',\r\n",
        "'27작업장 :' : '271, 272, 273', \r\n",
        "'91작업장 :' : '911',\r\n",
        "'92작업장 :' : '921, 922',\r\n",
        "'96작업장 :' : '961, 963(ps)',\r\n",
        "'97작업장 :' : '973, 974'}\r\n",
        "\r\n",
        "cutter = pd.Series(cutter_dict)\r\n",
        "\r\n",
        "summary = pd.DataFrame({'사용된 절단장비 종류':cutter})\r\n",
        "\r\n",
        "print(summary)"
      ],
      "execution_count": null,
      "outputs": [
        {
          "output_type": "stream",
          "text": [
            "               사용된 절단장비 종류\n",
            "14작업장 :           141, 142\n",
            "21작업장 :  211, 212, 213(ps)\n",
            "22작업장 :      221, 223, 224\n",
            "23작업장 :      231, 233, 234\n",
            "24작업장 :  241, 242, 243(ps)\n",
            "25작업장 :      252, 253, 254\n",
            "26작업장 :           261, 262\n",
            "27작업장 :      271, 272, 273\n",
            "91작업장 :                911\n",
            "92작업장 :           921, 922\n",
            "96작업장 :       961, 963(ps)\n",
            "97작업장 :           973, 974\n"
          ],
          "name": "stdout"
        }
      ]
    },
    {
      "cell_type": "markdown",
      "metadata": {
        "id": "rPgu8IIzmCe0"
      },
      "source": [
        "> * **절단장비의 앞 두자리가 작업장 명칭에 따라가는 것을** 알수있었습니다.\r\n",
        "* 대부분 PL로 시작하는 장비가 사용되었지만, **213번 243번 963번에 한해서는 PS**로 시작되었습니다\r\n",
        "* 작업장 별로 사용되는 절단장비의 종류의 수가 일정하진 않았습니다. "
      ]
    },
    {
      "cell_type": "markdown",
      "metadata": {
        "id": "ZE9PeKtGmwLC"
      },
      "source": [
        "### 왜 특정3가지 장비만 PS로 시작할까?\r\n",
        "* 혹시 특정상황에 있어서 PS로 시작하는 장비가 가용되는 것은 아닐까, 하는 의문을 갖고 편상관분석을 진행해보았습니다."
      ]
    },
    {
      "cell_type": "code",
      "metadata": {
        "colab": {
          "base_uri": "https://localhost:8080/",
          "height": 252
        },
        "id": "u_9LS70Pm5zM",
        "outputId": "da13b18b-c433-4c2b-f3a2-6de902213674"
      },
      "source": [
        "# 전처리를 마친 전체데이터의 상관정도\r\n",
        "col = ['마킹길이','절단길이','철판두께','절단갯수','마킹시간','절단시간']\r\n",
        "total_data = data.loc[:,col]\r\n",
        "total_data.corr(method = 'pearson')"
      ],
      "execution_count": null,
      "outputs": [
        {
          "output_type": "execute_result",
          "data": {
            "text/html": [
              "<div>\n",
              "<style scoped>\n",
              "    .dataframe tbody tr th:only-of-type {\n",
              "        vertical-align: middle;\n",
              "    }\n",
              "\n",
              "    .dataframe tbody tr th {\n",
              "        vertical-align: top;\n",
              "    }\n",
              "\n",
              "    .dataframe thead th {\n",
              "        text-align: right;\n",
              "    }\n",
              "</style>\n",
              "<table border=\"1\" class=\"dataframe\">\n",
              "  <thead>\n",
              "    <tr style=\"text-align: right;\">\n",
              "      <th></th>\n",
              "      <th>마킹길이</th>\n",
              "      <th>절단길이</th>\n",
              "      <th>철판두께</th>\n",
              "      <th>절단갯수</th>\n",
              "      <th>마킹시간</th>\n",
              "      <th>절단시간</th>\n",
              "    </tr>\n",
              "    <tr>\n",
              "      <th>0</th>\n",
              "      <th></th>\n",
              "      <th></th>\n",
              "      <th></th>\n",
              "      <th></th>\n",
              "      <th></th>\n",
              "      <th></th>\n",
              "    </tr>\n",
              "  </thead>\n",
              "  <tbody>\n",
              "    <tr>\n",
              "      <th>마킹길이</th>\n",
              "      <td>1.000000</td>\n",
              "      <td>0.073936</td>\n",
              "      <td>0.042371</td>\n",
              "      <td>-0.170775</td>\n",
              "      <td>0.389027</td>\n",
              "      <td>0.065831</td>\n",
              "    </tr>\n",
              "    <tr>\n",
              "      <th>절단길이</th>\n",
              "      <td>0.073936</td>\n",
              "      <td>1.000000</td>\n",
              "      <td>-0.261160</td>\n",
              "      <td>0.653767</td>\n",
              "      <td>0.200778</td>\n",
              "      <td>0.890866</td>\n",
              "    </tr>\n",
              "    <tr>\n",
              "      <th>철판두께</th>\n",
              "      <td>0.042371</td>\n",
              "      <td>-0.261160</td>\n",
              "      <td>1.000000</td>\n",
              "      <td>-0.300523</td>\n",
              "      <td>-0.050706</td>\n",
              "      <td>-0.034957</td>\n",
              "    </tr>\n",
              "    <tr>\n",
              "      <th>절단갯수</th>\n",
              "      <td>-0.170775</td>\n",
              "      <td>0.653767</td>\n",
              "      <td>-0.300523</td>\n",
              "      <td>1.000000</td>\n",
              "      <td>0.045467</td>\n",
              "      <td>0.586400</td>\n",
              "    </tr>\n",
              "    <tr>\n",
              "      <th>마킹시간</th>\n",
              "      <td>0.389027</td>\n",
              "      <td>0.200778</td>\n",
              "      <td>-0.050706</td>\n",
              "      <td>0.045467</td>\n",
              "      <td>1.000000</td>\n",
              "      <td>0.252896</td>\n",
              "    </tr>\n",
              "    <tr>\n",
              "      <th>절단시간</th>\n",
              "      <td>0.065831</td>\n",
              "      <td>0.890866</td>\n",
              "      <td>-0.034957</td>\n",
              "      <td>0.586400</td>\n",
              "      <td>0.252896</td>\n",
              "      <td>1.000000</td>\n",
              "    </tr>\n",
              "  </tbody>\n",
              "</table>\n",
              "</div>"
            ],
            "text/plain": [
              "0         마킹길이      절단길이      철판두께      절단갯수      마킹시간      절단시간\n",
              "0                                                               \n",
              "마킹길이  1.000000  0.073936  0.042371 -0.170775  0.389027  0.065831\n",
              "절단길이  0.073936  1.000000 -0.261160  0.653767  0.200778  0.890866\n",
              "철판두께  0.042371 -0.261160  1.000000 -0.300523 -0.050706 -0.034957\n",
              "절단갯수 -0.170775  0.653767 -0.300523  1.000000  0.045467  0.586400\n",
              "마킹시간  0.389027  0.200778 -0.050706  0.045467  1.000000  0.252896\n",
              "절단시간  0.065831  0.890866 -0.034957  0.586400  0.252896  1.000000"
            ]
          },
          "metadata": {
            "tags": []
          },
          "execution_count": 56
        }
      ]
    },
    {
      "cell_type": "markdown",
      "metadata": {
        "id": "yGstLnjxnNwx"
      },
      "source": [
        "#### 213번 절단장비를 사용한경우 "
      ]
    },
    {
      "cell_type": "code",
      "metadata": {
        "colab": {
          "base_uri": "https://localhost:8080/",
          "height": 252
        },
        "id": "aoXbjcR-nRjE",
        "outputId": "37e6245f-ee19-4fac-909f-8f7a6d6579a3"
      },
      "source": [
        "row = (data['절단장비'] == 'PS213')\r\n",
        "col = ['마킹길이','절단길이','철판두께','절단갯수','마킹시간','절단시간']\r\n",
        "data213 = data.loc[row, col]\r\n",
        "data213.corr(method='pearson')"
      ],
      "execution_count": null,
      "outputs": [
        {
          "output_type": "execute_result",
          "data": {
            "text/html": [
              "<div>\n",
              "<style scoped>\n",
              "    .dataframe tbody tr th:only-of-type {\n",
              "        vertical-align: middle;\n",
              "    }\n",
              "\n",
              "    .dataframe tbody tr th {\n",
              "        vertical-align: top;\n",
              "    }\n",
              "\n",
              "    .dataframe thead th {\n",
              "        text-align: right;\n",
              "    }\n",
              "</style>\n",
              "<table border=\"1\" class=\"dataframe\">\n",
              "  <thead>\n",
              "    <tr style=\"text-align: right;\">\n",
              "      <th></th>\n",
              "      <th>마킹길이</th>\n",
              "      <th>절단길이</th>\n",
              "      <th>철판두께</th>\n",
              "      <th>절단갯수</th>\n",
              "      <th>마킹시간</th>\n",
              "      <th>절단시간</th>\n",
              "    </tr>\n",
              "    <tr>\n",
              "      <th>0</th>\n",
              "      <th></th>\n",
              "      <th></th>\n",
              "      <th></th>\n",
              "      <th></th>\n",
              "      <th></th>\n",
              "      <th></th>\n",
              "    </tr>\n",
              "  </thead>\n",
              "  <tbody>\n",
              "    <tr>\n",
              "      <th>마킹길이</th>\n",
              "      <td>1.000000</td>\n",
              "      <td>0.124847</td>\n",
              "      <td>0.009500</td>\n",
              "      <td>-0.128991</td>\n",
              "      <td>0.589475</td>\n",
              "      <td>0.091594</td>\n",
              "    </tr>\n",
              "    <tr>\n",
              "      <th>절단길이</th>\n",
              "      <td>0.124847</td>\n",
              "      <td>1.000000</td>\n",
              "      <td>-0.235630</td>\n",
              "      <td>0.800025</td>\n",
              "      <td>0.404673</td>\n",
              "      <td>0.924568</td>\n",
              "    </tr>\n",
              "    <tr>\n",
              "      <th>철판두께</th>\n",
              "      <td>0.009500</td>\n",
              "      <td>-0.235630</td>\n",
              "      <td>1.000000</td>\n",
              "      <td>-0.243708</td>\n",
              "      <td>-0.067448</td>\n",
              "      <td>0.035154</td>\n",
              "    </tr>\n",
              "    <tr>\n",
              "      <th>절단갯수</th>\n",
              "      <td>-0.128991</td>\n",
              "      <td>0.800025</td>\n",
              "      <td>-0.243708</td>\n",
              "      <td>1.000000</td>\n",
              "      <td>0.176514</td>\n",
              "      <td>0.767347</td>\n",
              "    </tr>\n",
              "    <tr>\n",
              "      <th>마킹시간</th>\n",
              "      <td>0.589475</td>\n",
              "      <td>0.404673</td>\n",
              "      <td>-0.067448</td>\n",
              "      <td>0.176514</td>\n",
              "      <td>1.000000</td>\n",
              "      <td>0.374764</td>\n",
              "    </tr>\n",
              "    <tr>\n",
              "      <th>절단시간</th>\n",
              "      <td>0.091594</td>\n",
              "      <td>0.924568</td>\n",
              "      <td>0.035154</td>\n",
              "      <td>0.767347</td>\n",
              "      <td>0.374764</td>\n",
              "      <td>1.000000</td>\n",
              "    </tr>\n",
              "  </tbody>\n",
              "</table>\n",
              "</div>"
            ],
            "text/plain": [
              "0         마킹길이      절단길이      철판두께      절단갯수      마킹시간      절단시간\n",
              "0                                                               \n",
              "마킹길이  1.000000  0.124847  0.009500 -0.128991  0.589475  0.091594\n",
              "절단길이  0.124847  1.000000 -0.235630  0.800025  0.404673  0.924568\n",
              "철판두께  0.009500 -0.235630  1.000000 -0.243708 -0.067448  0.035154\n",
              "절단갯수 -0.128991  0.800025 -0.243708  1.000000  0.176514  0.767347\n",
              "마킹시간  0.589475  0.404673 -0.067448  0.176514  1.000000  0.374764\n",
              "절단시간  0.091594  0.924568  0.035154  0.767347  0.374764  1.000000"
            ]
          },
          "metadata": {
            "tags": []
          },
          "execution_count": 57
        }
      ]
    },
    {
      "cell_type": "markdown",
      "metadata": {
        "id": "MoofbJfRozr_"
      },
      "source": [
        "#### 243번 절단장비를 사용한경우"
      ]
    },
    {
      "cell_type": "code",
      "metadata": {
        "colab": {
          "base_uri": "https://localhost:8080/",
          "height": 252
        },
        "id": "AiJi1BK1o3aZ",
        "outputId": "592a5808-fe23-4198-c042-e251b595e9b4"
      },
      "source": [
        "row = (data['절단장비'] == 'PS243')\r\n",
        "col = ['마킹길이','절단길이','철판두께','절단갯수','마킹시간','절단시간']\r\n",
        "data243 = data.loc[row, col]\r\n",
        "data243.corr(method='pearson')"
      ],
      "execution_count": null,
      "outputs": [
        {
          "output_type": "execute_result",
          "data": {
            "text/html": [
              "<div>\n",
              "<style scoped>\n",
              "    .dataframe tbody tr th:only-of-type {\n",
              "        vertical-align: middle;\n",
              "    }\n",
              "\n",
              "    .dataframe tbody tr th {\n",
              "        vertical-align: top;\n",
              "    }\n",
              "\n",
              "    .dataframe thead th {\n",
              "        text-align: right;\n",
              "    }\n",
              "</style>\n",
              "<table border=\"1\" class=\"dataframe\">\n",
              "  <thead>\n",
              "    <tr style=\"text-align: right;\">\n",
              "      <th></th>\n",
              "      <th>마킹길이</th>\n",
              "      <th>절단길이</th>\n",
              "      <th>철판두께</th>\n",
              "      <th>절단갯수</th>\n",
              "      <th>마킹시간</th>\n",
              "      <th>절단시간</th>\n",
              "    </tr>\n",
              "    <tr>\n",
              "      <th>0</th>\n",
              "      <th></th>\n",
              "      <th></th>\n",
              "      <th></th>\n",
              "      <th></th>\n",
              "      <th></th>\n",
              "      <th></th>\n",
              "    </tr>\n",
              "  </thead>\n",
              "  <tbody>\n",
              "    <tr>\n",
              "      <th>마킹길이</th>\n",
              "      <td>1.000000</td>\n",
              "      <td>0.146455</td>\n",
              "      <td>-0.122484</td>\n",
              "      <td>-0.110353</td>\n",
              "      <td>0.610457</td>\n",
              "      <td>0.083068</td>\n",
              "    </tr>\n",
              "    <tr>\n",
              "      <th>절단길이</th>\n",
              "      <td>0.146455</td>\n",
              "      <td>1.000000</td>\n",
              "      <td>-0.211478</td>\n",
              "      <td>0.809672</td>\n",
              "      <td>0.391029</td>\n",
              "      <td>0.883593</td>\n",
              "    </tr>\n",
              "    <tr>\n",
              "      <th>철판두께</th>\n",
              "      <td>-0.122484</td>\n",
              "      <td>-0.211478</td>\n",
              "      <td>1.000000</td>\n",
              "      <td>-0.154884</td>\n",
              "      <td>-0.151917</td>\n",
              "      <td>0.116294</td>\n",
              "    </tr>\n",
              "    <tr>\n",
              "      <th>절단갯수</th>\n",
              "      <td>-0.110353</td>\n",
              "      <td>0.809672</td>\n",
              "      <td>-0.154884</td>\n",
              "      <td>1.000000</td>\n",
              "      <td>0.146902</td>\n",
              "      <td>0.748567</td>\n",
              "    </tr>\n",
              "    <tr>\n",
              "      <th>마킹시간</th>\n",
              "      <td>0.610457</td>\n",
              "      <td>0.391029</td>\n",
              "      <td>-0.151917</td>\n",
              "      <td>0.146902</td>\n",
              "      <td>1.000000</td>\n",
              "      <td>0.330484</td>\n",
              "    </tr>\n",
              "    <tr>\n",
              "      <th>절단시간</th>\n",
              "      <td>0.083068</td>\n",
              "      <td>0.883593</td>\n",
              "      <td>0.116294</td>\n",
              "      <td>0.748567</td>\n",
              "      <td>0.330484</td>\n",
              "      <td>1.000000</td>\n",
              "    </tr>\n",
              "  </tbody>\n",
              "</table>\n",
              "</div>"
            ],
            "text/plain": [
              "0         마킹길이      절단길이      철판두께      절단갯수      마킹시간      절단시간\n",
              "0                                                               \n",
              "마킹길이  1.000000  0.146455 -0.122484 -0.110353  0.610457  0.083068\n",
              "절단길이  0.146455  1.000000 -0.211478  0.809672  0.391029  0.883593\n",
              "철판두께 -0.122484 -0.211478  1.000000 -0.154884 -0.151917  0.116294\n",
              "절단갯수 -0.110353  0.809672 -0.154884  1.000000  0.146902  0.748567\n",
              "마킹시간  0.610457  0.391029 -0.151917  0.146902  1.000000  0.330484\n",
              "절단시간  0.083068  0.883593  0.116294  0.748567  0.330484  1.000000"
            ]
          },
          "metadata": {
            "tags": []
          },
          "execution_count": 58
        }
      ]
    },
    {
      "cell_type": "markdown",
      "metadata": {
        "id": "VAuhEseJo8d7"
      },
      "source": [
        "#### 963번 절단장비를 사용한경우 "
      ]
    },
    {
      "cell_type": "code",
      "metadata": {
        "colab": {
          "base_uri": "https://localhost:8080/",
          "height": 252
        },
        "id": "JL-YjWmXo-6U",
        "outputId": "08f1f94d-20d8-4e64-b9ba-b5f22861da04"
      },
      "source": [
        "row = (data['절단장비'] == 'PS963')\r\n",
        "col = ['마킹길이','절단길이','철판두께','절단갯수','마킹시간','절단시간']\r\n",
        "data963 = data.loc[row, col]\r\n",
        "data963.corr(method='pearson')"
      ],
      "execution_count": null,
      "outputs": [
        {
          "output_type": "execute_result",
          "data": {
            "text/html": [
              "<div>\n",
              "<style scoped>\n",
              "    .dataframe tbody tr th:only-of-type {\n",
              "        vertical-align: middle;\n",
              "    }\n",
              "\n",
              "    .dataframe tbody tr th {\n",
              "        vertical-align: top;\n",
              "    }\n",
              "\n",
              "    .dataframe thead th {\n",
              "        text-align: right;\n",
              "    }\n",
              "</style>\n",
              "<table border=\"1\" class=\"dataframe\">\n",
              "  <thead>\n",
              "    <tr style=\"text-align: right;\">\n",
              "      <th></th>\n",
              "      <th>마킹길이</th>\n",
              "      <th>절단길이</th>\n",
              "      <th>철판두께</th>\n",
              "      <th>절단갯수</th>\n",
              "      <th>마킹시간</th>\n",
              "      <th>절단시간</th>\n",
              "    </tr>\n",
              "    <tr>\n",
              "      <th>0</th>\n",
              "      <th></th>\n",
              "      <th></th>\n",
              "      <th></th>\n",
              "      <th></th>\n",
              "      <th></th>\n",
              "      <th></th>\n",
              "    </tr>\n",
              "  </thead>\n",
              "  <tbody>\n",
              "    <tr>\n",
              "      <th>마킹길이</th>\n",
              "      <td>1.000000</td>\n",
              "      <td>0.392824</td>\n",
              "      <td>-0.302910</td>\n",
              "      <td>0.091634</td>\n",
              "      <td>0.693506</td>\n",
              "      <td>0.284368</td>\n",
              "    </tr>\n",
              "    <tr>\n",
              "      <th>절단길이</th>\n",
              "      <td>0.392824</td>\n",
              "      <td>1.000000</td>\n",
              "      <td>-0.309907</td>\n",
              "      <td>0.788692</td>\n",
              "      <td>0.525974</td>\n",
              "      <td>0.886235</td>\n",
              "    </tr>\n",
              "    <tr>\n",
              "      <th>철판두께</th>\n",
              "      <td>-0.302910</td>\n",
              "      <td>-0.309907</td>\n",
              "      <td>1.000000</td>\n",
              "      <td>-0.278101</td>\n",
              "      <td>-0.220541</td>\n",
              "      <td>0.038046</td>\n",
              "    </tr>\n",
              "    <tr>\n",
              "      <th>절단갯수</th>\n",
              "      <td>0.091634</td>\n",
              "      <td>0.788692</td>\n",
              "      <td>-0.278101</td>\n",
              "      <td>1.000000</td>\n",
              "      <td>0.302651</td>\n",
              "      <td>0.695313</td>\n",
              "    </tr>\n",
              "    <tr>\n",
              "      <th>마킹시간</th>\n",
              "      <td>0.693506</td>\n",
              "      <td>0.525974</td>\n",
              "      <td>-0.220541</td>\n",
              "      <td>0.302651</td>\n",
              "      <td>1.000000</td>\n",
              "      <td>0.464501</td>\n",
              "    </tr>\n",
              "    <tr>\n",
              "      <th>절단시간</th>\n",
              "      <td>0.284368</td>\n",
              "      <td>0.886235</td>\n",
              "      <td>0.038046</td>\n",
              "      <td>0.695313</td>\n",
              "      <td>0.464501</td>\n",
              "      <td>1.000000</td>\n",
              "    </tr>\n",
              "  </tbody>\n",
              "</table>\n",
              "</div>"
            ],
            "text/plain": [
              "0         마킹길이      절단길이      철판두께      절단갯수      마킹시간      절단시간\n",
              "0                                                               \n",
              "마킹길이  1.000000  0.392824 -0.302910  0.091634  0.693506  0.284368\n",
              "절단길이  0.392824  1.000000 -0.309907  0.788692  0.525974  0.886235\n",
              "철판두께 -0.302910 -0.309907  1.000000 -0.278101 -0.220541  0.038046\n",
              "절단갯수  0.091634  0.788692 -0.278101  1.000000  0.302651  0.695313\n",
              "마킹시간  0.693506  0.525974 -0.220541  0.302651  1.000000  0.464501\n",
              "절단시간  0.284368  0.886235  0.038046  0.695313  0.464501  1.000000"
            ]
          },
          "metadata": {
            "tags": []
          },
          "execution_count": 59
        }
      ]
    },
    {
      "cell_type": "markdown",
      "metadata": {
        "id": "VSgkkL_Humtn"
      },
      "source": [
        "#### PS장비를 사용한경우 상관분석 시각화 "
      ]
    },
    {
      "cell_type": "code",
      "metadata": {
        "colab": {
          "base_uri": "https://localhost:8080/",
          "height": 626
        },
        "id": "MIXX-0EdpTJV",
        "outputId": "0bbc7f94-35da-4cf1-c4be-a179015d1e72"
      },
      "source": [
        "import matplotlib.pyplot as plt \r\n",
        "import seaborn as sns    \r\n",
        "#plt.figure(figsize=(10,10))\r\n",
        "'''sns.heatmap(data = total_data.corr(), annot=True, \r\n",
        "fmt = '.2f', linewidths=.5, cmap='Blues',ax=ax1)'''\r\n",
        "\r\n",
        "\r\n",
        "figure, ((ax1,ax2),(ax3,ax4)) = plt.subplots(nrows=2, ncols=2)\r\n",
        "figure.set_size_inches(10,8)\r\n",
        "\r\n",
        "\r\n",
        "sns.heatmap(data = total_data.corr(), annot=True, \r\n",
        "fmt = '.2f', linewidths=.5, cmap='Blues',ax=ax1)\r\n",
        "ax1.set_title('기존 데이터')\r\n",
        "\r\n",
        "sns.heatmap(data = data213.corr(), annot=True, \r\n",
        "fmt = '.2f', linewidths=.5, cmap='Blues',ax=ax2)\r\n",
        "ax2.set_title('PS213 절단장비를 이용한경우')\r\n",
        "\r\n",
        "sns.heatmap(data = data243.corr(), annot=True, \r\n",
        "fmt = '.2f', linewidths=.5, cmap='Blues',ax=ax3)\r\n",
        "ax3.set_title('\\nPS243 절단장비를 이용한경우')\r\n",
        "\r\n",
        "sns.heatmap(data = data963.corr(), annot=True,\r\n",
        "fmt = '.2f', linewidths=.5, cmap='Blues',ax=ax4)\r\n",
        "ax4.set_title('\\nPS963 절단장비를 이용한경우')"
      ],
      "execution_count": null,
      "outputs": [
        {
          "output_type": "stream",
          "text": [
            "/usr/local/lib/python3.6/dist-packages/matplotlib/backends/backend_agg.py:214: RuntimeWarning: Glyph 8722 missing from current font.\n",
            "  font.set_text(s, 0.0, flags=flags)\n",
            "/usr/local/lib/python3.6/dist-packages/matplotlib/backends/backend_agg.py:183: RuntimeWarning: Glyph 8722 missing from current font.\n",
            "  font.set_text(s, 0, flags=flags)\n"
          ],
          "name": "stderr"
        },
        {
          "output_type": "execute_result",
          "data": {
            "text/plain": [
              "Text(0.5, 1.0, '\\nPS963 절단장비를 이용한경우')"
            ]
          },
          "metadata": {
            "tags": []
          },
          "execution_count": 60
        },
        {
          "output_type": "display_data",
          "data": {
            "image/png": "[encoded data removed]",
            "text/plain": [
              "<Figure size 720x576 with 8 Axes>"
            ]
          },
          "metadata": {
            "tags": [],
            "needs_background": "light"
          }
        }
      ]
    },
    {
      "cell_type": "markdown",
      "metadata": {
        "id": "NDXY5e-YxoIR"
      },
      "source": [
        "> * 타겟값 관련해서 거의 모든 지표에서 상관계수가 증가하였다."
      ]
    },
    {
      "cell_type": "markdown",
      "metadata": {
        "id": "9BJtpKXPxy3p"
      },
      "source": [
        "### 사용상황을 추측해보자 "
      ]
    },
    {
      "cell_type": "code",
      "metadata": {
        "colab": {
          "base_uri": "https://localhost:8080/"
        },
        "id": "RVNL--bbwLiy",
        "outputId": "f16db391-1552-4d5a-bb61-9fcd603082e4"
      },
      "source": [
        "print(\"원래 데이터\\n\",total_data.mean())\r\n",
        "print(\"\\nps213장비\\n\",data213.mean())\r\n",
        "print(\"\\nps243장비\\n\",data243.mean())\r\n",
        "print(\"\\nps963장비\\n\",data963.mean())"
      ],
      "execution_count": null,
      "outputs": [
        {
          "output_type": "stream",
          "text": [
            "원래 데이터\n",
            " 0\n",
            "마킹길이      77.529313\n",
            "절단길이      72.214468\n",
            "철판두께      17.463244\n",
            "절단갯수      13.009858\n",
            "마킹시간     442.636203\n",
            "절단시간    2092.968024\n",
            "dtype: float64\n",
            "\n",
            "ps213장비\n",
            " 0\n",
            "마킹길이      60.293705\n",
            "절단길이      85.107700\n",
            "철판두께      16.459736\n",
            "절단갯수      17.879564\n",
            "마킹시간     525.667646\n",
            "절단시간    2484.359211\n",
            "dtype: float64\n",
            "\n",
            "ps243장비\n",
            " 0\n",
            "마킹길이      59.885905\n",
            "절단길이      82.430219\n",
            "철판두께      16.750980\n",
            "절단갯수      16.903576\n",
            "마킹시간     493.344637\n",
            "절단시간    2451.882584\n",
            "dtype: float64\n",
            "\n",
            "ps963장비\n",
            " 0\n",
            "마킹길이      65.814276\n",
            "절단길이      88.752357\n",
            "철판두께      17.240389\n",
            "절단갯수      17.442796\n",
            "마킹시간     566.521925\n",
            "절단시간    2561.276294\n",
            "dtype: float64\n"
          ],
          "name": "stdout"
        }
      ]
    },
    {
      "cell_type": "markdown",
      "metadata": {
        "id": "NJU_iWU2x5YL"
      },
      "source": [
        "> * ps장비를 쓰는경우는 (평균값만 보면) 마킹길이가 짧고, 절단길이가 긴경우에 한해서 쓰지 않을까 하고 추측이 되었다."
      ]
    },
    {
      "cell_type": "markdown",
      "metadata": {
        "id": "o8XHZAaMyRMM"
      },
      "source": [
        "#### 특정값의 특정수치 초과하는 경우에 ps장비를 쓰지않을까 하는 생각으로 추측해보고자, 각 경우의 최소와 최대경우를 확인해보았다. "
      ]
    },
    {
      "cell_type": "code",
      "metadata": {
        "colab": {
          "base_uri": "https://localhost:8080/"
        },
        "id": "21ylrkYfxLZ3",
        "outputId": "652be2f2-1b07-47c4-dd42-216cc018727f"
      },
      "source": [
        "print(total_data.min())\r\n",
        "print(data213.min())\r\n",
        "print(data243.min())\r\n",
        "print(data963.min())"
      ],
      "execution_count": null,
      "outputs": [
        {
          "output_type": "stream",
          "text": [
            "0\n",
            "마킹길이    3.2\n",
            "절단길이    1.1\n",
            "철판두께    6.0\n",
            "절단갯수    1.0\n",
            "마킹시간    1.0\n",
            "절단시간    2.0\n",
            "dtype: float64\n",
            "0\n",
            "마킹길이     5.0\n",
            "절단길이     5.0\n",
            "철판두께     6.0\n",
            "절단갯수     1.0\n",
            "마킹시간     3.0\n",
            "절단시간    24.0\n",
            "dtype: float64\n",
            "0\n",
            "마킹길이      5.0\n",
            "절단길이      4.6\n",
            "철판두께      6.0\n",
            "절단갯수      1.0\n",
            "마킹시간      6.0\n",
            "절단시간    320.0\n",
            "dtype: float64\n",
            "0\n",
            "마킹길이     4.2\n",
            "절단길이     5.9\n",
            "철판두께     6.0\n",
            "절단갯수     1.0\n",
            "마킹시간     4.0\n",
            "절단시간    16.0\n",
            "dtype: float64\n"
          ],
          "name": "stdout"
        }
      ]
    },
    {
      "cell_type": "code",
      "metadata": {
        "colab": {
          "base_uri": "https://localhost:8080/"
        },
        "id": "KSa77LZ8xWCw",
        "outputId": "1a2071b0-6c63-468d-ccbe-b8c201d77863"
      },
      "source": [
        "print(total_data.max())\r\n",
        "print(data213.max())\r\n",
        "print(data243.max())\r\n",
        "print(data963.max())"
      ],
      "execution_count": null,
      "outputs": [
        {
          "output_type": "stream",
          "text": [
            "0\n",
            "마킹길이      524.4\n",
            "절단길이      619.7\n",
            "철판두께       40.0\n",
            "절단갯수      265.0\n",
            "마킹시간    63781.0\n",
            "절단시간     8734.0\n",
            "dtype: float64\n",
            "0\n",
            "마킹길이      313.6\n",
            "절단길이      341.3\n",
            "철판두께       35.5\n",
            "절단갯수      134.0\n",
            "마킹시간    12156.0\n",
            "절단시간     8604.0\n",
            "dtype: float64\n",
            "0\n",
            "마킹길이     315.5\n",
            "절단길이     323.4\n",
            "철판두께      36.0\n",
            "절단갯수     167.0\n",
            "마킹시간    6265.0\n",
            "절단시간    8666.0\n",
            "dtype: float64\n",
            "0\n",
            "마킹길이     241.3\n",
            "절단길이     315.4\n",
            "철판두께      35.0\n",
            "절단갯수     134.0\n",
            "마킹시간    6816.0\n",
            "절단시간    8583.0\n",
            "dtype: float64\n"
          ],
          "name": "stdout"
        }
      ]
    },
    {
      "cell_type": "markdown",
      "metadata": {
        "id": "i0vRpdkJzMj9"
      },
      "source": [
        "> * 이렇다 할 결과를 얻지 못하였다"
      ]
    },
    {
      "cell_type": "markdown",
      "metadata": {
        "id": "jSF3H7o7n0Dy"
      },
      "source": [
        "#### \"마킹길이가 짧고 절단길이가 길다\"\r\n",
        "* 위의 특징을 작업장으로 연결지어서 생각해보았다\r\n",
        "* 혹시나 작업장의 특징으로 연결이 된다면 작업장 배열을 임의적으로 하는것이 아니라, 투입되는 재료에 따라 물리적 배치를 상이하게 하여 배치하는 방법을 제안할 수 있을 것 같았다. "
      ]
    },
    {
      "cell_type": "markdown",
      "metadata": {
        "id": "V_vDPAsnppk0"
      },
      "source": [
        "> ps를 쓰는 작업장은 정해져있으니까 이를 통해 편상관분석을 절단장비가 아닌 작업장 기준으로 다시 해보았습니다. "
      ]
    },
    {
      "cell_type": "code",
      "metadata": {
        "colab": {
          "base_uri": "https://localhost:8080/",
          "height": 252
        },
        "id": "vF4tZnv6oaNU",
        "outputId": "b623ed15-f263-447c-baf0-32511869a429"
      },
      "source": [
        "row = (data['작업장'] == 21) # 총 12,881건 \r\n",
        "col = ['마킹길이','절단길이','철판두께','절단갯수','마킹시간','절단시간']\r\n",
        "data21 = data.loc[row, col]\r\n",
        "data21.corr(method='pearson')"
      ],
      "execution_count": null,
      "outputs": [
        {
          "output_type": "execute_result",
          "data": {
            "text/html": [
              "<div>\n",
              "<style scoped>\n",
              "    .dataframe tbody tr th:only-of-type {\n",
              "        vertical-align: middle;\n",
              "    }\n",
              "\n",
              "    .dataframe tbody tr th {\n",
              "        vertical-align: top;\n",
              "    }\n",
              "\n",
              "    .dataframe thead th {\n",
              "        text-align: right;\n",
              "    }\n",
              "</style>\n",
              "<table border=\"1\" class=\"dataframe\">\n",
              "  <thead>\n",
              "    <tr style=\"text-align: right;\">\n",
              "      <th></th>\n",
              "      <th>마킹길이</th>\n",
              "      <th>절단길이</th>\n",
              "      <th>철판두께</th>\n",
              "      <th>절단갯수</th>\n",
              "      <th>마킹시간</th>\n",
              "      <th>절단시간</th>\n",
              "    </tr>\n",
              "    <tr>\n",
              "      <th>0</th>\n",
              "      <th></th>\n",
              "      <th></th>\n",
              "      <th></th>\n",
              "      <th></th>\n",
              "      <th></th>\n",
              "      <th></th>\n",
              "    </tr>\n",
              "  </thead>\n",
              "  <tbody>\n",
              "    <tr>\n",
              "      <th>마킹길이</th>\n",
              "      <td>1.000000</td>\n",
              "      <td>0.036075</td>\n",
              "      <td>0.070123</td>\n",
              "      <td>-0.173943</td>\n",
              "      <td>0.449069</td>\n",
              "      <td>0.076543</td>\n",
              "    </tr>\n",
              "    <tr>\n",
              "      <th>절단길이</th>\n",
              "      <td>0.036075</td>\n",
              "      <td>1.000000</td>\n",
              "      <td>-0.265568</td>\n",
              "      <td>0.802699</td>\n",
              "      <td>0.264873</td>\n",
              "      <td>0.866272</td>\n",
              "    </tr>\n",
              "    <tr>\n",
              "      <th>철판두께</th>\n",
              "      <td>0.070123</td>\n",
              "      <td>-0.265568</td>\n",
              "      <td>1.000000</td>\n",
              "      <td>-0.267318</td>\n",
              "      <td>-0.058853</td>\n",
              "      <td>0.041992</td>\n",
              "    </tr>\n",
              "    <tr>\n",
              "      <th>절단갯수</th>\n",
              "      <td>-0.173943</td>\n",
              "      <td>0.802699</td>\n",
              "      <td>-0.267318</td>\n",
              "      <td>1.000000</td>\n",
              "      <td>0.102970</td>\n",
              "      <td>0.679645</td>\n",
              "    </tr>\n",
              "    <tr>\n",
              "      <th>마킹시간</th>\n",
              "      <td>0.449069</td>\n",
              "      <td>0.264873</td>\n",
              "      <td>-0.058853</td>\n",
              "      <td>0.102970</td>\n",
              "      <td>1.000000</td>\n",
              "      <td>0.299405</td>\n",
              "    </tr>\n",
              "    <tr>\n",
              "      <th>절단시간</th>\n",
              "      <td>0.076543</td>\n",
              "      <td>0.866272</td>\n",
              "      <td>0.041992</td>\n",
              "      <td>0.679645</td>\n",
              "      <td>0.299405</td>\n",
              "      <td>1.000000</td>\n",
              "    </tr>\n",
              "  </tbody>\n",
              "</table>\n",
              "</div>"
            ],
            "text/plain": [
              "0         마킹길이      절단길이      철판두께      절단갯수      마킹시간      절단시간\n",
              "0                                                               \n",
              "마킹길이  1.000000  0.036075  0.070123 -0.173943  0.449069  0.076543\n",
              "절단길이  0.036075  1.000000 -0.265568  0.802699  0.264873  0.866272\n",
              "철판두께  0.070123 -0.265568  1.000000 -0.267318 -0.058853  0.041992\n",
              "절단갯수 -0.173943  0.802699 -0.267318  1.000000  0.102970  0.679645\n",
              "마킹시간  0.449069  0.264873 -0.058853  0.102970  1.000000  0.299405\n",
              "절단시간  0.076543  0.866272  0.041992  0.679645  0.299405  1.000000"
            ]
          },
          "metadata": {
            "tags": []
          },
          "execution_count": 69
        }
      ]
    },
    {
      "cell_type": "code",
      "metadata": {
        "colab": {
          "base_uri": "https://localhost:8080/",
          "height": 252
        },
        "id": "a5bihnryogxi",
        "outputId": "4c45d6c9-969c-4252-dfeb-62c7d566669a"
      },
      "source": [
        "row = (data['작업장'] == 24) # 13,361건\r\n",
        "col = ['마킹길이','절단길이','철판두께','절단갯수','마킹시간','절단시간']\r\n",
        "data24 = data.loc[row, col]\r\n",
        "data24.corr(method='pearson')"
      ],
      "execution_count": null,
      "outputs": [
        {
          "output_type": "execute_result",
          "data": {
            "text/html": [
              "<div>\n",
              "<style scoped>\n",
              "    .dataframe tbody tr th:only-of-type {\n",
              "        vertical-align: middle;\n",
              "    }\n",
              "\n",
              "    .dataframe tbody tr th {\n",
              "        vertical-align: top;\n",
              "    }\n",
              "\n",
              "    .dataframe thead th {\n",
              "        text-align: right;\n",
              "    }\n",
              "</style>\n",
              "<table border=\"1\" class=\"dataframe\">\n",
              "  <thead>\n",
              "    <tr style=\"text-align: right;\">\n",
              "      <th></th>\n",
              "      <th>마킹길이</th>\n",
              "      <th>절단길이</th>\n",
              "      <th>철판두께</th>\n",
              "      <th>절단갯수</th>\n",
              "      <th>마킹시간</th>\n",
              "      <th>절단시간</th>\n",
              "    </tr>\n",
              "    <tr>\n",
              "      <th>0</th>\n",
              "      <th></th>\n",
              "      <th></th>\n",
              "      <th></th>\n",
              "      <th></th>\n",
              "      <th></th>\n",
              "      <th></th>\n",
              "    </tr>\n",
              "  </thead>\n",
              "  <tbody>\n",
              "    <tr>\n",
              "      <th>마킹길이</th>\n",
              "      <td>1.000000</td>\n",
              "      <td>0.058308</td>\n",
              "      <td>0.050893</td>\n",
              "      <td>-0.146817</td>\n",
              "      <td>0.546852</td>\n",
              "      <td>0.097955</td>\n",
              "    </tr>\n",
              "    <tr>\n",
              "      <th>절단길이</th>\n",
              "      <td>0.058308</td>\n",
              "      <td>1.000000</td>\n",
              "      <td>-0.216831</td>\n",
              "      <td>0.809791</td>\n",
              "      <td>0.305872</td>\n",
              "      <td>0.838234</td>\n",
              "    </tr>\n",
              "    <tr>\n",
              "      <th>철판두께</th>\n",
              "      <td>0.050893</td>\n",
              "      <td>-0.216831</td>\n",
              "      <td>1.000000</td>\n",
              "      <td>-0.208232</td>\n",
              "      <td>-0.073113</td>\n",
              "      <td>0.105503</td>\n",
              "    </tr>\n",
              "    <tr>\n",
              "      <th>절단갯수</th>\n",
              "      <td>-0.146817</td>\n",
              "      <td>0.809791</td>\n",
              "      <td>-0.208232</td>\n",
              "      <td>1.000000</td>\n",
              "      <td>0.120685</td>\n",
              "      <td>0.658265</td>\n",
              "    </tr>\n",
              "    <tr>\n",
              "      <th>마킹시간</th>\n",
              "      <td>0.546852</td>\n",
              "      <td>0.305872</td>\n",
              "      <td>-0.073113</td>\n",
              "      <td>0.120685</td>\n",
              "      <td>1.000000</td>\n",
              "      <td>0.398615</td>\n",
              "    </tr>\n",
              "    <tr>\n",
              "      <th>절단시간</th>\n",
              "      <td>0.097955</td>\n",
              "      <td>0.838234</td>\n",
              "      <td>0.105503</td>\n",
              "      <td>0.658265</td>\n",
              "      <td>0.398615</td>\n",
              "      <td>1.000000</td>\n",
              "    </tr>\n",
              "  </tbody>\n",
              "</table>\n",
              "</div>"
            ],
            "text/plain": [
              "0         마킹길이      절단길이      철판두께      절단갯수      마킹시간      절단시간\n",
              "0                                                               \n",
              "마킹길이  1.000000  0.058308  0.050893 -0.146817  0.546852  0.097955\n",
              "절단길이  0.058308  1.000000 -0.216831  0.809791  0.305872  0.838234\n",
              "철판두께  0.050893 -0.216831  1.000000 -0.208232 -0.073113  0.105503\n",
              "절단갯수 -0.146817  0.809791 -0.208232  1.000000  0.120685  0.658265\n",
              "마킹시간  0.546852  0.305872 -0.073113  0.120685  1.000000  0.398615\n",
              "절단시간  0.097955  0.838234  0.105503  0.658265  0.398615  1.000000"
            ]
          },
          "metadata": {
            "tags": []
          },
          "execution_count": 70
        }
      ]
    },
    {
      "cell_type": "code",
      "metadata": {
        "colab": {
          "base_uri": "https://localhost:8080/",
          "height": 252
        },
        "id": "WrqbG2ZlonBN",
        "outputId": "aff86d9a-11e4-46fb-e5a3-1dc76ca0d59f"
      },
      "source": [
        "row = (data['작업장'] == 96) # 7,467건\r\n",
        "col = ['마킹길이','절단길이','철판두께','절단갯수','마킹시간','절단시간']\r\n",
        "data96 = data.loc[row, col]\r\n",
        "data96.corr(method='pearson')"
      ],
      "execution_count": null,
      "outputs": [
        {
          "output_type": "execute_result",
          "data": {
            "text/html": [
              "<div>\n",
              "<style scoped>\n",
              "    .dataframe tbody tr th:only-of-type {\n",
              "        vertical-align: middle;\n",
              "    }\n",
              "\n",
              "    .dataframe tbody tr th {\n",
              "        vertical-align: top;\n",
              "    }\n",
              "\n",
              "    .dataframe thead th {\n",
              "        text-align: right;\n",
              "    }\n",
              "</style>\n",
              "<table border=\"1\" class=\"dataframe\">\n",
              "  <thead>\n",
              "    <tr style=\"text-align: right;\">\n",
              "      <th></th>\n",
              "      <th>마킹길이</th>\n",
              "      <th>절단길이</th>\n",
              "      <th>철판두께</th>\n",
              "      <th>절단갯수</th>\n",
              "      <th>마킹시간</th>\n",
              "      <th>절단시간</th>\n",
              "    </tr>\n",
              "    <tr>\n",
              "      <th>0</th>\n",
              "      <th></th>\n",
              "      <th></th>\n",
              "      <th></th>\n",
              "      <th></th>\n",
              "      <th></th>\n",
              "      <th></th>\n",
              "    </tr>\n",
              "  </thead>\n",
              "  <tbody>\n",
              "    <tr>\n",
              "      <th>마킹길이</th>\n",
              "      <td>1.000000</td>\n",
              "      <td>0.320245</td>\n",
              "      <td>-0.190292</td>\n",
              "      <td>0.030622</td>\n",
              "      <td>0.651750</td>\n",
              "      <td>0.247380</td>\n",
              "    </tr>\n",
              "    <tr>\n",
              "      <th>절단길이</th>\n",
              "      <td>0.320245</td>\n",
              "      <td>1.000000</td>\n",
              "      <td>-0.228964</td>\n",
              "      <td>0.782344</td>\n",
              "      <td>0.425395</td>\n",
              "      <td>0.841014</td>\n",
              "    </tr>\n",
              "    <tr>\n",
              "      <th>철판두께</th>\n",
              "      <td>-0.190292</td>\n",
              "      <td>-0.228964</td>\n",
              "      <td>1.000000</td>\n",
              "      <td>-0.248814</td>\n",
              "      <td>-0.142046</td>\n",
              "      <td>0.087131</td>\n",
              "    </tr>\n",
              "    <tr>\n",
              "      <th>절단갯수</th>\n",
              "      <td>0.030622</td>\n",
              "      <td>0.782344</td>\n",
              "      <td>-0.248814</td>\n",
              "      <td>1.000000</td>\n",
              "      <td>0.216306</td>\n",
              "      <td>0.623286</td>\n",
              "    </tr>\n",
              "    <tr>\n",
              "      <th>마킹시간</th>\n",
              "      <td>0.651750</td>\n",
              "      <td>0.425395</td>\n",
              "      <td>-0.142046</td>\n",
              "      <td>0.216306</td>\n",
              "      <td>1.000000</td>\n",
              "      <td>0.443604</td>\n",
              "    </tr>\n",
              "    <tr>\n",
              "      <th>절단시간</th>\n",
              "      <td>0.247380</td>\n",
              "      <td>0.841014</td>\n",
              "      <td>0.087131</td>\n",
              "      <td>0.623286</td>\n",
              "      <td>0.443604</td>\n",
              "      <td>1.000000</td>\n",
              "    </tr>\n",
              "  </tbody>\n",
              "</table>\n",
              "</div>"
            ],
            "text/plain": [
              "0         마킹길이      절단길이      철판두께      절단갯수      마킹시간      절단시간\n",
              "0                                                               \n",
              "마킹길이  1.000000  0.320245 -0.190292  0.030622  0.651750  0.247380\n",
              "절단길이  0.320245  1.000000 -0.228964  0.782344  0.425395  0.841014\n",
              "철판두께 -0.190292 -0.228964  1.000000 -0.248814 -0.142046  0.087131\n",
              "절단갯수  0.030622  0.782344 -0.248814  1.000000  0.216306  0.623286\n",
              "마킹시간  0.651750  0.425395 -0.142046  0.216306  1.000000  0.443604\n",
              "절단시간  0.247380  0.841014  0.087131  0.623286  0.443604  1.000000"
            ]
          },
          "metadata": {
            "tags": []
          },
          "execution_count": 71
        }
      ]
    },
    {
      "cell_type": "markdown",
      "metadata": {
        "id": "GLt3-mZLJafF"
      },
      "source": [
        "#### 작업장 편상관분석 시각화"
      ]
    },
    {
      "cell_type": "code",
      "metadata": {
        "colab": {
          "base_uri": "https://localhost:8080/",
          "height": 626
        },
        "id": "3Hiu_obdIi0v",
        "outputId": "2a14367f-88b0-4565-8924-6a9f30cc6886"
      },
      "source": [
        "import matplotlib.pyplot as plt \r\n",
        "import seaborn as sns    \r\n",
        "#plt.figure(figsize=(10,10))\r\n",
        "'''sns.heatmap(data = total_data.corr(), annot=True, \r\n",
        "fmt = '.2f', linewidths=.5, cmap='Blues',ax=ax1)'''\r\n",
        "\r\n",
        "\r\n",
        "figure, ((ax1,ax2),(ax3,ax4)) = plt.subplots(nrows=2, ncols=2)\r\n",
        "figure.set_size_inches(10,8)\r\n",
        "\r\n",
        "\r\n",
        "sns.heatmap(data = total_data.corr(), annot=True, \r\n",
        "fmt = '.2f', linewidths=.5, cmap='Blues',ax=ax1)\r\n",
        "ax1.set_title('기존 데이터')\r\n",
        "\r\n",
        "sns.heatmap(data = data21.corr(), annot=True, \r\n",
        "fmt = '.2f', linewidths=.5, cmap='Blues',ax=ax2)\r\n",
        "ax2.set_title('21번 작업장에서 작업한경우')\r\n",
        "\r\n",
        "sns.heatmap(data = data24.corr(), annot=True, \r\n",
        "fmt = '.2f', linewidths=.5, cmap='Blues',ax=ax3)\r\n",
        "ax3.set_title('\\n24번 작업장에서 작업한경우')\r\n",
        "\r\n",
        "sns.heatmap(data = data96.corr(), annot=True, \r\n",
        "fmt = '.2f', linewidths=.5, cmap='Blues',ax=ax4)\r\n",
        "ax4.set_title('\\n96번 작업장에서 작업한경우')"
      ],
      "execution_count": null,
      "outputs": [
        {
          "output_type": "stream",
          "text": [
            "/usr/local/lib/python3.6/dist-packages/matplotlib/backends/backend_agg.py:214: RuntimeWarning: Glyph 8722 missing from current font.\n",
            "  font.set_text(s, 0.0, flags=flags)\n",
            "/usr/local/lib/python3.6/dist-packages/matplotlib/backends/backend_agg.py:183: RuntimeWarning: Glyph 8722 missing from current font.\n",
            "  font.set_text(s, 0, flags=flags)\n"
          ],
          "name": "stderr"
        },
        {
          "output_type": "execute_result",
          "data": {
            "text/plain": [
              "Text(0.5, 1.0, '\\n96번 작업장에서 작업한경우')"
            ]
          },
          "metadata": {
            "tags": []
          },
          "execution_count": 74
        },
        {
          "output_type": "display_data",
          "data": {
            "image/png": "[encoded data removed]",
            "text/plain": [
              "<Figure size 720x576 with 8 Axes>"
            ]
          },
          "metadata": {
            "tags": [],
            "needs_background": "light"
          }
        }
      ]
    },
    {
      "cell_type": "markdown",
      "metadata": {
        "id": "D67Sj2u5J-VR"
      },
      "source": [
        "> * 공통적으로 찾을 수 있는 점은, [절단길이-절단갯수], [마킹길이-마킹시간]의 상관성이 증가했다는 점이 였다. "
      ]
    },
    {
      "cell_type": "markdown",
      "metadata": {
        "id": "ywGZdB6S0lvU"
      },
      "source": [
        "## 유전 알고리즘 \r\n",
        "* 인체의 유전자 원리처럼 우성이 열성을 잡아먹는다는 의미로, 각 경우에서 더 나은경우를 선택하고 그렇지 않은것은 버린다는 아이디어 입니다.\r\n",
        "* 순회 판매원 문제(TSP, Travelling Salesman Problem)이 대표적인 사례 입니다.\r\n",
        "\r\n",
        "\"도시 N 개가 있고, 도시 쌍 사이를 여행하는 비용(또는 거리)을 알고 있을 때, 도시를 각각 정확히 한 번씩 방문하고 시작점으로 돌아오는 가장 경제적인(또는 가장 짧은 경로) 방법을 찾기\"\r\n",
        "\r\n",
        "  * 저희는 마킹시간 + 절단시간 -> 작업시간 라는 새 칼럼을 만든 후 작업장 별 절단장비배열 후, 작업 N개의 최적 배열,,식으로 가야할것같은데 알고리즘을 스케줄링에 적용한 예시는 구글링으로 굉장히 찾기가 힘들었습니다.\r\n",
        "  ![image.png](data:image/png;base64,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)"
      ]
    },
    {
      "cell_type": "markdown",
      "metadata": {
        "id": "d_GeN3nYmuPl"
      },
      "source": [
        "* https://slidesplayer.org/slide/16474429/\r\n",
        "  * 유전 알고리즘 원리에 대해 잘 설명한 슬라이드 입니다\r\n",
        "* https://www.youtube.com/watch?v=H8beAqbiWZw&t=230s\r\n",
        "  * tsp를 파이썬으로 풀어보는 유튜브 강의 입니다. "
      ]
    },
    {
      "cell_type": "markdown",
      "metadata": {
        "id": "nB6755nbE-Ze"
      },
      "source": [
        "# 3. 모델링 적용\r\n",
        "* model = model명()\r\n",
        "* model.fit(X_train,y_train)\r\n",
        "* .score로 모델별 학습정도 판단 후 선정모델에 대한 overfitting, underfitting 체크해보겠습니다\r\n",
        "* 모델별로 정상적으로 돌아가는 지 확인이 먼저라는 말씀대로 매개변수 조절은 당장 신경쓰지는 않았습니다. "
      ]
    },
    {
      "cell_type": "code",
      "metadata": {
        "id": "5NCs9k-jGNXo"
      },
      "source": [
        "from sklearn.metrics import mean_absolute_error, mean_squared_error\r\n",
        "from sklearn.ensemble import RandomForestRegressor, ExtraTreesRegressor\r\n"
      ],
      "execution_count": null,
      "outputs": []
    },
    {
      "cell_type": "markdown",
      "metadata": {
        "id": "OZWb0COLobB7"
      },
      "source": [
        "## 랜덤포레스트 "
      ]
    },
    {
      "cell_type": "code",
      "metadata": {
        "colab": {
          "base_uri": "https://localhost:8080/",
          "height": 35
        },
        "id": "Gd8dVoZzE3Fv",
        "outputId": "5b6d0aa4-9f04-4c7d-899a-244de106b911"
      },
      "source": [
        "'''\r\n",
        "model = RandomForestRegressor()\r\n",
        "model.fit(X_train1, y_train1)\r\n",
        "model.fit(X_train2, y_train2)\r\n",
        "'''"
      ],
      "execution_count": null,
      "outputs": [
        {
          "output_type": "execute_result",
          "data": {
            "application/vnd.google.colaboratory.intrinsic+json": {
              "type": "string"
            },
            "text/plain": [
              "'\\nmodel = RandomForestRegressor()\\nmodel.fit(X_train1, y_train1)\\nmodel.fit(X_train2, y_train2)\\n'"
            ]
          },
          "metadata": {
            "tags": []
          },
          "execution_count": 40
        }
      ]
    },
    {
      "cell_type": "code",
      "metadata": {
        "id": "dacBsYwnGejx",
        "colab": {
          "base_uri": "https://localhost:8080/",
          "height": 52
        },
        "outputId": "19acc367-235f-4a7d-acb6-64ec2def7f28"
      },
      "source": [
        "'''\r\n",
        "train_score1 = model.score(X_train1, y_train1)\r\n",
        "print(\"랜덤포레스트를 통한 마킹시간 학습정도(train data) :\", train_score1)\r\n",
        "train_score2 = model.score(X_train2, y_train2)\r\n",
        "print(\"랜덤포레스트를 통한 절단시간 학습정도(train data) :\", train_score2)\r\n",
        "'''"
      ],
      "execution_count": null,
      "outputs": [
        {
          "output_type": "execute_result",
          "data": {
            "application/vnd.google.colaboratory.intrinsic+json": {
              "type": "string"
            },
            "text/plain": [
              "'\\ntrain_score1 = model.score(X_train1, y_train1)\\nprint(\"랜덤포레스트를 통한 마킹시간 학습정도(train data) :\", train_score1)\\ntrain_score2 = model.score(X_train2, y_train2)\\nprint(\"랜덤포레스트를 통한 절단시간 학습정도(train data) :\", train_score2)\\n'"
            ]
          },
          "metadata": {
            "tags": []
          },
          "execution_count": 41
        }
      ]
    },
    {
      "cell_type": "code",
      "metadata": {
        "id": "LJJN6PisfQ2w",
        "colab": {
          "base_uri": "https://localhost:8080/",
          "height": 52
        },
        "outputId": "f13ac4d8-1ba4-4e01-fe9d-eb7624a1ef61"
      },
      "source": [
        "'''\r\n",
        "test_score1 = model.score(X_test1, y_test1)\r\n",
        "print(\"랜덤포레스트를 통한 마킹시간 학습정도(test data) :\", test_score1)\r\n",
        "test_score2 = model.score(X_test2, y_test2)\r\n",
        "print(\"랜덤포레스트를 통한 절단시간 학습정도(test data) :\", test_score2)\r\n",
        "'''"
      ],
      "execution_count": null,
      "outputs": [
        {
          "output_type": "execute_result",
          "data": {
            "application/vnd.google.colaboratory.intrinsic+json": {
              "type": "string"
            },
            "text/plain": [
              "'\\ntest_score1 = model.score(X_test1, y_test1)\\nprint(\"랜덤포레스트를 통한 마킹시간 학습정도(test data) :\", test_score1)\\ntest_score2 = model.score(X_test2, y_test2)\\nprint(\"랜덤포레스트를 통한 절단시간 학습정도(test data) :\", test_score2)\\n'"
            ]
          },
          "metadata": {
            "tags": []
          },
          "execution_count": 42
        }
      ]
    },
    {
      "cell_type": "markdown",
      "metadata": {
        "id": "Md5Javis-xoU"
      },
      "source": [
        "* 마킹시간 예측에서 무엇이 잘못되었는지 모르겠습니다... 일단 **절단시간에 대해서만** 학습하도록 하겠습니다. "
      ]
    },
    {
      "cell_type": "markdown",
      "metadata": {
        "id": "owz0QqHnpHju"
      },
      "source": [
        "## 에이다부스트\r\n",
        "* 이전 모델의 과소적합 하였던 훈련 샘플에 가중치 적용\r\n",
        "  * 그래서 전제조건이 모델의 과소적합이라고 합니다\r\n",
        "  * XG부스트 돌리기 전에 이것도 해보았습니다. "
      ]
    },
    {
      "cell_type": "code",
      "metadata": {
        "id": "z9tiLLl0qs5i",
        "colab": {
          "base_uri": "https://localhost:8080/",
          "height": 88
        },
        "outputId": "3e0ddf70-ee36-4cad-93d3-37ad86c3dd1e"
      },
      "source": [
        "'''from sklearn.ensemble import AdaBoostRegressor\r\n",
        "from sklearn.linear_model import Lasso\r\n",
        "\r\n",
        "model = AdaBoostRegressor(base_estimator=Lasso())\r\n",
        "\r\n",
        "model.fit(X_train1, y_train1)\r\n",
        "model.fit(X_train2, y_train2)\r\n",
        "\r\n",
        "Ada_score1 = model.score(X_train1, y_train1)\r\n",
        "print(\"에이다부스트를 통한 마킹시간 학습정도(train data) :\", Ada_score1)\r\n",
        "Ada_score2 = model.score(X_train2, y_train2)\r\n",
        "print(\"에이다부스트를 통한 절단시간 학습정도(train data) :\", Ada_score2)\r\n",
        "\r\n",
        "Ada_test_score1 = model.score(X_test1, y_test1)\r\n",
        "print(\"랜덤포레스트를 통한 마킹시간 학습정도(test data) :\", Ada_test_score1)\r\n",
        "Ada_test_score2 = model.score(X_test2, y_test2)\r\n",
        "print(\"랜덤포레스트를 통한 절단시간 학습정도(test data) :\", Ada_test_score2)'''\r\n"
      ],
      "execution_count": null,
      "outputs": [
        {
          "output_type": "execute_result",
          "data": {
            "application/vnd.google.colaboratory.intrinsic+json": {
              "type": "string"
            },
            "text/plain": [
              "'from sklearn.ensemble import AdaBoostRegressor\\nfrom sklearn.linear_model import Lasso\\n\\nmodel = AdaBoostRegressor(base_estimator=Lasso())\\n\\nmodel.fit(X_train1, y_train1)\\nmodel.fit(X_train2, y_train2)\\n\\nAda_score1 = model.score(X_train1, y_train1)\\nprint(\"에이다부스트를 통한 마킹시간 학습정도(train data) :\", Ada_score1)\\nAda_score2 = model.score(X_train2, y_train2)\\nprint(\"에이다부스트를 통한 절단시간 학습정도(train data) :\", Ada_score2)\\n\\nAda_test_score1 = model.score(X_test1, y_test1)\\nprint(\"랜덤포레스트를 통한 마킹시간 학습정도(test data) :\", Ada_test_score1)\\nAda_test_score2 = model.score(X_test2, y_test2)\\nprint(\"랜덤포레스트를 통한 절단시간 학습정도(test data) :\", Ada_test_score2)'"
            ]
          },
          "metadata": {
            "tags": []
          },
          "execution_count": 43
        }
      ]
    },
    {
      "cell_type": "markdown",
      "metadata": {
        "id": "6iM1oLE0-9lM"
      },
      "source": [
        ">* 에이다부스트를 통한 마킹시간 학습정도(train data) : -25.263534442689966\r\n",
        "* 에이다부스트를 통한 절단시간 학습정도(train data) : 0.8407440565396113\r\n",
        "* 랜덤포레스트를 통한 마킹시간 학습정도(test data) : -16.05404304324564\r\n",
        "* 랜덤포레스트를 통한 절단시간 학습정도(test data) : 0.847522017116124"
      ]
    },
    {
      "cell_type": "markdown",
      "metadata": {
        "id": "7EcczVvWoccY"
      },
      "source": [
        "## 그레디언트 부스트(XG부스트) "
      ]
    },
    {
      "cell_type": "markdown",
      "metadata": {
        "id": "tEEYrX_dBPPB"
      },
      "source": [
        "> 파라미터 소개 및 상세개념\r\n",
        "* https://wooono.tistory.com/97"
      ]
    },
    {
      "cell_type": "code",
      "metadata": {
        "id": "98F5fRfks_MI",
        "colab": {
          "base_uri": "https://localhost:8080/",
          "height": 70
        },
        "outputId": "66eddb52-1c9e-42a8-c19c-9b50e2cc39d4"
      },
      "source": [
        "from xgboost import XGBRegressor\r\n",
        "'''\r\n",
        "model = XGBRegressor()\r\n",
        "\r\n",
        "model.fit(X_train1, y_train1, verbose=False)\r\n",
        "model.fit(X_train2, y_train2, verbose=False)\r\n",
        "\r\n",
        "XG_predict1 = model.predict(X_test1)\r\n",
        "print(f\"마킹시간rmse : {np.sqrt(mean_squared_error(y_test1, XG_predict1))}\")\r\n",
        "XG_predict2 = model.predict(X_test2)\r\n",
        "print(f\"절단시간rmse : {np.sqrt(mean_squared_error(y_test2, XG_predict2))}\")\r\n",
        "\r\n",
        "-> 마킹:453, 절단:2171 나왔음\r\n",
        "'''"
      ],
      "execution_count": null,
      "outputs": [
        {
          "output_type": "execute_result",
          "data": {
            "application/vnd.google.colaboratory.intrinsic+json": {
              "type": "string"
            },
            "text/plain": [
              "'\\nmodel = XGBRegressor()\\n\\nmodel.fit(X_train1, y_train1, verbose=False)\\nmodel.fit(X_train2, y_train2, verbose=False)\\n\\nXG_predict1 = model.predict(X_test1)\\nprint(f\"마킹시간rmse : {np.sqrt(mean_squared_error(y_test1, XG_predict1))}\")\\nXG_predict2 = model.predict(X_test2)\\nprint(f\"절단시간rmse : {np.sqrt(mean_squared_error(y_test2, XG_predict2))}\")\\n\\n-> 마킹:453, 절단:2171 나왔음\\n'"
            ]
          },
          "metadata": {
            "tags": []
          },
          "execution_count": 26
        }
      ]
    },
    {
      "cell_type": "code",
      "metadata": {
        "colab": {
          "base_uri": "https://localhost:8080/"
        },
        "id": "I_i2L22XAGrP",
        "outputId": "69b1ab5e-ffbd-4674-fbcf-8bcc1e211e7c"
      },
      "source": [
        "import xgboost as xgb\r\n",
        "\r\n",
        "# 모델 선언\r\n",
        "model = xgb.XGBRegressor(learning_rate=0.1,max_depth=5,n_estimators=100,booster='dart')\r\n",
        "\r\n",
        "# 모델 훈련\r\n",
        "model.fit(X_train2, y_train2, verbose=False)\r\n",
        "\r\n"
      ],
      "execution_count": null,
      "outputs": [
        {
          "output_type": "stream",
          "text": [
            "[03:14:34] WARNING: /workspace/src/objective/regression_obj.cu:152: reg:linear is now deprecated in favor of reg:squarederror.\n"
          ],
          "name": "stdout"
        },
        {
          "output_type": "execute_result",
          "data": {
            "text/plain": [
              "XGBRegressor(base_score=0.5, booster='dart', colsample_bylevel=1,\n",
              "             colsample_bynode=1, colsample_bytree=1, gamma=0,\n",
              "             importance_type='gain', learning_rate=0.1, max_delta_step=0,\n",
              "             max_depth=5, min_child_weight=1, missing=None, n_estimators=100,\n",
              "             n_jobs=1, nthread=None, objective='reg:linear', random_state=0,\n",
              "             reg_alpha=0, reg_lambda=1, scale_pos_weight=1, seed=None,\n",
              "             silent=None, subsample=1, verbosity=1)"
            ]
          },
          "metadata": {
            "tags": []
          },
          "execution_count": 48
        }
      ]
    },
    {
      "cell_type": "code",
      "metadata": {
        "id": "SofA249ihesm",
        "colab": {
          "base_uri": "https://localhost:8080/"
        },
        "outputId": "4ecfad0a-3c0b-4e21-fc38-e541d7f38c58"
      },
      "source": [
        "'''\r\n",
        "XG_predict1 = my_model.predict(X_test1) \r\n",
        "print(f\"마킹시간rmse : {np.sqrt(mean_squared_error(y_test1, XG_predict1))}\")\r\n",
        "'''\r\n",
        "XG_pred = model.predict(X_test2) \r\n",
        "print(f\"절단시간rmse : {np.sqrt(mean_squared_error(y_test2, XG_pred))}\")"
      ],
      "execution_count": null,
      "outputs": [
        {
          "output_type": "stream",
          "text": [
            "절단시간rmse : 488.57847955752214\n"
          ],
          "name": "stdout"
        }
      ]
    },
    {
      "cell_type": "markdown",
      "metadata": {
        "id": "KSg3u0O2Clf1"
      },
      "source": [
        "> * 절단시간rmse가 2171->488로 감소하였습니다. "
      ]
    },
    {
      "cell_type": "markdown",
      "metadata": {
        "id": "ZvSnNw04Cuxa"
      },
      "source": [
        "### XGboost feature importance "
      ]
    },
    {
      "cell_type": "code",
      "metadata": {
        "id": "9EbKt59bXWjZ"
      },
      "source": [
        "## using graphviz \r\n",
        "!apt-get -qq install -y graphviz && pip install -q pydot\r\n",
        "import pydot\r\n",
        "## 아래 있는것은 필수는 아닌데, 가끔 에러가 생길 때가 있어서, 그냥 같이 해줌. \r\n",
        "!apt-get install graphviz libgraphviz-dev pkg-config\r\n",
        "!pip install pygraphviz\r\n",
        "import pygraphviz"
      ],
      "execution_count": null,
      "outputs": []
    },
    {
      "cell_type": "code",
      "metadata": {
        "id": "QhrQus60X9ZQ"
      },
      "source": [
        "  import xgboost as xgb\r\n",
        "\r\n",
        "  xgb.plot_importance(model)"
      ],
      "execution_count": null,
      "outputs": []
    },
    {
      "cell_type": "markdown",
      "metadata": {
        "id": "HvUKlbvwKZZ3"
      },
      "source": [
        "> * 절단길이, 철판두께, 마킹시간 순으로 크게 영향을 주었습니다. \r\n",
        "* 절단장비왕 철판재질은 영향은 준 정도가 미비하였습니다. "
      ]
    },
    {
      "cell_type": "code",
      "metadata": {
        "id": "44uR5L1IYOFw"
      },
      "source": [
        "  import xgboost as xgb\r\n",
        "  import matplotlib.pyplot as plt\r\n",
        "\r\n",
        "  # num_trees : 그림을 여러개 그릴시 그림 번호\r\n",
        "  # rankdir : 트리의 방향, 디폴트는 위아래 방향\r\n",
        "  # rankdir=\"LR\" : 왼쪽에서 오른쪽 방향으로 트리를 보여준다.\r\n",
        "  xgb.plot_tree(model, num_trees=0, rankdir='LR')\r\n",
        "\r\n",
        "  fig = plt.gcf()\r\n",
        "  fig.set_size_inches(150, 100)\r\n",
        "\r\n",
        "  plt.show()"
      ],
      "execution_count": null,
      "outputs": []
    },
    {
      "cell_type": "markdown",
      "metadata": {
        "id": "CbSAgYutof-u"
      },
      "source": [
        "## light GBM "
      ]
    },
    {
      "cell_type": "code",
      "metadata": {
        "id": "_CCnggZvZlAO",
        "colab": {
          "base_uri": "https://localhost:8080/"
        },
        "outputId": "6f4cfc62-4c8c-4cb4-b134-9fec257a137b"
      },
      "source": [
        "from lightgbm.sklearn import LGBMRegressor\r\n",
        "import lightgbm as lgb\r\n",
        "\r\n",
        "#train_ds = lgb.Dataset(X_train1, label = y_train1) \r\n",
        "#test_ds = lgb.Dataset(X_test1, label = y_test1) \r\n",
        "train_ds2 = lgb.Dataset(X_train2, label = y_train2) \r\n",
        "test_ds2 = lgb.Dataset(X_test2, label = y_test2) \r\n",
        "\r\n",
        "\r\n",
        "params = {'learning_rate': 0.1, \r\n",
        "          'max_depth': -1, \r\n",
        "          'boosting': 'dart', \r\n",
        "          'objective': 'regression', \r\n",
        "          'metric': 'mse', \r\n",
        "          'is_training_metric': True, \r\n",
        "          'num_leaves': 144, \r\n",
        "          'feature_fraction': 0.9, \r\n",
        "          'bagging_fraction': 0.7, \r\n",
        "          'bagging_freq': 5, \r\n",
        "          'seed':2018}\r\n",
        "\r\n",
        "#model1 = lgb.train(params, train_ds, 1000, test_ds, verbose_eval=100, early_stopping_rounds=100)\r\n",
        "model2 = lgb.train(params, train_ds2, 1000, test_ds2, verbose_eval=100, early_stopping_rounds=100)\r\n",
        "#최초 파라미터 로는, 절단시간 경우 rmse : 1830 나왔었음"
      ],
      "execution_count": null,
      "outputs": [
        {
          "output_type": "stream",
          "text": [
            "/usr/local/lib/python3.6/dist-packages/lightgbm/callback.py:189: UserWarning: Early stopping is not available in dart mode\n",
            "  warnings.warn('Early stopping is not available in dart mode')\n"
          ],
          "name": "stderr"
        },
        {
          "output_type": "stream",
          "text": [
            "[100]\tvalid_0's l2: 242215\n",
            "[200]\tvalid_0's l2: 244539\n",
            "[300]\tvalid_0's l2: 246227\n",
            "[400]\tvalid_0's l2: 236517\n",
            "[500]\tvalid_0's l2: 233038\n",
            "[600]\tvalid_0's l2: 234527\n",
            "[700]\tvalid_0's l2: 234323\n",
            "[800]\tvalid_0's l2: 234032\n",
            "[900]\tvalid_0's l2: 233784\n",
            "[1000]\tvalid_0's l2: 235494\n"
          ],
          "name": "stdout"
        }
      ]
    },
    {
      "cell_type": "code",
      "metadata": {
        "id": "ApJHXGegWLW7",
        "colab": {
          "base_uri": "https://localhost:8080/"
        },
        "outputId": "111aa0b7-0ad3-423e-b114-8b325132c4f3"
      },
      "source": [
        "'''\r\n",
        "GBM_predict1 = model1.predict(X_test1)\r\n",
        "print(f\"마킹시간rmse : {np.sqrt(mean_squared_error(y_test1, GBM_predict1))}\")\r\n",
        "'''\r\n",
        "GBM_predict2 = model2.predict(X_test2)\r\n",
        "print(f\"절단시간rmse : {np.sqrt(mean_squared_error(y_test2, GBM_predict2))}\")"
      ],
      "execution_count": null,
      "outputs": [
        {
          "output_type": "stream",
          "text": [
            "절단시간rmse : 485.27677065014893\n"
          ],
          "name": "stdout"
        }
      ]
    },
    {
      "cell_type": "markdown",
      "metadata": {
        "id": "TdDIVtRQE7HE"
      },
      "source": [
        "> * 절단시간rmse : 1830 -> 485 \r\n",
        "* 위의 xg부스트의 경우는 488"
      ]
    },
    {
      "cell_type": "markdown",
      "metadata": {
        "id": "Sdfzm6lP-nFt"
      },
      "source": [
        "## xgboost, lightGBM을 Grid Search로 최적의 경우를 탐색해보자 \r\n",
        "* 파라미터 조절해가며 설정\r\n",
        "* http://machinelearningkorea.com/2019/09/29/lightgbm-%ED%8C%8C%EB%9D%BC%EB%AF%B8%ED%84%B0/\r\n",
        "* https://wooono.tistory.com/97\r\n",
        "* **그리드 서치 이용!**\r\n",
        "  * 구글에 \"그리드서치\" \"회귀\" 검색\r\n",
        "  * https://cyan91.tistory.com/18\r\n",
        "  * https://m.blog.naver.com/PostView.nhn?blogId=gustn3964&logNo=221431933811&proxyReferer=https:%2F%2Fwww.google.com%2F"
      ]
    },
    {
      "cell_type": "markdown",
      "metadata": {
        "id": "TDV1JsV8KcHJ"
      },
      "source": [
        "* **산하형꺼참고 버스**"
      ]
    },
    {
      "cell_type": "markdown",
      "metadata": {
        "id": "V2hMOvxXUqhQ"
      },
      "source": [
        "### XGBoost "
      ]
    },
    {
      "cell_type": "code",
      "metadata": {
        "colab": {
          "base_uri": "https://localhost:8080/",
          "height": 1000
        },
        "id": "3pqvohl-Usjb",
        "outputId": "1ace1d3f-14ce-4113-ae41-e6d9ebe942c7"
      },
      "source": [
        "from sklearn.model_selection import GridSearchCV\r\n",
        "from xgboost import XGBRegressor\r\n",
        "import xgboost as xgb\r\n",
        "\r\n",
        "model=xgb.XGBRegressor()\r\n",
        "\r\n",
        "param_grid={'booster' :['gbtree','dart'],\r\n",
        "                 'learning_rate' : [0.01,0.05,0.2],\r\n",
        "\t    'nrounds' : [1000,1500,2000],\r\n",
        "\t    'gamma' : [0,10,20],\t\r\n",
        "\t    'max_depth' : [7,8,9,-1]}\r\n",
        "\r\n",
        "\t   \r\n",
        "gcv=GridSearchCV(model, param_grid=param_grid, cv=5, scoring='neg_mean_squared_error')\r\n",
        "\r\n",
        "gcv.fit(X_train2, y_train2)\r\n",
        "print('final params', gcv.best_params_)  \r\n",
        "print('best score', gcv.best_score_) #막상 reg:squarederror를 사용하니까 값이 범위를 초과한다면서 아예 돌아가지가 않았다"
      ],
      "execution_count": null,
      "outputs": [
        {
          "output_type": "stream",
          "text": [
            "[09:53:25] WARNING: /workspace/src/objective/regression_obj.cu:152: reg:linear is now deprecated in favor of reg:squarederror.\n",
            "[09:54:17] WARNING: /workspace/src/objective/regression_obj.cu:152: reg:linear is now deprecated in favor of reg:squarederror.\n",
            "[09:55:08] WARNING: /workspace/src/objective/regression_obj.cu:152: reg:linear is now deprecated in favor of reg:squarederror.\n",
            "[09:55:59] WARNING: /workspace/src/objective/regression_obj.cu:152: reg:linear is now deprecated in favor of reg:squarederror.\n",
            "[09:56:50] WARNING: /workspace/src/objective/regression_obj.cu:152: reg:linear is now deprecated in favor of reg:squarederror.\n",
            "[09:57:41] WARNING: /workspace/src/objective/regression_obj.cu:152: reg:linear is now deprecated in favor of reg:squarederror.\n",
            "[09:58:32] WARNING: /workspace/src/objective/regression_obj.cu:152: reg:linear is now deprecated in favor of reg:squarederror.\n",
            "[09:59:23] WARNING: /workspace/src/objective/regression_obj.cu:152: reg:linear is now deprecated in favor of reg:squarederror.\n",
            "[10:00:14] WARNING: /workspace/src/objective/regression_obj.cu:152: reg:linear is now deprecated in favor of reg:squarederror.\n",
            "[10:01:05] WARNING: /workspace/src/objective/regression_obj.cu:152: reg:linear is now deprecated in favor of reg:squarederror.\n",
            "[10:01:55] WARNING: /workspace/src/objective/regression_obj.cu:152: reg:linear is now deprecated in favor of reg:squarederror.\n",
            "[10:02:46] WARNING: /workspace/src/objective/regression_obj.cu:152: reg:linear is now deprecated in favor of reg:squarederror.\n",
            "[10:03:37] WARNING: /workspace/src/objective/regression_obj.cu:152: reg:linear is now deprecated in favor of reg:squarederror.\n",
            "[10:04:28] WARNING: /workspace/src/objective/regression_obj.cu:152: reg:linear is now deprecated in favor of reg:squarederror.\n",
            "[10:05:19] WARNING: /workspace/src/objective/regression_obj.cu:152: reg:linear is now deprecated in favor of reg:squarederror.\n",
            "[10:06:10] WARNING: /workspace/src/objective/regression_obj.cu:152: reg:linear is now deprecated in favor of reg:squarederror.\n",
            "[10:07:10] WARNING: /workspace/src/objective/regression_obj.cu:152: reg:linear is now deprecated in favor of reg:squarederror.\n",
            "[10:08:11] WARNING: /workspace/src/objective/regression_obj.cu:152: reg:linear is now deprecated in favor of reg:squarederror.\n",
            "[10:09:12] WARNING: /workspace/src/objective/regression_obj.cu:152: reg:linear is now deprecated in favor of reg:squarederror.\n",
            "[10:10:12] WARNING: /workspace/src/objective/regression_obj.cu:152: reg:linear is now deprecated in favor of reg:squarederror.\n",
            "[10:11:12] WARNING: /workspace/src/objective/regression_obj.cu:152: reg:linear is now deprecated in favor of reg:squarederror.\n",
            "[10:12:13] WARNING: /workspace/src/objective/regression_obj.cu:152: reg:linear is now deprecated in favor of reg:squarederror.\n",
            "[10:13:13] WARNING: /workspace/src/objective/regression_obj.cu:152: reg:linear is now deprecated in favor of reg:squarederror.\n",
            "[10:14:14] WARNING: /workspace/src/objective/regression_obj.cu:152: reg:linear is now deprecated in favor of reg:squarederror.\n",
            "[10:15:14] WARNING: /workspace/src/objective/regression_obj.cu:152: reg:linear is now deprecated in favor of reg:squarederror.\n",
            "[10:16:15] WARNING: /workspace/src/objective/regression_obj.cu:152: reg:linear is now deprecated in favor of reg:squarederror.\n",
            "[10:17:15] WARNING: /workspace/src/objective/regression_obj.cu:152: reg:linear is now deprecated in favor of reg:squarederror.\n",
            "[10:18:15] WARNING: /workspace/src/objective/regression_obj.cu:152: reg:linear is now deprecated in favor of reg:squarederror.\n",
            "[10:19:16] WARNING: /workspace/src/objective/regression_obj.cu:152: reg:linear is now deprecated in favor of reg:squarederror.\n",
            "[10:20:16] WARNING: /workspace/src/objective/regression_obj.cu:152: reg:linear is now deprecated in favor of reg:squarederror.\n",
            "[10:21:16] WARNING: /workspace/src/objective/regression_obj.cu:152: reg:linear is now deprecated in favor of reg:squarederror.\n",
            "[10:22:27] WARNING: /workspace/src/objective/regression_obj.cu:152: reg:linear is now deprecated in favor of reg:squarederror.\n",
            "[10:23:38] WARNING: /workspace/src/objective/regression_obj.cu:152: reg:linear is now deprecated in favor of reg:squarederror.\n",
            "[10:24:50] WARNING: /workspace/src/objective/regression_obj.cu:152: reg:linear is now deprecated in favor of reg:squarederror.\n",
            "[10:26:01] WARNING: /workspace/src/objective/regression_obj.cu:152: reg:linear is now deprecated in favor of reg:squarederror.\n",
            "[10:27:12] WARNING: /workspace/src/objective/regression_obj.cu:152: reg:linear is now deprecated in favor of reg:squarederror.\n",
            "[10:28:23] WARNING: /workspace/src/objective/regression_obj.cu:152: reg:linear is now deprecated in favor of reg:squarederror.\n",
            "[10:29:34] WARNING: /workspace/src/objective/regression_obj.cu:152: reg:linear is now deprecated in favor of reg:squarederror.\n",
            "[10:30:45] WARNING: /workspace/src/objective/regression_obj.cu:152: reg:linear is now deprecated in favor of reg:squarederror.\n",
            "[10:31:56] WARNING: /workspace/src/objective/regression_obj.cu:152: reg:linear is now deprecated in favor of reg:squarederror.\n",
            "[10:33:07] WARNING: /workspace/src/objective/regression_obj.cu:152: reg:linear is now deprecated in favor of reg:squarederror.\n",
            "[10:34:18] WARNING: /workspace/src/objective/regression_obj.cu:152: reg:linear is now deprecated in favor of reg:squarederror.\n",
            "[10:35:29] WARNING: /workspace/src/objective/regression_obj.cu:152: reg:linear is now deprecated in favor of reg:squarederror.\n",
            "[10:36:40] WARNING: /workspace/src/objective/regression_obj.cu:152: reg:linear is now deprecated in favor of reg:squarederror.\n",
            "[10:37:52] WARNING: /workspace/src/objective/regression_obj.cu:152: reg:linear is now deprecated in favor of reg:squarederror.\n",
            "[10:39:02] WARNING: /workspace/src/objective/regression_obj.cu:152: reg:linear is now deprecated in favor of reg:squarederror.\n"
          ],
          "name": "stdout"
        },
        {
          "output_type": "stream",
          "text": [
            "/usr/local/lib/python3.6/dist-packages/sklearn/model_selection/_validation.py:536: FitFailedWarning: Estimator fit failed. The score on this train-test partition for these parameters will be set to nan. Details: \n",
            "xgboost.core.XGBoostError: value -1 for Parameter max_depth should be greater equal to 0\n",
            "\n",
            "  FitFailedWarning)\n"
          ],
          "name": "stderr"
        },
        {
          "output_type": "stream",
          "text": [
            "[10:39:03] WARNING: /workspace/src/objective/regression_obj.cu:152: reg:linear is now deprecated in favor of reg:squarederror.\n",
            "[10:39:03] WARNING: /workspace/src/objective/regression_obj.cu:152: reg:linear is now deprecated in favor of reg:squarederror.\n",
            "[10:39:03] WARNING: /workspace/src/objective/regression_obj.cu:152: reg:linear is now deprecated in favor of reg:squarederror.\n",
            "[10:39:03] WARNING: /workspace/src/objective/regression_obj.cu:152: reg:linear is now deprecated in favor of reg:squarederror.\n",
            "[10:39:04] WARNING: /workspace/src/objective/regression_obj.cu:152: reg:linear is now deprecated in favor of reg:squarederror.\n",
            "[10:39:04] WARNING: /workspace/src/objective/regression_obj.cu:152: reg:linear is now deprecated in favor of reg:squarederror.\n",
            "[10:39:04] WARNING: /workspace/src/objective/regression_obj.cu:152: reg:linear is now deprecated in favor of reg:squarederror.\n",
            "[10:39:05] WARNING: /workspace/src/objective/regression_obj.cu:152: reg:linear is now deprecated in favor of reg:squarederror.\n",
            "[10:39:05] WARNING: /workspace/src/objective/regression_obj.cu:152: reg:linear is now deprecated in favor of reg:squarederror.\n",
            "[10:39:05] WARNING: /workspace/src/objective/regression_obj.cu:152: reg:linear is now deprecated in favor of reg:squarederror.\n",
            "[10:39:05] WARNING: /workspace/src/objective/regression_obj.cu:152: reg:linear is now deprecated in favor of reg:squarederror.\n",
            "[10:39:06] WARNING: /workspace/src/objective/regression_obj.cu:152: reg:linear is now deprecated in favor of reg:squarederror.\n",
            "[10:39:06] WARNING: /workspace/src/objective/regression_obj.cu:152: reg:linear is now deprecated in favor of reg:squarederror.\n",
            "[10:39:06] WARNING: /workspace/src/objective/regression_obj.cu:152: reg:linear is now deprecated in favor of reg:squarederror.\n",
            "[10:39:06] WARNING: /workspace/src/objective/regression_obj.cu:152: reg:linear is now deprecated in favor of reg:squarederror.\n",
            "[10:39:59] WARNING: /workspace/src/objective/regression_obj.cu:152: reg:linear is now deprecated in favor of reg:squarederror.\n",
            "[10:40:51] WARNING: /workspace/src/objective/regression_obj.cu:152: reg:linear is now deprecated in favor of reg:squarederror.\n",
            "[10:41:44] WARNING: /workspace/src/objective/regression_obj.cu:152: reg:linear is now deprecated in favor of reg:squarederror.\n",
            "[10:42:36] WARNING: /workspace/src/objective/regression_obj.cu:152: reg:linear is now deprecated in favor of reg:squarederror.\n",
            "[10:43:29] WARNING: /workspace/src/objective/regression_obj.cu:152: reg:linear is now deprecated in favor of reg:squarederror.\n",
            "[10:44:21] WARNING: /workspace/src/objective/regression_obj.cu:152: reg:linear is now deprecated in favor of reg:squarederror.\n",
            "[10:45:14] WARNING: /workspace/src/objective/regression_obj.cu:152: reg:linear is now deprecated in favor of reg:squarederror.\n",
            "[10:46:06] WARNING: /workspace/src/objective/regression_obj.cu:152: reg:linear is now deprecated in favor of reg:squarederror.\n",
            "[10:46:59] WARNING: /workspace/src/objective/regression_obj.cu:152: reg:linear is now deprecated in favor of reg:squarederror.\n",
            "[10:47:51] WARNING: /workspace/src/objective/regression_obj.cu:152: reg:linear is now deprecated in favor of reg:squarederror.\n",
            "[10:48:44] WARNING: /workspace/src/objective/regression_obj.cu:152: reg:linear is now deprecated in favor of reg:squarederror.\n",
            "[10:49:36] WARNING: /workspace/src/objective/regression_obj.cu:152: reg:linear is now deprecated in favor of reg:squarederror.\n",
            "[10:50:29] WARNING: /workspace/src/objective/regression_obj.cu:152: reg:linear is now deprecated in favor of reg:squarederror.\n",
            "[10:51:21] WARNING: /workspace/src/objective/regression_obj.cu:152: reg:linear is now deprecated in favor of reg:squarederror.\n",
            "[10:52:13] WARNING: /workspace/src/objective/regression_obj.cu:152: reg:linear is now deprecated in favor of reg:squarederror.\n",
            "[10:53:15] WARNING: /workspace/src/objective/regression_obj.cu:152: reg:linear is now deprecated in favor of reg:squarederror.\n",
            "[10:54:16] WARNING: /workspace/src/objective/regression_obj.cu:152: reg:linear is now deprecated in favor of reg:squarederror.\n",
            "[10:55:17] WARNING: /workspace/src/objective/regression_obj.cu:152: reg:linear is now deprecated in favor of reg:squarederror.\n",
            "[10:56:19] WARNING: /workspace/src/objective/regression_obj.cu:152: reg:linear is now deprecated in favor of reg:squarederror.\n",
            "[10:57:20] WARNING: /workspace/src/objective/regression_obj.cu:152: reg:linear is now deprecated in favor of reg:squarederror.\n",
            "[10:58:21] WARNING: /workspace/src/objective/regression_obj.cu:152: reg:linear is now deprecated in favor of reg:squarederror.\n",
            "[10:59:22] WARNING: /workspace/src/objective/regression_obj.cu:152: reg:linear is now deprecated in favor of reg:squarederror.\n",
            "[11:00:23] WARNING: /workspace/src/objective/regression_obj.cu:152: reg:linear is now deprecated in favor of reg:squarederror.\n",
            "[11:01:24] WARNING: /workspace/src/objective/regression_obj.cu:152: reg:linear is now deprecated in favor of reg:squarederror.\n",
            "[11:02:25] WARNING: /workspace/src/objective/regression_obj.cu:152: reg:linear is now deprecated in favor of reg:squarederror.\n",
            "[11:03:26] WARNING: /workspace/src/objective/regression_obj.cu:152: reg:linear is now deprecated in favor of reg:squarederror.\n",
            "[11:04:28] WARNING: /workspace/src/objective/regression_obj.cu:152: reg:linear is now deprecated in favor of reg:squarederror.\n",
            "[11:05:29] WARNING: /workspace/src/objective/regression_obj.cu:152: reg:linear is now deprecated in favor of reg:squarederror.\n",
            "[11:06:30] WARNING: /workspace/src/objective/regression_obj.cu:152: reg:linear is now deprecated in favor of reg:squarederror.\n",
            "[11:07:31] WARNING: /workspace/src/objective/regression_obj.cu:152: reg:linear is now deprecated in favor of reg:squarederror.\n",
            "[11:08:42] WARNING: /workspace/src/objective/regression_obj.cu:152: reg:linear is now deprecated in favor of reg:squarederror.\n",
            "[11:09:53] WARNING: /workspace/src/objective/regression_obj.cu:152: reg:linear is now deprecated in favor of reg:squarederror.\n",
            "[11:11:05] WARNING: /workspace/src/objective/regression_obj.cu:152: reg:linear is now deprecated in favor of reg:squarederror.\n",
            "[11:12:16] WARNING: /workspace/src/objective/regression_obj.cu:152: reg:linear is now deprecated in favor of reg:squarederror.\n",
            "[11:13:27] WARNING: /workspace/src/objective/regression_obj.cu:152: reg:linear is now deprecated in favor of reg:squarederror.\n",
            "[11:14:38] WARNING: /workspace/src/objective/regression_obj.cu:152: reg:linear is now deprecated in favor of reg:squarederror.\n",
            "[11:15:49] WARNING: /workspace/src/objective/regression_obj.cu:152: reg:linear is now deprecated in favor of reg:squarederror.\n",
            "[11:17:00] WARNING: /workspace/src/objective/regression_obj.cu:152: reg:linear is now deprecated in favor of reg:squarederror.\n",
            "[11:18:11] WARNING: /workspace/src/objective/regression_obj.cu:152: reg:linear is now deprecated in favor of reg:squarederror.\n",
            "[11:19:22] WARNING: /workspace/src/objective/regression_obj.cu:152: reg:linear is now deprecated in favor of reg:squarederror.\n",
            "[11:20:34] WARNING: /workspace/src/objective/regression_obj.cu:152: reg:linear is now deprecated in favor of reg:squarederror.\n",
            "[11:21:45] WARNING: /workspace/src/objective/regression_obj.cu:152: reg:linear is now deprecated in favor of reg:squarederror.\n",
            "[11:22:56] WARNING: /workspace/src/objective/regression_obj.cu:152: reg:linear is now deprecated in favor of reg:squarederror.\n",
            "[11:24:07] WARNING: /workspace/src/objective/regression_obj.cu:152: reg:linear is now deprecated in favor of reg:squarederror.\n",
            "[11:25:18] WARNING: /workspace/src/objective/regression_obj.cu:152: reg:linear is now deprecated in favor of reg:squarederror.\n"
          ],
          "name": "stdout"
        },
        {
          "output_type": "stream",
          "text": [
            "/usr/local/lib/python3.6/dist-packages/sklearn/model_selection/_validation.py:536: FitFailedWarning: Estimator fit failed. The score on this train-test partition for these parameters will be set to nan. Details: \n",
            "xgboost.core.XGBoostError: value -1 for Parameter max_depth should be greater equal to 0\n",
            "\n",
            "  FitFailedWarning)\n"
          ],
          "name": "stderr"
        },
        {
          "output_type": "stream",
          "text": [
            "[11:25:18] WARNING: /workspace/src/objective/regression_obj.cu:152: reg:linear is now deprecated in favor of reg:squarederror.\n",
            "[11:25:19] WARNING: /workspace/src/objective/regression_obj.cu:152: reg:linear is now deprecated in favor of reg:squarederror.\n",
            "[11:25:19] WARNING: /workspace/src/objective/regression_obj.cu:152: reg:linear is now deprecated in favor of reg:squarederror.\n",
            "[11:25:19] WARNING: /workspace/src/objective/regression_obj.cu:152: reg:linear is now deprecated in favor of reg:squarederror.\n",
            "[11:25:19] WARNING: /workspace/src/objective/regression_obj.cu:152: reg:linear is now deprecated in favor of reg:squarederror.\n",
            "[11:25:20] WARNING: /workspace/src/objective/regression_obj.cu:152: reg:linear is now deprecated in favor of reg:squarederror.\n",
            "[11:25:20] WARNING: /workspace/src/objective/regression_obj.cu:152: reg:linear is now deprecated in favor of reg:squarederror.\n",
            "[11:25:20] WARNING: /workspace/src/objective/regression_obj.cu:152: reg:linear is now deprecated in favor of reg:squarederror.\n",
            "[11:25:20] WARNING: /workspace/src/objective/regression_obj.cu:152: reg:linear is now deprecated in favor of reg:squarederror.\n",
            "[11:25:21] WARNING: /workspace/src/objective/regression_obj.cu:152: reg:linear is now deprecated in favor of reg:squarederror.\n",
            "[11:25:21] WARNING: /workspace/src/objective/regression_obj.cu:152: reg:linear is now deprecated in favor of reg:squarederror.\n",
            "[11:25:21] WARNING: /workspace/src/objective/regression_obj.cu:152: reg:linear is now deprecated in favor of reg:squarederror.\n",
            "[11:25:21] WARNING: /workspace/src/objective/regression_obj.cu:152: reg:linear is now deprecated in favor of reg:squarederror.\n",
            "[11:25:22] WARNING: /workspace/src/objective/regression_obj.cu:152: reg:linear is now deprecated in favor of reg:squarederror.\n",
            "[11:25:22] WARNING: /workspace/src/objective/regression_obj.cu:152: reg:linear is now deprecated in favor of reg:squarederror.\n",
            "[11:26:13] WARNING: /workspace/src/objective/regression_obj.cu:152: reg:linear is now deprecated in favor of reg:squarederror.\n",
            "[11:27:04] WARNING: /workspace/src/objective/regression_obj.cu:152: reg:linear is now deprecated in favor of reg:squarederror.\n",
            "[11:27:55] WARNING: /workspace/src/objective/regression_obj.cu:152: reg:linear is now deprecated in favor of reg:squarederror.\n",
            "[11:28:46] WARNING: /workspace/src/objective/regression_obj.cu:152: reg:linear is now deprecated in favor of reg:squarederror.\n",
            "[11:29:37] WARNING: /workspace/src/objective/regression_obj.cu:152: reg:linear is now deprecated in favor of reg:squarederror.\n",
            "[11:30:29] WARNING: /workspace/src/objective/regression_obj.cu:152: reg:linear is now deprecated in favor of reg:squarederror.\n",
            "[11:31:20] WARNING: /workspace/src/objective/regression_obj.cu:152: reg:linear is now deprecated in favor of reg:squarederror.\n",
            "[11:32:11] WARNING: /workspace/src/objective/regression_obj.cu:152: reg:linear is now deprecated in favor of reg:squarederror.\n",
            "[11:33:03] WARNING: /workspace/src/objective/regression_obj.cu:152: reg:linear is now deprecated in favor of reg:squarederror.\n",
            "[11:33:54] WARNING: /workspace/src/objective/regression_obj.cu:152: reg:linear is now deprecated in favor of reg:squarederror.\n",
            "[11:34:45] WARNING: /workspace/src/objective/regression_obj.cu:152: reg:linear is now deprecated in favor of reg:squarederror.\n",
            "[11:35:36] WARNING: /workspace/src/objective/regression_obj.cu:152: reg:linear is now deprecated in favor of reg:squarederror.\n",
            "[11:36:28] WARNING: /workspace/src/objective/regression_obj.cu:152: reg:linear is now deprecated in favor of reg:squarederror.\n",
            "[11:37:19] WARNING: /workspace/src/objective/regression_obj.cu:152: reg:linear is now deprecated in favor of reg:squarederror.\n",
            "[11:38:10] WARNING: /workspace/src/objective/regression_obj.cu:152: reg:linear is now deprecated in favor of reg:squarederror.\n",
            "[11:39:08] WARNING: /workspace/src/objective/regression_obj.cu:152: reg:linear is now deprecated in favor of reg:squarederror.\n",
            "[11:40:07] WARNING: /workspace/src/objective/regression_obj.cu:152: reg:linear is now deprecated in favor of reg:squarederror.\n",
            "[11:41:07] WARNING: /workspace/src/objective/regression_obj.cu:152: reg:linear is now deprecated in favor of reg:squarederror.\n",
            "[11:42:06] WARNING: /workspace/src/objective/regression_obj.cu:152: reg:linear is now deprecated in favor of reg:squarederror.\n",
            "[11:43:04] WARNING: /workspace/src/objective/regression_obj.cu:152: reg:linear is now deprecated in favor of reg:squarederror.\n",
            "[11:44:02] WARNING: /workspace/src/objective/regression_obj.cu:152: reg:linear is now deprecated in favor of reg:squarederror.\n",
            "[11:45:01] WARNING: /workspace/src/objective/regression_obj.cu:152: reg:linear is now deprecated in favor of reg:squarederror.\n",
            "[11:46:00] WARNING: /workspace/src/objective/regression_obj.cu:152: reg:linear is now deprecated in favor of reg:squarederror.\n",
            "[11:46:59] WARNING: /workspace/src/objective/regression_obj.cu:152: reg:linear is now deprecated in favor of reg:squarederror.\n",
            "[11:47:57] WARNING: /workspace/src/objective/regression_obj.cu:152: reg:linear is now deprecated in favor of reg:squarederror.\n",
            "[11:48:55] WARNING: /workspace/src/objective/regression_obj.cu:152: reg:linear is now deprecated in favor of reg:squarederror.\n",
            "[11:49:54] WARNING: /workspace/src/objective/regression_obj.cu:152: reg:linear is now deprecated in favor of reg:squarederror.\n",
            "[11:50:52] WARNING: /workspace/src/objective/regression_obj.cu:152: reg:linear is now deprecated in favor of reg:squarederror.\n",
            "[11:51:51] WARNING: /workspace/src/objective/regression_obj.cu:152: reg:linear is now deprecated in favor of reg:squarederror.\n",
            "[11:52:49] WARNING: /workspace/src/objective/regression_obj.cu:152: reg:linear is now deprecated in favor of reg:squarederror.\n",
            "[11:53:56] WARNING: /workspace/src/objective/regression_obj.cu:152: reg:linear is now deprecated in favor of reg:squarederror.\n",
            "[11:55:02] WARNING: /workspace/src/objective/regression_obj.cu:152: reg:linear is now deprecated in favor of reg:squarederror.\n",
            "[11:56:09] WARNING: /workspace/src/objective/regression_obj.cu:152: reg:linear is now deprecated in favor of reg:squarederror.\n",
            "[11:57:15] WARNING: /workspace/src/objective/regression_obj.cu:152: reg:linear is now deprecated in favor of reg:squarederror.\n",
            "[11:58:21] WARNING: /workspace/src/objective/regression_obj.cu:152: reg:linear is now deprecated in favor of reg:squarederror.\n",
            "[11:59:28] WARNING: /workspace/src/objective/regression_obj.cu:152: reg:linear is now deprecated in favor of reg:squarederror.\n",
            "[12:00:34] WARNING: /workspace/src/objective/regression_obj.cu:152: reg:linear is now deprecated in favor of reg:squarederror.\n",
            "[12:01:41] WARNING: /workspace/src/objective/regression_obj.cu:152: reg:linear is now deprecated in favor of reg:squarederror.\n",
            "[12:02:47] WARNING: /workspace/src/objective/regression_obj.cu:152: reg:linear is now deprecated in favor of reg:squarederror.\n",
            "[12:03:53] WARNING: /workspace/src/objective/regression_obj.cu:152: reg:linear is now deprecated in favor of reg:squarederror.\n",
            "[12:05:00] WARNING: /workspace/src/objective/regression_obj.cu:152: reg:linear is now deprecated in favor of reg:squarederror.\n",
            "[12:06:06] WARNING: /workspace/src/objective/regression_obj.cu:152: reg:linear is now deprecated in favor of reg:squarederror.\n",
            "[12:07:12] WARNING: /workspace/src/objective/regression_obj.cu:152: reg:linear is now deprecated in favor of reg:squarederror.\n",
            "[12:08:19] WARNING: /workspace/src/objective/regression_obj.cu:152: reg:linear is now deprecated in favor of reg:squarederror.\n",
            "[12:09:25] WARNING: /workspace/src/objective/regression_obj.cu:152: reg:linear is now deprecated in favor of reg:squarederror.\n"
          ],
          "name": "stdout"
        },
        {
          "output_type": "stream",
          "text": [
            "/usr/local/lib/python3.6/dist-packages/sklearn/model_selection/_validation.py:536: FitFailedWarning: Estimator fit failed. The score on this train-test partition for these parameters will be set to nan. Details: \n",
            "xgboost.core.XGBoostError: value -1 for Parameter max_depth should be greater equal to 0\n",
            "\n",
            "  FitFailedWarning)\n"
          ],
          "name": "stderr"
        },
        {
          "output_type": "stream",
          "text": [
            "[12:09:25] WARNING: /workspace/src/objective/regression_obj.cu:152: reg:linear is now deprecated in favor of reg:squarederror.\n",
            "[12:09:26] WARNING: /workspace/src/objective/regression_obj.cu:152: reg:linear is now deprecated in favor of reg:squarederror.\n",
            "[12:09:26] WARNING: /workspace/src/objective/regression_obj.cu:152: reg:linear is now deprecated in favor of reg:squarederror.\n",
            "[12:09:26] WARNING: /workspace/src/objective/regression_obj.cu:152: reg:linear is now deprecated in favor of reg:squarederror.\n",
            "[12:09:26] WARNING: /workspace/src/objective/regression_obj.cu:152: reg:linear is now deprecated in favor of reg:squarederror.\n",
            "[12:09:27] WARNING: /workspace/src/objective/regression_obj.cu:152: reg:linear is now deprecated in favor of reg:squarederror.\n",
            "[12:09:27] WARNING: /workspace/src/objective/regression_obj.cu:152: reg:linear is now deprecated in favor of reg:squarederror.\n",
            "[12:09:27] WARNING: /workspace/src/objective/regression_obj.cu:152: reg:linear is now deprecated in favor of reg:squarederror.\n",
            "[12:09:28] WARNING: /workspace/src/objective/regression_obj.cu:152: reg:linear is now deprecated in favor of reg:squarederror.\n",
            "[12:09:28] WARNING: /workspace/src/objective/regression_obj.cu:152: reg:linear is now deprecated in favor of reg:squarederror.\n",
            "[12:09:28] WARNING: /workspace/src/objective/regression_obj.cu:152: reg:linear is now deprecated in favor of reg:squarederror.\n",
            "[12:09:28] WARNING: /workspace/src/objective/regression_obj.cu:152: reg:linear is now deprecated in favor of reg:squarederror.\n",
            "[12:09:29] WARNING: /workspace/src/objective/regression_obj.cu:152: reg:linear is now deprecated in favor of reg:squarederror.\n",
            "[12:09:29] WARNING: /workspace/src/objective/regression_obj.cu:152: reg:linear is now deprecated in favor of reg:squarederror.\n",
            "[12:09:29] WARNING: /workspace/src/objective/regression_obj.cu:152: reg:linear is now deprecated in favor of reg:squarederror.\n",
            "[12:10:20] WARNING: /workspace/src/objective/regression_obj.cu:152: reg:linear is now deprecated in favor of reg:squarederror.\n",
            "[12:11:11] WARNING: /workspace/src/objective/regression_obj.cu:152: reg:linear is now deprecated in favor of reg:squarederror.\n",
            "[12:12:02] WARNING: /workspace/src/objective/regression_obj.cu:152: reg:linear is now deprecated in favor of reg:squarederror.\n",
            "[12:12:53] WARNING: /workspace/src/objective/regression_obj.cu:152: reg:linear is now deprecated in favor of reg:squarederror.\n",
            "[12:13:44] WARNING: /workspace/src/objective/regression_obj.cu:152: reg:linear is now deprecated in favor of reg:squarederror.\n",
            "[12:14:34] WARNING: /workspace/src/objective/regression_obj.cu:152: reg:linear is now deprecated in favor of reg:squarederror.\n",
            "[12:15:25] WARNING: /workspace/src/objective/regression_obj.cu:152: reg:linear is now deprecated in favor of reg:squarederror.\n",
            "[12:16:16] WARNING: /workspace/src/objective/regression_obj.cu:152: reg:linear is now deprecated in favor of reg:squarederror.\n",
            "[12:17:07] WARNING: /workspace/src/objective/regression_obj.cu:152: reg:linear is now deprecated in favor of reg:squarederror.\n",
            "[12:17:58] WARNING: /workspace/src/objective/regression_obj.cu:152: reg:linear is now deprecated in favor of reg:squarederror.\n",
            "[12:18:49] WARNING: /workspace/src/objective/regression_obj.cu:152: reg:linear is now deprecated in favor of reg:squarederror.\n",
            "[12:19:40] WARNING: /workspace/src/objective/regression_obj.cu:152: reg:linear is now deprecated in favor of reg:squarederror.\n",
            "[12:20:31] WARNING: /workspace/src/objective/regression_obj.cu:152: reg:linear is now deprecated in favor of reg:squarederror.\n",
            "[12:21:22] WARNING: /workspace/src/objective/regression_obj.cu:152: reg:linear is now deprecated in favor of reg:squarederror.\n",
            "[12:22:13] WARNING: /workspace/src/objective/regression_obj.cu:152: reg:linear is now deprecated in favor of reg:squarederror.\n",
            "[12:23:14] WARNING: /workspace/src/objective/regression_obj.cu:152: reg:linear is now deprecated in favor of reg:squarederror.\n",
            "[12:24:14] WARNING: /workspace/src/objective/regression_obj.cu:152: reg:linear is now deprecated in favor of reg:squarederror.\n",
            "[12:25:15] WARNING: /workspace/src/objective/regression_obj.cu:152: reg:linear is now deprecated in favor of reg:squarederror.\n",
            "[12:26:15] WARNING: /workspace/src/objective/regression_obj.cu:152: reg:linear is now deprecated in favor of reg:squarederror.\n",
            "[12:27:16] WARNING: /workspace/src/objective/regression_obj.cu:152: reg:linear is now deprecated in favor of reg:squarederror.\n",
            "[12:28:16] WARNING: /workspace/src/objective/regression_obj.cu:152: reg:linear is now deprecated in favor of reg:squarederror.\n",
            "[12:29:17] WARNING: /workspace/src/objective/regression_obj.cu:152: reg:linear is now deprecated in favor of reg:squarederror.\n",
            "[12:30:18] WARNING: /workspace/src/objective/regression_obj.cu:152: reg:linear is now deprecated in favor of reg:squarederror.\n",
            "[12:31:19] WARNING: /workspace/src/objective/regression_obj.cu:152: reg:linear is now deprecated in favor of reg:squarederror.\n",
            "[12:32:19] WARNING: /workspace/src/objective/regression_obj.cu:152: reg:linear is now deprecated in favor of reg:squarederror.\n",
            "[12:33:20] WARNING: /workspace/src/objective/regression_obj.cu:152: reg:linear is now deprecated in favor of reg:squarederror.\n",
            "[12:34:20] WARNING: /workspace/src/objective/regression_obj.cu:152: reg:linear is now deprecated in favor of reg:squarederror.\n",
            "[12:35:21] WARNING: /workspace/src/objective/regression_obj.cu:152: reg:linear is now deprecated in favor of reg:squarederror.\n",
            "[12:36:21] WARNING: /workspace/src/objective/regression_obj.cu:152: reg:linear is now deprecated in favor of reg:squarederror.\n",
            "[12:37:22] WARNING: /workspace/src/objective/regression_obj.cu:152: reg:linear is now deprecated in favor of reg:squarederror.\n",
            "[12:38:32] WARNING: /workspace/src/objective/regression_obj.cu:152: reg:linear is now deprecated in favor of reg:squarederror.\n",
            "[12:39:44] WARNING: /workspace/src/objective/regression_obj.cu:152: reg:linear is now deprecated in favor of reg:squarederror.\n",
            "[12:40:55] WARNING: /workspace/src/objective/regression_obj.cu:152: reg:linear is now deprecated in favor of reg:squarederror.\n",
            "[12:42:06] WARNING: /workspace/src/objective/regression_obj.cu:152: reg:linear is now deprecated in favor of reg:squarederror.\n",
            "[12:43:17] WARNING: /workspace/src/objective/regression_obj.cu:152: reg:linear is now deprecated in favor of reg:squarederror.\n",
            "[12:44:28] WARNING: /workspace/src/objective/regression_obj.cu:152: reg:linear is now deprecated in favor of reg:squarederror.\n",
            "[12:45:39] WARNING: /workspace/src/objective/regression_obj.cu:152: reg:linear is now deprecated in favor of reg:squarederror.\n",
            "[12:46:50] WARNING: /workspace/src/objective/regression_obj.cu:152: reg:linear is now deprecated in favor of reg:squarederror.\n",
            "[12:48:01] WARNING: /workspace/src/objective/regression_obj.cu:152: reg:linear is now deprecated in favor of reg:squarederror.\n",
            "[12:49:12] WARNING: /workspace/src/objective/regression_obj.cu:152: reg:linear is now deprecated in favor of reg:squarederror.\n",
            "[12:50:24] WARNING: /workspace/src/objective/regression_obj.cu:152: reg:linear is now deprecated in favor of reg:squarederror.\n",
            "[12:51:35] WARNING: /workspace/src/objective/regression_obj.cu:152: reg:linear is now deprecated in favor of reg:squarederror.\n",
            "[12:52:46] WARNING: /workspace/src/objective/regression_obj.cu:152: reg:linear is now deprecated in favor of reg:squarederror.\n",
            "[12:53:57] WARNING: /workspace/src/objective/regression_obj.cu:152: reg:linear is now deprecated in favor of reg:squarederror.\n",
            "[12:55:08] WARNING: /workspace/src/objective/regression_obj.cu:152: reg:linear is now deprecated in favor of reg:squarederror.\n"
          ],
          "name": "stdout"
        },
        {
          "output_type": "stream",
          "text": [
            "/usr/local/lib/python3.6/dist-packages/sklearn/model_selection/_validation.py:536: FitFailedWarning: Estimator fit failed. The score on this train-test partition for these parameters will be set to nan. Details: \n",
            "xgboost.core.XGBoostError: value -1 for Parameter max_depth should be greater equal to 0\n",
            "\n",
            "  FitFailedWarning)\n"
          ],
          "name": "stderr"
        },
        {
          "output_type": "stream",
          "text": [
            "[12:55:08] WARNING: /workspace/src/objective/regression_obj.cu:152: reg:linear is now deprecated in favor of reg:squarederror.\n",
            "[12:55:09] WARNING: /workspace/src/objective/regression_obj.cu:152: reg:linear is now deprecated in favor of reg:squarederror.\n",
            "[12:55:09] WARNING: /workspace/src/objective/regression_obj.cu:152: reg:linear is now deprecated in favor of reg:squarederror.\n",
            "[12:55:09] WARNING: /workspace/src/objective/regression_obj.cu:152: reg:linear is now deprecated in favor of reg:squarederror.\n",
            "[12:55:09] WARNING: /workspace/src/objective/regression_obj.cu:152: reg:linear is now deprecated in favor of reg:squarederror.\n",
            "[12:55:10] WARNING: /workspace/src/objective/regression_obj.cu:152: reg:linear is now deprecated in favor of reg:squarederror.\n",
            "[12:55:10] WARNING: /workspace/src/objective/regression_obj.cu:152: reg:linear is now deprecated in favor of reg:squarederror.\n",
            "[12:55:10] WARNING: /workspace/src/objective/regression_obj.cu:152: reg:linear is now deprecated in favor of reg:squarederror.\n",
            "[12:55:10] WARNING: /workspace/src/objective/regression_obj.cu:152: reg:linear is now deprecated in favor of reg:squarederror.\n",
            "[12:55:11] WARNING: /workspace/src/objective/regression_obj.cu:152: reg:linear is now deprecated in favor of reg:squarederror.\n",
            "[12:55:11] WARNING: /workspace/src/objective/regression_obj.cu:152: reg:linear is now deprecated in favor of reg:squarederror.\n",
            "[12:55:11] WARNING: /workspace/src/objective/regression_obj.cu:152: reg:linear is now deprecated in favor of reg:squarederror.\n",
            "[12:55:12] WARNING: /workspace/src/objective/regression_obj.cu:152: reg:linear is now deprecated in favor of reg:squarederror.\n",
            "[12:55:12] WARNING: /workspace/src/objective/regression_obj.cu:152: reg:linear is now deprecated in favor of reg:squarederror.\n",
            "[12:55:12] WARNING: /workspace/src/objective/regression_obj.cu:152: reg:linear is now deprecated in favor of reg:squarederror.\n",
            "[12:56:05] WARNING: /workspace/src/objective/regression_obj.cu:152: reg:linear is now deprecated in favor of reg:squarederror.\n",
            "[12:56:57] WARNING: /workspace/src/objective/regression_obj.cu:152: reg:linear is now deprecated in favor of reg:squarederror.\n",
            "[12:57:50] WARNING: /workspace/src/objective/regression_obj.cu:152: reg:linear is now deprecated in favor of reg:squarederror.\n"
          ],
          "name": "stdout"
        },
        {
          "output_type": "error",
          "ename": "KeyboardInterrupt",
          "evalue": "ignored",
          "traceback": [
            "\u001b[0;31m---------------------------------------------------------------------------\u001b[0m",
            "\u001b[0;31mKeyboardInterrupt\u001b[0m                         Traceback (most recent call last)",
            "\u001b[0;32m<ipython-input-25-c5f334f84a23>\u001b[0m in \u001b[0;36m<module>\u001b[0;34m()\u001b[0m\n\u001b[1;32m     14\u001b[0m \u001b[0mgcv\u001b[0m\u001b[0;34m=\u001b[0m\u001b[0mGridSearchCV\u001b[0m\u001b[0;34m(\u001b[0m\u001b[0mmodel\u001b[0m\u001b[0;34m,\u001b[0m \u001b[0mparam_grid\u001b[0m\u001b[0;34m=\u001b[0m\u001b[0mparam_grid\u001b[0m\u001b[0;34m,\u001b[0m \u001b[0mcv\u001b[0m\u001b[0;34m=\u001b[0m\u001b[0;36m5\u001b[0m\u001b[0;34m,\u001b[0m \u001b[0mscoring\u001b[0m\u001b[0;34m=\u001b[0m\u001b[0;34m'neg_mean_squared_error'\u001b[0m\u001b[0;34m)\u001b[0m\u001b[0;34m\u001b[0m\u001b[0;34m\u001b[0m\u001b[0m\n\u001b[1;32m     15\u001b[0m \u001b[0;34m\u001b[0m\u001b[0m\n\u001b[0;32m---> 16\u001b[0;31m \u001b[0mgcv\u001b[0m\u001b[0;34m.\u001b[0m\u001b[0mfit\u001b[0m\u001b[0;34m(\u001b[0m\u001b[0mX_train2\u001b[0m\u001b[0;34m,\u001b[0m \u001b[0my_train2\u001b[0m\u001b[0;34m)\u001b[0m\u001b[0;34m\u001b[0m\u001b[0;34m\u001b[0m\u001b[0m\n\u001b[0m\u001b[1;32m     17\u001b[0m \u001b[0mprint\u001b[0m\u001b[0;34m(\u001b[0m\u001b[0;34m'final params'\u001b[0m\u001b[0;34m,\u001b[0m \u001b[0mgcv\u001b[0m\u001b[0;34m.\u001b[0m\u001b[0mbest_params_\u001b[0m\u001b[0;34m)\u001b[0m\u001b[0;34m\u001b[0m\u001b[0;34m\u001b[0m\u001b[0m\n\u001b[1;32m     18\u001b[0m \u001b[0mprint\u001b[0m\u001b[0;34m(\u001b[0m\u001b[0;34m'best score'\u001b[0m\u001b[0;34m,\u001b[0m \u001b[0mgcv\u001b[0m\u001b[0;34m.\u001b[0m\u001b[0mbest_score_\u001b[0m\u001b[0;34m)\u001b[0m\u001b[0;34m\u001b[0m\u001b[0;34m\u001b[0m\u001b[0m\n",
            "\u001b[0;32m/usr/local/lib/python3.6/dist-packages/sklearn/model_selection/_search.py\u001b[0m in \u001b[0;36mfit\u001b[0;34m(self, X, y, groups, **fit_params)\u001b[0m\n\u001b[1;32m    708\u001b[0m                 \u001b[0;32mreturn\u001b[0m \u001b[0mresults\u001b[0m\u001b[0;34m\u001b[0m\u001b[0;34m\u001b[0m\u001b[0m\n\u001b[1;32m    709\u001b[0m \u001b[0;34m\u001b[0m\u001b[0m\n\u001b[0;32m--> 710\u001b[0;31m             \u001b[0mself\u001b[0m\u001b[0;34m.\u001b[0m\u001b[0m_run_search\u001b[0m\u001b[0;34m(\u001b[0m\u001b[0mevaluate_candidates\u001b[0m\u001b[0;34m)\u001b[0m\u001b[0;34m\u001b[0m\u001b[0;34m\u001b[0m\u001b[0m\n\u001b[0m\u001b[1;32m    711\u001b[0m \u001b[0;34m\u001b[0m\u001b[0m\n\u001b[1;32m    712\u001b[0m         \u001b[0;31m# For multi-metric evaluation, store the best_index_, best_params_ and\u001b[0m\u001b[0;34m\u001b[0m\u001b[0;34m\u001b[0m\u001b[0;34m\u001b[0m\u001b[0m\n",
            "\u001b[0;32m/usr/local/lib/python3.6/dist-packages/sklearn/model_selection/_search.py\u001b[0m in \u001b[0;36m_run_search\u001b[0;34m(self, evaluate_candidates)\u001b[0m\n\u001b[1;32m   1149\u001b[0m     \u001b[0;32mdef\u001b[0m \u001b[0m_run_search\u001b[0m\u001b[0;34m(\u001b[0m\u001b[0mself\u001b[0m\u001b[0;34m,\u001b[0m \u001b[0mevaluate_candidates\u001b[0m\u001b[0;34m)\u001b[0m\u001b[0;34m:\u001b[0m\u001b[0;34m\u001b[0m\u001b[0;34m\u001b[0m\u001b[0m\n\u001b[1;32m   1150\u001b[0m         \u001b[0;34m\"\"\"Search all candidates in param_grid\"\"\"\u001b[0m\u001b[0;34m\u001b[0m\u001b[0;34m\u001b[0m\u001b[0m\n\u001b[0;32m-> 1151\u001b[0;31m         \u001b[0mevaluate_candidates\u001b[0m\u001b[0;34m(\u001b[0m\u001b[0mParameterGrid\u001b[0m\u001b[0;34m(\u001b[0m\u001b[0mself\u001b[0m\u001b[0;34m.\u001b[0m\u001b[0mparam_grid\u001b[0m\u001b[0;34m)\u001b[0m\u001b[0;34m)\u001b[0m\u001b[0;34m\u001b[0m\u001b[0;34m\u001b[0m\u001b[0m\n\u001b[0m\u001b[1;32m   1152\u001b[0m \u001b[0;34m\u001b[0m\u001b[0m\n\u001b[1;32m   1153\u001b[0m \u001b[0;34m\u001b[0m\u001b[0m\n",
            "\u001b[0;32m/usr/local/lib/python3.6/dist-packages/sklearn/model_selection/_search.py\u001b[0m in \u001b[0;36mevaluate_candidates\u001b[0;34m(candidate_params)\u001b[0m\n\u001b[1;32m    687\u001b[0m                                \u001b[0;32mfor\u001b[0m \u001b[0mparameters\u001b[0m\u001b[0;34m,\u001b[0m \u001b[0;34m(\u001b[0m\u001b[0mtrain\u001b[0m\u001b[0;34m,\u001b[0m \u001b[0mtest\u001b[0m\u001b[0;34m)\u001b[0m\u001b[0;34m\u001b[0m\u001b[0;34m\u001b[0m\u001b[0m\n\u001b[1;32m    688\u001b[0m                                in product(candidate_params,\n\u001b[0;32m--> 689\u001b[0;31m                                           cv.split(X, y, groups)))\n\u001b[0m\u001b[1;32m    690\u001b[0m \u001b[0;34m\u001b[0m\u001b[0m\n\u001b[1;32m    691\u001b[0m                 \u001b[0;32mif\u001b[0m \u001b[0mlen\u001b[0m\u001b[0;34m(\u001b[0m\u001b[0mout\u001b[0m\u001b[0;34m)\u001b[0m \u001b[0;34m<\u001b[0m \u001b[0;36m1\u001b[0m\u001b[0;34m:\u001b[0m\u001b[0;34m\u001b[0m\u001b[0;34m\u001b[0m\u001b[0m\n",
            "\u001b[0;32m/usr/local/lib/python3.6/dist-packages/joblib/parallel.py\u001b[0m in \u001b[0;36m__call__\u001b[0;34m(self, iterable)\u001b[0m\n\u001b[1;32m   1042\u001b[0m                 \u001b[0mself\u001b[0m\u001b[0;34m.\u001b[0m\u001b[0m_iterating\u001b[0m \u001b[0;34m=\u001b[0m \u001b[0mself\u001b[0m\u001b[0;34m.\u001b[0m\u001b[0m_original_iterator\u001b[0m \u001b[0;32mis\u001b[0m \u001b[0;32mnot\u001b[0m \u001b[0;32mNone\u001b[0m\u001b[0;34m\u001b[0m\u001b[0;34m\u001b[0m\u001b[0m\n\u001b[1;32m   1043\u001b[0m \u001b[0;34m\u001b[0m\u001b[0m\n\u001b[0;32m-> 1044\u001b[0;31m             \u001b[0;32mwhile\u001b[0m \u001b[0mself\u001b[0m\u001b[0;34m.\u001b[0m\u001b[0mdispatch_one_batch\u001b[0m\u001b[0;34m(\u001b[0m\u001b[0miterator\u001b[0m\u001b[0;34m)\u001b[0m\u001b[0;34m:\u001b[0m\u001b[0;34m\u001b[0m\u001b[0;34m\u001b[0m\u001b[0m\n\u001b[0m\u001b[1;32m   1045\u001b[0m                 \u001b[0;32mpass\u001b[0m\u001b[0;34m\u001b[0m\u001b[0;34m\u001b[0m\u001b[0m\n\u001b[1;32m   1046\u001b[0m \u001b[0;34m\u001b[0m\u001b[0m\n",
            "\u001b[0;32m/usr/local/lib/python3.6/dist-packages/joblib/parallel.py\u001b[0m in \u001b[0;36mdispatch_one_batch\u001b[0;34m(self, iterator)\u001b[0m\n\u001b[1;32m    857\u001b[0m                 \u001b[0;32mreturn\u001b[0m \u001b[0;32mFalse\u001b[0m\u001b[0;34m\u001b[0m\u001b[0;34m\u001b[0m\u001b[0m\n\u001b[1;32m    858\u001b[0m             \u001b[0;32melse\u001b[0m\u001b[0;34m:\u001b[0m\u001b[0;34m\u001b[0m\u001b[0;34m\u001b[0m\u001b[0m\n\u001b[0;32m--> 859\u001b[0;31m                 \u001b[0mself\u001b[0m\u001b[0;34m.\u001b[0m\u001b[0m_dispatch\u001b[0m\u001b[0;34m(\u001b[0m\u001b[0mtasks\u001b[0m\u001b[0;34m)\u001b[0m\u001b[0;34m\u001b[0m\u001b[0;34m\u001b[0m\u001b[0m\n\u001b[0m\u001b[1;32m    860\u001b[0m                 \u001b[0;32mreturn\u001b[0m \u001b[0;32mTrue\u001b[0m\u001b[0;34m\u001b[0m\u001b[0;34m\u001b[0m\u001b[0m\n\u001b[1;32m    861\u001b[0m \u001b[0;34m\u001b[0m\u001b[0m\n",
            "\u001b[0;32m/usr/local/lib/python3.6/dist-packages/joblib/parallel.py\u001b[0m in \u001b[0;36m_dispatch\u001b[0;34m(self, batch)\u001b[0m\n\u001b[1;32m    775\u001b[0m         \u001b[0;32mwith\u001b[0m \u001b[0mself\u001b[0m\u001b[0;34m.\u001b[0m\u001b[0m_lock\u001b[0m\u001b[0;34m:\u001b[0m\u001b[0;34m\u001b[0m\u001b[0;34m\u001b[0m\u001b[0m\n\u001b[1;32m    776\u001b[0m             \u001b[0mjob_idx\u001b[0m \u001b[0;34m=\u001b[0m \u001b[0mlen\u001b[0m\u001b[0;34m(\u001b[0m\u001b[0mself\u001b[0m\u001b[0;34m.\u001b[0m\u001b[0m_jobs\u001b[0m\u001b[0;34m)\u001b[0m\u001b[0;34m\u001b[0m\u001b[0;34m\u001b[0m\u001b[0m\n\u001b[0;32m--> 777\u001b[0;31m             \u001b[0mjob\u001b[0m \u001b[0;34m=\u001b[0m \u001b[0mself\u001b[0m\u001b[0;34m.\u001b[0m\u001b[0m_backend\u001b[0m\u001b[0;34m.\u001b[0m\u001b[0mapply_async\u001b[0m\u001b[0;34m(\u001b[0m\u001b[0mbatch\u001b[0m\u001b[0;34m,\u001b[0m \u001b[0mcallback\u001b[0m\u001b[0;34m=\u001b[0m\u001b[0mcb\u001b[0m\u001b[0;34m)\u001b[0m\u001b[0;34m\u001b[0m\u001b[0;34m\u001b[0m\u001b[0m\n\u001b[0m\u001b[1;32m    778\u001b[0m             \u001b[0;31m# A job can complete so quickly than its callback is\u001b[0m\u001b[0;34m\u001b[0m\u001b[0;34m\u001b[0m\u001b[0;34m\u001b[0m\u001b[0m\n\u001b[1;32m    779\u001b[0m             \u001b[0;31m# called before we get here, causing self._jobs to\u001b[0m\u001b[0;34m\u001b[0m\u001b[0;34m\u001b[0m\u001b[0;34m\u001b[0m\u001b[0m\n",
            "\u001b[0;32m/usr/local/lib/python3.6/dist-packages/joblib/_parallel_backends.py\u001b[0m in \u001b[0;36mapply_async\u001b[0;34m(self, func, callback)\u001b[0m\n\u001b[1;32m    206\u001b[0m     \u001b[0;32mdef\u001b[0m \u001b[0mapply_async\u001b[0m\u001b[0;34m(\u001b[0m\u001b[0mself\u001b[0m\u001b[0;34m,\u001b[0m \u001b[0mfunc\u001b[0m\u001b[0;34m,\u001b[0m \u001b[0mcallback\u001b[0m\u001b[0;34m=\u001b[0m\u001b[0;32mNone\u001b[0m\u001b[0;34m)\u001b[0m\u001b[0;34m:\u001b[0m\u001b[0;34m\u001b[0m\u001b[0;34m\u001b[0m\u001b[0m\n\u001b[1;32m    207\u001b[0m         \u001b[0;34m\"\"\"Schedule a func to be run\"\"\"\u001b[0m\u001b[0;34m\u001b[0m\u001b[0;34m\u001b[0m\u001b[0m\n\u001b[0;32m--> 208\u001b[0;31m         \u001b[0mresult\u001b[0m \u001b[0;34m=\u001b[0m \u001b[0mImmediateResult\u001b[0m\u001b[0;34m(\u001b[0m\u001b[0mfunc\u001b[0m\u001b[0;34m)\u001b[0m\u001b[0;34m\u001b[0m\u001b[0;34m\u001b[0m\u001b[0m\n\u001b[0m\u001b[1;32m    209\u001b[0m         \u001b[0;32mif\u001b[0m \u001b[0mcallback\u001b[0m\u001b[0;34m:\u001b[0m\u001b[0;34m\u001b[0m\u001b[0;34m\u001b[0m\u001b[0m\n\u001b[1;32m    210\u001b[0m             \u001b[0mcallback\u001b[0m\u001b[0;34m(\u001b[0m\u001b[0mresult\u001b[0m\u001b[0;34m)\u001b[0m\u001b[0;34m\u001b[0m\u001b[0;34m\u001b[0m\u001b[0m\n",
            "\u001b[0;32m/usr/local/lib/python3.6/dist-packages/joblib/_parallel_backends.py\u001b[0m in \u001b[0;36m__init__\u001b[0;34m(self, batch)\u001b[0m\n\u001b[1;32m    570\u001b[0m         \u001b[0;31m# Don't delay the application, to avoid keeping the input\u001b[0m\u001b[0;34m\u001b[0m\u001b[0;34m\u001b[0m\u001b[0;34m\u001b[0m\u001b[0m\n\u001b[1;32m    571\u001b[0m         \u001b[0;31m# arguments in memory\u001b[0m\u001b[0;34m\u001b[0m\u001b[0;34m\u001b[0m\u001b[0;34m\u001b[0m\u001b[0m\n\u001b[0;32m--> 572\u001b[0;31m         \u001b[0mself\u001b[0m\u001b[0;34m.\u001b[0m\u001b[0mresults\u001b[0m \u001b[0;34m=\u001b[0m \u001b[0mbatch\u001b[0m\u001b[0;34m(\u001b[0m\u001b[0;34m)\u001b[0m\u001b[0;34m\u001b[0m\u001b[0;34m\u001b[0m\u001b[0m\n\u001b[0m\u001b[1;32m    573\u001b[0m \u001b[0;34m\u001b[0m\u001b[0m\n\u001b[1;32m    574\u001b[0m     \u001b[0;32mdef\u001b[0m \u001b[0mget\u001b[0m\u001b[0;34m(\u001b[0m\u001b[0mself\u001b[0m\u001b[0;34m)\u001b[0m\u001b[0;34m:\u001b[0m\u001b[0;34m\u001b[0m\u001b[0;34m\u001b[0m\u001b[0m\n",
            "\u001b[0;32m/usr/local/lib/python3.6/dist-packages/joblib/parallel.py\u001b[0m in \u001b[0;36m__call__\u001b[0;34m(self)\u001b[0m\n\u001b[1;32m    261\u001b[0m         \u001b[0;32mwith\u001b[0m \u001b[0mparallel_backend\u001b[0m\u001b[0;34m(\u001b[0m\u001b[0mself\u001b[0m\u001b[0;34m.\u001b[0m\u001b[0m_backend\u001b[0m\u001b[0;34m,\u001b[0m \u001b[0mn_jobs\u001b[0m\u001b[0;34m=\u001b[0m\u001b[0mself\u001b[0m\u001b[0;34m.\u001b[0m\u001b[0m_n_jobs\u001b[0m\u001b[0;34m)\u001b[0m\u001b[0;34m:\u001b[0m\u001b[0;34m\u001b[0m\u001b[0;34m\u001b[0m\u001b[0m\n\u001b[1;32m    262\u001b[0m             return [func(*args, **kwargs)\n\u001b[0;32m--> 263\u001b[0;31m                     for func, args, kwargs in self.items]\n\u001b[0m\u001b[1;32m    264\u001b[0m \u001b[0;34m\u001b[0m\u001b[0m\n\u001b[1;32m    265\u001b[0m     \u001b[0;32mdef\u001b[0m \u001b[0m__reduce__\u001b[0m\u001b[0;34m(\u001b[0m\u001b[0mself\u001b[0m\u001b[0;34m)\u001b[0m\u001b[0;34m:\u001b[0m\u001b[0;34m\u001b[0m\u001b[0;34m\u001b[0m\u001b[0m\n",
            "\u001b[0;32m/usr/local/lib/python3.6/dist-packages/joblib/parallel.py\u001b[0m in \u001b[0;36m<listcomp>\u001b[0;34m(.0)\u001b[0m\n\u001b[1;32m    261\u001b[0m         \u001b[0;32mwith\u001b[0m \u001b[0mparallel_backend\u001b[0m\u001b[0;34m(\u001b[0m\u001b[0mself\u001b[0m\u001b[0;34m.\u001b[0m\u001b[0m_backend\u001b[0m\u001b[0;34m,\u001b[0m \u001b[0mn_jobs\u001b[0m\u001b[0;34m=\u001b[0m\u001b[0mself\u001b[0m\u001b[0;34m.\u001b[0m\u001b[0m_n_jobs\u001b[0m\u001b[0;34m)\u001b[0m\u001b[0;34m:\u001b[0m\u001b[0;34m\u001b[0m\u001b[0;34m\u001b[0m\u001b[0m\n\u001b[1;32m    262\u001b[0m             return [func(*args, **kwargs)\n\u001b[0;32m--> 263\u001b[0;31m                     for func, args, kwargs in self.items]\n\u001b[0m\u001b[1;32m    264\u001b[0m \u001b[0;34m\u001b[0m\u001b[0m\n\u001b[1;32m    265\u001b[0m     \u001b[0;32mdef\u001b[0m \u001b[0m__reduce__\u001b[0m\u001b[0;34m(\u001b[0m\u001b[0mself\u001b[0m\u001b[0;34m)\u001b[0m\u001b[0;34m:\u001b[0m\u001b[0;34m\u001b[0m\u001b[0;34m\u001b[0m\u001b[0m\n",
            "\u001b[0;32m/usr/local/lib/python3.6/dist-packages/sklearn/model_selection/_validation.py\u001b[0m in \u001b[0;36m_fit_and_score\u001b[0;34m(estimator, X, y, scorer, train, test, verbose, parameters, fit_params, return_train_score, return_parameters, return_n_test_samples, return_times, return_estimator, error_score)\u001b[0m\n\u001b[1;32m    513\u001b[0m             \u001b[0mestimator\u001b[0m\u001b[0;34m.\u001b[0m\u001b[0mfit\u001b[0m\u001b[0;34m(\u001b[0m\u001b[0mX_train\u001b[0m\u001b[0;34m,\u001b[0m \u001b[0;34m**\u001b[0m\u001b[0mfit_params\u001b[0m\u001b[0;34m)\u001b[0m\u001b[0;34m\u001b[0m\u001b[0;34m\u001b[0m\u001b[0m\n\u001b[1;32m    514\u001b[0m         \u001b[0;32melse\u001b[0m\u001b[0;34m:\u001b[0m\u001b[0;34m\u001b[0m\u001b[0;34m\u001b[0m\u001b[0m\n\u001b[0;32m--> 515\u001b[0;31m             \u001b[0mestimator\u001b[0m\u001b[0;34m.\u001b[0m\u001b[0mfit\u001b[0m\u001b[0;34m(\u001b[0m\u001b[0mX_train\u001b[0m\u001b[0;34m,\u001b[0m \u001b[0my_train\u001b[0m\u001b[0;34m,\u001b[0m \u001b[0;34m**\u001b[0m\u001b[0mfit_params\u001b[0m\u001b[0;34m)\u001b[0m\u001b[0;34m\u001b[0m\u001b[0;34m\u001b[0m\u001b[0m\n\u001b[0m\u001b[1;32m    516\u001b[0m \u001b[0;34m\u001b[0m\u001b[0m\n\u001b[1;32m    517\u001b[0m     \u001b[0;32mexcept\u001b[0m \u001b[0mException\u001b[0m \u001b[0;32mas\u001b[0m \u001b[0me\u001b[0m\u001b[0;34m:\u001b[0m\u001b[0;34m\u001b[0m\u001b[0;34m\u001b[0m\u001b[0m\n",
            "\u001b[0;32m/usr/local/lib/python3.6/dist-packages/xgboost/sklearn.py\u001b[0m in \u001b[0;36mfit\u001b[0;34m(self, X, y, sample_weight, eval_set, eval_metric, early_stopping_rounds, verbose, xgb_model, sample_weight_eval_set, callbacks)\u001b[0m\n\u001b[1;32m    394\u001b[0m                               \u001b[0mevals_result\u001b[0m\u001b[0;34m=\u001b[0m\u001b[0mevals_result\u001b[0m\u001b[0;34m,\u001b[0m \u001b[0mobj\u001b[0m\u001b[0;34m=\u001b[0m\u001b[0mobj\u001b[0m\u001b[0;34m,\u001b[0m \u001b[0mfeval\u001b[0m\u001b[0;34m=\u001b[0m\u001b[0mfeval\u001b[0m\u001b[0;34m,\u001b[0m\u001b[0;34m\u001b[0m\u001b[0;34m\u001b[0m\u001b[0m\n\u001b[1;32m    395\u001b[0m                               \u001b[0mverbose_eval\u001b[0m\u001b[0;34m=\u001b[0m\u001b[0mverbose\u001b[0m\u001b[0;34m,\u001b[0m \u001b[0mxgb_model\u001b[0m\u001b[0;34m=\u001b[0m\u001b[0mxgb_model\u001b[0m\u001b[0;34m,\u001b[0m\u001b[0;34m\u001b[0m\u001b[0;34m\u001b[0m\u001b[0m\n\u001b[0;32m--> 396\u001b[0;31m                               callbacks=callbacks)\n\u001b[0m\u001b[1;32m    397\u001b[0m \u001b[0;34m\u001b[0m\u001b[0m\n\u001b[1;32m    398\u001b[0m         \u001b[0;32mif\u001b[0m \u001b[0mevals_result\u001b[0m\u001b[0;34m:\u001b[0m\u001b[0;34m\u001b[0m\u001b[0;34m\u001b[0m\u001b[0m\n",
            "\u001b[0;32m/usr/local/lib/python3.6/dist-packages/xgboost/training.py\u001b[0m in \u001b[0;36mtrain\u001b[0;34m(params, dtrain, num_boost_round, evals, obj, feval, maximize, early_stopping_rounds, evals_result, verbose_eval, xgb_model, callbacks, learning_rates)\u001b[0m\n\u001b[1;32m    214\u001b[0m                            \u001b[0mevals\u001b[0m\u001b[0;34m=\u001b[0m\u001b[0mevals\u001b[0m\u001b[0;34m,\u001b[0m\u001b[0;34m\u001b[0m\u001b[0;34m\u001b[0m\u001b[0m\n\u001b[1;32m    215\u001b[0m                            \u001b[0mobj\u001b[0m\u001b[0;34m=\u001b[0m\u001b[0mobj\u001b[0m\u001b[0;34m,\u001b[0m \u001b[0mfeval\u001b[0m\u001b[0;34m=\u001b[0m\u001b[0mfeval\u001b[0m\u001b[0;34m,\u001b[0m\u001b[0;34m\u001b[0m\u001b[0;34m\u001b[0m\u001b[0m\n\u001b[0;32m--> 216\u001b[0;31m                            xgb_model=xgb_model, callbacks=callbacks)\n\u001b[0m\u001b[1;32m    217\u001b[0m \u001b[0;34m\u001b[0m\u001b[0m\n\u001b[1;32m    218\u001b[0m \u001b[0;34m\u001b[0m\u001b[0m\n",
            "\u001b[0;32m/usr/local/lib/python3.6/dist-packages/xgboost/training.py\u001b[0m in \u001b[0;36m_train_internal\u001b[0;34m(params, dtrain, num_boost_round, evals, obj, feval, xgb_model, callbacks)\u001b[0m\n\u001b[1;32m     72\u001b[0m         \u001b[0;31m# Skip the first update if it is a recovery step.\u001b[0m\u001b[0;34m\u001b[0m\u001b[0;34m\u001b[0m\u001b[0;34m\u001b[0m\u001b[0m\n\u001b[1;32m     73\u001b[0m         \u001b[0;32mif\u001b[0m \u001b[0mversion\u001b[0m \u001b[0;34m%\u001b[0m \u001b[0;36m2\u001b[0m \u001b[0;34m==\u001b[0m \u001b[0;36m0\u001b[0m\u001b[0;34m:\u001b[0m\u001b[0;34m\u001b[0m\u001b[0;34m\u001b[0m\u001b[0m\n\u001b[0;32m---> 74\u001b[0;31m             \u001b[0mbst\u001b[0m\u001b[0;34m.\u001b[0m\u001b[0mupdate\u001b[0m\u001b[0;34m(\u001b[0m\u001b[0mdtrain\u001b[0m\u001b[0;34m,\u001b[0m \u001b[0mi\u001b[0m\u001b[0;34m,\u001b[0m \u001b[0mobj\u001b[0m\u001b[0;34m)\u001b[0m\u001b[0;34m\u001b[0m\u001b[0;34m\u001b[0m\u001b[0m\n\u001b[0m\u001b[1;32m     75\u001b[0m             \u001b[0mbst\u001b[0m\u001b[0;34m.\u001b[0m\u001b[0msave_rabit_checkpoint\u001b[0m\u001b[0;34m(\u001b[0m\u001b[0;34m)\u001b[0m\u001b[0;34m\u001b[0m\u001b[0;34m\u001b[0m\u001b[0m\n\u001b[1;32m     76\u001b[0m             \u001b[0mversion\u001b[0m \u001b[0;34m+=\u001b[0m \u001b[0;36m1\u001b[0m\u001b[0;34m\u001b[0m\u001b[0;34m\u001b[0m\u001b[0m\n",
            "\u001b[0;32m/usr/local/lib/python3.6/dist-packages/xgboost/core.py\u001b[0m in \u001b[0;36mupdate\u001b[0;34m(self, dtrain, iteration, fobj)\u001b[0m\n\u001b[1;32m   1107\u001b[0m         \u001b[0;32mif\u001b[0m \u001b[0mfobj\u001b[0m \u001b[0;32mis\u001b[0m \u001b[0;32mNone\u001b[0m\u001b[0;34m:\u001b[0m\u001b[0;34m\u001b[0m\u001b[0;34m\u001b[0m\u001b[0m\n\u001b[1;32m   1108\u001b[0m             _check_call(_LIB.XGBoosterUpdateOneIter(self.handle, ctypes.c_int(iteration),\n\u001b[0;32m-> 1109\u001b[0;31m                                                     dtrain.handle))\n\u001b[0m\u001b[1;32m   1110\u001b[0m         \u001b[0;32melse\u001b[0m\u001b[0;34m:\u001b[0m\u001b[0;34m\u001b[0m\u001b[0;34m\u001b[0m\u001b[0m\n\u001b[1;32m   1111\u001b[0m             \u001b[0mpred\u001b[0m \u001b[0;34m=\u001b[0m \u001b[0mself\u001b[0m\u001b[0;34m.\u001b[0m\u001b[0mpredict\u001b[0m\u001b[0;34m(\u001b[0m\u001b[0mdtrain\u001b[0m\u001b[0;34m)\u001b[0m\u001b[0;34m\u001b[0m\u001b[0;34m\u001b[0m\u001b[0m\n",
            "\u001b[0;31mKeyboardInterrupt\u001b[0m: "
          ]
        }
      ]
    }
  ]
}