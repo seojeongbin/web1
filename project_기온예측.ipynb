{
  "nbformat": 4,
  "nbformat_minor": 0,
  "metadata": {
    "colab": {
      "name": "project_기온예측.ipynb",
      "provenance": [],
      "collapsed_sections": [],
      "authorship_tag": "ABX9TyOqDHWrHTo7tWGqRsz4YpFF",
      "include_colab_link": true
    },
    "kernelspec": {
      "name": "python3",
      "display_name": "Python 3"
    }
  },
  "cells": [
    {
      "cell_type": "markdown",
      "metadata": {
        "id": "view-in-github",
        "colab_type": "text"
      },
      "source": [
        "<a href=\"https://colab.research.google.com/github/seojeongbin/web1/blob/master/project_%EA%B8%B0%EC%98%A8%EC%98%88%EC%B8%A1.ipynb\" target=\"_parent\"><img src=\"https://colab.research.google.com/assets/colab-badge.svg\" alt=\"Open In Colab\"/></a>"
      ]
    },
    {
      "cell_type": "markdown",
      "metadata": {
        "id": "79TQDX1MluVE"
      },
      "source": [
        "# 청주시 용암1동 기온 예측하기\r\n",
        "* 학과 : 산업공학과\r\n",
        "* 학번/성명 : 201727525/서정빈"
      ]
    },
    {
      "cell_type": "markdown",
      "metadata": {
        "id": "eV9CIWE-l5nE"
      },
      "source": [
        "## 1. 데이터 소개\r\n",
        "* 출처 : 기상청 기상자료개발포털\r\n",
        "* 매 시각 30분부터 1시간동안 10분마다 발표\r\n",
        "* 피처소개\r\n",
        "  * 강수형태 : 없음(0), 비(1), 비/눈(2), 진눈깨비(3)\r\n",
        "  * 하늘상태 : 맑음(1), 구름많음(3), 흐림(4)\r\n",
        "  * 그 외 피처 보고서 서술\r\n"
      ]
    },
    {
      "cell_type": "markdown",
      "metadata": {
        "id": "5hyGi-B2ms6o"
      },
      "source": [
        "## 2. 데이터 확인 "
      ]
    },
    {
      "cell_type": "code",
      "metadata": {
        "id": "GYmgcofXmubG"
      },
      "source": [
        "import pandas as pd\r\n",
        "import numpy as np\r\n",
        "import matplotlib as mpl\r\n",
        "import matplotlib.pyplot as plt\r\n",
        "import seaborn as sns\r\n",
        "from scipy import stats"
      ],
      "execution_count": null,
      "outputs": []
    },
    {
      "cell_type": "code",
      "metadata": {
        "colab": {
          "base_uri": "https://localhost:8080/"
        },
        "id": "cLnMhj7TmzGe",
        "outputId": "57df4d31-cb3d-4643-e2d4-7b73b1ac50a2"
      },
      "source": [
        "data = pd.read_csv(\"data.csv\", encoding='cp949')\r\n",
        "data.shape"
      ],
      "execution_count": null,
      "outputs": [
        {
          "output_type": "execute_result",
          "data": {
            "text/plain": [
              "(43082, 9)"
            ]
          },
          "metadata": {
            "tags": []
          },
          "execution_count": 17
        }
      ]
    },
    {
      "cell_type": "code",
      "metadata": {
        "colab": {
          "base_uri": "https://localhost:8080/"
        },
        "id": "BpRiBZBepBw0",
        "outputId": "c607c9ab-1e3c-4084-c0e5-6cd0636f01b1"
      },
      "source": [
        "data.info()"
      ],
      "execution_count": null,
      "outputs": [
        {
          "output_type": "stream",
          "text": [
            "<class 'pandas.core.frame.DataFrame'>\n",
            "RangeIndex: 43082 entries, 0 to 43081\n",
            "Data columns (total 9 columns):\n",
            " #   Column  Non-Null Count  Dtype  \n",
            "---  ------  --------------  -----  \n",
            " 0   날짜      43082 non-null  int64  \n",
            " 1   시간      43082 non-null  int64  \n",
            " 2   강수      43082 non-null  float64\n",
            " 3   강수형태    43082 non-null  int64  \n",
            " 4   기온      43082 non-null  float64\n",
            " 5   습도      43082 non-null  int64  \n",
            " 6   풍속      43082 non-null  float64\n",
            " 7   풍향      43082 non-null  int64  \n",
            " 8   하늘상태    43082 non-null  int64  \n",
            "dtypes: float64(3), int64(6)\n",
            "memory usage: 3.0 MB\n"
          ],
          "name": "stdout"
        }
      ]
    },
    {
      "cell_type": "code",
      "metadata": {
        "id": "f_8Cjq1wsILG"
      },
      "source": [
        "data.습도 = data.습도.astype(float)\r\n",
        "data.풍향 = data.풍향.astype(float)\r\n",
        "data.시간 = data.시간.astype(float)\r\n",
        "data.강수형태 = data.강수형태.astype(float)\r\n",
        "data.하늘상태 = data.하늘상태.astype(float)"
      ],
      "execution_count": null,
      "outputs": []
    },
    {
      "cell_type": "code",
      "metadata": {
        "colab": {
          "base_uri": "https://localhost:8080/",
          "height": 436
        },
        "id": "slnMw4EypQBJ",
        "outputId": "ce9297d1-6c3c-49ce-c578-af80de9181e9"
      },
      "source": [
        "data.head(13)"
      ],
      "execution_count": null,
      "outputs": [
        {
          "output_type": "execute_result",
          "data": {
            "text/html": [
              "<div>\n",
              "<style scoped>\n",
              "    .dataframe tbody tr th:only-of-type {\n",
              "        vertical-align: middle;\n",
              "    }\n",
              "\n",
              "    .dataframe tbody tr th {\n",
              "        vertical-align: top;\n",
              "    }\n",
              "\n",
              "    .dataframe thead th {\n",
              "        text-align: right;\n",
              "    }\n",
              "</style>\n",
              "<table border=\"1\" class=\"dataframe\">\n",
              "  <thead>\n",
              "    <tr style=\"text-align: right;\">\n",
              "      <th></th>\n",
              "      <th>날짜</th>\n",
              "      <th>시간</th>\n",
              "      <th>강수</th>\n",
              "      <th>강수형태</th>\n",
              "      <th>기온</th>\n",
              "      <th>습도</th>\n",
              "      <th>풍속</th>\n",
              "      <th>풍향</th>\n",
              "      <th>하늘상태</th>\n",
              "    </tr>\n",
              "  </thead>\n",
              "  <tbody>\n",
              "    <tr>\n",
              "      <th>0</th>\n",
              "      <td>1</td>\n",
              "      <td>30.0</td>\n",
              "      <td>0.0</td>\n",
              "      <td>0.0</td>\n",
              "      <td>-2.3</td>\n",
              "      <td>65.0</td>\n",
              "      <td>0.6</td>\n",
              "      <td>278.0</td>\n",
              "      <td>4.0</td>\n",
              "    </tr>\n",
              "    <tr>\n",
              "      <th>1</th>\n",
              "      <td>1</td>\n",
              "      <td>30.0</td>\n",
              "      <td>0.0</td>\n",
              "      <td>0.0</td>\n",
              "      <td>-0.6</td>\n",
              "      <td>65.0</td>\n",
              "      <td>0.9</td>\n",
              "      <td>275.0</td>\n",
              "      <td>4.0</td>\n",
              "    </tr>\n",
              "    <tr>\n",
              "      <th>2</th>\n",
              "      <td>1</td>\n",
              "      <td>30.0</td>\n",
              "      <td>0.0</td>\n",
              "      <td>0.0</td>\n",
              "      <td>1.0</td>\n",
              "      <td>65.0</td>\n",
              "      <td>1.3</td>\n",
              "      <td>274.0</td>\n",
              "      <td>4.0</td>\n",
              "    </tr>\n",
              "    <tr>\n",
              "      <th>3</th>\n",
              "      <td>1</td>\n",
              "      <td>30.0</td>\n",
              "      <td>0.0</td>\n",
              "      <td>0.0</td>\n",
              "      <td>1.7</td>\n",
              "      <td>60.0</td>\n",
              "      <td>1.3</td>\n",
              "      <td>277.0</td>\n",
              "      <td>4.0</td>\n",
              "    </tr>\n",
              "    <tr>\n",
              "      <th>4</th>\n",
              "      <td>1</td>\n",
              "      <td>30.0</td>\n",
              "      <td>0.0</td>\n",
              "      <td>0.0</td>\n",
              "      <td>-1.2</td>\n",
              "      <td>70.0</td>\n",
              "      <td>0.6</td>\n",
              "      <td>284.0</td>\n",
              "      <td>4.0</td>\n",
              "    </tr>\n",
              "    <tr>\n",
              "      <th>5</th>\n",
              "      <td>1</td>\n",
              "      <td>30.0</td>\n",
              "      <td>0.0</td>\n",
              "      <td>0.0</td>\n",
              "      <td>1.0</td>\n",
              "      <td>65.0</td>\n",
              "      <td>1.3</td>\n",
              "      <td>274.0</td>\n",
              "      <td>4.0</td>\n",
              "    </tr>\n",
              "    <tr>\n",
              "      <th>6</th>\n",
              "      <td>1</td>\n",
              "      <td>130.0</td>\n",
              "      <td>0.0</td>\n",
              "      <td>0.0</td>\n",
              "      <td>-1.2</td>\n",
              "      <td>70.0</td>\n",
              "      <td>0.6</td>\n",
              "      <td>284.0</td>\n",
              "      <td>4.0</td>\n",
              "    </tr>\n",
              "    <tr>\n",
              "      <th>7</th>\n",
              "      <td>1</td>\n",
              "      <td>130.0</td>\n",
              "      <td>0.0</td>\n",
              "      <td>0.0</td>\n",
              "      <td>1.0</td>\n",
              "      <td>65.0</td>\n",
              "      <td>1.3</td>\n",
              "      <td>274.0</td>\n",
              "      <td>4.0</td>\n",
              "    </tr>\n",
              "    <tr>\n",
              "      <th>8</th>\n",
              "      <td>1</td>\n",
              "      <td>130.0</td>\n",
              "      <td>0.0</td>\n",
              "      <td>0.0</td>\n",
              "      <td>1.7</td>\n",
              "      <td>60.0</td>\n",
              "      <td>1.3</td>\n",
              "      <td>277.0</td>\n",
              "      <td>4.0</td>\n",
              "    </tr>\n",
              "    <tr>\n",
              "      <th>9</th>\n",
              "      <td>1</td>\n",
              "      <td>130.0</td>\n",
              "      <td>0.0</td>\n",
              "      <td>0.0</td>\n",
              "      <td>2.3</td>\n",
              "      <td>60.0</td>\n",
              "      <td>1.3</td>\n",
              "      <td>280.0</td>\n",
              "      <td>4.0</td>\n",
              "    </tr>\n",
              "    <tr>\n",
              "      <th>10</th>\n",
              "      <td>1</td>\n",
              "      <td>130.0</td>\n",
              "      <td>0.0</td>\n",
              "      <td>0.0</td>\n",
              "      <td>1.0</td>\n",
              "      <td>65.0</td>\n",
              "      <td>1.3</td>\n",
              "      <td>274.0</td>\n",
              "      <td>4.0</td>\n",
              "    </tr>\n",
              "    <tr>\n",
              "      <th>11</th>\n",
              "      <td>1</td>\n",
              "      <td>230.0</td>\n",
              "      <td>0.0</td>\n",
              "      <td>0.0</td>\n",
              "      <td>1.0</td>\n",
              "      <td>65.0</td>\n",
              "      <td>1.3</td>\n",
              "      <td>274.0</td>\n",
              "      <td>4.0</td>\n",
              "    </tr>\n",
              "    <tr>\n",
              "      <th>12</th>\n",
              "      <td>1</td>\n",
              "      <td>230.0</td>\n",
              "      <td>0.0</td>\n",
              "      <td>0.0</td>\n",
              "      <td>1.7</td>\n",
              "      <td>60.0</td>\n",
              "      <td>1.3</td>\n",
              "      <td>277.0</td>\n",
              "      <td>4.0</td>\n",
              "    </tr>\n",
              "  </tbody>\n",
              "</table>\n",
              "</div>"
            ],
            "text/plain": [
              "    날짜     시간   강수  강수형태   기온    습도   풍속     풍향  하늘상태\n",
              "0    1   30.0  0.0   0.0 -2.3  65.0  0.6  278.0   4.0\n",
              "1    1   30.0  0.0   0.0 -0.6  65.0  0.9  275.0   4.0\n",
              "2    1   30.0  0.0   0.0  1.0  65.0  1.3  274.0   4.0\n",
              "3    1   30.0  0.0   0.0  1.7  60.0  1.3  277.0   4.0\n",
              "4    1   30.0  0.0   0.0 -1.2  70.0  0.6  284.0   4.0\n",
              "5    1   30.0  0.0   0.0  1.0  65.0  1.3  274.0   4.0\n",
              "6    1  130.0  0.0   0.0 -1.2  70.0  0.6  284.0   4.0\n",
              "7    1  130.0  0.0   0.0  1.0  65.0  1.3  274.0   4.0\n",
              "8    1  130.0  0.0   0.0  1.7  60.0  1.3  277.0   4.0\n",
              "9    1  130.0  0.0   0.0  2.3  60.0  1.3  280.0   4.0\n",
              "10   1  130.0  0.0   0.0  1.0  65.0  1.3  274.0   4.0\n",
              "11   1  230.0  0.0   0.0  1.0  65.0  1.3  274.0   4.0\n",
              "12   1  230.0  0.0   0.0  1.7  60.0  1.3  277.0   4.0"
            ]
          },
          "metadata": {
            "tags": []
          },
          "execution_count": 20
        }
      ]
    },
    {
      "cell_type": "code",
      "metadata": {
        "colab": {
          "base_uri": "https://localhost:8080/",
          "height": 436
        },
        "id": "fkmEgppGHQny",
        "outputId": "a015c13c-e1bc-45ef-d170-e924216e42de"
      },
      "source": [
        "# '시간' 데이터 변경하기 : 매 시간 30분에 10분마다 관측한 값을 표기한 형태이므로, 30(분)을 제외하고 시만 표기한다\r\n",
        "def function(row):\r\n",
        "    return row//100\r\n",
        "\r\n",
        "data[\"시간\"] = data[\"시간\"].apply(function)\r\n",
        "\r\n",
        "data.head(13)"
      ],
      "execution_count": null,
      "outputs": [
        {
          "output_type": "execute_result",
          "data": {
            "text/html": [
              "<div>\n",
              "<style scoped>\n",
              "    .dataframe tbody tr th:only-of-type {\n",
              "        vertical-align: middle;\n",
              "    }\n",
              "\n",
              "    .dataframe tbody tr th {\n",
              "        vertical-align: top;\n",
              "    }\n",
              "\n",
              "    .dataframe thead th {\n",
              "        text-align: right;\n",
              "    }\n",
              "</style>\n",
              "<table border=\"1\" class=\"dataframe\">\n",
              "  <thead>\n",
              "    <tr style=\"text-align: right;\">\n",
              "      <th></th>\n",
              "      <th>날짜</th>\n",
              "      <th>시간</th>\n",
              "      <th>강수</th>\n",
              "      <th>강수형태</th>\n",
              "      <th>기온</th>\n",
              "      <th>습도</th>\n",
              "      <th>풍속</th>\n",
              "      <th>풍향</th>\n",
              "      <th>하늘상태</th>\n",
              "    </tr>\n",
              "  </thead>\n",
              "  <tbody>\n",
              "    <tr>\n",
              "      <th>0</th>\n",
              "      <td>1</td>\n",
              "      <td>0.0</td>\n",
              "      <td>0.0</td>\n",
              "      <td>0.0</td>\n",
              "      <td>-2.3</td>\n",
              "      <td>65.0</td>\n",
              "      <td>0.6</td>\n",
              "      <td>278.0</td>\n",
              "      <td>4.0</td>\n",
              "    </tr>\n",
              "    <tr>\n",
              "      <th>1</th>\n",
              "      <td>1</td>\n",
              "      <td>0.0</td>\n",
              "      <td>0.0</td>\n",
              "      <td>0.0</td>\n",
              "      <td>-0.6</td>\n",
              "      <td>65.0</td>\n",
              "      <td>0.9</td>\n",
              "      <td>275.0</td>\n",
              "      <td>4.0</td>\n",
              "    </tr>\n",
              "    <tr>\n",
              "      <th>2</th>\n",
              "      <td>1</td>\n",
              "      <td>0.0</td>\n",
              "      <td>0.0</td>\n",
              "      <td>0.0</td>\n",
              "      <td>1.0</td>\n",
              "      <td>65.0</td>\n",
              "      <td>1.3</td>\n",
              "      <td>274.0</td>\n",
              "      <td>4.0</td>\n",
              "    </tr>\n",
              "    <tr>\n",
              "      <th>3</th>\n",
              "      <td>1</td>\n",
              "      <td>0.0</td>\n",
              "      <td>0.0</td>\n",
              "      <td>0.0</td>\n",
              "      <td>1.7</td>\n",
              "      <td>60.0</td>\n",
              "      <td>1.3</td>\n",
              "      <td>277.0</td>\n",
              "      <td>4.0</td>\n",
              "    </tr>\n",
              "    <tr>\n",
              "      <th>4</th>\n",
              "      <td>1</td>\n",
              "      <td>0.0</td>\n",
              "      <td>0.0</td>\n",
              "      <td>0.0</td>\n",
              "      <td>-1.2</td>\n",
              "      <td>70.0</td>\n",
              "      <td>0.6</td>\n",
              "      <td>284.0</td>\n",
              "      <td>4.0</td>\n",
              "    </tr>\n",
              "    <tr>\n",
              "      <th>5</th>\n",
              "      <td>1</td>\n",
              "      <td>0.0</td>\n",
              "      <td>0.0</td>\n",
              "      <td>0.0</td>\n",
              "      <td>1.0</td>\n",
              "      <td>65.0</td>\n",
              "      <td>1.3</td>\n",
              "      <td>274.0</td>\n",
              "      <td>4.0</td>\n",
              "    </tr>\n",
              "    <tr>\n",
              "      <th>6</th>\n",
              "      <td>1</td>\n",
              "      <td>1.0</td>\n",
              "      <td>0.0</td>\n",
              "      <td>0.0</td>\n",
              "      <td>-1.2</td>\n",
              "      <td>70.0</td>\n",
              "      <td>0.6</td>\n",
              "      <td>284.0</td>\n",
              "      <td>4.0</td>\n",
              "    </tr>\n",
              "    <tr>\n",
              "      <th>7</th>\n",
              "      <td>1</td>\n",
              "      <td>1.0</td>\n",
              "      <td>0.0</td>\n",
              "      <td>0.0</td>\n",
              "      <td>1.0</td>\n",
              "      <td>65.0</td>\n",
              "      <td>1.3</td>\n",
              "      <td>274.0</td>\n",
              "      <td>4.0</td>\n",
              "    </tr>\n",
              "    <tr>\n",
              "      <th>8</th>\n",
              "      <td>1</td>\n",
              "      <td>1.0</td>\n",
              "      <td>0.0</td>\n",
              "      <td>0.0</td>\n",
              "      <td>1.7</td>\n",
              "      <td>60.0</td>\n",
              "      <td>1.3</td>\n",
              "      <td>277.0</td>\n",
              "      <td>4.0</td>\n",
              "    </tr>\n",
              "    <tr>\n",
              "      <th>9</th>\n",
              "      <td>1</td>\n",
              "      <td>1.0</td>\n",
              "      <td>0.0</td>\n",
              "      <td>0.0</td>\n",
              "      <td>2.3</td>\n",
              "      <td>60.0</td>\n",
              "      <td>1.3</td>\n",
              "      <td>280.0</td>\n",
              "      <td>4.0</td>\n",
              "    </tr>\n",
              "    <tr>\n",
              "      <th>10</th>\n",
              "      <td>1</td>\n",
              "      <td>1.0</td>\n",
              "      <td>0.0</td>\n",
              "      <td>0.0</td>\n",
              "      <td>1.0</td>\n",
              "      <td>65.0</td>\n",
              "      <td>1.3</td>\n",
              "      <td>274.0</td>\n",
              "      <td>4.0</td>\n",
              "    </tr>\n",
              "    <tr>\n",
              "      <th>11</th>\n",
              "      <td>1</td>\n",
              "      <td>2.0</td>\n",
              "      <td>0.0</td>\n",
              "      <td>0.0</td>\n",
              "      <td>1.0</td>\n",
              "      <td>65.0</td>\n",
              "      <td>1.3</td>\n",
              "      <td>274.0</td>\n",
              "      <td>4.0</td>\n",
              "    </tr>\n",
              "    <tr>\n",
              "      <th>12</th>\n",
              "      <td>1</td>\n",
              "      <td>2.0</td>\n",
              "      <td>0.0</td>\n",
              "      <td>0.0</td>\n",
              "      <td>1.7</td>\n",
              "      <td>60.0</td>\n",
              "      <td>1.3</td>\n",
              "      <td>277.0</td>\n",
              "      <td>4.0</td>\n",
              "    </tr>\n",
              "  </tbody>\n",
              "</table>\n",
              "</div>"
            ],
            "text/plain": [
              "    날짜   시간   강수  강수형태   기온    습도   풍속     풍향  하늘상태\n",
              "0    1  0.0  0.0   0.0 -2.3  65.0  0.6  278.0   4.0\n",
              "1    1  0.0  0.0   0.0 -0.6  65.0  0.9  275.0   4.0\n",
              "2    1  0.0  0.0   0.0  1.0  65.0  1.3  274.0   4.0\n",
              "3    1  0.0  0.0   0.0  1.7  60.0  1.3  277.0   4.0\n",
              "4    1  0.0  0.0   0.0 -1.2  70.0  0.6  284.0   4.0\n",
              "5    1  0.0  0.0   0.0  1.0  65.0  1.3  274.0   4.0\n",
              "6    1  1.0  0.0   0.0 -1.2  70.0  0.6  284.0   4.0\n",
              "7    1  1.0  0.0   0.0  1.0  65.0  1.3  274.0   4.0\n",
              "8    1  1.0  0.0   0.0  1.7  60.0  1.3  277.0   4.0\n",
              "9    1  1.0  0.0   0.0  2.3  60.0  1.3  280.0   4.0\n",
              "10   1  1.0  0.0   0.0  1.0  65.0  1.3  274.0   4.0\n",
              "11   1  2.0  0.0   0.0  1.0  65.0  1.3  274.0   4.0\n",
              "12   1  2.0  0.0   0.0  1.7  60.0  1.3  277.0   4.0"
            ]
          },
          "metadata": {
            "tags": []
          },
          "execution_count": 21
        }
      ]
    },
    {
      "cell_type": "code",
      "metadata": {
        "id": "0rF2GUcUQ-Xp",
        "colab": {
          "base_uri": "https://localhost:8080/"
        },
        "outputId": "0d84ce7b-bf7f-4b49-c979-9d4f91311b27"
      },
      "source": [
        "# 풍속이 0인데 풍향이 값을 갖는경우, 풍향이 0인데 풍속이 값을 갖는경우는 데이터입력오류로 추정되므로 삭제해준다\r\n",
        "case1 = data[(data['풍속']==0) & (data['풍향'] !=0)].index\r\n",
        "data = data.drop(case1)\r\n",
        "case2 = data[(data['풍향']==0) & (data['풍속'] !=0)].index\r\n",
        "data = data.drop(case2)\r\n",
        "data.shape"
      ],
      "execution_count": null,
      "outputs": [
        {
          "output_type": "execute_result",
          "data": {
            "text/plain": [
              "(34337, 9)"
            ]
          },
          "metadata": {
            "tags": []
          },
          "execution_count": 22
        }
      ]
    },
    {
      "cell_type": "code",
      "metadata": {
        "colab": {
          "base_uri": "https://localhost:8080/"
        },
        "id": "uQZ7SBNZpDUM",
        "outputId": "ccafa956-353f-43f2-eed9-8d13dcc04917"
      },
      "source": [
        "data.기온.describe()"
      ],
      "execution_count": null,
      "outputs": [
        {
          "output_type": "execute_result",
          "data": {
            "text/plain": [
              "count    34337.000000\n",
              "mean        11.586379\n",
              "std          9.801620\n",
              "min        -15.900000\n",
              "25%          3.000000\n",
              "50%         11.000000\n",
              "75%         20.000000\n",
              "max         34.000000\n",
              "Name: 기온, dtype: float64"
            ]
          },
          "metadata": {
            "tags": []
          },
          "execution_count": 23
        }
      ]
    },
    {
      "cell_type": "code",
      "metadata": {
        "colab": {
          "base_uri": "https://localhost:8080/"
        },
        "id": "CiZvtMMZrBpY",
        "outputId": "068dabb1-db13-4030-9593-1f5ab41becdb"
      },
      "source": [
        "data.isnull().sum()"
      ],
      "execution_count": null,
      "outputs": [
        {
          "output_type": "execute_result",
          "data": {
            "text/plain": [
              "날짜      0\n",
              "시간      0\n",
              "강수      0\n",
              "강수형태    0\n",
              "기온      0\n",
              "습도      0\n",
              "풍속      0\n",
              "풍향      0\n",
              "하늘상태    0\n",
              "dtype: int64"
            ]
          },
          "metadata": {
            "tags": []
          },
          "execution_count": 24
        }
      ]
    },
    {
      "cell_type": "code",
      "metadata": {
        "colab": {
          "base_uri": "https://localhost:8080/",
          "height": 1000
        },
        "id": "AHHfcd_rrEFQ",
        "outputId": "2588270b-0373-4883-a940-088ecd27dc2a"
      },
      "source": [
        "import missingno as msno\r\n",
        "\r\n",
        "msno.matrix(data, figsize=(12,5))"
      ],
      "execution_count": null,
      "outputs": [
        {
          "output_type": "execute_result",
          "data": {
            "text/plain": [
              "<matplotlib.axes._subplots.AxesSubplot at 0x7f59c1bbf550>"
            ]
          },
          "metadata": {
            "tags": []
          },
          "execution_count": 25
        },
        {
          "output_type": "stream",
          "text": [
            "/usr/local/lib/python3.6/dist-packages/matplotlib/backends/backend_agg.py:214: RuntimeWarning: Glyph 45216 missing from current font.\n",
            "  font.set_text(s, 0.0, flags=flags)\n",
            "/usr/local/lib/python3.6/dist-packages/matplotlib/backends/backend_agg.py:214: RuntimeWarning: Glyph 51676 missing from current font.\n",
            "  font.set_text(s, 0.0, flags=flags)\n",
            "/usr/local/lib/python3.6/dist-packages/matplotlib/backends/backend_agg.py:214: RuntimeWarning: Glyph 49884 missing from current font.\n",
            "  font.set_text(s, 0.0, flags=flags)\n",
            "/usr/local/lib/python3.6/dist-packages/matplotlib/backends/backend_agg.py:214: RuntimeWarning: Glyph 44036 missing from current font.\n",
            "  font.set_text(s, 0.0, flags=flags)\n",
            "/usr/local/lib/python3.6/dist-packages/matplotlib/backends/backend_agg.py:214: RuntimeWarning: Glyph 44053 missing from current font.\n",
            "  font.set_text(s, 0.0, flags=flags)\n",
            "/usr/local/lib/python3.6/dist-packages/matplotlib/backends/backend_agg.py:214: RuntimeWarning: Glyph 49688 missing from current font.\n",
            "  font.set_text(s, 0.0, flags=flags)\n",
            "/usr/local/lib/python3.6/dist-packages/matplotlib/backends/backend_agg.py:214: RuntimeWarning: Glyph 54805 missing from current font.\n",
            "  font.set_text(s, 0.0, flags=flags)\n",
            "/usr/local/lib/python3.6/dist-packages/matplotlib/backends/backend_agg.py:214: RuntimeWarning: Glyph 53468 missing from current font.\n",
            "  font.set_text(s, 0.0, flags=flags)\n",
            "/usr/local/lib/python3.6/dist-packages/matplotlib/backends/backend_agg.py:214: RuntimeWarning: Glyph 44592 missing from current font.\n",
            "  font.set_text(s, 0.0, flags=flags)\n",
            "/usr/local/lib/python3.6/dist-packages/matplotlib/backends/backend_agg.py:214: RuntimeWarning: Glyph 50728 missing from current font.\n",
            "  font.set_text(s, 0.0, flags=flags)\n",
            "/usr/local/lib/python3.6/dist-packages/matplotlib/backends/backend_agg.py:214: RuntimeWarning: Glyph 49845 missing from current font.\n",
            "  font.set_text(s, 0.0, flags=flags)\n",
            "/usr/local/lib/python3.6/dist-packages/matplotlib/backends/backend_agg.py:214: RuntimeWarning: Glyph 46020 missing from current font.\n",
            "  font.set_text(s, 0.0, flags=flags)\n",
            "/usr/local/lib/python3.6/dist-packages/matplotlib/backends/backend_agg.py:214: RuntimeWarning: Glyph 54413 missing from current font.\n",
            "  font.set_text(s, 0.0, flags=flags)\n",
            "/usr/local/lib/python3.6/dist-packages/matplotlib/backends/backend_agg.py:214: RuntimeWarning: Glyph 49549 missing from current font.\n",
            "  font.set_text(s, 0.0, flags=flags)\n",
            "/usr/local/lib/python3.6/dist-packages/matplotlib/backends/backend_agg.py:214: RuntimeWarning: Glyph 54693 missing from current font.\n",
            "  font.set_text(s, 0.0, flags=flags)\n",
            "/usr/local/lib/python3.6/dist-packages/matplotlib/backends/backend_agg.py:214: RuntimeWarning: Glyph 54616 missing from current font.\n",
            "  font.set_text(s, 0.0, flags=flags)\n",
            "/usr/local/lib/python3.6/dist-packages/matplotlib/backends/backend_agg.py:214: RuntimeWarning: Glyph 45720 missing from current font.\n",
            "  font.set_text(s, 0.0, flags=flags)\n",
            "/usr/local/lib/python3.6/dist-packages/matplotlib/backends/backend_agg.py:214: RuntimeWarning: Glyph 49345 missing from current font.\n",
            "  font.set_text(s, 0.0, flags=flags)\n",
            "/usr/local/lib/python3.6/dist-packages/matplotlib/backends/backend_agg.py:183: RuntimeWarning: Glyph 45216 missing from current font.\n",
            "  font.set_text(s, 0, flags=flags)\n",
            "/usr/local/lib/python3.6/dist-packages/matplotlib/backends/backend_agg.py:183: RuntimeWarning: Glyph 51676 missing from current font.\n",
            "  font.set_text(s, 0, flags=flags)\n",
            "/usr/local/lib/python3.6/dist-packages/matplotlib/backends/backend_agg.py:183: RuntimeWarning: Glyph 49884 missing from current font.\n",
            "  font.set_text(s, 0, flags=flags)\n",
            "/usr/local/lib/python3.6/dist-packages/matplotlib/backends/backend_agg.py:183: RuntimeWarning: Glyph 44036 missing from current font.\n",
            "  font.set_text(s, 0, flags=flags)\n",
            "/usr/local/lib/python3.6/dist-packages/matplotlib/backends/backend_agg.py:183: RuntimeWarning: Glyph 44053 missing from current font.\n",
            "  font.set_text(s, 0, flags=flags)\n",
            "/usr/local/lib/python3.6/dist-packages/matplotlib/backends/backend_agg.py:183: RuntimeWarning: Glyph 49688 missing from current font.\n",
            "  font.set_text(s, 0, flags=flags)\n",
            "/usr/local/lib/python3.6/dist-packages/matplotlib/backends/backend_agg.py:183: RuntimeWarning: Glyph 54805 missing from current font.\n",
            "  font.set_text(s, 0, flags=flags)\n",
            "/usr/local/lib/python3.6/dist-packages/matplotlib/backends/backend_agg.py:183: RuntimeWarning: Glyph 53468 missing from current font.\n",
            "  font.set_text(s, 0, flags=flags)\n",
            "/usr/local/lib/python3.6/dist-packages/matplotlib/backends/backend_agg.py:183: RuntimeWarning: Glyph 44592 missing from current font.\n",
            "  font.set_text(s, 0, flags=flags)\n",
            "/usr/local/lib/python3.6/dist-packages/matplotlib/backends/backend_agg.py:183: RuntimeWarning: Glyph 50728 missing from current font.\n",
            "  font.set_text(s, 0, flags=flags)\n",
            "/usr/local/lib/python3.6/dist-packages/matplotlib/backends/backend_agg.py:183: RuntimeWarning: Glyph 49845 missing from current font.\n",
            "  font.set_text(s, 0, flags=flags)\n",
            "/usr/local/lib/python3.6/dist-packages/matplotlib/backends/backend_agg.py:183: RuntimeWarning: Glyph 46020 missing from current font.\n",
            "  font.set_text(s, 0, flags=flags)\n",
            "/usr/local/lib/python3.6/dist-packages/matplotlib/backends/backend_agg.py:183: RuntimeWarning: Glyph 54413 missing from current font.\n",
            "  font.set_text(s, 0, flags=flags)\n",
            "/usr/local/lib/python3.6/dist-packages/matplotlib/backends/backend_agg.py:183: RuntimeWarning: Glyph 49549 missing from current font.\n",
            "  font.set_text(s, 0, flags=flags)\n",
            "/usr/local/lib/python3.6/dist-packages/matplotlib/backends/backend_agg.py:183: RuntimeWarning: Glyph 54693 missing from current font.\n",
            "  font.set_text(s, 0, flags=flags)\n",
            "/usr/local/lib/python3.6/dist-packages/matplotlib/backends/backend_agg.py:183: RuntimeWarning: Glyph 54616 missing from current font.\n",
            "  font.set_text(s, 0, flags=flags)\n",
            "/usr/local/lib/python3.6/dist-packages/matplotlib/backends/backend_agg.py:183: RuntimeWarning: Glyph 45720 missing from current font.\n",
            "  font.set_text(s, 0, flags=flags)\n",
            "/usr/local/lib/python3.6/dist-packages/matplotlib/backends/backend_agg.py:183: RuntimeWarning: Glyph 49345 missing from current font.\n",
            "  font.set_text(s, 0, flags=flags)\n"
          ],
          "name": "stderr"
        },
        {
          "output_type": "display_data",
          "data": {
            "image/png": "[encoded data removed]",
            "text/plain": [
              "<Figure size 864x360 with 2 Axes>"
            ]
          },
          "metadata": {
            "tags": [],
            "needs_background": "light"
          }
        }
      ]
    },
    {
      "cell_type": "markdown",
      "metadata": {
        "id": "IK0b434w0bbL"
      },
      "source": [
        "### 데이터프레임 정규화 "
      ]
    },
    {
      "cell_type": "code",
      "metadata": {
        "colab": {
          "base_uri": "https://localhost:8080/",
          "height": 436
        },
        "id": "ZHjtr49j0eJB",
        "outputId": "083e5dc8-468a-499e-8096-ac5cbdee2e2f"
      },
      "source": [
        "cols = [\"날짜\",\"시간\",\"강수\",\"강수형태\",\"기온\",\"습도\",\"풍속\",\"풍향\",\"하늘상태\"]\r\n",
        "data[cols] = (data[cols]-data[cols].min())/(data[cols].max()-data[cols].min())\r\n",
        "data.head(13)"
      ],
      "execution_count": null,
      "outputs": [
        {
          "output_type": "execute_result",
          "data": {
            "text/html": [
              "<div>\n",
              "<style scoped>\n",
              "    .dataframe tbody tr th:only-of-type {\n",
              "        vertical-align: middle;\n",
              "    }\n",
              "\n",
              "    .dataframe tbody tr th {\n",
              "        vertical-align: top;\n",
              "    }\n",
              "\n",
              "    .dataframe thead th {\n",
              "        text-align: right;\n",
              "    }\n",
              "</style>\n",
              "<table border=\"1\" class=\"dataframe\">\n",
              "  <thead>\n",
              "    <tr style=\"text-align: right;\">\n",
              "      <th></th>\n",
              "      <th>날짜</th>\n",
              "      <th>시간</th>\n",
              "      <th>강수</th>\n",
              "      <th>강수형태</th>\n",
              "      <th>기온</th>\n",
              "      <th>습도</th>\n",
              "      <th>풍속</th>\n",
              "      <th>풍향</th>\n",
              "      <th>하늘상태</th>\n",
              "    </tr>\n",
              "  </thead>\n",
              "  <tbody>\n",
              "    <tr>\n",
              "      <th>0</th>\n",
              "      <td>0.0</td>\n",
              "      <td>0.000000</td>\n",
              "      <td>0.0</td>\n",
              "      <td>0.222222</td>\n",
              "      <td>0.272545</td>\n",
              "      <td>0.656863</td>\n",
              "      <td>0.113043</td>\n",
              "      <td>0.773481</td>\n",
              "      <td>1.0</td>\n",
              "    </tr>\n",
              "    <tr>\n",
              "      <th>1</th>\n",
              "      <td>0.0</td>\n",
              "      <td>0.000000</td>\n",
              "      <td>0.0</td>\n",
              "      <td>0.222222</td>\n",
              "      <td>0.306613</td>\n",
              "      <td>0.656863</td>\n",
              "      <td>0.126087</td>\n",
              "      <td>0.765193</td>\n",
              "      <td>1.0</td>\n",
              "    </tr>\n",
              "    <tr>\n",
              "      <th>2</th>\n",
              "      <td>0.0</td>\n",
              "      <td>0.000000</td>\n",
              "      <td>0.0</td>\n",
              "      <td>0.222222</td>\n",
              "      <td>0.338677</td>\n",
              "      <td>0.656863</td>\n",
              "      <td>0.143478</td>\n",
              "      <td>0.762431</td>\n",
              "      <td>1.0</td>\n",
              "    </tr>\n",
              "    <tr>\n",
              "      <th>3</th>\n",
              "      <td>0.0</td>\n",
              "      <td>0.000000</td>\n",
              "      <td>0.0</td>\n",
              "      <td>0.222222</td>\n",
              "      <td>0.352705</td>\n",
              "      <td>0.607843</td>\n",
              "      <td>0.143478</td>\n",
              "      <td>0.770718</td>\n",
              "      <td>1.0</td>\n",
              "    </tr>\n",
              "    <tr>\n",
              "      <th>4</th>\n",
              "      <td>0.0</td>\n",
              "      <td>0.000000</td>\n",
              "      <td>0.0</td>\n",
              "      <td>0.222222</td>\n",
              "      <td>0.294589</td>\n",
              "      <td>0.705882</td>\n",
              "      <td>0.113043</td>\n",
              "      <td>0.790055</td>\n",
              "      <td>1.0</td>\n",
              "    </tr>\n",
              "    <tr>\n",
              "      <th>5</th>\n",
              "      <td>0.0</td>\n",
              "      <td>0.000000</td>\n",
              "      <td>0.0</td>\n",
              "      <td>0.222222</td>\n",
              "      <td>0.338677</td>\n",
              "      <td>0.656863</td>\n",
              "      <td>0.143478</td>\n",
              "      <td>0.762431</td>\n",
              "      <td>1.0</td>\n",
              "    </tr>\n",
              "    <tr>\n",
              "      <th>6</th>\n",
              "      <td>0.0</td>\n",
              "      <td>0.043478</td>\n",
              "      <td>0.0</td>\n",
              "      <td>0.222222</td>\n",
              "      <td>0.294589</td>\n",
              "      <td>0.705882</td>\n",
              "      <td>0.113043</td>\n",
              "      <td>0.790055</td>\n",
              "      <td>1.0</td>\n",
              "    </tr>\n",
              "    <tr>\n",
              "      <th>7</th>\n",
              "      <td>0.0</td>\n",
              "      <td>0.043478</td>\n",
              "      <td>0.0</td>\n",
              "      <td>0.222222</td>\n",
              "      <td>0.338677</td>\n",
              "      <td>0.656863</td>\n",
              "      <td>0.143478</td>\n",
              "      <td>0.762431</td>\n",
              "      <td>1.0</td>\n",
              "    </tr>\n",
              "    <tr>\n",
              "      <th>8</th>\n",
              "      <td>0.0</td>\n",
              "      <td>0.043478</td>\n",
              "      <td>0.0</td>\n",
              "      <td>0.222222</td>\n",
              "      <td>0.352705</td>\n",
              "      <td>0.607843</td>\n",
              "      <td>0.143478</td>\n",
              "      <td>0.770718</td>\n",
              "      <td>1.0</td>\n",
              "    </tr>\n",
              "    <tr>\n",
              "      <th>9</th>\n",
              "      <td>0.0</td>\n",
              "      <td>0.043478</td>\n",
              "      <td>0.0</td>\n",
              "      <td>0.222222</td>\n",
              "      <td>0.364729</td>\n",
              "      <td>0.607843</td>\n",
              "      <td>0.143478</td>\n",
              "      <td>0.779006</td>\n",
              "      <td>1.0</td>\n",
              "    </tr>\n",
              "    <tr>\n",
              "      <th>10</th>\n",
              "      <td>0.0</td>\n",
              "      <td>0.043478</td>\n",
              "      <td>0.0</td>\n",
              "      <td>0.222222</td>\n",
              "      <td>0.338677</td>\n",
              "      <td>0.656863</td>\n",
              "      <td>0.143478</td>\n",
              "      <td>0.762431</td>\n",
              "      <td>1.0</td>\n",
              "    </tr>\n",
              "    <tr>\n",
              "      <th>11</th>\n",
              "      <td>0.0</td>\n",
              "      <td>0.086957</td>\n",
              "      <td>0.0</td>\n",
              "      <td>0.222222</td>\n",
              "      <td>0.338677</td>\n",
              "      <td>0.656863</td>\n",
              "      <td>0.143478</td>\n",
              "      <td>0.762431</td>\n",
              "      <td>1.0</td>\n",
              "    </tr>\n",
              "    <tr>\n",
              "      <th>12</th>\n",
              "      <td>0.0</td>\n",
              "      <td>0.086957</td>\n",
              "      <td>0.0</td>\n",
              "      <td>0.222222</td>\n",
              "      <td>0.352705</td>\n",
              "      <td>0.607843</td>\n",
              "      <td>0.143478</td>\n",
              "      <td>0.770718</td>\n",
              "      <td>1.0</td>\n",
              "    </tr>\n",
              "  </tbody>\n",
              "</table>\n",
              "</div>"
            ],
            "text/plain": [
              "     날짜        시간   강수      강수형태        기온        습도        풍속        풍향  하늘상태\n",
              "0   0.0  0.000000  0.0  0.222222  0.272545  0.656863  0.113043  0.773481   1.0\n",
              "1   0.0  0.000000  0.0  0.222222  0.306613  0.656863  0.126087  0.765193   1.0\n",
              "2   0.0  0.000000  0.0  0.222222  0.338677  0.656863  0.143478  0.762431   1.0\n",
              "3   0.0  0.000000  0.0  0.222222  0.352705  0.607843  0.143478  0.770718   1.0\n",
              "4   0.0  0.000000  0.0  0.222222  0.294589  0.705882  0.113043  0.790055   1.0\n",
              "5   0.0  0.000000  0.0  0.222222  0.338677  0.656863  0.143478  0.762431   1.0\n",
              "6   0.0  0.043478  0.0  0.222222  0.294589  0.705882  0.113043  0.790055   1.0\n",
              "7   0.0  0.043478  0.0  0.222222  0.338677  0.656863  0.143478  0.762431   1.0\n",
              "8   0.0  0.043478  0.0  0.222222  0.352705  0.607843  0.143478  0.770718   1.0\n",
              "9   0.0  0.043478  0.0  0.222222  0.364729  0.607843  0.143478  0.779006   1.0\n",
              "10  0.0  0.043478  0.0  0.222222  0.338677  0.656863  0.143478  0.762431   1.0\n",
              "11  0.0  0.086957  0.0  0.222222  0.338677  0.656863  0.143478  0.762431   1.0\n",
              "12  0.0  0.086957  0.0  0.222222  0.352705  0.607843  0.143478  0.770718   1.0"
            ]
          },
          "metadata": {
            "tags": []
          },
          "execution_count": 26
        }
      ]
    },
    {
      "cell_type": "markdown",
      "metadata": {
        "id": "w7zg-r-Qsq08"
      },
      "source": [
        "## 3. 탐색적 데이터 시각화 "
      ]
    },
    {
      "cell_type": "code",
      "metadata": {
        "colab": {
          "base_uri": "https://localhost:8080/",
          "height": 1000
        },
        "id": "PXU9nBPGst5c",
        "outputId": "e023e122-0f8f-4e7b-b46f-715182f73169"
      },
      "source": [
        "figure, ((ax1,ax2,ax3), (ax4,ax5,ax6)) = plt.subplots(nrows=2, ncols=3)\r\n",
        "figure.set_size_inches(18,8)\r\n",
        "\r\n",
        "sns.barplot(data=data, x=\"강수\", y=\"기온\", ax=ax1)\r\n",
        "sns.barplot(data=data, x=\"풍향\", y=\"기온\", ax=ax2)\r\n",
        "sns.barplot(data=data, x=\"습도\", y=\"기온\", ax=ax3)\r\n",
        "sns.barplot(data=data, x=\"풍속\", y=\"기온\", ax=ax4)\r\n",
        "sns.barplot(data=data, x=\"강수형태\", y=\"기온\", ax=ax5)\r\n",
        "sns.barplot(data=data, x=\"하늘상태\", y=\"기온\", ax=ax6)\r\n",
        "\r\n",
        "ax1.set(ylabel='기온',title=\"precipitation->Temperature\")\r\n",
        "ax2.set(xlabel='풍향',title=\"wind direction->Temperature\")\r\n",
        "ax3.set(xlabel='습도', title=\"humidity->Temperature\")\r\n",
        "ax4.set(xlabel='풍속', title=\"wind speed->Temperature\")"
      ],
      "execution_count": null,
      "outputs": [
        {
          "output_type": "execute_result",
          "data": {
            "text/plain": [
              "[Text(0.5, 0, '풍속'), Text(0.5, 1.0, 'wind speed->Temperature')]"
            ]
          },
          "metadata": {
            "tags": []
          },
          "execution_count": 27
        },
        {
          "output_type": "stream",
          "text": [
            "/usr/local/lib/python3.6/dist-packages/matplotlib/backends/backend_agg.py:214: RuntimeWarning: Glyph 44053 missing from current font.\n",
            "  font.set_text(s, 0.0, flags=flags)\n",
            "/usr/local/lib/python3.6/dist-packages/matplotlib/backends/backend_agg.py:214: RuntimeWarning: Glyph 49688 missing from current font.\n",
            "  font.set_text(s, 0.0, flags=flags)\n",
            "/usr/local/lib/python3.6/dist-packages/matplotlib/backends/backend_agg.py:183: RuntimeWarning: Glyph 44053 missing from current font.\n",
            "  font.set_text(s, 0, flags=flags)\n",
            "/usr/local/lib/python3.6/dist-packages/matplotlib/backends/backend_agg.py:183: RuntimeWarning: Glyph 49688 missing from current font.\n",
            "  font.set_text(s, 0, flags=flags)\n",
            "/usr/local/lib/python3.6/dist-packages/matplotlib/backends/backend_agg.py:214: RuntimeWarning: Glyph 44592 missing from current font.\n",
            "  font.set_text(s, 0.0, flags=flags)\n",
            "/usr/local/lib/python3.6/dist-packages/matplotlib/backends/backend_agg.py:214: RuntimeWarning: Glyph 50728 missing from current font.\n",
            "  font.set_text(s, 0.0, flags=flags)\n",
            "/usr/local/lib/python3.6/dist-packages/matplotlib/backends/backend_agg.py:183: RuntimeWarning: Glyph 44592 missing from current font.\n",
            "  font.set_text(s, 0, flags=flags)\n",
            "/usr/local/lib/python3.6/dist-packages/matplotlib/backends/backend_agg.py:183: RuntimeWarning: Glyph 50728 missing from current font.\n",
            "  font.set_text(s, 0, flags=flags)\n",
            "/usr/local/lib/python3.6/dist-packages/matplotlib/backends/backend_agg.py:214: RuntimeWarning: Glyph 54413 missing from current font.\n",
            "  font.set_text(s, 0.0, flags=flags)\n",
            "/usr/local/lib/python3.6/dist-packages/matplotlib/backends/backend_agg.py:214: RuntimeWarning: Glyph 54693 missing from current font.\n",
            "  font.set_text(s, 0.0, flags=flags)\n",
            "/usr/local/lib/python3.6/dist-packages/matplotlib/backends/backend_agg.py:183: RuntimeWarning: Glyph 54413 missing from current font.\n",
            "  font.set_text(s, 0, flags=flags)\n",
            "/usr/local/lib/python3.6/dist-packages/matplotlib/backends/backend_agg.py:183: RuntimeWarning: Glyph 54693 missing from current font.\n",
            "  font.set_text(s, 0, flags=flags)\n",
            "/usr/local/lib/python3.6/dist-packages/matplotlib/backends/backend_agg.py:214: RuntimeWarning: Glyph 49845 missing from current font.\n",
            "  font.set_text(s, 0.0, flags=flags)\n",
            "/usr/local/lib/python3.6/dist-packages/matplotlib/backends/backend_agg.py:214: RuntimeWarning: Glyph 46020 missing from current font.\n",
            "  font.set_text(s, 0.0, flags=flags)\n",
            "/usr/local/lib/python3.6/dist-packages/matplotlib/backends/backend_agg.py:183: RuntimeWarning: Glyph 49845 missing from current font.\n",
            "  font.set_text(s, 0, flags=flags)\n",
            "/usr/local/lib/python3.6/dist-packages/matplotlib/backends/backend_agg.py:183: RuntimeWarning: Glyph 46020 missing from current font.\n",
            "  font.set_text(s, 0, flags=flags)\n",
            "/usr/local/lib/python3.6/dist-packages/matplotlib/backends/backend_agg.py:214: RuntimeWarning: Glyph 49549 missing from current font.\n",
            "  font.set_text(s, 0.0, flags=flags)\n",
            "/usr/local/lib/python3.6/dist-packages/matplotlib/backends/backend_agg.py:183: RuntimeWarning: Glyph 49549 missing from current font.\n",
            "  font.set_text(s, 0, flags=flags)\n",
            "/usr/local/lib/python3.6/dist-packages/matplotlib/backends/backend_agg.py:214: RuntimeWarning: Glyph 54805 missing from current font.\n",
            "  font.set_text(s, 0.0, flags=flags)\n",
            "/usr/local/lib/python3.6/dist-packages/matplotlib/backends/backend_agg.py:214: RuntimeWarning: Glyph 53468 missing from current font.\n",
            "  font.set_text(s, 0.0, flags=flags)\n",
            "/usr/local/lib/python3.6/dist-packages/matplotlib/backends/backend_agg.py:183: RuntimeWarning: Glyph 54805 missing from current font.\n",
            "  font.set_text(s, 0, flags=flags)\n",
            "/usr/local/lib/python3.6/dist-packages/matplotlib/backends/backend_agg.py:183: RuntimeWarning: Glyph 53468 missing from current font.\n",
            "  font.set_text(s, 0, flags=flags)\n",
            "/usr/local/lib/python3.6/dist-packages/matplotlib/backends/backend_agg.py:214: RuntimeWarning: Glyph 54616 missing from current font.\n",
            "  font.set_text(s, 0.0, flags=flags)\n",
            "/usr/local/lib/python3.6/dist-packages/matplotlib/backends/backend_agg.py:214: RuntimeWarning: Glyph 45720 missing from current font.\n",
            "  font.set_text(s, 0.0, flags=flags)\n",
            "/usr/local/lib/python3.6/dist-packages/matplotlib/backends/backend_agg.py:214: RuntimeWarning: Glyph 49345 missing from current font.\n",
            "  font.set_text(s, 0.0, flags=flags)\n",
            "/usr/local/lib/python3.6/dist-packages/matplotlib/backends/backend_agg.py:183: RuntimeWarning: Glyph 54616 missing from current font.\n",
            "  font.set_text(s, 0, flags=flags)\n",
            "/usr/local/lib/python3.6/dist-packages/matplotlib/backends/backend_agg.py:183: RuntimeWarning: Glyph 45720 missing from current font.\n",
            "  font.set_text(s, 0, flags=flags)\n",
            "/usr/local/lib/python3.6/dist-packages/matplotlib/backends/backend_agg.py:183: RuntimeWarning: Glyph 49345 missing from current font.\n",
            "  font.set_text(s, 0, flags=flags)\n"
          ],
          "name": "stderr"
        },
        {
          "output_type": "display_data",
          "data": {
            "image/png": "[encoded data removed]",
            "text/plain": [
              "<Figure size 1296x576 with 6 Axes>"
            ]
          },
          "metadata": {
            "tags": [],
            "needs_background": "light"
          }
        }
      ]
    },
    {
      "cell_type": "markdown",
      "metadata": {
        "id": "8rfresjHx7zZ"
      },
      "source": [
        "* 위에서 우측방향 차례로 (강수량, 풍향, 습도, 풍속, 강수형태, 하늘형태) 에 따른 기온\r\n",
        "* 강수량과 기온에 대해서는, 강수량이 많아도 보통 날이 더운 여름에 비가 많이와서 그런지 강수량과 기온이 반비례하지는 않았다\r\n",
        "* 풍향은 180도 값의 경우가 기온에 가장 크게 영향을 미쳤으며 선대칭적인 양상을 보였다\r\n",
        "* 습도는 80%를 기점으로 비례관계가 변하였다 (반비례 -> 비례)\r\n",
        "* 강수형태, 하늘상태에 피쳐해석은 보고서에 서술한다. 하지만 raw data 제공처 (기상청) 에서 -2인 값은 없었다. -2값은 데이터 최초 기입 시 작업자 실수로 보인다. (습도 -2 마찬가지)"
      ]
    },
    {
      "cell_type": "code",
      "metadata": {
        "id": "2oTVDH4ckihh"
      },
      "source": [
        "# 강수형태, 하늘상태, 습도 == -2 데이터 삭제\r\n",
        "\r\n",
        "data.강수형태 = data.강수형태.astype(float)\r\n",
        "data.하늘상태 = data.하늘상태.astype(float)\r\n",
        "\r\n",
        "data = data[data.강수형태 != -2]\r\n",
        "data = data[data.하늘상태 != -2]\r\n",
        "data = data[data.습도 != -2]"
      ],
      "execution_count": null,
      "outputs": []
    },
    {
      "cell_type": "code",
      "metadata": {
        "colab": {
          "base_uri": "https://localhost:8080/",
          "height": 675
        },
        "id": "1GPlkc4zt5wb",
        "outputId": "e3c0d9c3-c69c-4080-aca4-2129d6d366c8"
      },
      "source": [
        "# 변수가 기온에 미치는 수준 시각화\r\n",
        "\r\n",
        "fig, axes = plt.subplots(nrows=2,ncols=2)\r\n",
        "fig.set_size_inches(12, 10)\r\n",
        "sns.boxplot(data=data,y=\"기온\",orient=\"v\",ax=axes[0][0])\r\n",
        "sns.boxplot(data=data,y=\"기온\",x=\"강수\",orient=\"v\",ax=axes[0][1])\r\n",
        "sns.boxplot(data=data,y=\"기온\",x=\"습도\",orient=\"v\",ax=axes[1][0])\r\n",
        "sns.boxplot(data=data,y=\"기온\",x=\"풍속\",orient=\"v\",ax=axes[1][1])\r\n",
        "\r\n",
        "axes[0][0].set(ylabel='temperature',title=\"temperature\")\r\n",
        "axes[0][1].set(xlabel='precipiation', ylabel='temperature',title=\"pre -> temp\")\r\n",
        "axes[1][0].set(xlabel='humidity', ylabel='temperature',title=\"humid -> temp\")\r\n",
        "axes[1][1].set(xlabel='wind speed', ylabel='temperature',title=\"w.s -> temp\")"
      ],
      "execution_count": null,
      "outputs": [
        {
          "output_type": "execute_result",
          "data": {
            "text/plain": [
              "[Text(0, 0.5, 'temperature'),\n",
              " Text(0.5, 0, 'wind speed'),\n",
              " Text(0.5, 1.0, 'w.s -> temp')]"
            ]
          },
          "metadata": {
            "tags": []
          },
          "execution_count": 29
        },
        {
          "output_type": "display_data",
          "data": {
            "image/png": "[encoded data removed]",
            "text/plain": [
              "<Figure size 864x720 with 4 Axes>"
            ]
          },
          "metadata": {
            "tags": [],
            "needs_background": "light"
          }
        }
      ]
    },
    {
      "cell_type": "code",
      "metadata": {
        "colab": {
          "base_uri": "https://localhost:8080/"
        },
        "id": "70Xt9m9jtxci",
        "outputId": "5e4a9857-6c71-4810-ef12-ecc2caab9d8e"
      },
      "source": [
        "corrMatt = data[[\"날짜\", \"시간\", \"강수\", \"강수형태\", \"기온\", \"습도\", \"풍속\", \"풍향\", \"하늘상태\"]]\r\n",
        "corrMatt = corrMatt.corr()\r\n",
        "print(corrMatt)\r\n",
        "\r\n",
        "mask = np.array(corrMatt)\r\n",
        "mask[np.tril_indices_from(mask)] = False"
      ],
      "execution_count": null,
      "outputs": [
        {
          "output_type": "stream",
          "text": [
            "            날짜        시간        강수  ...        풍속        풍향      하늘상태\n",
            "날짜    1.000000 -0.004323 -0.014399  ...  0.058493 -0.049102  0.038474\n",
            "시간   -0.004323  1.000000  0.000026  ... -0.174317 -0.059833  0.019175\n",
            "강수   -0.014399  0.000026  1.000000  ...  0.028562 -0.018310  0.138932\n",
            "강수형태 -0.000288 -0.001999  0.155299  ...  0.100189 -0.042968  0.238749\n",
            "기온    0.063301 -0.270729  0.106837  ...  0.181933 -0.047314  0.266733\n",
            "습도    0.046711  0.442795  0.169133  ... -0.150406 -0.163911  0.316203\n",
            "풍속    0.058493 -0.174317  0.028562  ...  1.000000  0.035047  0.033568\n",
            "풍향   -0.049102 -0.059833 -0.018310  ...  0.035047  1.000000 -0.058999\n",
            "하늘상태  0.038474  0.019175  0.138932  ...  0.033568 -0.058999  1.000000\n",
            "\n",
            "[9 rows x 9 columns]\n"
          ],
          "name": "stdout"
        }
      ]
    },
    {
      "cell_type": "code",
      "metadata": {
        "colab": {
          "base_uri": "https://localhost:8080/",
          "height": 1000
        },
        "id": "6pk1eght_i-w",
        "outputId": "becae735-c9ca-48fb-95de-d49b261be7a4"
      },
      "source": [
        "f, ax = plt.subplots(figsize=(12,12))\r\n",
        "mask = np.zeros_like(data.corr())\r\n",
        "mask[np.triu_indices_from(mask)] = True\r\n",
        "sns.heatmap(data.corr(), annot=True, linewidths=0.4, linecolor='white', fmt='.1f', ax=ax, cmap='Blues', mask=mask)\r\n",
        "plt.show()"
      ],
      "execution_count": null,
      "outputs": [
        {
          "output_type": "stream",
          "text": [
            "/usr/local/lib/python3.6/dist-packages/matplotlib/backends/backend_agg.py:214: RuntimeWarning: Glyph 45216 missing from current font.\n",
            "  font.set_text(s, 0.0, flags=flags)\n",
            "/usr/local/lib/python3.6/dist-packages/matplotlib/backends/backend_agg.py:214: RuntimeWarning: Glyph 51676 missing from current font.\n",
            "  font.set_text(s, 0.0, flags=flags)\n",
            "/usr/local/lib/python3.6/dist-packages/matplotlib/backends/backend_agg.py:214: RuntimeWarning: Glyph 49884 missing from current font.\n",
            "  font.set_text(s, 0.0, flags=flags)\n",
            "/usr/local/lib/python3.6/dist-packages/matplotlib/backends/backend_agg.py:214: RuntimeWarning: Glyph 44036 missing from current font.\n",
            "  font.set_text(s, 0.0, flags=flags)\n",
            "/usr/local/lib/python3.6/dist-packages/matplotlib/backends/backend_agg.py:214: RuntimeWarning: Glyph 44053 missing from current font.\n",
            "  font.set_text(s, 0.0, flags=flags)\n",
            "/usr/local/lib/python3.6/dist-packages/matplotlib/backends/backend_agg.py:214: RuntimeWarning: Glyph 49688 missing from current font.\n",
            "  font.set_text(s, 0.0, flags=flags)\n",
            "/usr/local/lib/python3.6/dist-packages/matplotlib/backends/backend_agg.py:214: RuntimeWarning: Glyph 54805 missing from current font.\n",
            "  font.set_text(s, 0.0, flags=flags)\n",
            "/usr/local/lib/python3.6/dist-packages/matplotlib/backends/backend_agg.py:214: RuntimeWarning: Glyph 53468 missing from current font.\n",
            "  font.set_text(s, 0.0, flags=flags)\n",
            "/usr/local/lib/python3.6/dist-packages/matplotlib/backends/backend_agg.py:214: RuntimeWarning: Glyph 44592 missing from current font.\n",
            "  font.set_text(s, 0.0, flags=flags)\n",
            "/usr/local/lib/python3.6/dist-packages/matplotlib/backends/backend_agg.py:214: RuntimeWarning: Glyph 50728 missing from current font.\n",
            "  font.set_text(s, 0.0, flags=flags)\n",
            "/usr/local/lib/python3.6/dist-packages/matplotlib/backends/backend_agg.py:214: RuntimeWarning: Glyph 49845 missing from current font.\n",
            "  font.set_text(s, 0.0, flags=flags)\n",
            "/usr/local/lib/python3.6/dist-packages/matplotlib/backends/backend_agg.py:214: RuntimeWarning: Glyph 46020 missing from current font.\n",
            "  font.set_text(s, 0.0, flags=flags)\n",
            "/usr/local/lib/python3.6/dist-packages/matplotlib/backends/backend_agg.py:214: RuntimeWarning: Glyph 54413 missing from current font.\n",
            "  font.set_text(s, 0.0, flags=flags)\n",
            "/usr/local/lib/python3.6/dist-packages/matplotlib/backends/backend_agg.py:214: RuntimeWarning: Glyph 49549 missing from current font.\n",
            "  font.set_text(s, 0.0, flags=flags)\n",
            "/usr/local/lib/python3.6/dist-packages/matplotlib/backends/backend_agg.py:214: RuntimeWarning: Glyph 54693 missing from current font.\n",
            "  font.set_text(s, 0.0, flags=flags)\n",
            "/usr/local/lib/python3.6/dist-packages/matplotlib/backends/backend_agg.py:214: RuntimeWarning: Glyph 54616 missing from current font.\n",
            "  font.set_text(s, 0.0, flags=flags)\n",
            "/usr/local/lib/python3.6/dist-packages/matplotlib/backends/backend_agg.py:214: RuntimeWarning: Glyph 45720 missing from current font.\n",
            "  font.set_text(s, 0.0, flags=flags)\n",
            "/usr/local/lib/python3.6/dist-packages/matplotlib/backends/backend_agg.py:214: RuntimeWarning: Glyph 49345 missing from current font.\n",
            "  font.set_text(s, 0.0, flags=flags)\n",
            "/usr/local/lib/python3.6/dist-packages/matplotlib/backends/backend_agg.py:183: RuntimeWarning: Glyph 45216 missing from current font.\n",
            "  font.set_text(s, 0, flags=flags)\n",
            "/usr/local/lib/python3.6/dist-packages/matplotlib/backends/backend_agg.py:183: RuntimeWarning: Glyph 51676 missing from current font.\n",
            "  font.set_text(s, 0, flags=flags)\n",
            "/usr/local/lib/python3.6/dist-packages/matplotlib/backends/backend_agg.py:183: RuntimeWarning: Glyph 49884 missing from current font.\n",
            "  font.set_text(s, 0, flags=flags)\n",
            "/usr/local/lib/python3.6/dist-packages/matplotlib/backends/backend_agg.py:183: RuntimeWarning: Glyph 44036 missing from current font.\n",
            "  font.set_text(s, 0, flags=flags)\n",
            "/usr/local/lib/python3.6/dist-packages/matplotlib/backends/backend_agg.py:183: RuntimeWarning: Glyph 44053 missing from current font.\n",
            "  font.set_text(s, 0, flags=flags)\n",
            "/usr/local/lib/python3.6/dist-packages/matplotlib/backends/backend_agg.py:183: RuntimeWarning: Glyph 49688 missing from current font.\n",
            "  font.set_text(s, 0, flags=flags)\n",
            "/usr/local/lib/python3.6/dist-packages/matplotlib/backends/backend_agg.py:183: RuntimeWarning: Glyph 54805 missing from current font.\n",
            "  font.set_text(s, 0, flags=flags)\n",
            "/usr/local/lib/python3.6/dist-packages/matplotlib/backends/backend_agg.py:183: RuntimeWarning: Glyph 53468 missing from current font.\n",
            "  font.set_text(s, 0, flags=flags)\n",
            "/usr/local/lib/python3.6/dist-packages/matplotlib/backends/backend_agg.py:183: RuntimeWarning: Glyph 44592 missing from current font.\n",
            "  font.set_text(s, 0, flags=flags)\n",
            "/usr/local/lib/python3.6/dist-packages/matplotlib/backends/backend_agg.py:183: RuntimeWarning: Glyph 50728 missing from current font.\n",
            "  font.set_text(s, 0, flags=flags)\n",
            "/usr/local/lib/python3.6/dist-packages/matplotlib/backends/backend_agg.py:183: RuntimeWarning: Glyph 49845 missing from current font.\n",
            "  font.set_text(s, 0, flags=flags)\n",
            "/usr/local/lib/python3.6/dist-packages/matplotlib/backends/backend_agg.py:183: RuntimeWarning: Glyph 46020 missing from current font.\n",
            "  font.set_text(s, 0, flags=flags)\n",
            "/usr/local/lib/python3.6/dist-packages/matplotlib/backends/backend_agg.py:183: RuntimeWarning: Glyph 54413 missing from current font.\n",
            "  font.set_text(s, 0, flags=flags)\n",
            "/usr/local/lib/python3.6/dist-packages/matplotlib/backends/backend_agg.py:183: RuntimeWarning: Glyph 49549 missing from current font.\n",
            "  font.set_text(s, 0, flags=flags)\n",
            "/usr/local/lib/python3.6/dist-packages/matplotlib/backends/backend_agg.py:183: RuntimeWarning: Glyph 54693 missing from current font.\n",
            "  font.set_text(s, 0, flags=flags)\n",
            "/usr/local/lib/python3.6/dist-packages/matplotlib/backends/backend_agg.py:183: RuntimeWarning: Glyph 54616 missing from current font.\n",
            "  font.set_text(s, 0, flags=flags)\n",
            "/usr/local/lib/python3.6/dist-packages/matplotlib/backends/backend_agg.py:183: RuntimeWarning: Glyph 45720 missing from current font.\n",
            "  font.set_text(s, 0, flags=flags)\n",
            "/usr/local/lib/python3.6/dist-packages/matplotlib/backends/backend_agg.py:183: RuntimeWarning: Glyph 49345 missing from current font.\n",
            "  font.set_text(s, 0, flags=flags)\n"
          ],
          "name": "stderr"
        },
        {
          "output_type": "display_data",
          "data": {
            "image/png": "[encoded data removed]",
            "text/plain": [
              "<Figure size 864x864 with 2 Axes>"
            ]
          },
          "metadata": {
            "tags": [],
            "needs_background": "light"
          }
        }
      ]
    },
    {
      "cell_type": "markdown",
      "metadata": {
        "id": "oD-xit_yZza7"
      },
      "source": [
        "* 서로간의 연관성이 약하다\r\n",
        "* 습도와 시간이 비교적 연관성을 보이고 있다\r\n",
        "**날짜의 경우 어느항목과도 연관성이 약한 양상을 갖기에 피쳐를 삭제해주기로 한다*"
      ]
    },
    {
      "cell_type": "code",
      "metadata": {
        "id": "UQHyS9xU_nmF",
        "colab": {
          "base_uri": "https://localhost:8080/",
          "height": 914
        },
        "outputId": "5bfde925-e3ef-410b-dca8-a3ed1bdf6f02"
      },
      "source": [
        "fig,(ax1,ax2,ax3) = plt.subplots(ncols=3)\r\n",
        "fig.set_size_inches(12, 5)\r\n",
        "sns.regplot(x=\"강수\", y=\"기온\", data=data,ax=ax1)\r\n",
        "sns.regplot(x=\"습도\", y=\"기온\", data=data,ax=ax2)\r\n",
        "sns.regplot(x=\"풍향\", y=\"기온\", data=data,ax=ax3)"
      ],
      "execution_count": null,
      "outputs": [
        {
          "output_type": "execute_result",
          "data": {
            "text/plain": [
              "<matplotlib.axes._subplots.AxesSubplot at 0x7f59b6383a20>"
            ]
          },
          "metadata": {
            "tags": []
          },
          "execution_count": 32
        },
        {
          "output_type": "stream",
          "text": [
            "/usr/local/lib/python3.6/dist-packages/matplotlib/backends/backend_agg.py:214: RuntimeWarning: Glyph 44053 missing from current font.\n",
            "  font.set_text(s, 0.0, flags=flags)\n",
            "/usr/local/lib/python3.6/dist-packages/matplotlib/backends/backend_agg.py:214: RuntimeWarning: Glyph 49688 missing from current font.\n",
            "  font.set_text(s, 0.0, flags=flags)\n",
            "/usr/local/lib/python3.6/dist-packages/matplotlib/backends/backend_agg.py:183: RuntimeWarning: Glyph 44053 missing from current font.\n",
            "  font.set_text(s, 0, flags=flags)\n",
            "/usr/local/lib/python3.6/dist-packages/matplotlib/backends/backend_agg.py:183: RuntimeWarning: Glyph 49688 missing from current font.\n",
            "  font.set_text(s, 0, flags=flags)\n",
            "/usr/local/lib/python3.6/dist-packages/matplotlib/backends/backend_agg.py:214: RuntimeWarning: Glyph 44592 missing from current font.\n",
            "  font.set_text(s, 0.0, flags=flags)\n",
            "/usr/local/lib/python3.6/dist-packages/matplotlib/backends/backend_agg.py:214: RuntimeWarning: Glyph 50728 missing from current font.\n",
            "  font.set_text(s, 0.0, flags=flags)\n",
            "/usr/local/lib/python3.6/dist-packages/matplotlib/backends/backend_agg.py:183: RuntimeWarning: Glyph 44592 missing from current font.\n",
            "  font.set_text(s, 0, flags=flags)\n",
            "/usr/local/lib/python3.6/dist-packages/matplotlib/backends/backend_agg.py:183: RuntimeWarning: Glyph 50728 missing from current font.\n",
            "  font.set_text(s, 0, flags=flags)\n",
            "/usr/local/lib/python3.6/dist-packages/matplotlib/backends/backend_agg.py:214: RuntimeWarning: Glyph 49845 missing from current font.\n",
            "  font.set_text(s, 0.0, flags=flags)\n",
            "/usr/local/lib/python3.6/dist-packages/matplotlib/backends/backend_agg.py:214: RuntimeWarning: Glyph 46020 missing from current font.\n",
            "  font.set_text(s, 0.0, flags=flags)\n",
            "/usr/local/lib/python3.6/dist-packages/matplotlib/backends/backend_agg.py:183: RuntimeWarning: Glyph 49845 missing from current font.\n",
            "  font.set_text(s, 0, flags=flags)\n",
            "/usr/local/lib/python3.6/dist-packages/matplotlib/backends/backend_agg.py:183: RuntimeWarning: Glyph 46020 missing from current font.\n",
            "  font.set_text(s, 0, flags=flags)\n",
            "/usr/local/lib/python3.6/dist-packages/matplotlib/backends/backend_agg.py:214: RuntimeWarning: Glyph 54413 missing from current font.\n",
            "  font.set_text(s, 0.0, flags=flags)\n",
            "/usr/local/lib/python3.6/dist-packages/matplotlib/backends/backend_agg.py:214: RuntimeWarning: Glyph 54693 missing from current font.\n",
            "  font.set_text(s, 0.0, flags=flags)\n",
            "/usr/local/lib/python3.6/dist-packages/matplotlib/backends/backend_agg.py:183: RuntimeWarning: Glyph 54413 missing from current font.\n",
            "  font.set_text(s, 0, flags=flags)\n",
            "/usr/local/lib/python3.6/dist-packages/matplotlib/backends/backend_agg.py:183: RuntimeWarning: Glyph 54693 missing from current font.\n",
            "  font.set_text(s, 0, flags=flags)\n"
          ],
          "name": "stderr"
        },
        {
          "output_type": "display_data",
          "data": {
            "image/png": "[encoded data removed]",
            "text/plain": [
              "<Figure size 864x360 with 3 Axes>"
            ]
          },
          "metadata": {
            "tags": [],
            "needs_background": "light"
          }
        }
      ]
    },
    {
      "cell_type": "markdown",
      "metadata": {
        "id": "9909D6aRY1s5"
      },
      "source": [
        "### 이상치 탐색"
      ]
    },
    {
      "cell_type": "code",
      "metadata": {
        "id": "Vat1gBoDY4Qd"
      },
      "source": [
        "from collections import Counter\r\n",
        "def detect_outliers(df,features):\r\n",
        "  outlier_indices = \r\n",
        "  for c in features:\r\n",
        "    Q1 = np.percentile(df[c],25)\r\n",
        "    Q3 = np.percentile(df[c],75)\r\n",
        "    IQR = Q3 - Q1\r\n",
        "    outlier_step = IQR * 1.5\r\n",
        "    outlier_list_col = df[(df[c] < Q1 - outlier_step) | (df[c] > Q3 + outlier_step)].index #filtre\r\n",
        "    outlier_indices.extend(outlier_list_col)\r\n",
        "  outlier_indices = Counter(outlier_indices)\r\n",
        "  multiple_outliers = list(i for i, v in outlier_indices.items() if v > 2) \r\n",
        "  return multiple_outliers"
      ],
      "execution_count": null,
      "outputs": []
    },
    {
      "cell_type": "code",
      "metadata": {
        "colab": {
          "base_uri": "https://localhost:8080/",
          "height": 405
        },
        "id": "zCLDNC1vawCt",
        "outputId": "93294e8e-117e-46a7-cb2c-503b13f1336b"
      },
      "source": [
        "# 이상치 출력\r\n",
        "data.loc[detect_outliers(data,[\"날짜\",\"시간\",\"강수\",\"강수형태\",\"기온\",\"습도\",\"풍속\",\"풍향\",\"하늘상태\"])]"
      ],
      "execution_count": null,
      "outputs": [
        {
          "output_type": "execute_result",
          "data": {
            "text/html": [
              "<div>\n",
              "<style scoped>\n",
              "    .dataframe tbody tr th:only-of-type {\n",
              "        vertical-align: middle;\n",
              "    }\n",
              "\n",
              "    .dataframe tbody tr th {\n",
              "        vertical-align: top;\n",
              "    }\n",
              "\n",
              "    .dataframe thead th {\n",
              "        text-align: right;\n",
              "    }\n",
              "</style>\n",
              "<table border=\"1\" class=\"dataframe\">\n",
              "  <thead>\n",
              "    <tr style=\"text-align: right;\">\n",
              "      <th></th>\n",
              "      <th>날짜</th>\n",
              "      <th>시간</th>\n",
              "      <th>강수</th>\n",
              "      <th>강수형태</th>\n",
              "      <th>기온</th>\n",
              "      <th>습도</th>\n",
              "      <th>풍속</th>\n",
              "      <th>풍향</th>\n",
              "      <th>하늘상태</th>\n",
              "    </tr>\n",
              "  </thead>\n",
              "  <tbody>\n",
              "    <tr>\n",
              "      <th>564</th>\n",
              "      <td>0.133333</td>\n",
              "      <td>0.695652</td>\n",
              "      <td>0.004505</td>\n",
              "      <td>0.555556</td>\n",
              "      <td>0.318637</td>\n",
              "      <td>0.607843</td>\n",
              "      <td>0.117391</td>\n",
              "      <td>0.290055</td>\n",
              "      <td>1.000000</td>\n",
              "    </tr>\n",
              "    <tr>\n",
              "      <th>568</th>\n",
              "      <td>0.133333</td>\n",
              "      <td>0.739130</td>\n",
              "      <td>0.004505</td>\n",
              "      <td>0.555556</td>\n",
              "      <td>0.318637</td>\n",
              "      <td>0.607843</td>\n",
              "      <td>0.117391</td>\n",
              "      <td>0.290055</td>\n",
              "      <td>1.000000</td>\n",
              "    </tr>\n",
              "    <tr>\n",
              "      <th>570</th>\n",
              "      <td>0.133333</td>\n",
              "      <td>0.782609</td>\n",
              "      <td>0.004505</td>\n",
              "      <td>0.555556</td>\n",
              "      <td>0.322645</td>\n",
              "      <td>0.607843</td>\n",
              "      <td>0.113043</td>\n",
              "      <td>0.198895</td>\n",
              "      <td>1.000000</td>\n",
              "    </tr>\n",
              "    <tr>\n",
              "      <th>571</th>\n",
              "      <td>0.133333</td>\n",
              "      <td>0.782609</td>\n",
              "      <td>0.009009</td>\n",
              "      <td>0.555556</td>\n",
              "      <td>0.320641</td>\n",
              "      <td>0.607843</td>\n",
              "      <td>0.108696</td>\n",
              "      <td>0.254144</td>\n",
              "      <td>1.000000</td>\n",
              "    </tr>\n",
              "    <tr>\n",
              "      <th>572</th>\n",
              "      <td>0.133333</td>\n",
              "      <td>0.782609</td>\n",
              "      <td>0.004505</td>\n",
              "      <td>0.555556</td>\n",
              "      <td>0.318637</td>\n",
              "      <td>0.607843</td>\n",
              "      <td>0.108696</td>\n",
              "      <td>0.314917</td>\n",
              "      <td>1.000000</td>\n",
              "    </tr>\n",
              "    <tr>\n",
              "      <th>...</th>\n",
              "      <td>...</td>\n",
              "      <td>...</td>\n",
              "      <td>...</td>\n",
              "      <td>...</td>\n",
              "      <td>...</td>\n",
              "      <td>...</td>\n",
              "      <td>...</td>\n",
              "      <td>...</td>\n",
              "      <td>...</td>\n",
              "    </tr>\n",
              "    <tr>\n",
              "      <th>42811</th>\n",
              "      <td>0.700000</td>\n",
              "      <td>0.782609</td>\n",
              "      <td>0.000000</td>\n",
              "      <td>1.000000</td>\n",
              "      <td>0.140281</td>\n",
              "      <td>0.656863</td>\n",
              "      <td>0.304348</td>\n",
              "      <td>0.881215</td>\n",
              "      <td>1.000000</td>\n",
              "    </tr>\n",
              "    <tr>\n",
              "      <th>42814</th>\n",
              "      <td>0.700000</td>\n",
              "      <td>0.826087</td>\n",
              "      <td>0.000000</td>\n",
              "      <td>1.000000</td>\n",
              "      <td>0.140281</td>\n",
              "      <td>0.705882</td>\n",
              "      <td>0.260870</td>\n",
              "      <td>0.906077</td>\n",
              "      <td>1.000000</td>\n",
              "    </tr>\n",
              "    <tr>\n",
              "      <th>42815</th>\n",
              "      <td>0.700000</td>\n",
              "      <td>0.826087</td>\n",
              "      <td>0.000000</td>\n",
              "      <td>1.000000</td>\n",
              "      <td>0.140281</td>\n",
              "      <td>0.656863</td>\n",
              "      <td>0.304348</td>\n",
              "      <td>0.892265</td>\n",
              "      <td>1.000000</td>\n",
              "    </tr>\n",
              "    <tr>\n",
              "      <th>42821</th>\n",
              "      <td>0.700000</td>\n",
              "      <td>0.913043</td>\n",
              "      <td>0.000000</td>\n",
              "      <td>1.000000</td>\n",
              "      <td>0.140281</td>\n",
              "      <td>0.656863</td>\n",
              "      <td>0.304348</td>\n",
              "      <td>0.900552</td>\n",
              "      <td>1.000000</td>\n",
              "    </tr>\n",
              "    <tr>\n",
              "      <th>42830</th>\n",
              "      <td>0.700000</td>\n",
              "      <td>0.956522</td>\n",
              "      <td>0.000000</td>\n",
              "      <td>1.000000</td>\n",
              "      <td>0.160321</td>\n",
              "      <td>0.607843</td>\n",
              "      <td>0.304348</td>\n",
              "      <td>0.881215</td>\n",
              "      <td>0.833333</td>\n",
              "    </tr>\n",
              "  </tbody>\n",
              "</table>\n",
              "<p>1398 rows × 9 columns</p>\n",
              "</div>"
            ],
            "text/plain": [
              "             날짜        시간        강수  ...        풍속        풍향      하늘상태\n",
              "564    0.133333  0.695652  0.004505  ...  0.117391  0.290055  1.000000\n",
              "568    0.133333  0.739130  0.004505  ...  0.117391  0.290055  1.000000\n",
              "570    0.133333  0.782609  0.004505  ...  0.113043  0.198895  1.000000\n",
              "571    0.133333  0.782609  0.009009  ...  0.108696  0.254144  1.000000\n",
              "572    0.133333  0.782609  0.004505  ...  0.108696  0.314917  1.000000\n",
              "...         ...       ...       ...  ...       ...       ...       ...\n",
              "42811  0.700000  0.782609  0.000000  ...  0.304348  0.881215  1.000000\n",
              "42814  0.700000  0.826087  0.000000  ...  0.260870  0.906077  1.000000\n",
              "42815  0.700000  0.826087  0.000000  ...  0.304348  0.892265  1.000000\n",
              "42821  0.700000  0.913043  0.000000  ...  0.304348  0.900552  1.000000\n",
              "42830  0.700000  0.956522  0.000000  ...  0.304348  0.881215  0.833333\n",
              "\n",
              "[1398 rows x 9 columns]"
            ]
          },
          "metadata": {
            "tags": []
          },
          "execution_count": 34
        }
      ]
    },
    {
      "cell_type": "code",
      "metadata": {
        "colab": {
          "base_uri": "https://localhost:8080/",
          "height": 405
        },
        "id": "5PzfymbDbBfY",
        "outputId": "96e9272a-b3af-4c1f-8a6c-0eb176886b84"
      },
      "source": [
        "data = data.drop(detect_outliers(data,[\"날짜\",\"시간\",\"강수\",\"강수형태\",\"기온\",\"습도\",\"풍속\",\"풍향\",\"하늘상태\"]))\r\n",
        "data"
      ],
      "execution_count": null,
      "outputs": [
        {
          "output_type": "execute_result",
          "data": {
            "text/html": [
              "<div>\n",
              "<style scoped>\n",
              "    .dataframe tbody tr th:only-of-type {\n",
              "        vertical-align: middle;\n",
              "    }\n",
              "\n",
              "    .dataframe tbody tr th {\n",
              "        vertical-align: top;\n",
              "    }\n",
              "\n",
              "    .dataframe thead th {\n",
              "        text-align: right;\n",
              "    }\n",
              "</style>\n",
              "<table border=\"1\" class=\"dataframe\">\n",
              "  <thead>\n",
              "    <tr style=\"text-align: right;\">\n",
              "      <th></th>\n",
              "      <th>날짜</th>\n",
              "      <th>시간</th>\n",
              "      <th>강수</th>\n",
              "      <th>강수형태</th>\n",
              "      <th>기온</th>\n",
              "      <th>습도</th>\n",
              "      <th>풍속</th>\n",
              "      <th>풍향</th>\n",
              "      <th>하늘상태</th>\n",
              "    </tr>\n",
              "  </thead>\n",
              "  <tbody>\n",
              "    <tr>\n",
              "      <th>0</th>\n",
              "      <td>0.000000</td>\n",
              "      <td>0.0</td>\n",
              "      <td>0.0</td>\n",
              "      <td>0.222222</td>\n",
              "      <td>0.272545</td>\n",
              "      <td>0.656863</td>\n",
              "      <td>0.113043</td>\n",
              "      <td>0.773481</td>\n",
              "      <td>1.0</td>\n",
              "    </tr>\n",
              "    <tr>\n",
              "      <th>1</th>\n",
              "      <td>0.000000</td>\n",
              "      <td>0.0</td>\n",
              "      <td>0.0</td>\n",
              "      <td>0.222222</td>\n",
              "      <td>0.306613</td>\n",
              "      <td>0.656863</td>\n",
              "      <td>0.126087</td>\n",
              "      <td>0.765193</td>\n",
              "      <td>1.0</td>\n",
              "    </tr>\n",
              "    <tr>\n",
              "      <th>2</th>\n",
              "      <td>0.000000</td>\n",
              "      <td>0.0</td>\n",
              "      <td>0.0</td>\n",
              "      <td>0.222222</td>\n",
              "      <td>0.338677</td>\n",
              "      <td>0.656863</td>\n",
              "      <td>0.143478</td>\n",
              "      <td>0.762431</td>\n",
              "      <td>1.0</td>\n",
              "    </tr>\n",
              "    <tr>\n",
              "      <th>3</th>\n",
              "      <td>0.000000</td>\n",
              "      <td>0.0</td>\n",
              "      <td>0.0</td>\n",
              "      <td>0.222222</td>\n",
              "      <td>0.352705</td>\n",
              "      <td>0.607843</td>\n",
              "      <td>0.143478</td>\n",
              "      <td>0.770718</td>\n",
              "      <td>1.0</td>\n",
              "    </tr>\n",
              "    <tr>\n",
              "      <th>4</th>\n",
              "      <td>0.000000</td>\n",
              "      <td>0.0</td>\n",
              "      <td>0.0</td>\n",
              "      <td>0.222222</td>\n",
              "      <td>0.294589</td>\n",
              "      <td>0.705882</td>\n",
              "      <td>0.113043</td>\n",
              "      <td>0.790055</td>\n",
              "      <td>1.0</td>\n",
              "    </tr>\n",
              "    <tr>\n",
              "      <th>...</th>\n",
              "      <td>...</td>\n",
              "      <td>...</td>\n",
              "      <td>...</td>\n",
              "      <td>...</td>\n",
              "      <td>...</td>\n",
              "      <td>...</td>\n",
              "      <td>...</td>\n",
              "      <td>...</td>\n",
              "      <td>...</td>\n",
              "    </tr>\n",
              "    <tr>\n",
              "      <th>43074</th>\n",
              "      <td>0.766667</td>\n",
              "      <td>1.0</td>\n",
              "      <td>0.0</td>\n",
              "      <td>0.222222</td>\n",
              "      <td>0.100200</td>\n",
              "      <td>0.852941</td>\n",
              "      <td>0.130435</td>\n",
              "      <td>0.502762</td>\n",
              "      <td>1.0</td>\n",
              "    </tr>\n",
              "    <tr>\n",
              "      <th>43075</th>\n",
              "      <td>0.766667</td>\n",
              "      <td>1.0</td>\n",
              "      <td>0.0</td>\n",
              "      <td>1.000000</td>\n",
              "      <td>0.160321</td>\n",
              "      <td>0.803922</td>\n",
              "      <td>0.130435</td>\n",
              "      <td>0.604972</td>\n",
              "      <td>1.0</td>\n",
              "    </tr>\n",
              "    <tr>\n",
              "      <th>43076</th>\n",
              "      <td>0.800000</td>\n",
              "      <td>0.0</td>\n",
              "      <td>0.0</td>\n",
              "      <td>1.000000</td>\n",
              "      <td>0.240481</td>\n",
              "      <td>0.705882</td>\n",
              "      <td>0.173913</td>\n",
              "      <td>0.674033</td>\n",
              "      <td>1.0</td>\n",
              "    </tr>\n",
              "    <tr>\n",
              "      <th>43080</th>\n",
              "      <td>0.800000</td>\n",
              "      <td>0.0</td>\n",
              "      <td>0.0</td>\n",
              "      <td>0.222222</td>\n",
              "      <td>0.220441</td>\n",
              "      <td>0.803922</td>\n",
              "      <td>0.130435</td>\n",
              "      <td>0.776243</td>\n",
              "      <td>1.0</td>\n",
              "    </tr>\n",
              "    <tr>\n",
              "      <th>43081</th>\n",
              "      <td>0.800000</td>\n",
              "      <td>0.0</td>\n",
              "      <td>0.0</td>\n",
              "      <td>1.000000</td>\n",
              "      <td>0.280561</td>\n",
              "      <td>0.705882</td>\n",
              "      <td>0.173913</td>\n",
              "      <td>0.734807</td>\n",
              "      <td>1.0</td>\n",
              "    </tr>\n",
              "  </tbody>\n",
              "</table>\n",
              "<p>32939 rows × 9 columns</p>\n",
              "</div>"
            ],
            "text/plain": [
              "             날짜   시간   강수      강수형태  ...        습도        풍속        풍향  하늘상태\n",
              "0      0.000000  0.0  0.0  0.222222  ...  0.656863  0.113043  0.773481   1.0\n",
              "1      0.000000  0.0  0.0  0.222222  ...  0.656863  0.126087  0.765193   1.0\n",
              "2      0.000000  0.0  0.0  0.222222  ...  0.656863  0.143478  0.762431   1.0\n",
              "3      0.000000  0.0  0.0  0.222222  ...  0.607843  0.143478  0.770718   1.0\n",
              "4      0.000000  0.0  0.0  0.222222  ...  0.705882  0.113043  0.790055   1.0\n",
              "...         ...  ...  ...       ...  ...       ...       ...       ...   ...\n",
              "43074  0.766667  1.0  0.0  0.222222  ...  0.852941  0.130435  0.502762   1.0\n",
              "43075  0.766667  1.0  0.0  1.000000  ...  0.803922  0.130435  0.604972   1.0\n",
              "43076  0.800000  0.0  0.0  1.000000  ...  0.705882  0.173913  0.674033   1.0\n",
              "43080  0.800000  0.0  0.0  0.222222  ...  0.803922  0.130435  0.776243   1.0\n",
              "43081  0.800000  0.0  0.0  1.000000  ...  0.705882  0.173913  0.734807   1.0\n",
              "\n",
              "[32939 rows x 9 columns]"
            ]
          },
          "metadata": {
            "tags": []
          },
          "execution_count": 35
        }
      ]
    },
    {
      "cell_type": "markdown",
      "metadata": {
        "id": "GARuIwg-pB-m"
      },
      "source": [
        "### 최종 전처리 이후 상관관계 파악"
      ]
    },
    {
      "cell_type": "code",
      "metadata": {
        "colab": {
          "base_uri": "https://localhost:8080/",
          "height": 316
        },
        "id": "XJw95bgepILg",
        "outputId": "5c77030f-2af7-48c9-e9ec-203e8e3fc7cf"
      },
      "source": [
        "data.corr()"
      ],
      "execution_count": null,
      "outputs": [
        {
          "output_type": "execute_result",
          "data": {
            "text/html": [
              "<div>\n",
              "<style scoped>\n",
              "    .dataframe tbody tr th:only-of-type {\n",
              "        vertical-align: middle;\n",
              "    }\n",
              "\n",
              "    .dataframe tbody tr th {\n",
              "        vertical-align: top;\n",
              "    }\n",
              "\n",
              "    .dataframe thead th {\n",
              "        text-align: right;\n",
              "    }\n",
              "</style>\n",
              "<table border=\"1\" class=\"dataframe\">\n",
              "  <thead>\n",
              "    <tr style=\"text-align: right;\">\n",
              "      <th></th>\n",
              "      <th>날짜</th>\n",
              "      <th>시간</th>\n",
              "      <th>강수</th>\n",
              "      <th>강수형태</th>\n",
              "      <th>기온</th>\n",
              "      <th>습도</th>\n",
              "      <th>풍속</th>\n",
              "      <th>풍향</th>\n",
              "      <th>하늘상태</th>\n",
              "    </tr>\n",
              "  </thead>\n",
              "  <tbody>\n",
              "    <tr>\n",
              "      <th>날짜</th>\n",
              "      <td>1.000000</td>\n",
              "      <td>-0.003447</td>\n",
              "      <td>0.008499</td>\n",
              "      <td>0.013990</td>\n",
              "      <td>0.073732</td>\n",
              "      <td>0.054479</td>\n",
              "      <td>0.013491</td>\n",
              "      <td>-0.049459</td>\n",
              "      <td>0.041037</td>\n",
              "    </tr>\n",
              "    <tr>\n",
              "      <th>시간</th>\n",
              "      <td>-0.003447</td>\n",
              "      <td>1.000000</td>\n",
              "      <td>0.006717</td>\n",
              "      <td>-0.001088</td>\n",
              "      <td>-0.277096</td>\n",
              "      <td>0.460801</td>\n",
              "      <td>-0.227213</td>\n",
              "      <td>-0.060347</td>\n",
              "      <td>0.020013</td>\n",
              "    </tr>\n",
              "    <tr>\n",
              "      <th>강수</th>\n",
              "      <td>0.008499</td>\n",
              "      <td>0.006717</td>\n",
              "      <td>1.000000</td>\n",
              "      <td>0.149471</td>\n",
              "      <td>0.083346</td>\n",
              "      <td>0.150064</td>\n",
              "      <td>-0.011475</td>\n",
              "      <td>0.026129</td>\n",
              "      <td>0.116470</td>\n",
              "    </tr>\n",
              "    <tr>\n",
              "      <th>강수형태</th>\n",
              "      <td>0.013990</td>\n",
              "      <td>-0.001088</td>\n",
              "      <td>0.149471</td>\n",
              "      <td>1.000000</td>\n",
              "      <td>0.046387</td>\n",
              "      <td>0.178825</td>\n",
              "      <td>0.019313</td>\n",
              "      <td>0.032110</td>\n",
              "      <td>0.206108</td>\n",
              "    </tr>\n",
              "    <tr>\n",
              "      <th>기온</th>\n",
              "      <td>0.073732</td>\n",
              "      <td>-0.277096</td>\n",
              "      <td>0.083346</td>\n",
              "      <td>0.046387</td>\n",
              "      <td>1.000000</td>\n",
              "      <td>0.070861</td>\n",
              "      <td>0.179842</td>\n",
              "      <td>-0.047729</td>\n",
              "      <td>0.265927</td>\n",
              "    </tr>\n",
              "    <tr>\n",
              "      <th>습도</th>\n",
              "      <td>0.054479</td>\n",
              "      <td>0.460801</td>\n",
              "      <td>0.150064</td>\n",
              "      <td>0.178825</td>\n",
              "      <td>0.070861</td>\n",
              "      <td>1.000000</td>\n",
              "      <td>-0.261588</td>\n",
              "      <td>-0.142180</td>\n",
              "      <td>0.298980</td>\n",
              "    </tr>\n",
              "    <tr>\n",
              "      <th>풍속</th>\n",
              "      <td>0.013491</td>\n",
              "      <td>-0.227213</td>\n",
              "      <td>-0.011475</td>\n",
              "      <td>0.019313</td>\n",
              "      <td>0.179842</td>\n",
              "      <td>-0.261588</td>\n",
              "      <td>1.000000</td>\n",
              "      <td>0.081313</td>\n",
              "      <td>-0.018260</td>\n",
              "    </tr>\n",
              "    <tr>\n",
              "      <th>풍향</th>\n",
              "      <td>-0.049459</td>\n",
              "      <td>-0.060347</td>\n",
              "      <td>0.026129</td>\n",
              "      <td>0.032110</td>\n",
              "      <td>-0.047729</td>\n",
              "      <td>-0.142180</td>\n",
              "      <td>0.081313</td>\n",
              "      <td>1.000000</td>\n",
              "      <td>-0.019733</td>\n",
              "    </tr>\n",
              "    <tr>\n",
              "      <th>하늘상태</th>\n",
              "      <td>0.041037</td>\n",
              "      <td>0.020013</td>\n",
              "      <td>0.116470</td>\n",
              "      <td>0.206108</td>\n",
              "      <td>0.265927</td>\n",
              "      <td>0.298980</td>\n",
              "      <td>-0.018260</td>\n",
              "      <td>-0.019733</td>\n",
              "      <td>1.000000</td>\n",
              "    </tr>\n",
              "  </tbody>\n",
              "</table>\n",
              "</div>"
            ],
            "text/plain": [
              "            날짜        시간        강수  ...        풍속        풍향      하늘상태\n",
              "날짜    1.000000 -0.003447  0.008499  ...  0.013491 -0.049459  0.041037\n",
              "시간   -0.003447  1.000000  0.006717  ... -0.227213 -0.060347  0.020013\n",
              "강수    0.008499  0.006717  1.000000  ... -0.011475  0.026129  0.116470\n",
              "강수형태  0.013990 -0.001088  0.149471  ...  0.019313  0.032110  0.206108\n",
              "기온    0.073732 -0.277096  0.083346  ...  0.179842 -0.047729  0.265927\n",
              "습도    0.054479  0.460801  0.150064  ... -0.261588 -0.142180  0.298980\n",
              "풍속    0.013491 -0.227213 -0.011475  ...  1.000000  0.081313 -0.018260\n",
              "풍향   -0.049459 -0.060347  0.026129  ...  0.081313  1.000000 -0.019733\n",
              "하늘상태  0.041037  0.020013  0.116470  ... -0.018260 -0.019733  1.000000\n",
              "\n",
              "[9 rows x 9 columns]"
            ]
          },
          "metadata": {
            "tags": []
          },
          "execution_count": 36
        }
      ]
    },
    {
      "cell_type": "code",
      "metadata": {
        "colab": {
          "base_uri": "https://localhost:8080/",
          "height": 1000
        },
        "id": "wzablbMtpa4A",
        "outputId": "977df777-fa6f-435a-8b7b-6136628c8cfc"
      },
      "source": [
        "f, ax = plt.subplots(figsize=(12,12))\r\n",
        "mask = np.zeros_like(data.corr())\r\n",
        "mask[np.triu_indices_from(mask)] = True\r\n",
        "sns.heatmap(data.corr(), annot=True, linewidths=0.4, linecolor='white', fmt='.1f', ax=ax, cmap='Blues', mask=mask)\r\n",
        "plt.show()"
      ],
      "execution_count": null,
      "outputs": [
        {
          "output_type": "stream",
          "text": [
            "/usr/local/lib/python3.6/dist-packages/matplotlib/backends/backend_agg.py:214: RuntimeWarning: Glyph 45216 missing from current font.\n",
            "  font.set_text(s, 0.0, flags=flags)\n",
            "/usr/local/lib/python3.6/dist-packages/matplotlib/backends/backend_agg.py:214: RuntimeWarning: Glyph 51676 missing from current font.\n",
            "  font.set_text(s, 0.0, flags=flags)\n",
            "/usr/local/lib/python3.6/dist-packages/matplotlib/backends/backend_agg.py:214: RuntimeWarning: Glyph 49884 missing from current font.\n",
            "  font.set_text(s, 0.0, flags=flags)\n",
            "/usr/local/lib/python3.6/dist-packages/matplotlib/backends/backend_agg.py:214: RuntimeWarning: Glyph 44036 missing from current font.\n",
            "  font.set_text(s, 0.0, flags=flags)\n",
            "/usr/local/lib/python3.6/dist-packages/matplotlib/backends/backend_agg.py:214: RuntimeWarning: Glyph 44053 missing from current font.\n",
            "  font.set_text(s, 0.0, flags=flags)\n",
            "/usr/local/lib/python3.6/dist-packages/matplotlib/backends/backend_agg.py:214: RuntimeWarning: Glyph 49688 missing from current font.\n",
            "  font.set_text(s, 0.0, flags=flags)\n",
            "/usr/local/lib/python3.6/dist-packages/matplotlib/backends/backend_agg.py:214: RuntimeWarning: Glyph 54805 missing from current font.\n",
            "  font.set_text(s, 0.0, flags=flags)\n",
            "/usr/local/lib/python3.6/dist-packages/matplotlib/backends/backend_agg.py:214: RuntimeWarning: Glyph 53468 missing from current font.\n",
            "  font.set_text(s, 0.0, flags=flags)\n",
            "/usr/local/lib/python3.6/dist-packages/matplotlib/backends/backend_agg.py:214: RuntimeWarning: Glyph 44592 missing from current font.\n",
            "  font.set_text(s, 0.0, flags=flags)\n",
            "/usr/local/lib/python3.6/dist-packages/matplotlib/backends/backend_agg.py:214: RuntimeWarning: Glyph 50728 missing from current font.\n",
            "  font.set_text(s, 0.0, flags=flags)\n",
            "/usr/local/lib/python3.6/dist-packages/matplotlib/backends/backend_agg.py:214: RuntimeWarning: Glyph 49845 missing from current font.\n",
            "  font.set_text(s, 0.0, flags=flags)\n",
            "/usr/local/lib/python3.6/dist-packages/matplotlib/backends/backend_agg.py:214: RuntimeWarning: Glyph 46020 missing from current font.\n",
            "  font.set_text(s, 0.0, flags=flags)\n",
            "/usr/local/lib/python3.6/dist-packages/matplotlib/backends/backend_agg.py:214: RuntimeWarning: Glyph 54413 missing from current font.\n",
            "  font.set_text(s, 0.0, flags=flags)\n",
            "/usr/local/lib/python3.6/dist-packages/matplotlib/backends/backend_agg.py:214: RuntimeWarning: Glyph 49549 missing from current font.\n",
            "  font.set_text(s, 0.0, flags=flags)\n",
            "/usr/local/lib/python3.6/dist-packages/matplotlib/backends/backend_agg.py:214: RuntimeWarning: Glyph 54693 missing from current font.\n",
            "  font.set_text(s, 0.0, flags=flags)\n",
            "/usr/local/lib/python3.6/dist-packages/matplotlib/backends/backend_agg.py:214: RuntimeWarning: Glyph 54616 missing from current font.\n",
            "  font.set_text(s, 0.0, flags=flags)\n",
            "/usr/local/lib/python3.6/dist-packages/matplotlib/backends/backend_agg.py:214: RuntimeWarning: Glyph 45720 missing from current font.\n",
            "  font.set_text(s, 0.0, flags=flags)\n",
            "/usr/local/lib/python3.6/dist-packages/matplotlib/backends/backend_agg.py:214: RuntimeWarning: Glyph 49345 missing from current font.\n",
            "  font.set_text(s, 0.0, flags=flags)\n",
            "/usr/local/lib/python3.6/dist-packages/matplotlib/backends/backend_agg.py:183: RuntimeWarning: Glyph 45216 missing from current font.\n",
            "  font.set_text(s, 0, flags=flags)\n",
            "/usr/local/lib/python3.6/dist-packages/matplotlib/backends/backend_agg.py:183: RuntimeWarning: Glyph 51676 missing from current font.\n",
            "  font.set_text(s, 0, flags=flags)\n",
            "/usr/local/lib/python3.6/dist-packages/matplotlib/backends/backend_agg.py:183: RuntimeWarning: Glyph 49884 missing from current font.\n",
            "  font.set_text(s, 0, flags=flags)\n",
            "/usr/local/lib/python3.6/dist-packages/matplotlib/backends/backend_agg.py:183: RuntimeWarning: Glyph 44036 missing from current font.\n",
            "  font.set_text(s, 0, flags=flags)\n",
            "/usr/local/lib/python3.6/dist-packages/matplotlib/backends/backend_agg.py:183: RuntimeWarning: Glyph 44053 missing from current font.\n",
            "  font.set_text(s, 0, flags=flags)\n",
            "/usr/local/lib/python3.6/dist-packages/matplotlib/backends/backend_agg.py:183: RuntimeWarning: Glyph 49688 missing from current font.\n",
            "  font.set_text(s, 0, flags=flags)\n",
            "/usr/local/lib/python3.6/dist-packages/matplotlib/backends/backend_agg.py:183: RuntimeWarning: Glyph 54805 missing from current font.\n",
            "  font.set_text(s, 0, flags=flags)\n",
            "/usr/local/lib/python3.6/dist-packages/matplotlib/backends/backend_agg.py:183: RuntimeWarning: Glyph 53468 missing from current font.\n",
            "  font.set_text(s, 0, flags=flags)\n",
            "/usr/local/lib/python3.6/dist-packages/matplotlib/backends/backend_agg.py:183: RuntimeWarning: Glyph 44592 missing from current font.\n",
            "  font.set_text(s, 0, flags=flags)\n",
            "/usr/local/lib/python3.6/dist-packages/matplotlib/backends/backend_agg.py:183: RuntimeWarning: Glyph 50728 missing from current font.\n",
            "  font.set_text(s, 0, flags=flags)\n",
            "/usr/local/lib/python3.6/dist-packages/matplotlib/backends/backend_agg.py:183: RuntimeWarning: Glyph 49845 missing from current font.\n",
            "  font.set_text(s, 0, flags=flags)\n",
            "/usr/local/lib/python3.6/dist-packages/matplotlib/backends/backend_agg.py:183: RuntimeWarning: Glyph 46020 missing from current font.\n",
            "  font.set_text(s, 0, flags=flags)\n",
            "/usr/local/lib/python3.6/dist-packages/matplotlib/backends/backend_agg.py:183: RuntimeWarning: Glyph 54413 missing from current font.\n",
            "  font.set_text(s, 0, flags=flags)\n",
            "/usr/local/lib/python3.6/dist-packages/matplotlib/backends/backend_agg.py:183: RuntimeWarning: Glyph 49549 missing from current font.\n",
            "  font.set_text(s, 0, flags=flags)\n",
            "/usr/local/lib/python3.6/dist-packages/matplotlib/backends/backend_agg.py:183: RuntimeWarning: Glyph 54693 missing from current font.\n",
            "  font.set_text(s, 0, flags=flags)\n",
            "/usr/local/lib/python3.6/dist-packages/matplotlib/backends/backend_agg.py:183: RuntimeWarning: Glyph 54616 missing from current font.\n",
            "  font.set_text(s, 0, flags=flags)\n",
            "/usr/local/lib/python3.6/dist-packages/matplotlib/backends/backend_agg.py:183: RuntimeWarning: Glyph 45720 missing from current font.\n",
            "  font.set_text(s, 0, flags=flags)\n",
            "/usr/local/lib/python3.6/dist-packages/matplotlib/backends/backend_agg.py:183: RuntimeWarning: Glyph 49345 missing from current font.\n",
            "  font.set_text(s, 0, flags=flags)\n"
          ],
          "name": "stderr"
        },
        {
          "output_type": "display_data",
          "data": {
            "image/png": "[encoded data removed]",
            "text/plain": [
              "<Figure size 864x864 with 2 Axes>"
            ]
          },
          "metadata": {
            "tags": [],
            "needs_background": "light"
          }
        }
      ]
    },
    {
      "cell_type": "markdown",
      "metadata": {
        "id": "PyUGcqQwfwrr"
      },
      "source": [
        "## 4. 피처 선정 "
      ]
    },
    {
      "cell_type": "code",
      "metadata": {
        "id": "VWgDkj_JeyvT"
      },
      "source": [
        "# 1. 범주형 데이터 분리\r\n",
        "categorical_feature_names = [\"날짜\", \"시간\", \"강수형태\", \"하늘상태\"]\r\n",
        "\r\n",
        "for var in categorical_feature_names:\r\n",
        "    data[var] = data[var].astype(\"category\")"
      ],
      "execution_count": null,
      "outputs": []
    },
    {
      "cell_type": "code",
      "metadata": {
        "id": "ZwhSHQzNepFp"
      },
      "source": [
        "# 2. 피처 분리할당\r\n",
        "feature_names = [\"시간\", \"강수\", \"강수형태\", \"습도\", \"풍속\", \"풍향\", \"하늘상태\"] # 기온과 날짜 제외"
      ],
      "execution_count": null,
      "outputs": []
    },
    {
      "cell_type": "code",
      "metadata": {
        "colab": {
          "base_uri": "https://localhost:8080/",
          "height": 364
        },
        "id": "X2mdQeUCguVt",
        "outputId": "cd2ff19c-ce39-45ca-9485-1fe97adcd266"
      },
      "source": [
        "data_x = data[feature_names]\r\n",
        "print(data_x.shape)\r\n",
        "data_x.head(10)"
      ],
      "execution_count": null,
      "outputs": [
        {
          "output_type": "stream",
          "text": [
            "(32939, 7)\n"
          ],
          "name": "stdout"
        },
        {
          "output_type": "execute_result",
          "data": {
            "text/html": [
              "<div>\n",
              "<style scoped>\n",
              "    .dataframe tbody tr th:only-of-type {\n",
              "        vertical-align: middle;\n",
              "    }\n",
              "\n",
              "    .dataframe tbody tr th {\n",
              "        vertical-align: top;\n",
              "    }\n",
              "\n",
              "    .dataframe thead th {\n",
              "        text-align: right;\n",
              "    }\n",
              "</style>\n",
              "<table border=\"1\" class=\"dataframe\">\n",
              "  <thead>\n",
              "    <tr style=\"text-align: right;\">\n",
              "      <th></th>\n",
              "      <th>시간</th>\n",
              "      <th>강수</th>\n",
              "      <th>강수형태</th>\n",
              "      <th>습도</th>\n",
              "      <th>풍속</th>\n",
              "      <th>풍향</th>\n",
              "      <th>하늘상태</th>\n",
              "    </tr>\n",
              "  </thead>\n",
              "  <tbody>\n",
              "    <tr>\n",
              "      <th>0</th>\n",
              "      <td>0.000000</td>\n",
              "      <td>0.0</td>\n",
              "      <td>0.222222</td>\n",
              "      <td>0.656863</td>\n",
              "      <td>0.113043</td>\n",
              "      <td>0.773481</td>\n",
              "      <td>1.0</td>\n",
              "    </tr>\n",
              "    <tr>\n",
              "      <th>1</th>\n",
              "      <td>0.000000</td>\n",
              "      <td>0.0</td>\n",
              "      <td>0.222222</td>\n",
              "      <td>0.656863</td>\n",
              "      <td>0.126087</td>\n",
              "      <td>0.765193</td>\n",
              "      <td>1.0</td>\n",
              "    </tr>\n",
              "    <tr>\n",
              "      <th>2</th>\n",
              "      <td>0.000000</td>\n",
              "      <td>0.0</td>\n",
              "      <td>0.222222</td>\n",
              "      <td>0.656863</td>\n",
              "      <td>0.143478</td>\n",
              "      <td>0.762431</td>\n",
              "      <td>1.0</td>\n",
              "    </tr>\n",
              "    <tr>\n",
              "      <th>3</th>\n",
              "      <td>0.000000</td>\n",
              "      <td>0.0</td>\n",
              "      <td>0.222222</td>\n",
              "      <td>0.607843</td>\n",
              "      <td>0.143478</td>\n",
              "      <td>0.770718</td>\n",
              "      <td>1.0</td>\n",
              "    </tr>\n",
              "    <tr>\n",
              "      <th>4</th>\n",
              "      <td>0.000000</td>\n",
              "      <td>0.0</td>\n",
              "      <td>0.222222</td>\n",
              "      <td>0.705882</td>\n",
              "      <td>0.113043</td>\n",
              "      <td>0.790055</td>\n",
              "      <td>1.0</td>\n",
              "    </tr>\n",
              "    <tr>\n",
              "      <th>5</th>\n",
              "      <td>0.000000</td>\n",
              "      <td>0.0</td>\n",
              "      <td>0.222222</td>\n",
              "      <td>0.656863</td>\n",
              "      <td>0.143478</td>\n",
              "      <td>0.762431</td>\n",
              "      <td>1.0</td>\n",
              "    </tr>\n",
              "    <tr>\n",
              "      <th>6</th>\n",
              "      <td>0.043478</td>\n",
              "      <td>0.0</td>\n",
              "      <td>0.222222</td>\n",
              "      <td>0.705882</td>\n",
              "      <td>0.113043</td>\n",
              "      <td>0.790055</td>\n",
              "      <td>1.0</td>\n",
              "    </tr>\n",
              "    <tr>\n",
              "      <th>7</th>\n",
              "      <td>0.043478</td>\n",
              "      <td>0.0</td>\n",
              "      <td>0.222222</td>\n",
              "      <td>0.656863</td>\n",
              "      <td>0.143478</td>\n",
              "      <td>0.762431</td>\n",
              "      <td>1.0</td>\n",
              "    </tr>\n",
              "    <tr>\n",
              "      <th>8</th>\n",
              "      <td>0.043478</td>\n",
              "      <td>0.0</td>\n",
              "      <td>0.222222</td>\n",
              "      <td>0.607843</td>\n",
              "      <td>0.143478</td>\n",
              "      <td>0.770718</td>\n",
              "      <td>1.0</td>\n",
              "    </tr>\n",
              "    <tr>\n",
              "      <th>9</th>\n",
              "      <td>0.043478</td>\n",
              "      <td>0.0</td>\n",
              "      <td>0.222222</td>\n",
              "      <td>0.607843</td>\n",
              "      <td>0.143478</td>\n",
              "      <td>0.779006</td>\n",
              "      <td>1.0</td>\n",
              "    </tr>\n",
              "  </tbody>\n",
              "</table>\n",
              "</div>"
            ],
            "text/plain": [
              "         시간   강수      강수형태        습도        풍속        풍향 하늘상태\n",
              "0  0.000000  0.0  0.222222  0.656863  0.113043  0.773481  1.0\n",
              "1  0.000000  0.0  0.222222  0.656863  0.126087  0.765193  1.0\n",
              "2  0.000000  0.0  0.222222  0.656863  0.143478  0.762431  1.0\n",
              "3  0.000000  0.0  0.222222  0.607843  0.143478  0.770718  1.0\n",
              "4  0.000000  0.0  0.222222  0.705882  0.113043  0.790055  1.0\n",
              "5  0.000000  0.0  0.222222  0.656863  0.143478  0.762431  1.0\n",
              "6  0.043478  0.0  0.222222  0.705882  0.113043  0.790055  1.0\n",
              "7  0.043478  0.0  0.222222  0.656863  0.143478  0.762431  1.0\n",
              "8  0.043478  0.0  0.222222  0.607843  0.143478  0.770718  1.0\n",
              "9  0.043478  0.0  0.222222  0.607843  0.143478  0.779006  1.0"
            ]
          },
          "metadata": {
            "tags": []
          },
          "execution_count": 40
        }
      ]
    },
    {
      "cell_type": "code",
      "metadata": {
        "colab": {
          "base_uri": "https://localhost:8080/"
        },
        "id": "ebC9l2xyiorD",
        "outputId": "bd6d2255-233e-44ff-f75a-aa5094bf33ae"
      },
      "source": [
        "data_y = data['기온']\r\n",
        "print(data_y.shape)\r\n",
        "data_y.head()"
      ],
      "execution_count": null,
      "outputs": [
        {
          "output_type": "stream",
          "text": [
            "(32939,)\n"
          ],
          "name": "stdout"
        },
        {
          "output_type": "execute_result",
          "data": {
            "text/plain": [
              "0    0.272545\n",
              "1    0.306613\n",
              "2    0.338677\n",
              "3    0.352705\n",
              "4    0.294589\n",
              "Name: 기온, dtype: float64"
            ]
          },
          "metadata": {
            "tags": []
          },
          "execution_count": 41
        }
      ]
    },
    {
      "cell_type": "code",
      "metadata": {
        "id": "AUJLFYUdi11J"
      },
      "source": [
        "from sklearn.model_selection import train_test_split \r\n",
        "X_train, X_test, y_train, y_test = train_test_split(data_x, data_y) "
      ],
      "execution_count": null,
      "outputs": []
    },
    {
      "cell_type": "markdown",
      "metadata": {
        "id": "-CkqINfiIisp"
      },
      "source": [
        "## 5. 알고리즘 선정 및 평가 "
      ]
    },
    {
      "cell_type": "code",
      "metadata": {
        "id": "bOhozGTIM_st"
      },
      "source": [
        "from sklearn.metrics import mean_absolute_error, mean_squared_error\r\n"
      ],
      "execution_count": null,
      "outputs": []
    },
    {
      "cell_type": "code",
      "metadata": {
        "id": "GX1YBIOBkJDw"
      },
      "source": [
        "from sklearn.model_selection import KFold\r\n",
        "from sklearn.model_selection import cross_val_score\r\n",
        "from sklearn.svm import SVC, SVR\r\n",
        "from sklearn.ensemble import RandomForestRegressor, ExtraTreesRegressor\r\n",
        "from sklearn.linear_model import LinearRegression"
      ],
      "execution_count": null,
      "outputs": []
    },
    {
      "cell_type": "markdown",
      "metadata": {
        "id": "mErsSszLd-1E"
      },
      "source": [
        "### 선형회귀"
      ]
    },
    {
      "cell_type": "code",
      "metadata": {
        "colab": {
          "base_uri": "https://localhost:8080/"
        },
        "id": "knR7to1BeJnt",
        "outputId": "3e7e1f98-3bdd-42b0-84c2-b4cdb51ec8c2"
      },
      "source": [
        "model = LinearRegression()\r\n",
        "model.fit(X_train, y_train)\r\n",
        "score = model.score(X_train, y_train)\r\n",
        "print(score)"
      ],
      "execution_count": null,
      "outputs": [
        {
          "output_type": "stream",
          "text": [
            "0.20078373325933652\n"
          ],
          "name": "stdout"
        }
      ]
    },
    {
      "cell_type": "markdown",
      "metadata": {
        "id": "5B6DTwDWhZGY"
      },
      "source": [
        "### 의사결정트리"
      ]
    },
    {
      "cell_type": "code",
      "metadata": {
        "colab": {
          "base_uri": "https://localhost:8080/"
        },
        "id": "y2B9D_RPhbKP",
        "outputId": "f2c49459-882b-47c4-d567-ffac58928256"
      },
      "source": [
        "from sklearn.tree import DecisionTreeRegressor\r\n",
        "\r\n",
        "model = DecisionTreeRegressor()\r\n",
        "model.fit(X_train, y_train)\r\n",
        "score = model.score(X_train, y_train)\r\n",
        "print(score)"
      ],
      "execution_count": null,
      "outputs": [
        {
          "output_type": "stream",
          "text": [
            "0.9699841567327903\n"
          ],
          "name": "stdout"
        }
      ]
    },
    {
      "cell_type": "markdown",
      "metadata": {
        "id": "8g0VbYa5hmIt"
      },
      "source": [
        "### 랜덤포레스트 "
      ]
    },
    {
      "cell_type": "code",
      "metadata": {
        "colab": {
          "base_uri": "https://localhost:8080/"
        },
        "id": "R_r3qDjRhtzO",
        "outputId": "35b0cf80-e365-497f-ffbd-5eab22d7a4fb"
      },
      "source": [
        "model = RandomForestRegressor()\r\n",
        "model.fit(X_train, y_train)\r\n",
        "score = model.score(X_train, y_train)\r\n",
        "print(score)"
      ],
      "execution_count": null,
      "outputs": [
        {
          "output_type": "stream",
          "text": [
            "0.9330346024114099\n"
          ],
          "name": "stdout"
        }
      ]
    },
    {
      "cell_type": "markdown",
      "metadata": {
        "id": "bZKFzLLYhzOH"
      },
      "source": [
        "### SVM "
      ]
    },
    {
      "cell_type": "code",
      "metadata": {
        "colab": {
          "base_uri": "https://localhost:8080/"
        },
        "id": "jl6LDhQzh1ue",
        "outputId": "59e17023-1423-4469-8110-d91c74cdb143"
      },
      "source": [
        "model = SVR(kernel='linear')\r\n",
        "model.fit(X_train, y_train)\r\n",
        "score = model.score(X_train, y_train)\r\n",
        "print(score)"
      ],
      "execution_count": null,
      "outputs": [
        {
          "output_type": "stream",
          "text": [
            "0.19583667209674127\n"
          ],
          "name": "stdout"
        }
      ]
    },
    {
      "cell_type": "code",
      "metadata": {
        "colab": {
          "base_uri": "https://localhost:8080/"
        },
        "id": "ecE1OSG6ihmO",
        "outputId": "793a0aa9-89f7-49c7-a12e-d1397530079e"
      },
      "source": [
        "# 비선형 svm\r\n",
        "model = SVR(kernel='poly')\r\n",
        "model.fit(X_train, y_train)\r\n",
        "score = model.score(X_train, y_train)\r\n",
        "print(score)"
      ],
      "execution_count": null,
      "outputs": [
        {
          "output_type": "stream",
          "text": [
            "0.3001280096718776\n"
          ],
          "name": "stdout"
        }
      ]
    },
    {
      "cell_type": "code",
      "metadata": {
        "colab": {
          "base_uri": "https://localhost:8080/"
        },
        "id": "Jz9srwF8vBdO",
        "outputId": "27c60bf6-3673-41ec-8115-87ddb4afd3a1"
      },
      "source": [
        "# 비선형 svm\r\n",
        "model = SVR(kernel='rbf')\r\n",
        "model.fit(X_train, y_train)\r\n",
        "score = model.score(X_train, y_train)\r\n",
        "print(score)"
      ],
      "execution_count": null,
      "outputs": [
        {
          "output_type": "stream",
          "text": [
            "0.4400257036847802\n"
          ],
          "name": "stdout"
        }
      ]
    },
    {
      "cell_type": "markdown",
      "metadata": {
        "id": "gzPQoV0KLGDX"
      },
      "source": [
        "### 최종결정모델 : 의사결정트리"
      ]
    },
    {
      "cell_type": "markdown",
      "metadata": {
        "id": "N4C_ShplLK8D"
      },
      "source": [
        "## 예측과 평가"
      ]
    },
    {
      "cell_type": "code",
      "metadata": {
        "colab": {
          "base_uri": "https://localhost:8080/"
        },
        "id": "aRBBcK-RLcZa",
        "outputId": "8a503e42-b69a-4be7-c9e4-2eac8262e066"
      },
      "source": [
        "model = DecisionTreeRegressor()\r\n",
        "\r\n",
        "model.fit(X_train, y_train)\r\n",
        "predictions = model.predict(X_test)\r\n",
        "\r\n",
        "print(predictions.shape)\r\n",
        "predictions[0:10]\r\n"
      ],
      "execution_count": null,
      "outputs": [
        {
          "output_type": "stream",
          "text": [
            "(8235,)\n"
          ],
          "name": "stdout"
        },
        {
          "output_type": "execute_result",
          "data": {
            "text/plain": [
              "array([0.63927856, 0.57915832, 0.55911824, 0.37875752, 0.61923848,\n",
              "       0.77955912, 0.55911824, 0.75951904, 0.45891784, 0.7995992 ])"
            ]
          },
          "metadata": {
            "tags": []
          },
          "execution_count": 51
        }
      ]
    },
    {
      "cell_type": "code",
      "metadata": {
        "colab": {
          "base_uri": "https://localhost:8080/"
        },
        "id": "pZ8TycHAMO95",
        "outputId": "d589d68b-5e15-480d-a431-d9b3fb959fb8"
      },
      "source": [
        "from sklearn.metrics import mean_absolute_error, mean_squared_error\r\n",
        "\r\n",
        "predict = model.predict(X_test)\r\n",
        "\r\n",
        "print(f\"mean_absolute_error : {mean_absolute_error(y_test, predict)}\")\r\n",
        "print(f\"mean_squared_error : {mean_squared_error(y_test, predict)}\")\r\n",
        "# RMSE\r\n",
        "print(f\"root_mean_squared_error : {np.sqrt(mean_squared_error(y_test, predict))}\")"
      ],
      "execution_count": null,
      "outputs": [
        {
          "output_type": "stream",
          "text": [
            "mean_absolute_error : 0.08694660433806\n",
            "mean_squared_error : 0.02031761769978612\n",
            "root_mean_squared_error : 0.1425398810852111\n"
          ],
          "name": "stdout"
        }
      ]
    }
  ]
}